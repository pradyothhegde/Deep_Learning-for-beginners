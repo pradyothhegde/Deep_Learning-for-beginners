{
  "nbformat": 4,
  "nbformat_minor": 0,
  "metadata": {
    "colab": {
      "name": "Tut1_Mnist_Keras_CNN.ipynb",
      "version": "0.3.2",
      "views": {},
      "default_view": {},
      "provenance": [],
      "collapsed_sections": []
    },
    "kernelspec": {
      "name": "python3",
      "display_name": "Python 3"
    },
    "accelerator": "GPU"
  },
  "cells": [
    {
      "metadata": {
        "id": "st_toQXJ86wy",
        "colab_type": "text"
      },
      "cell_type": "markdown",
      "source": [
        "# Transfer Learning\n",
        "Transfer learning is a research problem in machine learning that focuses on storing knowledge gained while solving one problem and applying it to a different but related problem.In this tutorial first we will train the model with the simple architecture and then apply transfer learning technique so that we can clearly make out the impact/usefullness of transfer kearning.Here we have performed transfer learning using 1) VGG 16 2) VGG 19 3) Mobilenet\n",
        "## Applying Transfer Learning Technique to Mnist \n",
        "### Importing the required libraries"
      ]
    },
    {
      "metadata": {
        "id": "4QmRq5-dIpgn",
        "colab_type": "code",
        "colab": {
          "autoexec": {
            "startup": false,
            "wait_interval": 0
          },
          "base_uri": "https://localhost:8080/",
          "height": 34
        },
        "outputId": "17f8026c-8535-42f0-87ce-76fb2f930ffb",
        "executionInfo": {
          "status": "ok",
          "timestamp": 1532496605336,
          "user_tz": -330,
          "elapsed": 1339,
          "user": {
            "displayName": "Pawan Snj",
            "photoUrl": "//lh6.googleusercontent.com/-ojjGyAo7og4/AAAAAAAAAAI/AAAAAAAADXU/VP6DtpEZJts/s50-c-k-no/photo.jpg",
            "userId": "100746673235819701094"
          }
        }
      },
      "cell_type": "code",
      "source": [
        "import keras\n",
        "from keras.datasets import mnist\n",
        "from keras.models import Sequential\n",
        "from keras.layers import Dense, Activation, Flatten\n",
        "from keras.layers import Conv2D, MaxPooling2D\n",
        "from keras.preprocessing.image import ImageDataGenerator\n",
        "from keras.utils.vis_utils import plot_model\n",
        "import matplotlib.pyplot as plt\n",
        "print(\"DONE\")"
      ],
      "execution_count": 0,
      "outputs": [
        {
          "output_type": "stream",
          "text": [
            "DONE\n"
          ],
          "name": "stdout"
        }
      ]
    },
    {
      "metadata": {
        "id": "89YikJC59JNo",
        "colab_type": "text"
      },
      "cell_type": "markdown",
      "source": [
        "## Loading the Dataset"
      ]
    },
    {
      "metadata": {
        "id": "46SfjbgMQuDS",
        "colab_type": "code",
        "colab": {
          "autoexec": {
            "startup": false,
            "wait_interval": 0
          },
          "base_uri": "https://localhost:8080/",
          "height": 34
        },
        "outputId": "af69c2a7-729c-4b73-cfb9-37b22257be3b",
        "executionInfo": {
          "status": "ok",
          "timestamp": 1532496609737,
          "user_tz": -330,
          "elapsed": 1155,
          "user": {
            "displayName": "Pawan Snj",
            "photoUrl": "//lh6.googleusercontent.com/-ojjGyAo7og4/AAAAAAAAAAI/AAAAAAAADXU/VP6DtpEZJts/s50-c-k-no/photo.jpg",
            "userId": "100746673235819701094"
          }
        }
      },
      "cell_type": "code",
      "source": [
        "(train_image, train_label), (test_image,test_label) = mnist.load_data()\n",
        "print(\"DONE\")"
      ],
      "execution_count": 86,
      "outputs": [
        {
          "output_type": "stream",
          "text": [
            "DONE\n"
          ],
          "name": "stdout"
        }
      ]
    },
    {
      "metadata": {
        "id": "dNpmD7bvLqsA",
        "colab_type": "code",
        "colab": {
          "autoexec": {
            "startup": false,
            "wait_interval": 0
          },
          "base_uri": "https://localhost:8080/",
          "height": 85
        },
        "outputId": "89a0e0b0-e035-4cd0-df89-7d15a9b01864",
        "executionInfo": {
          "status": "ok",
          "timestamp": 1532496612007,
          "user_tz": -330,
          "elapsed": 1091,
          "user": {
            "displayName": "Pawan Snj",
            "photoUrl": "//lh6.googleusercontent.com/-ojjGyAo7og4/AAAAAAAAAAI/AAAAAAAADXU/VP6DtpEZJts/s50-c-k-no/photo.jpg",
            "userId": "100746673235819701094"
          }
        }
      },
      "cell_type": "code",
      "source": [
        "print(train_image.shape[0])\n",
        "print(train_image.shape[0])\n",
        "print(test_label.shape[0])\n",
        "print(test_label.shape[0])"
      ],
      "execution_count": 87,
      "outputs": [
        {
          "output_type": "stream",
          "text": [
            "60000\n",
            "60000\n",
            "10000\n",
            "10000\n"
          ],
          "name": "stdout"
        }
      ]
    },
    {
      "metadata": {
        "id": "apImj-_f9bmW",
        "colab_type": "text"
      },
      "cell_type": "markdown",
      "source": [
        "## Data Preprocessing"
      ]
    },
    {
      "metadata": {
        "id": "W1cMWMPiQuKJ",
        "colab_type": "code",
        "colab": {
          "autoexec": {
            "startup": false,
            "wait_interval": 0
          },
          "base_uri": "https://localhost:8080/",
          "height": 34
        },
        "outputId": "bfdcef73-3544-48a6-bc42-bcbf12b9d992",
        "executionInfo": {
          "status": "ok",
          "timestamp": 1532496614155,
          "user_tz": -330,
          "elapsed": 1124,
          "user": {
            "displayName": "Pawan Snj",
            "photoUrl": "//lh6.googleusercontent.com/-ojjGyAo7og4/AAAAAAAAAAI/AAAAAAAADXU/VP6DtpEZJts/s50-c-k-no/photo.jpg",
            "userId": "100746673235819701094"
          }
        }
      },
      "cell_type": "code",
      "source": [
        "train_image = train_image.reshape(train_image.shape[0], 28, 28, 1)\n",
        "test_image = test_image.reshape(test_image.shape[0], 28, 28, 1)\n",
        " \n",
        "train_image = train_image.astype('float32')\n",
        "test_image = test_image.astype('float32')\n",
        " \n",
        "train_image /= 255 #inputs have to be between [0, 1]\n",
        "test_image /= 255\n",
        "print(\"DONE\")"
      ],
      "execution_count": 88,
      "outputs": [
        {
          "output_type": "stream",
          "text": [
            "DONE\n"
          ],
          "name": "stdout"
        }
      ]
    },
    {
      "metadata": {
        "id": "4t4iuSK0QuPR",
        "colab_type": "code",
        "colab": {
          "autoexec": {
            "startup": false,
            "wait_interval": 0
          },
          "base_uri": "https://localhost:8080/",
          "height": 34
        },
        "outputId": "e54e9dff-ffbf-438f-e369-fbb92c5f2774",
        "executionInfo": {
          "status": "ok",
          "timestamp": 1532496616583,
          "user_tz": -330,
          "elapsed": 1453,
          "user": {
            "displayName": "Pawan Snj",
            "photoUrl": "//lh6.googleusercontent.com/-ojjGyAo7og4/AAAAAAAAAAI/AAAAAAAADXU/VP6DtpEZJts/s50-c-k-no/photo.jpg",
            "userId": "100746673235819701094"
          }
        }
      },
      "cell_type": "code",
      "source": [
        "num_classes = 10\n",
        "train_label = keras.utils.to_categorical(train_label, num_classes)\n",
        "test_label = keras.utils.to_categorical(test_label, num_classes)\n",
        "print(\"DONE\")"
      ],
      "execution_count": 89,
      "outputs": [
        {
          "output_type": "stream",
          "text": [
            "DONE\n"
          ],
          "name": "stdout"
        }
      ]
    },
    {
      "metadata": {
        "id": "guT6sULk9h1O",
        "colab_type": "text"
      },
      "cell_type": "markdown",
      "source": [
        "## Building the Model"
      ]
    },
    {
      "metadata": {
        "id": "VA2V2ZWWQuT4",
        "colab_type": "code",
        "colab": {
          "autoexec": {
            "startup": false,
            "wait_interval": 0
          },
          "base_uri": "https://localhost:8080/",
          "height": 34
        },
        "outputId": "826c45f9-5adc-446f-c7f1-640bd1920386",
        "executionInfo": {
          "status": "ok",
          "timestamp": 1532496618769,
          "user_tz": -330,
          "elapsed": 1288,
          "user": {
            "displayName": "Pawan Snj",
            "photoUrl": "//lh6.googleusercontent.com/-ojjGyAo7og4/AAAAAAAAAAI/AAAAAAAADXU/VP6DtpEZJts/s50-c-k-no/photo.jpg",
            "userId": "100746673235819701094"
          }
        }
      },
      "cell_type": "code",
      "source": [
        "model = Sequential()\n",
        " \n",
        "#1st convolution layer\n",
        "model.add(Conv2D(32, (3, 3) ,input_shape=(28,28,1))) #apply 32 filters size of (3, 3) \n",
        "model.add(Activation('relu'))\n",
        "model.add(MaxPooling2D(pool_size=(2,2)))\n",
        " \n",
        "#2nd convolution layer\n",
        "model.add(Conv2D(64,(3, 3))) #apply 64 filters size of (3x3)\n",
        "model.add(Activation('relu'))\n",
        "model.add(MaxPooling2D(pool_size=(2,2)))\n",
        " \n",
        "model.add(Flatten())\n",
        " \n",
        "# Fully connected layer. 1 hidden layer consisting of 512 nodes\n",
        "model.add(Dense(512))\n",
        "model.add(Activation('relu'))\n",
        " \n",
        "#10 outputs\n",
        "model.add(Dense(10, activation='softmax'))\n",
        "print(\"DONE\")"
      ],
      "execution_count": 90,
      "outputs": [
        {
          "output_type": "stream",
          "text": [
            "DONE\n"
          ],
          "name": "stdout"
        }
      ]
    },
    {
      "metadata": {
        "id": "Ka5WHwYKE6yu",
        "colab_type": "code",
        "colab": {
          "autoexec": {
            "startup": false,
            "wait_interval": 0
          },
          "base_uri": "https://localhost:8080/",
          "height": 476
        },
        "outputId": "a38ef4f0-1b12-4d21-da8c-8c2fcb7a4c8a",
        "executionInfo": {
          "status": "ok",
          "timestamp": 1532496629833,
          "user_tz": -330,
          "elapsed": 1125,
          "user": {
            "displayName": "Pawan Snj",
            "photoUrl": "//lh6.googleusercontent.com/-ojjGyAo7og4/AAAAAAAAAAI/AAAAAAAADXU/VP6DtpEZJts/s50-c-k-no/photo.jpg",
            "userId": "100746673235819701094"
          }
        }
      },
      "cell_type": "code",
      "source": [
        "model.summary()\n",
        "#print(\"DONE\")"
      ],
      "execution_count": 91,
      "outputs": [
        {
          "output_type": "stream",
          "text": [
            "_________________________________________________________________\n",
            "Layer (type)                 Output Shape              Param #   \n",
            "=================================================================\n",
            "conv2d_7 (Conv2D)            (None, 26, 26, 32)        320       \n",
            "_________________________________________________________________\n",
            "activation_10 (Activation)   (None, 26, 26, 32)        0         \n",
            "_________________________________________________________________\n",
            "max_pooling2d_7 (MaxPooling2 (None, 13, 13, 32)        0         \n",
            "_________________________________________________________________\n",
            "conv2d_8 (Conv2D)            (None, 11, 11, 64)        18496     \n",
            "_________________________________________________________________\n",
            "activation_11 (Activation)   (None, 11, 11, 64)        0         \n",
            "_________________________________________________________________\n",
            "max_pooling2d_8 (MaxPooling2 (None, 5, 5, 64)          0         \n",
            "_________________________________________________________________\n",
            "flatten_4 (Flatten)          (None, 1600)              0         \n",
            "_________________________________________________________________\n",
            "dense_12 (Dense)             (None, 512)               819712    \n",
            "_________________________________________________________________\n",
            "activation_12 (Activation)   (None, 512)               0         \n",
            "_________________________________________________________________\n",
            "dense_13 (Dense)             (None, 10)                5130      \n",
            "=================================================================\n",
            "Total params: 843,658\n",
            "Trainable params: 843,658\n",
            "Non-trainable params: 0\n",
            "_________________________________________________________________\n"
          ],
          "name": "stdout"
        }
      ]
    },
    {
      "metadata": {
        "id": "1dutf4BLQuYa",
        "colab_type": "code",
        "colab": {
          "autoexec": {
            "startup": false,
            "wait_interval": 0
          },
          "base_uri": "https://localhost:8080/",
          "height": 34
        },
        "outputId": "de7a53b2-5f89-47b9-cf62-1163e5ad727a",
        "executionInfo": {
          "status": "ok",
          "timestamp": 1532496633917,
          "user_tz": -330,
          "elapsed": 1217,
          "user": {
            "displayName": "Pawan Snj",
            "photoUrl": "//lh6.googleusercontent.com/-ojjGyAo7og4/AAAAAAAAAAI/AAAAAAAADXU/VP6DtpEZJts/s50-c-k-no/photo.jpg",
            "userId": "100746673235819701094"
          }
        }
      },
      "cell_type": "code",
      "source": [
        "batch_size = 250\n",
        "epochs = 10\n",
        "print(\"DONE\")"
      ],
      "execution_count": 92,
      "outputs": [
        {
          "output_type": "stream",
          "text": [
            "DONE\n"
          ],
          "name": "stdout"
        }
      ]
    },
    {
      "metadata": {
        "id": "CMvrg65cSYQB",
        "colab_type": "code",
        "colab": {
          "autoexec": {
            "startup": false,
            "wait_interval": 0
          },
          "base_uri": "https://localhost:8080/",
          "height": 34
        },
        "outputId": "643f12b8-4290-4c39-983f-792d7dbd1b14",
        "executionInfo": {
          "status": "ok",
          "timestamp": 1532496636313,
          "user_tz": -330,
          "elapsed": 1114,
          "user": {
            "displayName": "Pawan Snj",
            "photoUrl": "//lh6.googleusercontent.com/-ojjGyAo7og4/AAAAAAAAAAI/AAAAAAAADXU/VP6DtpEZJts/s50-c-k-no/photo.jpg",
            "userId": "100746673235819701094"
          }
        }
      },
      "cell_type": "code",
      "source": [
        "gen = ImageDataGenerator()\n",
        "train_generator = gen.flow(train_image, train_label, batch_size=batch_size)\n",
        "print(\"DONE\")"
      ],
      "execution_count": 93,
      "outputs": [
        {
          "output_type": "stream",
          "text": [
            "DONE\n"
          ],
          "name": "stdout"
        }
      ]
    },
    {
      "metadata": {
        "id": "4-aRbMZx9unl",
        "colab_type": "text"
      },
      "cell_type": "markdown",
      "source": [
        "## Compiling the Model"
      ]
    },
    {
      "metadata": {
        "id": "RV25Rzah9sLo",
        "colab_type": "code",
        "colab": {
          "autoexec": {
            "startup": false,
            "wait_interval": 0
          }
        }
      },
      "cell_type": "code",
      "source": [
        "model.compile(loss='categorical_crossentropy', optimizer=keras.optimizers.Adam(), metrics=['accuracy'])"
      ],
      "execution_count": 0,
      "outputs": []
    },
    {
      "metadata": {
        "id": "cxq_4PI294q4",
        "colab_type": "text"
      },
      "cell_type": "markdown",
      "source": [
        "## Fitting the Model"
      ]
    },
    {
      "metadata": {
        "id": "EWZRswXWSYYf",
        "colab_type": "code",
        "colab": {
          "autoexec": {
            "startup": false,
            "wait_interval": 0
          },
          "base_uri": "https://localhost:8080/",
          "height": 394
        },
        "outputId": "4df6e0bb-4da8-4d31-8c5e-c49ef0ec578a",
        "executionInfo": {
          "status": "ok",
          "timestamp": 1532496687626,
          "user_tz": -330,
          "elapsed": 49992,
          "user": {
            "displayName": "Pawan Snj",
            "photoUrl": "//lh6.googleusercontent.com/-ojjGyAo7og4/AAAAAAAAAAI/AAAAAAAADXU/VP6DtpEZJts/s50-c-k-no/photo.jpg",
            "userId": "100746673235819701094"
          }
        }
      },
      "cell_type": "code",
      "source": [
        "\n",
        " hist = model.fit_generator(train_generator, steps_per_epoch=batch_size, epochs=epochs, validation_data=(test_image, test_label))\n",
        "\n",
        "print(\"DONE\")"
      ],
      "execution_count": 94,
      "outputs": [
        {
          "output_type": "stream",
          "text": [
            "Epoch 1/10\n",
            "250/250 [==============================] - 6s 26ms/step - loss: 0.2251 - acc: 0.9334 - val_loss: 0.0549 - val_acc: 0.9827\n",
            "Epoch 2/10\n",
            "250/250 [==============================] - 5s 19ms/step - loss: 0.0551 - acc: 0.9824 - val_loss: 0.0498 - val_acc: 0.9833\n",
            "Epoch 3/10\n",
            "250/250 [==============================] - 5s 19ms/step - loss: 0.0373 - acc: 0.9889 - val_loss: 0.0312 - val_acc: 0.9891\n",
            "Epoch 4/10\n",
            "250/250 [==============================] - 5s 19ms/step - loss: 0.0260 - acc: 0.9919 - val_loss: 0.0297 - val_acc: 0.9889\n",
            "Epoch 5/10\n",
            " 10/250 [>.............................] - ETA: 4s - loss: 0.0243 - acc: 0.9940"
          ],
          "name": "stdout"
        },
        {
          "output_type": "stream",
          "text": [
            "250/250 [==============================] - 5s 19ms/step - loss: 0.0201 - acc: 0.9939 - val_loss: 0.0355 - val_acc: 0.9880\n",
            "Epoch 6/10\n",
            "250/250 [==============================] - 5s 19ms/step - loss: 0.0175 - acc: 0.9946 - val_loss: 0.0280 - val_acc: 0.9904\n",
            "Epoch 7/10\n",
            "250/250 [==============================] - 5s 19ms/step - loss: 0.0123 - acc: 0.9959 - val_loss: 0.0334 - val_acc: 0.9893\n",
            "Epoch 8/10\n",
            "250/250 [==============================] - 5s 19ms/step - loss: 0.0103 - acc: 0.9967 - val_loss: 0.0230 - val_acc: 0.9928\n",
            "Epoch 9/10\n",
            " 31/250 [==>...........................] - ETA: 3s - loss: 0.0072 - acc: 0.9975"
          ],
          "name": "stdout"
        },
        {
          "output_type": "stream",
          "text": [
            "250/250 [==============================] - 5s 19ms/step - loss: 0.0071 - acc: 0.9979 - val_loss: 0.0276 - val_acc: 0.9911\n",
            "Epoch 10/10\n",
            "250/250 [==============================] - 5s 19ms/step - loss: 0.0077 - acc: 0.9975 - val_loss: 0.0280 - val_acc: 0.9909\n",
            "DONE\n"
          ],
          "name": "stdout"
        }
      ]
    },
    {
      "metadata": {
        "id": "bddq_o239-bk",
        "colab_type": "text"
      },
      "cell_type": "markdown",
      "source": [
        "## Graph\n",
        "\n",
        "1.   Training accuracy vs Validation accuracy\n",
        "2.   Training loss vs Validation loss\n",
        "\n",
        "\n",
        "\n"
      ]
    },
    {
      "metadata": {
        "id": "LZvOrXDuSYnP",
        "colab_type": "code",
        "colab": {
          "autoexec": {
            "startup": false,
            "wait_interval": 0
          },
          "base_uri": "https://localhost:8080/",
          "height": 588
        },
        "outputId": "1bb56fde-d067-4582-b6d2-5b960c95bacd",
        "executionInfo": {
          "status": "ok",
          "timestamp": 1532496728317,
          "user_tz": -330,
          "elapsed": 2121,
          "user": {
            "displayName": "Pawan Snj",
            "photoUrl": "//lh6.googleusercontent.com/-ojjGyAo7og4/AAAAAAAAAAI/AAAAAAAADXU/VP6DtpEZJts/s50-c-k-no/photo.jpg",
            "userId": "100746673235819701094"
          }
        }
      },
      "cell_type": "code",
      "source": [
        "# Graph losses and accuracy\n",
        "train_loss=hist.history['loss']\n",
        "val_loss=hist.history['val_loss']\n",
        "train_acc=hist.history['acc']\n",
        "val_acc=hist.history['val_acc']\n",
        "xc=range(epochs)\n",
        "\n",
        "##############################################\n",
        "plt.figure(1,figsize=(4,4))\n",
        "plt.plot(xc,train_loss)\n",
        "plt.plot(xc,val_loss)\n",
        "\n",
        "plt.xlabel('num of epochs')\n",
        "plt.ylabel('loss')\n",
        "plt.title('train_loss vs test_loss')\n",
        "\n",
        "plt.grid(True)\n",
        "plt.legend(['train','val']) \n",
        "\n",
        "##################################################\n",
        "\n",
        "plt.figure(2,figsize=(4,4))\n",
        "plt.plot(xc,train_acc)\n",
        "plt.plot(xc,val_acc)\n",
        "\n",
        "plt.xlabel('num of Epochs')\n",
        "plt.ylabel('accuracy')\n",
        "plt.title('train_acc vs test_acc')\n",
        "\n",
        "plt.grid(True)\n",
        "plt.legend(['train','val'],loc=4)\n"
      ],
      "execution_count": 95,
      "outputs": [
        {
          "output_type": "execute_result",
          "data": {
            "text/plain": [
              "<matplotlib.legend.Legend at 0x7fe4eb893e48>"
            ]
          },
          "metadata": {
            "tags": []
          },
          "execution_count": 95
        },
        {
          "output_type": "display_data",
          "data": {
            "image/png": "[encoded data removed]",
            "text/plain": [
              "<matplotlib.figure.Figure at 0x7fe4eb8c95c0>"
            ]
          },
          "metadata": {
            "tags": []
          }
        },
        {
          "output_type": "display_data",
          "data": {
            "image/png": "[encoded data removed]",
            "text/plain": [
              "<matplotlib.figure.Figure at 0x7fe4eb88add8>"
            ]
          },
          "metadata": {
            "tags": []
          }
        }
      ]
    },
    {
      "metadata": {
        "id": "0QTFaVKy-QmJ",
        "colab_type": "text"
      },
      "cell_type": "markdown",
      "source": [
        "# VGG 16 Model"
      ]
    },
    {
      "metadata": {
        "id": "-MaOTQJqflS5",
        "colab_type": "code",
        "colab": {
          "autoexec": {
            "startup": false,
            "wait_interval": 0
          },
          "base_uri": "https://localhost:8080/",
          "height": 34
        },
        "outputId": "b6a5030f-3eb7-461a-81f3-95cc962154d9",
        "executionInfo": {
          "status": "ok",
          "timestamp": 1532497994927,
          "user_tz": -330,
          "elapsed": 4891,
          "user": {
            "displayName": "Pawan Snj",
            "photoUrl": "//lh6.googleusercontent.com/-ojjGyAo7og4/AAAAAAAAAAI/AAAAAAAADXU/VP6DtpEZJts/s50-c-k-no/photo.jpg",
            "userId": "100746673235819701094"
          }
        }
      },
      "cell_type": "code",
      "source": [
        "vgg16_model = keras.applications.vgg16.VGG16()\n",
        "print(\"DONE\")"
      ],
      "execution_count": 138,
      "outputs": [
        {
          "output_type": "stream",
          "text": [
            "DONE\n"
          ],
          "name": "stdout"
        }
      ]
    },
    {
      "metadata": {
        "id": "vJ4Mh5K1kL_2",
        "colab_type": "code",
        "colab": {
          "autoexec": {
            "startup": false,
            "wait_interval": 0
          },
          "base_uri": "https://localhost:8080/",
          "height": 918
        },
        "outputId": "ae682938-8ab7-4ad8-a34b-d1a9dd7b531e",
        "executionInfo": {
          "status": "ok",
          "timestamp": 1532497998880,
          "user_tz": -330,
          "elapsed": 2144,
          "user": {
            "displayName": "Pawan Snj",
            "photoUrl": "//lh6.googleusercontent.com/-ojjGyAo7og4/AAAAAAAAAAI/AAAAAAAADXU/VP6DtpEZJts/s50-c-k-no/photo.jpg",
            "userId": "100746673235819701094"
          }
        }
      },
      "cell_type": "code",
      "source": [
        "vgg16_model.summary()\n",
        "#print(\"DONE\")"
      ],
      "execution_count": 139,
      "outputs": [
        {
          "output_type": "stream",
          "text": [
            "_________________________________________________________________\n",
            "Layer (type)                 Output Shape              Param #   \n",
            "=================================================================\n",
            "input_8 (InputLayer)         (None, 224, 224, 3)       0         \n",
            "_________________________________________________________________\n",
            "block1_conv1 (Conv2D)        (None, 224, 224, 64)      1792      \n",
            "_________________________________________________________________\n",
            "block1_conv2 (Conv2D)        (None, 224, 224, 64)      36928     \n",
            "_________________________________________________________________\n",
            "block1_pool (MaxPooling2D)   (None, 112, 112, 64)      0         \n",
            "_________________________________________________________________\n",
            "block2_conv1 (Conv2D)        (None, 112, 112, 128)     73856     \n",
            "_________________________________________________________________\n",
            "block2_conv2 (Conv2D)        (None, 112, 112, 128)     147584    \n",
            "_________________________________________________________________\n",
            "block2_pool (MaxPooling2D)   (None, 56, 56, 128)       0         \n",
            "_________________________________________________________________\n",
            "block3_conv1 (Conv2D)        (None, 56, 56, 256)       295168    \n",
            "_________________________________________________________________\n",
            "block3_conv2 (Conv2D)        (None, 56, 56, 256)       590080    \n",
            "_________________________________________________________________\n",
            "block3_conv3 (Conv2D)        (None, 56, 56, 256)       590080    \n",
            "_________________________________________________________________\n",
            "block3_pool (MaxPooling2D)   (None, 28, 28, 256)       0         \n",
            "_________________________________________________________________\n",
            "block4_conv1 (Conv2D)        (None, 28, 28, 512)       1180160   \n",
            "_________________________________________________________________\n",
            "block4_conv2 (Conv2D)        (None, 28, 28, 512)       2359808   \n",
            "_________________________________________________________________\n",
            "block4_conv3 (Conv2D)        (None, 28, 28, 512)       2359808   \n",
            "_________________________________________________________________\n",
            "block4_pool (MaxPooling2D)   (None, 14, 14, 512)       0         \n",
            "_________________________________________________________________\n",
            "block5_conv1 (Conv2D)        (None, 14, 14, 512)       2359808   \n",
            "_________________________________________________________________\n",
            "block5_conv2 (Conv2D)        (None, 14, 14, 512)       2359808   \n",
            "_________________________________________________________________\n",
            "block5_conv3 (Conv2D)        (None, 14, 14, 512)       2359808   \n",
            "_________________________________________________________________\n",
            "block5_pool (MaxPooling2D)   (None, 7, 7, 512)         0         \n",
            "_________________________________________________________________\n",
            "flatten (Flatten)            (None, 25088)             0         \n",
            "_________________________________________________________________\n",
            "fc1 (Dense)                  (None, 4096)              102764544 \n",
            "_________________________________________________________________\n",
            "fc2 (Dense)                  (None, 4096)              16781312  \n",
            "_________________________________________________________________\n",
            "predictions (Dense)          (None, 1000)              4097000   \n",
            "=================================================================\n",
            "Total params: 138,357,544\n",
            "Trainable params: 138,357,544\n",
            "Non-trainable params: 0\n",
            "_________________________________________________________________\n"
          ],
          "name": "stdout"
        }
      ]
    },
    {
      "metadata": {
        "id": "aopa-2HlkMJ2",
        "colab_type": "code",
        "colab": {
          "autoexec": {
            "startup": false,
            "wait_interval": 0
          },
          "base_uri": "https://localhost:8080/",
          "height": 34
        },
        "outputId": "a9de1ba4-c638-4ac5-c39d-d869fe59ca81",
        "executionInfo": {
          "status": "ok",
          "timestamp": 1532498003350,
          "user_tz": -330,
          "elapsed": 877,
          "user": {
            "displayName": "Pawan Snj",
            "photoUrl": "//lh6.googleusercontent.com/-ojjGyAo7og4/AAAAAAAAAAI/AAAAAAAADXU/VP6DtpEZJts/s50-c-k-no/photo.jpg",
            "userId": "100746673235819701094"
          }
        }
      },
      "cell_type": "code",
      "source": [
        "type(vgg16_model)"
      ],
      "execution_count": 140,
      "outputs": [
        {
          "output_type": "execute_result",
          "data": {
            "text/plain": [
              "keras.engine.training.Model"
            ]
          },
          "metadata": {
            "tags": []
          },
          "execution_count": 140
        }
      ]
    },
    {
      "metadata": {
        "id": "tTu4ST96-XNO",
        "colab_type": "text"
      },
      "cell_type": "markdown",
      "source": [
        "## Converting the VGG 16 Model to Sequential"
      ]
    },
    {
      "metadata": {
        "id": "O9LRymmokMQ3",
        "colab_type": "code",
        "colab": {
          "autoexec": {
            "startup": false,
            "wait_interval": 0
          },
          "base_uri": "https://localhost:8080/",
          "height": 34
        },
        "outputId": "233d0813-cb0c-4cbd-ad3d-870239bbb9be",
        "executionInfo": {
          "status": "ok",
          "timestamp": 1532498006594,
          "user_tz": -330,
          "elapsed": 1146,
          "user": {
            "displayName": "Pawan Snj",
            "photoUrl": "//lh6.googleusercontent.com/-ojjGyAo7og4/AAAAAAAAAAI/AAAAAAAADXU/VP6DtpEZJts/s50-c-k-no/photo.jpg",
            "userId": "100746673235819701094"
          }
        }
      },
      "cell_type": "code",
      "source": [
        "model1= Sequential()\n",
        "for layer in vgg16_model.layers:\n",
        "    model1.add(layer)\n",
        "print(\"DONE\")"
      ],
      "execution_count": 141,
      "outputs": [
        {
          "output_type": "stream",
          "text": [
            "DONE\n"
          ],
          "name": "stdout"
        }
      ]
    },
    {
      "metadata": {
        "id": "1NYAFLozkMVa",
        "colab_type": "code",
        "colab": {
          "autoexec": {
            "startup": false,
            "wait_interval": 0
          },
          "base_uri": "https://localhost:8080/",
          "height": 918
        },
        "outputId": "53d7da58-dedd-47e1-d43a-fd018542b039",
        "executionInfo": {
          "status": "ok",
          "timestamp": 1532498010996,
          "user_tz": -330,
          "elapsed": 1456,
          "user": {
            "displayName": "Pawan Snj",
            "photoUrl": "//lh6.googleusercontent.com/-ojjGyAo7og4/AAAAAAAAAAI/AAAAAAAADXU/VP6DtpEZJts/s50-c-k-no/photo.jpg",
            "userId": "100746673235819701094"
          }
        }
      },
      "cell_type": "code",
      "source": [
        "model1.summary()\n",
        "#print(\"DONE\")"
      ],
      "execution_count": 142,
      "outputs": [
        {
          "output_type": "stream",
          "text": [
            "_________________________________________________________________\n",
            "Layer (type)                 Output Shape              Param #   \n",
            "=================================================================\n",
            "input_8 (InputLayer)         (None, 224, 224, 3)       0         \n",
            "_________________________________________________________________\n",
            "block1_conv1 (Conv2D)        (None, 224, 224, 64)      1792      \n",
            "_________________________________________________________________\n",
            "block1_conv2 (Conv2D)        (None, 224, 224, 64)      36928     \n",
            "_________________________________________________________________\n",
            "block1_pool (MaxPooling2D)   (None, 112, 112, 64)      0         \n",
            "_________________________________________________________________\n",
            "block2_conv1 (Conv2D)        (None, 112, 112, 128)     73856     \n",
            "_________________________________________________________________\n",
            "block2_conv2 (Conv2D)        (None, 112, 112, 128)     147584    \n",
            "_________________________________________________________________\n",
            "block2_pool (MaxPooling2D)   (None, 56, 56, 128)       0         \n",
            "_________________________________________________________________\n",
            "block3_conv1 (Conv2D)        (None, 56, 56, 256)       295168    \n",
            "_________________________________________________________________\n",
            "block3_conv2 (Conv2D)        (None, 56, 56, 256)       590080    \n",
            "_________________________________________________________________\n",
            "block3_conv3 (Conv2D)        (None, 56, 56, 256)       590080    \n",
            "_________________________________________________________________\n",
            "block3_pool (MaxPooling2D)   (None, 28, 28, 256)       0         \n",
            "_________________________________________________________________\n",
            "block4_conv1 (Conv2D)        (None, 28, 28, 512)       1180160   \n",
            "_________________________________________________________________\n",
            "block4_conv2 (Conv2D)        (None, 28, 28, 512)       2359808   \n",
            "_________________________________________________________________\n",
            "block4_conv3 (Conv2D)        (None, 28, 28, 512)       2359808   \n",
            "_________________________________________________________________\n",
            "block4_pool (MaxPooling2D)   (None, 14, 14, 512)       0         \n",
            "_________________________________________________________________\n",
            "block5_conv1 (Conv2D)        (None, 14, 14, 512)       2359808   \n",
            "_________________________________________________________________\n",
            "block5_conv2 (Conv2D)        (None, 14, 14, 512)       2359808   \n",
            "_________________________________________________________________\n",
            "block5_conv3 (Conv2D)        (None, 14, 14, 512)       2359808   \n",
            "_________________________________________________________________\n",
            "block5_pool (MaxPooling2D)   (None, 7, 7, 512)         0         \n",
            "_________________________________________________________________\n",
            "flatten (Flatten)            (None, 25088)             0         \n",
            "_________________________________________________________________\n",
            "fc1 (Dense)                  (None, 4096)              102764544 \n",
            "_________________________________________________________________\n",
            "fc2 (Dense)                  (None, 4096)              16781312  \n",
            "_________________________________________________________________\n",
            "predictions (Dense)          (None, 1000)              4097000   \n",
            "=================================================================\n",
            "Total params: 138,357,544\n",
            "Trainable params: 138,357,544\n",
            "Non-trainable params: 0\n",
            "_________________________________________________________________\n"
          ],
          "name": "stdout"
        }
      ]
    },
    {
      "metadata": {
        "id": "9gtuDcogBSpq",
        "colab_type": "text"
      },
      "cell_type": "markdown",
      "source": [
        "# Removing the last layer\n",
        "VGG 16 is trained on Imagenet dataset which consist of 1000 classes,  Since our dataset consist of only 10 classes (Mnist), We remove last classification layer which is meant for classifying 1000 and replace it by the classification layer which is having only 10 classes."
      ]
    },
    {
      "metadata": {
        "id": "XEis8szMAE3D",
        "colab_type": "code",
        "colab": {
          "autoexec": {
            "startup": false,
            "wait_interval": 0
          },
          "base_uri": "https://localhost:8080/",
          "height": 34
        },
        "outputId": "1a74e9f7-39c7-441a-c3b4-35f5af616fec",
        "executionInfo": {
          "status": "ok",
          "timestamp": 1532498059117,
          "user_tz": -330,
          "elapsed": 1229,
          "user": {
            "displayName": "Pawan Snj",
            "photoUrl": "//lh6.googleusercontent.com/-ojjGyAo7og4/AAAAAAAAAAI/AAAAAAAADXU/VP6DtpEZJts/s50-c-k-no/photo.jpg",
            "userId": "100746673235819701094"
          }
        }
      },
      "cell_type": "code",
      "source": [
        "model1.layers.pop()\n",
        "print(\"DONE\")"
      ],
      "execution_count": 144,
      "outputs": [
        {
          "output_type": "stream",
          "text": [
            "DONE\n"
          ],
          "name": "stdout"
        }
      ]
    },
    {
      "metadata": {
        "id": "45xu9czJAKYS",
        "colab_type": "code",
        "colab": {
          "autoexec": {
            "startup": false,
            "wait_interval": 0
          },
          "base_uri": "https://localhost:8080/",
          "height": 884
        },
        "outputId": "91d2cdc9-d15b-44f2-dc84-350e61cfad06",
        "executionInfo": {
          "status": "ok",
          "timestamp": 1532498071557,
          "user_tz": -330,
          "elapsed": 1343,
          "user": {
            "displayName": "Pawan Snj",
            "photoUrl": "//lh6.googleusercontent.com/-ojjGyAo7og4/AAAAAAAAAAI/AAAAAAAADXU/VP6DtpEZJts/s50-c-k-no/photo.jpg",
            "userId": "100746673235819701094"
          }
        }
      },
      "cell_type": "code",
      "source": [
        "model1.summary()"
      ],
      "execution_count": 145,
      "outputs": [
        {
          "output_type": "stream",
          "text": [
            "_________________________________________________________________\n",
            "Layer (type)                 Output Shape              Param #   \n",
            "=================================================================\n",
            "input_8 (InputLayer)         (None, 224, 224, 3)       0         \n",
            "_________________________________________________________________\n",
            "block1_conv1 (Conv2D)        (None, 224, 224, 64)      1792      \n",
            "_________________________________________________________________\n",
            "block1_conv2 (Conv2D)        (None, 224, 224, 64)      36928     \n",
            "_________________________________________________________________\n",
            "block1_pool (MaxPooling2D)   (None, 112, 112, 64)      0         \n",
            "_________________________________________________________________\n",
            "block2_conv1 (Conv2D)        (None, 112, 112, 128)     73856     \n",
            "_________________________________________________________________\n",
            "block2_conv2 (Conv2D)        (None, 112, 112, 128)     147584    \n",
            "_________________________________________________________________\n",
            "block2_pool (MaxPooling2D)   (None, 56, 56, 128)       0         \n",
            "_________________________________________________________________\n",
            "block3_conv1 (Conv2D)        (None, 56, 56, 256)       295168    \n",
            "_________________________________________________________________\n",
            "block3_conv2 (Conv2D)        (None, 56, 56, 256)       590080    \n",
            "_________________________________________________________________\n",
            "block3_conv3 (Conv2D)        (None, 56, 56, 256)       590080    \n",
            "_________________________________________________________________\n",
            "block3_pool (MaxPooling2D)   (None, 28, 28, 256)       0         \n",
            "_________________________________________________________________\n",
            "block4_conv1 (Conv2D)        (None, 28, 28, 512)       1180160   \n",
            "_________________________________________________________________\n",
            "block4_conv2 (Conv2D)        (None, 28, 28, 512)       2359808   \n",
            "_________________________________________________________________\n",
            "block4_conv3 (Conv2D)        (None, 28, 28, 512)       2359808   \n",
            "_________________________________________________________________\n",
            "block4_pool (MaxPooling2D)   (None, 14, 14, 512)       0         \n",
            "_________________________________________________________________\n",
            "block5_conv1 (Conv2D)        (None, 14, 14, 512)       2359808   \n",
            "_________________________________________________________________\n",
            "block5_conv2 (Conv2D)        (None, 14, 14, 512)       2359808   \n",
            "_________________________________________________________________\n",
            "block5_conv3 (Conv2D)        (None, 14, 14, 512)       2359808   \n",
            "_________________________________________________________________\n",
            "block5_pool (MaxPooling2D)   (None, 7, 7, 512)         0         \n",
            "_________________________________________________________________\n",
            "flatten (Flatten)            (None, 25088)             0         \n",
            "_________________________________________________________________\n",
            "fc1 (Dense)                  (None, 4096)              102764544 \n",
            "_________________________________________________________________\n",
            "fc2 (Dense)                  (None, 4096)              16781312  \n",
            "=================================================================\n",
            "Total params: 134,260,544\n",
            "Trainable params: 0\n",
            "Non-trainable params: 134,260,544\n",
            "_________________________________________________________________\n"
          ],
          "name": "stdout"
        }
      ]
    },
    {
      "metadata": {
        "id": "x4mOozJhCdTb",
        "colab_type": "text"
      },
      "cell_type": "markdown",
      "source": [
        "# Freezing\n",
        "We keep the weights of rest of the layers as it is, and we train only the classification layer."
      ]
    },
    {
      "metadata": {
        "id": "Rag-yIEVkMY0",
        "colab_type": "code",
        "colab": {
          "autoexec": {
            "startup": false,
            "wait_interval": 0
          },
          "base_uri": "https://localhost:8080/",
          "height": 34
        },
        "outputId": "4a1081cf-5cf4-496d-84b5-10221bb6c5c4",
        "executionInfo": {
          "status": "ok",
          "timestamp": 1532498086956,
          "user_tz": -330,
          "elapsed": 1740,
          "user": {
            "displayName": "Pawan Snj",
            "photoUrl": "//lh6.googleusercontent.com/-ojjGyAo7og4/AAAAAAAAAAI/AAAAAAAADXU/VP6DtpEZJts/s50-c-k-no/photo.jpg",
            "userId": "100746673235819701094"
          }
        }
      },
      "cell_type": "code",
      "source": [
        "for layer in model1.layers: ## MAking trainable= FALSE (FREEZING)\n",
        "    layer.trainable = False\n",
        "print(\"DONE\")"
      ],
      "execution_count": 146,
      "outputs": [
        {
          "output_type": "stream",
          "text": [
            "DONE\n"
          ],
          "name": "stdout"
        }
      ]
    },
    {
      "metadata": {
        "id": "6-Cp_JO9DYJk",
        "colab_type": "text"
      },
      "cell_type": "markdown",
      "source": [
        "# Adding the classification Layer\n",
        "We add the classification layer to fit into our problem. In case of MNIST we add classification layer with  classes."
      ]
    },
    {
      "metadata": {
        "id": "nsgWzckQkoxK",
        "colab_type": "code",
        "colab": {
          "autoexec": {
            "startup": false,
            "wait_interval": 0
          },
          "base_uri": "https://localhost:8080/",
          "height": 34
        },
        "outputId": "f2f5afd1-7973-4be8-b239-854b21e7202f",
        "executionInfo": {
          "status": "ok",
          "timestamp": 1532498089792,
          "user_tz": -330,
          "elapsed": 1109,
          "user": {
            "displayName": "Pawan Snj",
            "photoUrl": "//lh6.googleusercontent.com/-ojjGyAo7og4/AAAAAAAAAAI/AAAAAAAADXU/VP6DtpEZJts/s50-c-k-no/photo.jpg",
            "userId": "100746673235819701094"
          }
        }
      },
      "cell_type": "code",
      "source": [
        "model1.add(Dense(10, activation='softmax'))\n",
        "print(\"DoNE\")"
      ],
      "execution_count": 147,
      "outputs": [
        {
          "output_type": "stream",
          "text": [
            "DoNE\n"
          ],
          "name": "stdout"
        }
      ]
    },
    {
      "metadata": {
        "id": "CTvwzBHdko1z",
        "colab_type": "code",
        "colab": {
          "autoexec": {
            "startup": false,
            "wait_interval": 0
          },
          "base_uri": "https://localhost:8080/",
          "height": 918
        },
        "outputId": "26939187-17b4-4c96-b9bb-5622110b3777",
        "executionInfo": {
          "status": "ok",
          "timestamp": 1532498092062,
          "user_tz": -330,
          "elapsed": 1172,
          "user": {
            "displayName": "Pawan Snj",
            "photoUrl": "//lh6.googleusercontent.com/-ojjGyAo7og4/AAAAAAAAAAI/AAAAAAAADXU/VP6DtpEZJts/s50-c-k-no/photo.jpg",
            "userId": "100746673235819701094"
          }
        }
      },
      "cell_type": "code",
      "source": [
        "model1.summary()\n",
        "#print('DONE')"
      ],
      "execution_count": 148,
      "outputs": [
        {
          "output_type": "stream",
          "text": [
            "_________________________________________________________________\n",
            "Layer (type)                 Output Shape              Param #   \n",
            "=================================================================\n",
            "input_8 (InputLayer)         (None, 224, 224, 3)       0         \n",
            "_________________________________________________________________\n",
            "block1_conv1 (Conv2D)        (None, 224, 224, 64)      1792      \n",
            "_________________________________________________________________\n",
            "block1_conv2 (Conv2D)        (None, 224, 224, 64)      36928     \n",
            "_________________________________________________________________\n",
            "block1_pool (MaxPooling2D)   (None, 112, 112, 64)      0         \n",
            "_________________________________________________________________\n",
            "block2_conv1 (Conv2D)        (None, 112, 112, 128)     73856     \n",
            "_________________________________________________________________\n",
            "block2_conv2 (Conv2D)        (None, 112, 112, 128)     147584    \n",
            "_________________________________________________________________\n",
            "block2_pool (MaxPooling2D)   (None, 56, 56, 128)       0         \n",
            "_________________________________________________________________\n",
            "block3_conv1 (Conv2D)        (None, 56, 56, 256)       295168    \n",
            "_________________________________________________________________\n",
            "block3_conv2 (Conv2D)        (None, 56, 56, 256)       590080    \n",
            "_________________________________________________________________\n",
            "block3_conv3 (Conv2D)        (None, 56, 56, 256)       590080    \n",
            "_________________________________________________________________\n",
            "block3_pool (MaxPooling2D)   (None, 28, 28, 256)       0         \n",
            "_________________________________________________________________\n",
            "block4_conv1 (Conv2D)        (None, 28, 28, 512)       1180160   \n",
            "_________________________________________________________________\n",
            "block4_conv2 (Conv2D)        (None, 28, 28, 512)       2359808   \n",
            "_________________________________________________________________\n",
            "block4_conv3 (Conv2D)        (None, 28, 28, 512)       2359808   \n",
            "_________________________________________________________________\n",
            "block4_pool (MaxPooling2D)   (None, 14, 14, 512)       0         \n",
            "_________________________________________________________________\n",
            "block5_conv1 (Conv2D)        (None, 14, 14, 512)       2359808   \n",
            "_________________________________________________________________\n",
            "block5_conv2 (Conv2D)        (None, 14, 14, 512)       2359808   \n",
            "_________________________________________________________________\n",
            "block5_conv3 (Conv2D)        (None, 14, 14, 512)       2359808   \n",
            "_________________________________________________________________\n",
            "block5_pool (MaxPooling2D)   (None, 7, 7, 512)         0         \n",
            "_________________________________________________________________\n",
            "flatten (Flatten)            (None, 25088)             0         \n",
            "_________________________________________________________________\n",
            "fc1 (Dense)                  (None, 4096)              102764544 \n",
            "_________________________________________________________________\n",
            "fc2 (Dense)                  (None, 4096)              16781312  \n",
            "_________________________________________________________________\n",
            "dense_17 (Dense)             (None, 10)                10010     \n",
            "=================================================================\n",
            "Total params: 134,270,554\n",
            "Trainable params: 10,010\n",
            "Non-trainable params: 134,260,544\n",
            "_________________________________________________________________\n"
          ],
          "name": "stdout"
        }
      ]
    },
    {
      "metadata": {
        "id": "Zy1QMmqKjzmE",
        "colab_type": "code",
        "colab": {
          "autoexec": {
            "startup": false,
            "wait_interval": 0
          },
          "base_uri": "https://localhost:8080/",
          "height": 34
        },
        "outputId": "fad22a86-9fb0-40b5-f274-a27683c718b8",
        "executionInfo": {
          "status": "ok",
          "timestamp": 1532496886172,
          "user_tz": -330,
          "elapsed": 1120,
          "user": {
            "displayName": "Pawan Snj",
            "photoUrl": "//lh6.googleusercontent.com/-ojjGyAo7og4/AAAAAAAAAAI/AAAAAAAADXU/VP6DtpEZJts/s50-c-k-no/photo.jpg",
            "userId": "100746673235819701094"
          }
        }
      },
      "cell_type": "code",
      "source": [
        "epochs1 = 3\n",
        "print(\"DONE\")"
      ],
      "execution_count": 105,
      "outputs": [
        {
          "output_type": "stream",
          "text": [
            "DONE\n"
          ],
          "name": "stdout"
        }
      ]
    },
    {
      "metadata": {
        "id": "MfhHefQWD1pN",
        "colab_type": "text"
      },
      "cell_type": "markdown",
      "source": [
        "# Compile and Fit the Model"
      ]
    },
    {
      "metadata": {
        "id": "rHeZn348ko5T",
        "colab_type": "code",
        "colab": {
          "autoexec": {
            "startup": false,
            "wait_interval": 0
          },
          "base_uri": "https://localhost:8080/",
          "height": 136
        },
        "outputId": "786bccd8-a709-4613-d3a1-f8d6bcadf085",
        "executionInfo": {
          "status": "ok",
          "timestamp": 1532496903907,
          "user_tz": -330,
          "elapsed": 16216,
          "user": {
            "displayName": "Pawan Snj",
            "photoUrl": "//lh6.googleusercontent.com/-ojjGyAo7og4/AAAAAAAAAAI/AAAAAAAADXU/VP6DtpEZJts/s50-c-k-no/photo.jpg",
            "userId": "100746673235819701094"
          }
        }
      },
      "cell_type": "code",
      "source": [
        "model1.compile(loss='categorical_crossentropy', optimizer=keras.optimizers.Adam(), metrics=['accuracy'])\n",
        " \n",
        "hist = model.fit_generator(train_generator, steps_per_epoch=batch_size, epochs=epochs1, validation_data=(test_image,test_label))\n",
        "\n",
        "print(\"DONE\")"
      ],
      "execution_count": 106,
      "outputs": [
        {
          "output_type": "stream",
          "text": [
            "Epoch 1/3\n",
            "250/250 [==============================] - 6s 24ms/step - loss: 0.0065 - acc: 0.9979 - val_loss: 0.0259 - val_acc: 0.9926\n",
            "Epoch 2/3\n",
            "250/250 [==============================] - 5s 19ms/step - loss: 0.0051 - acc: 0.9984 - val_loss: 0.0261 - val_acc: 0.9920\n",
            "Epoch 3/3\n",
            "250/250 [==============================] - 5s 19ms/step - loss: 0.0045 - acc: 0.9986 - val_loss: 0.0346 - val_acc: 0.9916\n",
            "DONE\n"
          ],
          "name": "stdout"
        }
      ]
    },
    {
      "metadata": {
        "id": "bNqkkcFsEDGs",
        "colab_type": "text"
      },
      "cell_type": "markdown",
      "source": [
        "## Graph\n",
        "\n",
        "1.   Training accuracy vs Validation accuracy\n",
        "2.   Training loss vs Validation loss\n",
        "\n",
        "\n",
        "\n"
      ]
    },
    {
      "metadata": {
        "id": "vedNW5o2mD73",
        "colab_type": "code",
        "colab": {
          "autoexec": {
            "startup": false,
            "wait_interval": 0
          },
          "base_uri": "https://localhost:8080/",
          "height": 587
        },
        "outputId": "1d6a1d8d-5ccb-4b01-b0dd-b68ce54f97df",
        "executionInfo": {
          "status": "ok",
          "timestamp": 1532495208828,
          "user_tz": -330,
          "elapsed": 2362,
          "user": {
            "displayName": "Pawan Snj",
            "photoUrl": "//lh6.googleusercontent.com/-ojjGyAo7og4/AAAAAAAAAAI/AAAAAAAADXU/VP6DtpEZJts/s50-c-k-no/photo.jpg",
            "userId": "100746673235819701094"
          }
        }
      },
      "cell_type": "code",
      "source": [
        "# Graph losses and accuracy\n",
        "train_loss=hist.history['loss']\n",
        "val_loss=hist.history['val_loss']\n",
        "train_acc=hist.history['acc']\n",
        "val_acc=hist.history['val_acc']\n",
        "xc=range(epochs1)\n",
        "\n",
        "##############################################\n",
        "plt.figure(1,figsize=(4,4))\n",
        "plt.plot(xc,train_loss)\n",
        "plt.plot(xc,val_loss)\n",
        "\n",
        "plt.xlabel('num of epochs')\n",
        "plt.ylabel('loss')\n",
        "plt.title('train_loss vs test_loss')\n",
        "\n",
        "plt.grid(True)\n",
        "plt.legend(['train','val']) \n",
        "\n",
        "##################################################\n",
        "\n",
        "plt.figure(2,figsize=(4,4))\n",
        "plt.plot(xc,train_acc)\n",
        "plt.plot(xc,val_acc)\n",
        "\n",
        "plt.xlabel('num of Epochs')\n",
        "plt.ylabel('accuracy')\n",
        "plt.title('train_acc vs test_acc')\n",
        "\n",
        "plt.grid(True)\n",
        "plt.legend(['train','val'],loc=4)\n"
      ],
      "execution_count": 53,
      "outputs": [
        {
          "output_type": "execute_result",
          "data": {
            "text/plain": [
              "<matplotlib.legend.Legend at 0x7fe4ec4d1438>"
            ]
          },
          "metadata": {
            "tags": []
          },
          "execution_count": 53
        },
        {
          "output_type": "display_data",
          "data": {
            "image/png": "[encoded data removed]",
            "text/plain": [
              "<matplotlib.figure.Figure at 0x7fe4ec45cc88>"
            ]
          },
          "metadata": {
            "tags": []
          }
        },
        {
          "output_type": "display_data",
          "data": {
            "image/png": "[encoded data removed]",
            "text/plain": [
              "<matplotlib.figure.Figure at 0x7fe4ec4db208>"
            ]
          },
          "metadata": {
            "tags": []
          }
        }
      ]
    },
    {
      "metadata": {
        "id": "giLLMacVEFeq",
        "colab_type": "text"
      },
      "cell_type": "markdown",
      "source": [
        " # VGG 19 Model"
      ]
    },
    {
      "metadata": {
        "id": "S2idrOgtmbJb",
        "colab_type": "code",
        "colab": {
          "autoexec": {
            "startup": false,
            "wait_interval": 0
          },
          "base_uri": "https://localhost:8080/",
          "height": 34
        },
        "outputId": "be6b307b-6a46-427e-d167-3ef2edbbdb42",
        "executionInfo": {
          "status": "ok",
          "timestamp": 1532498150108,
          "user_tz": -330,
          "elapsed": 5373,
          "user": {
            "displayName": "Pawan Snj",
            "photoUrl": "//lh6.googleusercontent.com/-ojjGyAo7og4/AAAAAAAAAAI/AAAAAAAADXU/VP6DtpEZJts/s50-c-k-no/photo.jpg",
            "userId": "100746673235819701094"
          }
        }
      },
      "cell_type": "code",
      "source": [
        "vgg19_model = keras.applications.vgg19.VGG19(include_top=True, weights='imagenet', input_tensor=None, input_shape=None, pooling=None, classes=1000)\n",
        "print(\"DONE\")"
      ],
      "execution_count": 149,
      "outputs": [
        {
          "output_type": "stream",
          "text": [
            "DONE\n"
          ],
          "name": "stdout"
        }
      ]
    },
    {
      "metadata": {
        "id": "QuwL96kfmbTJ",
        "colab_type": "code",
        "colab": {
          "autoexec": {
            "startup": false,
            "wait_interval": 0
          },
          "base_uri": "https://localhost:8080/",
          "height": 1020
        },
        "outputId": "685ffa77-f516-402a-ce49-1d403f66839e",
        "executionInfo": {
          "status": "ok",
          "timestamp": 1532498151619,
          "user_tz": -330,
          "elapsed": 1020,
          "user": {
            "displayName": "Pawan Snj",
            "photoUrl": "//lh6.googleusercontent.com/-ojjGyAo7og4/AAAAAAAAAAI/AAAAAAAADXU/VP6DtpEZJts/s50-c-k-no/photo.jpg",
            "userId": "100746673235819701094"
          }
        }
      },
      "cell_type": "code",
      "source": [
        "vgg19_model.summary()\n",
        "#print(\"DONE\")"
      ],
      "execution_count": 150,
      "outputs": [
        {
          "output_type": "stream",
          "text": [
            "_________________________________________________________________\n",
            "Layer (type)                 Output Shape              Param #   \n",
            "=================================================================\n",
            "input_9 (InputLayer)         (None, 224, 224, 3)       0         \n",
            "_________________________________________________________________\n",
            "block1_conv1 (Conv2D)        (None, 224, 224, 64)      1792      \n",
            "_________________________________________________________________\n",
            "block1_conv2 (Conv2D)        (None, 224, 224, 64)      36928     \n",
            "_________________________________________________________________\n",
            "block1_pool (MaxPooling2D)   (None, 112, 112, 64)      0         \n",
            "_________________________________________________________________\n",
            "block2_conv1 (Conv2D)        (None, 112, 112, 128)     73856     \n",
            "_________________________________________________________________\n",
            "block2_conv2 (Conv2D)        (None, 112, 112, 128)     147584    \n",
            "_________________________________________________________________\n",
            "block2_pool (MaxPooling2D)   (None, 56, 56, 128)       0         \n",
            "_________________________________________________________________\n",
            "block3_conv1 (Conv2D)        (None, 56, 56, 256)       295168    \n",
            "_________________________________________________________________\n",
            "block3_conv2 (Conv2D)        (None, 56, 56, 256)       590080    \n",
            "_________________________________________________________________\n",
            "block3_conv3 (Conv2D)        (None, 56, 56, 256)       590080    \n",
            "_________________________________________________________________\n",
            "block3_conv4 (Conv2D)        (None, 56, 56, 256)       590080    \n",
            "_________________________________________________________________\n",
            "block3_pool (MaxPooling2D)   (None, 28, 28, 256)       0         \n",
            "_________________________________________________________________\n",
            "block4_conv1 (Conv2D)        (None, 28, 28, 512)       1180160   \n",
            "_________________________________________________________________\n",
            "block4_conv2 (Conv2D)        (None, 28, 28, 512)       2359808   \n",
            "_________________________________________________________________\n",
            "block4_conv3 (Conv2D)        (None, 28, 28, 512)       2359808   \n",
            "_________________________________________________________________\n",
            "block4_conv4 (Conv2D)        (None, 28, 28, 512)       2359808   \n",
            "_________________________________________________________________\n",
            "block4_pool (MaxPooling2D)   (None, 14, 14, 512)       0         \n",
            "_________________________________________________________________\n",
            "block5_conv1 (Conv2D)        (None, 14, 14, 512)       2359808   \n",
            "_________________________________________________________________\n",
            "block5_conv2 (Conv2D)        (None, 14, 14, 512)       2359808   \n",
            "_________________________________________________________________\n",
            "block5_conv3 (Conv2D)        (None, 14, 14, 512)       2359808   \n",
            "_________________________________________________________________\n",
            "block5_conv4 (Conv2D)        (None, 14, 14, 512)       2359808   \n",
            "_________________________________________________________________\n",
            "block5_pool (MaxPooling2D)   (None, 7, 7, 512)         0         \n",
            "_________________________________________________________________\n",
            "flatten (Flatten)            (None, 25088)             0         \n",
            "_________________________________________________________________\n",
            "fc1 (Dense)                  (None, 4096)              102764544 \n",
            "_________________________________________________________________\n",
            "fc2 (Dense)                  (None, 4096)              16781312  \n",
            "_________________________________________________________________\n",
            "predictions (Dense)          (None, 1000)              4097000   \n",
            "=================================================================\n",
            "Total params: 143,667,240\n",
            "Trainable params: 143,667,240\n",
            "Non-trainable params: 0\n",
            "_________________________________________________________________\n"
          ],
          "name": "stdout"
        }
      ]
    },
    {
      "metadata": {
        "id": "yw8spsTEmbYL",
        "colab_type": "code",
        "colab": {
          "autoexec": {
            "startup": false,
            "wait_interval": 0
          },
          "base_uri": "https://localhost:8080/",
          "height": 34
        },
        "outputId": "2e1863df-e1f0-4e73-ae49-41be08629fde",
        "executionInfo": {
          "status": "ok",
          "timestamp": 1532498157667,
          "user_tz": -330,
          "elapsed": 1097,
          "user": {
            "displayName": "Pawan Snj",
            "photoUrl": "//lh6.googleusercontent.com/-ojjGyAo7og4/AAAAAAAAAAI/AAAAAAAADXU/VP6DtpEZJts/s50-c-k-no/photo.jpg",
            "userId": "100746673235819701094"
          }
        }
      },
      "cell_type": "code",
      "source": [
        "type(vgg19_model)\n",
        "#print(\"DONE\")"
      ],
      "execution_count": 151,
      "outputs": [
        {
          "output_type": "execute_result",
          "data": {
            "text/plain": [
              "keras.engine.training.Model"
            ]
          },
          "metadata": {
            "tags": []
          },
          "execution_count": 151
        }
      ]
    },
    {
      "metadata": {
        "id": "1L74dDh0ES1m",
        "colab_type": "text"
      },
      "cell_type": "markdown",
      "source": [
        "## Converting the VGG 19 Model to Sequential"
      ]
    },
    {
      "metadata": {
        "id": "q3gYBiOOmbcE",
        "colab_type": "code",
        "colab": {
          "autoexec": {
            "startup": false,
            "wait_interval": 0
          },
          "base_uri": "https://localhost:8080/",
          "height": 34
        },
        "outputId": "11a0e339-1589-4dca-9fb0-88568134a23c",
        "executionInfo": {
          "status": "ok",
          "timestamp": 1532498160531,
          "user_tz": -330,
          "elapsed": 1152,
          "user": {
            "displayName": "Pawan Snj",
            "photoUrl": "//lh6.googleusercontent.com/-ojjGyAo7og4/AAAAAAAAAAI/AAAAAAAADXU/VP6DtpEZJts/s50-c-k-no/photo.jpg",
            "userId": "100746673235819701094"
          }
        }
      },
      "cell_type": "code",
      "source": [
        "model2= Sequential()\n",
        "for layer in vgg19_model.layers:\n",
        "    model2.add(layer)\n",
        "print(\"DONE\")\n",
        "\n",
        "#model1= Sequential()\n",
        "#for layer in vgg16_model.layers:\n",
        "    #model1.add(layer)\n",
        "#print(\"DONE\")"
      ],
      "execution_count": 152,
      "outputs": [
        {
          "output_type": "stream",
          "text": [
            "DONE\n"
          ],
          "name": "stdout"
        }
      ]
    },
    {
      "metadata": {
        "id": "iAIlqxaymbga",
        "colab_type": "code",
        "colab": {
          "autoexec": {
            "startup": false,
            "wait_interval": 0
          },
          "base_uri": "https://localhost:8080/",
          "height": 1020
        },
        "outputId": "d93c61b8-3f19-4c5f-ab33-46e728f37f1c",
        "executionInfo": {
          "status": "ok",
          "timestamp": 1532498164938,
          "user_tz": -330,
          "elapsed": 1322,
          "user": {
            "displayName": "Pawan Snj",
            "photoUrl": "//lh6.googleusercontent.com/-ojjGyAo7og4/AAAAAAAAAAI/AAAAAAAADXU/VP6DtpEZJts/s50-c-k-no/photo.jpg",
            "userId": "100746673235819701094"
          }
        }
      },
      "cell_type": "code",
      "source": [
        "model2.summary()"
      ],
      "execution_count": 153,
      "outputs": [
        {
          "output_type": "stream",
          "text": [
            "_________________________________________________________________\n",
            "Layer (type)                 Output Shape              Param #   \n",
            "=================================================================\n",
            "input_9 (InputLayer)         (None, 224, 224, 3)       0         \n",
            "_________________________________________________________________\n",
            "block1_conv1 (Conv2D)        (None, 224, 224, 64)      1792      \n",
            "_________________________________________________________________\n",
            "block1_conv2 (Conv2D)        (None, 224, 224, 64)      36928     \n",
            "_________________________________________________________________\n",
            "block1_pool (MaxPooling2D)   (None, 112, 112, 64)      0         \n",
            "_________________________________________________________________\n",
            "block2_conv1 (Conv2D)        (None, 112, 112, 128)     73856     \n",
            "_________________________________________________________________\n",
            "block2_conv2 (Conv2D)        (None, 112, 112, 128)     147584    \n",
            "_________________________________________________________________\n",
            "block2_pool (MaxPooling2D)   (None, 56, 56, 128)       0         \n",
            "_________________________________________________________________\n",
            "block3_conv1 (Conv2D)        (None, 56, 56, 256)       295168    \n",
            "_________________________________________________________________\n",
            "block3_conv2 (Conv2D)        (None, 56, 56, 256)       590080    \n",
            "_________________________________________________________________\n",
            "block3_conv3 (Conv2D)        (None, 56, 56, 256)       590080    \n",
            "_________________________________________________________________\n",
            "block3_conv4 (Conv2D)        (None, 56, 56, 256)       590080    \n",
            "_________________________________________________________________\n",
            "block3_pool (MaxPooling2D)   (None, 28, 28, 256)       0         \n",
            "_________________________________________________________________\n",
            "block4_conv1 (Conv2D)        (None, 28, 28, 512)       1180160   \n",
            "_________________________________________________________________\n",
            "block4_conv2 (Conv2D)        (None, 28, 28, 512)       2359808   \n",
            "_________________________________________________________________\n",
            "block4_conv3 (Conv2D)        (None, 28, 28, 512)       2359808   \n",
            "_________________________________________________________________\n",
            "block4_conv4 (Conv2D)        (None, 28, 28, 512)       2359808   \n",
            "_________________________________________________________________\n",
            "block4_pool (MaxPooling2D)   (None, 14, 14, 512)       0         \n",
            "_________________________________________________________________\n",
            "block5_conv1 (Conv2D)        (None, 14, 14, 512)       2359808   \n",
            "_________________________________________________________________\n",
            "block5_conv2 (Conv2D)        (None, 14, 14, 512)       2359808   \n",
            "_________________________________________________________________\n",
            "block5_conv3 (Conv2D)        (None, 14, 14, 512)       2359808   \n",
            "_________________________________________________________________\n",
            "block5_conv4 (Conv2D)        (None, 14, 14, 512)       2359808   \n",
            "_________________________________________________________________\n",
            "block5_pool (MaxPooling2D)   (None, 7, 7, 512)         0         \n",
            "_________________________________________________________________\n",
            "flatten (Flatten)            (None, 25088)             0         \n",
            "_________________________________________________________________\n",
            "fc1 (Dense)                  (None, 4096)              102764544 \n",
            "_________________________________________________________________\n",
            "fc2 (Dense)                  (None, 4096)              16781312  \n",
            "_________________________________________________________________\n",
            "predictions (Dense)          (None, 1000)              4097000   \n",
            "=================================================================\n",
            "Total params: 143,667,240\n",
            "Trainable params: 143,667,240\n",
            "Non-trainable params: 0\n",
            "_________________________________________________________________\n"
          ],
          "name": "stdout"
        }
      ]
    },
    {
      "metadata": {
        "id": "yupnQtPKEdp6",
        "colab_type": "text"
      },
      "cell_type": "markdown",
      "source": [
        "# Removing the last layer\n",
        "VGG 16 is trained on Imagenet dataset which consist of 1000 classes,  Since our dataset consist of only 10 classes (Mnist), We remove last classification layer which is meant for classifying 1000 and replace it by the classification layer which is having only 10 classes."
      ]
    },
    {
      "metadata": {
        "id": "7EQYvUVmmbkK",
        "colab_type": "code",
        "colab": {
          "autoexec": {
            "startup": false,
            "wait_interval": 0
          },
          "base_uri": "https://localhost:8080/",
          "height": 34
        },
        "outputId": "229633f3-6b7d-4d5e-d546-940b89cfadd8",
        "executionInfo": {
          "status": "ok",
          "timestamp": 1532498172481,
          "user_tz": -330,
          "elapsed": 1759,
          "user": {
            "displayName": "Pawan Snj",
            "photoUrl": "//lh6.googleusercontent.com/-ojjGyAo7og4/AAAAAAAAAAI/AAAAAAAADXU/VP6DtpEZJts/s50-c-k-no/photo.jpg",
            "userId": "100746673235819701094"
          }
        }
      },
      "cell_type": "code",
      "source": [
        "model2.layers.pop()\n",
        "print(\"DONE\")"
      ],
      "execution_count": 154,
      "outputs": [
        {
          "output_type": "stream",
          "text": [
            "DONE\n"
          ],
          "name": "stdout"
        }
      ]
    },
    {
      "metadata": {
        "id": "YcsFsncLmbnC",
        "colab_type": "code",
        "colab": {
          "autoexec": {
            "startup": false,
            "wait_interval": 0
          },
          "base_uri": "https://localhost:8080/",
          "height": 986
        },
        "outputId": "25c56109-16eb-4e95-e393-fa971e421cbb",
        "executionInfo": {
          "status": "ok",
          "timestamp": 1532498175782,
          "user_tz": -330,
          "elapsed": 1108,
          "user": {
            "displayName": "Pawan Snj",
            "photoUrl": "//lh6.googleusercontent.com/-ojjGyAo7og4/AAAAAAAAAAI/AAAAAAAADXU/VP6DtpEZJts/s50-c-k-no/photo.jpg",
            "userId": "100746673235819701094"
          }
        }
      },
      "cell_type": "code",
      "source": [
        "model2.summary()\n",
        "#print(\"DOne\")"
      ],
      "execution_count": 155,
      "outputs": [
        {
          "output_type": "stream",
          "text": [
            "_________________________________________________________________\n",
            "Layer (type)                 Output Shape              Param #   \n",
            "=================================================================\n",
            "input_9 (InputLayer)         (None, 224, 224, 3)       0         \n",
            "_________________________________________________________________\n",
            "block1_conv1 (Conv2D)        (None, 224, 224, 64)      1792      \n",
            "_________________________________________________________________\n",
            "block1_conv2 (Conv2D)        (None, 224, 224, 64)      36928     \n",
            "_________________________________________________________________\n",
            "block1_pool (MaxPooling2D)   (None, 112, 112, 64)      0         \n",
            "_________________________________________________________________\n",
            "block2_conv1 (Conv2D)        (None, 112, 112, 128)     73856     \n",
            "_________________________________________________________________\n",
            "block2_conv2 (Conv2D)        (None, 112, 112, 128)     147584    \n",
            "_________________________________________________________________\n",
            "block2_pool (MaxPooling2D)   (None, 56, 56, 128)       0         \n",
            "_________________________________________________________________\n",
            "block3_conv1 (Conv2D)        (None, 56, 56, 256)       295168    \n",
            "_________________________________________________________________\n",
            "block3_conv2 (Conv2D)        (None, 56, 56, 256)       590080    \n",
            "_________________________________________________________________\n",
            "block3_conv3 (Conv2D)        (None, 56, 56, 256)       590080    \n",
            "_________________________________________________________________\n",
            "block3_conv4 (Conv2D)        (None, 56, 56, 256)       590080    \n",
            "_________________________________________________________________\n",
            "block3_pool (MaxPooling2D)   (None, 28, 28, 256)       0         \n",
            "_________________________________________________________________\n",
            "block4_conv1 (Conv2D)        (None, 28, 28, 512)       1180160   \n",
            "_________________________________________________________________\n",
            "block4_conv2 (Conv2D)        (None, 28, 28, 512)       2359808   \n",
            "_________________________________________________________________\n",
            "block4_conv3 (Conv2D)        (None, 28, 28, 512)       2359808   \n",
            "_________________________________________________________________\n",
            "block4_conv4 (Conv2D)        (None, 28, 28, 512)       2359808   \n",
            "_________________________________________________________________\n",
            "block4_pool (MaxPooling2D)   (None, 14, 14, 512)       0         \n",
            "_________________________________________________________________\n",
            "block5_conv1 (Conv2D)        (None, 14, 14, 512)       2359808   \n",
            "_________________________________________________________________\n",
            "block5_conv2 (Conv2D)        (None, 14, 14, 512)       2359808   \n",
            "_________________________________________________________________\n",
            "block5_conv3 (Conv2D)        (None, 14, 14, 512)       2359808   \n",
            "_________________________________________________________________\n",
            "block5_conv4 (Conv2D)        (None, 14, 14, 512)       2359808   \n",
            "_________________________________________________________________\n",
            "block5_pool (MaxPooling2D)   (None, 7, 7, 512)         0         \n",
            "_________________________________________________________________\n",
            "flatten (Flatten)            (None, 25088)             0         \n",
            "_________________________________________________________________\n",
            "fc1 (Dense)                  (None, 4096)              102764544 \n",
            "_________________________________________________________________\n",
            "fc2 (Dense)                  (None, 4096)              16781312  \n",
            "=================================================================\n",
            "Total params: 139,570,240\n",
            "Trainable params: 139,570,240\n",
            "Non-trainable params: 0\n",
            "_________________________________________________________________\n"
          ],
          "name": "stdout"
        }
      ]
    },
    {
      "metadata": {
        "id": "3qbV8olxEsyg",
        "colab_type": "text"
      },
      "cell_type": "markdown",
      "source": [
        "# Freezing\n",
        "We keep the weights of rest of the layers as it is, and we train only the classification layer."
      ]
    },
    {
      "metadata": {
        "id": "MNcYo-eCnzS8",
        "colab_type": "code",
        "colab": {
          "autoexec": {
            "startup": false,
            "wait_interval": 0
          },
          "base_uri": "https://localhost:8080/",
          "height": 34
        },
        "outputId": "a1e9760d-c575-40df-ca6d-5f4bb90fa050",
        "executionInfo": {
          "status": "ok",
          "timestamp": 1532498181701,
          "user_tz": -330,
          "elapsed": 1194,
          "user": {
            "displayName": "Pawan Snj",
            "photoUrl": "//lh6.googleusercontent.com/-ojjGyAo7og4/AAAAAAAAAAI/AAAAAAAADXU/VP6DtpEZJts/s50-c-k-no/photo.jpg",
            "userId": "100746673235819701094"
          }
        }
      },
      "cell_type": "code",
      "source": [
        "for layer in model2.layers: ## MAking trainable= FALSE (FREEZING)\n",
        "    layer.trainable = False\n",
        "print(\"DONE\")"
      ],
      "execution_count": 156,
      "outputs": [
        {
          "output_type": "stream",
          "text": [
            "DONE\n"
          ],
          "name": "stdout"
        }
      ]
    },
    {
      "metadata": {
        "id": "wrF8qVu0E0Ci",
        "colab_type": "text"
      },
      "cell_type": "markdown",
      "source": [
        "# Adding the classification Layer\n",
        "We add the classification layer to fit into our problem. In case of MNIST we add classification layer with  classes."
      ]
    },
    {
      "metadata": {
        "id": "kF1_UnALnzYQ",
        "colab_type": "code",
        "colab": {
          "autoexec": {
            "startup": false,
            "wait_interval": 0
          },
          "base_uri": "https://localhost:8080/",
          "height": 34
        },
        "outputId": "a1d0cc54-f05f-447b-d5cd-c94234cccb82",
        "executionInfo": {
          "status": "ok",
          "timestamp": 1532498184329,
          "user_tz": -330,
          "elapsed": 1172,
          "user": {
            "displayName": "Pawan Snj",
            "photoUrl": "//lh6.googleusercontent.com/-ojjGyAo7og4/AAAAAAAAAAI/AAAAAAAADXU/VP6DtpEZJts/s50-c-k-no/photo.jpg",
            "userId": "100746673235819701094"
          }
        }
      },
      "cell_type": "code",
      "source": [
        "model2.add(Dense(10, activation='softmax'))\n",
        "print(\"DoNE\")"
      ],
      "execution_count": 157,
      "outputs": [
        {
          "output_type": "stream",
          "text": [
            "DoNE\n"
          ],
          "name": "stdout"
        }
      ]
    },
    {
      "metadata": {
        "id": "Hx00jluanzcr",
        "colab_type": "code",
        "colab": {
          "autoexec": {
            "startup": false,
            "wait_interval": 0
          },
          "base_uri": "https://localhost:8080/",
          "height": 1020
        },
        "outputId": "6b11c817-d0f8-4b4f-f807-4404bd355fb7",
        "executionInfo": {
          "status": "ok",
          "timestamp": 1532498186322,
          "user_tz": -330,
          "elapsed": 828,
          "user": {
            "displayName": "Pawan Snj",
            "photoUrl": "//lh6.googleusercontent.com/-ojjGyAo7og4/AAAAAAAAAAI/AAAAAAAADXU/VP6DtpEZJts/s50-c-k-no/photo.jpg",
            "userId": "100746673235819701094"
          }
        }
      },
      "cell_type": "code",
      "source": [
        "model2.summary()\n",
        "#print('DONE')"
      ],
      "execution_count": 158,
      "outputs": [
        {
          "output_type": "stream",
          "text": [
            "_________________________________________________________________\n",
            "Layer (type)                 Output Shape              Param #   \n",
            "=================================================================\n",
            "input_9 (InputLayer)         (None, 224, 224, 3)       0         \n",
            "_________________________________________________________________\n",
            "block1_conv1 (Conv2D)        (None, 224, 224, 64)      1792      \n",
            "_________________________________________________________________\n",
            "block1_conv2 (Conv2D)        (None, 224, 224, 64)      36928     \n",
            "_________________________________________________________________\n",
            "block1_pool (MaxPooling2D)   (None, 112, 112, 64)      0         \n",
            "_________________________________________________________________\n",
            "block2_conv1 (Conv2D)        (None, 112, 112, 128)     73856     \n",
            "_________________________________________________________________\n",
            "block2_conv2 (Conv2D)        (None, 112, 112, 128)     147584    \n",
            "_________________________________________________________________\n",
            "block2_pool (MaxPooling2D)   (None, 56, 56, 128)       0         \n",
            "_________________________________________________________________\n",
            "block3_conv1 (Conv2D)        (None, 56, 56, 256)       295168    \n",
            "_________________________________________________________________\n",
            "block3_conv2 (Conv2D)        (None, 56, 56, 256)       590080    \n",
            "_________________________________________________________________\n",
            "block3_conv3 (Conv2D)        (None, 56, 56, 256)       590080    \n",
            "_________________________________________________________________\n",
            "block3_conv4 (Conv2D)        (None, 56, 56, 256)       590080    \n",
            "_________________________________________________________________\n",
            "block3_pool (MaxPooling2D)   (None, 28, 28, 256)       0         \n",
            "_________________________________________________________________\n",
            "block4_conv1 (Conv2D)        (None, 28, 28, 512)       1180160   \n",
            "_________________________________________________________________\n",
            "block4_conv2 (Conv2D)        (None, 28, 28, 512)       2359808   \n",
            "_________________________________________________________________\n",
            "block4_conv3 (Conv2D)        (None, 28, 28, 512)       2359808   \n",
            "_________________________________________________________________\n",
            "block4_conv4 (Conv2D)        (None, 28, 28, 512)       2359808   \n",
            "_________________________________________________________________\n",
            "block4_pool (MaxPooling2D)   (None, 14, 14, 512)       0         \n",
            "_________________________________________________________________\n",
            "block5_conv1 (Conv2D)        (None, 14, 14, 512)       2359808   \n",
            "_________________________________________________________________\n",
            "block5_conv2 (Conv2D)        (None, 14, 14, 512)       2359808   \n",
            "_________________________________________________________________\n",
            "block5_conv3 (Conv2D)        (None, 14, 14, 512)       2359808   \n",
            "_________________________________________________________________\n",
            "block5_conv4 (Conv2D)        (None, 14, 14, 512)       2359808   \n",
            "_________________________________________________________________\n",
            "block5_pool (MaxPooling2D)   (None, 7, 7, 512)         0         \n",
            "_________________________________________________________________\n",
            "flatten (Flatten)            (None, 25088)             0         \n",
            "_________________________________________________________________\n",
            "fc1 (Dense)                  (None, 4096)              102764544 \n",
            "_________________________________________________________________\n",
            "fc2 (Dense)                  (None, 4096)              16781312  \n",
            "_________________________________________________________________\n",
            "dense_18 (Dense)             (None, 10)                10010     \n",
            "=================================================================\n",
            "Total params: 139,580,250\n",
            "Trainable params: 10,010\n",
            "Non-trainable params: 139,570,240\n",
            "_________________________________________________________________\n"
          ],
          "name": "stdout"
        }
      ]
    },
    {
      "metadata": {
        "id": "Ei8men_YE9rp",
        "colab_type": "text"
      },
      "cell_type": "markdown",
      "source": [
        "# Compile and Fit the Model"
      ]
    },
    {
      "metadata": {
        "id": "RVDxmtj5nzgH",
        "colab_type": "code",
        "colab": {
          "autoexec": {
            "startup": false,
            "wait_interval": 0
          },
          "base_uri": "https://localhost:8080/",
          "height": 34
        },
        "outputId": "2545702a-39ed-4da4-b7a6-f401a6dadbb4",
        "executionInfo": {
          "status": "ok",
          "timestamp": 1532498193350,
          "user_tz": -330,
          "elapsed": 1835,
          "user": {
            "displayName": "Pawan Snj",
            "photoUrl": "//lh6.googleusercontent.com/-ojjGyAo7og4/AAAAAAAAAAI/AAAAAAAADXU/VP6DtpEZJts/s50-c-k-no/photo.jpg",
            "userId": "100746673235819701094"
          }
        }
      },
      "cell_type": "code",
      "source": [
        "epochs2 = 3\n",
        "print(\"DONE\")"
      ],
      "execution_count": 159,
      "outputs": [
        {
          "output_type": "stream",
          "text": [
            "DONE\n"
          ],
          "name": "stdout"
        }
      ]
    },
    {
      "metadata": {
        "id": "ASeNaM4qoG4w",
        "colab_type": "code",
        "colab": {
          "autoexec": {
            "startup": false,
            "wait_interval": 0
          },
          "base_uri": "https://localhost:8080/",
          "height": 136
        },
        "outputId": "550264d3-157d-46ec-c044-0e24e5b46a4e",
        "executionInfo": {
          "status": "ok",
          "timestamp": 1532496983279,
          "user_tz": -330,
          "elapsed": 16811,
          "user": {
            "displayName": "Pawan Snj",
            "photoUrl": "//lh6.googleusercontent.com/-ojjGyAo7og4/AAAAAAAAAAI/AAAAAAAADXU/VP6DtpEZJts/s50-c-k-no/photo.jpg",
            "userId": "100746673235819701094"
          }
        }
      },
      "cell_type": "code",
      "source": [
        "model2.compile(loss='categorical_crossentropy', optimizer=keras.optimizers.Adam(), metrics=['accuracy'])\n",
        " \n",
        "hist = model.fit_generator(train_generator, steps_per_epoch=batch_size, epochs=epochs2, validation_data=(test_image,test_label))\n",
        "\n",
        "print(\"DONE\")"
      ],
      "execution_count": 118,
      "outputs": [
        {
          "output_type": "stream",
          "text": [
            "Epoch 1/3\n",
            "250/250 [==============================] - 6s 25ms/step - loss: 0.0041 - acc: 0.9987 - val_loss: 0.0317 - val_acc: 0.9920\n",
            "Epoch 2/3\n",
            "250/250 [==============================] - 5s 19ms/step - loss: 0.0034 - acc: 0.9988 - val_loss: 0.0326 - val_acc: 0.9906\n",
            "Epoch 3/3\n",
            "250/250 [==============================] - 5s 19ms/step - loss: 0.0027 - acc: 0.9992 - val_loss: 0.0331 - val_acc: 0.9919\n",
            "DONE\n"
          ],
          "name": "stdout"
        }
      ]
    },
    {
      "metadata": {
        "id": "XeCSLiUHFHk0",
        "colab_type": "text"
      },
      "cell_type": "markdown",
      "source": [
        "## Graph\n",
        "\n",
        "1.   Training accuracy vs Validation accuracy\n",
        "2.   Training loss vs Validation loss\n",
        "\n",
        "\n",
        "\n"
      ]
    },
    {
      "metadata": {
        "id": "uEkfdh87oG8K",
        "colab_type": "code",
        "colab": {
          "autoexec": {
            "startup": false,
            "wait_interval": 0
          },
          "base_uri": "https://localhost:8080/",
          "height": 588
        },
        "outputId": "64697fcc-d0b1-4217-8175-1905cee9617b",
        "executionInfo": {
          "status": "ok",
          "timestamp": 1532496989137,
          "user_tz": -330,
          "elapsed": 2208,
          "user": {
            "displayName": "Pawan Snj",
            "photoUrl": "//lh6.googleusercontent.com/-ojjGyAo7og4/AAAAAAAAAAI/AAAAAAAADXU/VP6DtpEZJts/s50-c-k-no/photo.jpg",
            "userId": "100746673235819701094"
          }
        }
      },
      "cell_type": "code",
      "source": [
        "# Graph losses and accuracy\n",
        "train_loss=hist.history['loss']\n",
        "val_loss=hist.history['val_loss']\n",
        "train_acc=hist.history['acc']\n",
        "val_acc=hist.history['val_acc']\n",
        "xc=range(epochs2)\n",
        "\n",
        "##############################################\n",
        "plt.figure(1,figsize=(4,4))\n",
        "plt.plot(xc,train_loss)\n",
        "plt.plot(xc,val_loss)\n",
        "\n",
        "plt.xlabel('num of epochs')\n",
        "plt.ylabel('loss')\n",
        "plt.title('train_loss vs test_loss')\n",
        "\n",
        "plt.grid(True)\n",
        "plt.legend(['train','val']) \n",
        "\n",
        "##################################################\n",
        "\n",
        "plt.figure(2,figsize=(4,4))\n",
        "plt.plot(xc,train_acc)\n",
        "plt.plot(xc,val_acc)\n",
        "\n",
        "plt.xlabel('num of Epochs')\n",
        "plt.ylabel('accuracy')\n",
        "plt.title('train_acc vs test_acc')\n",
        "\n",
        "plt.grid(True)\n",
        "plt.legend(['train','val'],loc=4)"
      ],
      "execution_count": 119,
      "outputs": [
        {
          "output_type": "execute_result",
          "data": {
            "text/plain": [
              "<matplotlib.legend.Legend at 0x7fe4d77243c8>"
            ]
          },
          "metadata": {
            "tags": []
          },
          "execution_count": 119
        },
        {
          "output_type": "display_data",
          "data": {
            "image/png": "[encoded data removed]",
            "text/plain": [
              "<matplotlib.figure.Figure at 0x7fe4d776c6d8>"
            ]
          },
          "metadata": {
            "tags": []
          }
        },
        {
          "output_type": "display_data",
          "data": {
            "image/png": "[encoded data removed]",
            "text/plain": [
              "<matplotlib.figure.Figure at 0x7fe4d771c358>"
            ]
          },
          "metadata": {
            "tags": []
          }
        }
      ]
    },
    {
      "metadata": {
        "id": "h3iPJ8M8Kotn",
        "colab_type": "text"
      },
      "cell_type": "markdown",
      "source": [
        "# MobileNet Model"
      ]
    },
    {
      "metadata": {
        "id": "LacTRqcHoG_l",
        "colab_type": "code",
        "colab": {
          "autoexec": {
            "startup": false,
            "wait_interval": 0
          },
          "base_uri": "https://localhost:8080/",
          "height": 34
        },
        "outputId": "e47bd323-6ef9-4765-c604-190912df2a1e",
        "executionInfo": {
          "status": "ok",
          "timestamp": 1532497000321,
          "user_tz": -330,
          "elapsed": 7513,
          "user": {
            "displayName": "Pawan Snj",
            "photoUrl": "//lh6.googleusercontent.com/-ojjGyAo7og4/AAAAAAAAAAI/AAAAAAAADXU/VP6DtpEZJts/s50-c-k-no/photo.jpg",
            "userId": "100746673235819701094"
          }
        }
      },
      "cell_type": "code",
      "source": [
        "mobilenet_model = keras.applications.mobilenet.MobileNet()\n",
        "print(\"DONE\")"
      ],
      "execution_count": 120,
      "outputs": [
        {
          "output_type": "stream",
          "text": [
            "DONE\n"
          ],
          "name": "stdout"
        }
      ]
    },
    {
      "metadata": {
        "id": "P6TF0bQRp5Vm",
        "colab_type": "code",
        "colab": {
          "autoexec": {
            "startup": false,
            "wait_interval": 0
          },
          "base_uri": "https://localhost:8080/",
          "height": 3604
        },
        "outputId": "b5736517-44ee-4874-8a75-051bfaa575df",
        "executionInfo": {
          "status": "ok",
          "timestamp": 1532498208202,
          "user_tz": -330,
          "elapsed": 1152,
          "user": {
            "displayName": "Pawan Snj",
            "photoUrl": "//lh6.googleusercontent.com/-ojjGyAo7og4/AAAAAAAAAAI/AAAAAAAADXU/VP6DtpEZJts/s50-c-k-no/photo.jpg",
            "userId": "100746673235819701094"
          }
        }
      },
      "cell_type": "code",
      "source": [
        "mobilenet_model.summary()"
      ],
      "execution_count": 160,
      "outputs": [
        {
          "output_type": "stream",
          "text": [
            "_________________________________________________________________\n",
            "Layer (type)                 Output Shape              Param #   \n",
            "=================================================================\n",
            "input_7 (InputLayer)         (None, 224, 224, 3)       0         \n",
            "_________________________________________________________________\n",
            "conv1_pad (ZeroPadding2D)    (None, 226, 226, 3)       0         \n",
            "_________________________________________________________________\n",
            "conv1 (Conv2D)               (None, 112, 112, 32)      864       \n",
            "_________________________________________________________________\n",
            "conv1_bn (BatchNormalization (None, 112, 112, 32)      128       \n",
            "_________________________________________________________________\n",
            "conv1_relu (Activation)      (None, 112, 112, 32)      0         \n",
            "_________________________________________________________________\n",
            "conv_pad_1 (ZeroPadding2D)   (None, 114, 114, 32)      0         \n",
            "_________________________________________________________________\n",
            "conv_dw_1 (DepthwiseConv2D)  (None, 112, 112, 32)      288       \n",
            "_________________________________________________________________\n",
            "conv_dw_1_bn (BatchNormaliza (None, 112, 112, 32)      128       \n",
            "_________________________________________________________________\n",
            "conv_dw_1_relu (Activation)  (None, 112, 112, 32)      0         \n",
            "_________________________________________________________________\n",
            "conv_pw_1 (Conv2D)           (None, 112, 112, 64)      2048      \n",
            "_________________________________________________________________\n",
            "conv_pw_1_bn (BatchNormaliza (None, 112, 112, 64)      256       \n",
            "_________________________________________________________________\n",
            "conv_pw_1_relu (Activation)  (None, 112, 112, 64)      0         \n",
            "_________________________________________________________________\n",
            "conv_pad_2 (ZeroPadding2D)   (None, 114, 114, 64)      0         \n",
            "_________________________________________________________________\n",
            "conv_dw_2 (DepthwiseConv2D)  (None, 56, 56, 64)        576       \n",
            "_________________________________________________________________\n",
            "conv_dw_2_bn (BatchNormaliza (None, 56, 56, 64)        256       \n",
            "_________________________________________________________________\n",
            "conv_dw_2_relu (Activation)  (None, 56, 56, 64)        0         \n",
            "_________________________________________________________________\n",
            "conv_pw_2 (Conv2D)           (None, 56, 56, 128)       8192      \n",
            "_________________________________________________________________\n",
            "conv_pw_2_bn (BatchNormaliza (None, 56, 56, 128)       512       \n",
            "_________________________________________________________________\n",
            "conv_pw_2_relu (Activation)  (None, 56, 56, 128)       0         \n",
            "_________________________________________________________________\n",
            "conv_pad_3 (ZeroPadding2D)   (None, 58, 58, 128)       0         \n",
            "_________________________________________________________________\n",
            "conv_dw_3 (DepthwiseConv2D)  (None, 56, 56, 128)       1152      \n",
            "_________________________________________________________________\n",
            "conv_dw_3_bn (BatchNormaliza (None, 56, 56, 128)       512       \n",
            "_________________________________________________________________\n",
            "conv_dw_3_relu (Activation)  (None, 56, 56, 128)       0         \n",
            "_________________________________________________________________\n",
            "conv_pw_3 (Conv2D)           (None, 56, 56, 128)       16384     \n",
            "_________________________________________________________________\n",
            "conv_pw_3_bn (BatchNormaliza (None, 56, 56, 128)       512       \n",
            "_________________________________________________________________\n",
            "conv_pw_3_relu (Activation)  (None, 56, 56, 128)       0         \n",
            "_________________________________________________________________\n",
            "conv_pad_4 (ZeroPadding2D)   (None, 58, 58, 128)       0         \n",
            "_________________________________________________________________\n",
            "conv_dw_4 (DepthwiseConv2D)  (None, 28, 28, 128)       1152      \n",
            "_________________________________________________________________\n",
            "conv_dw_4_bn (BatchNormaliza (None, 28, 28, 128)       512       \n",
            "_________________________________________________________________\n",
            "conv_dw_4_relu (Activation)  (None, 28, 28, 128)       0         \n",
            "_________________________________________________________________\n",
            "conv_pw_4 (Conv2D)           (None, 28, 28, 256)       32768     \n",
            "_________________________________________________________________\n",
            "conv_pw_4_bn (BatchNormaliza (None, 28, 28, 256)       1024      \n",
            "_________________________________________________________________\n",
            "conv_pw_4_relu (Activation)  (None, 28, 28, 256)       0         \n",
            "_________________________________________________________________\n",
            "conv_pad_5 (ZeroPadding2D)   (None, 30, 30, 256)       0         \n",
            "_________________________________________________________________\n",
            "conv_dw_5 (DepthwiseConv2D)  (None, 28, 28, 256)       2304      \n",
            "_________________________________________________________________\n",
            "conv_dw_5_bn (BatchNormaliza (None, 28, 28, 256)       1024      \n",
            "_________________________________________________________________\n",
            "conv_dw_5_relu (Activation)  (None, 28, 28, 256)       0         \n",
            "_________________________________________________________________\n",
            "conv_pw_5 (Conv2D)           (None, 28, 28, 256)       65536     \n",
            "_________________________________________________________________\n",
            "conv_pw_5_bn (BatchNormaliza (None, 28, 28, 256)       1024      \n",
            "_________________________________________________________________\n",
            "conv_pw_5_relu (Activation)  (None, 28, 28, 256)       0         \n",
            "_________________________________________________________________\n",
            "conv_pad_6 (ZeroPadding2D)   (None, 30, 30, 256)       0         \n",
            "_________________________________________________________________\n",
            "conv_dw_6 (DepthwiseConv2D)  (None, 14, 14, 256)       2304      \n",
            "_________________________________________________________________\n",
            "conv_dw_6_bn (BatchNormaliza (None, 14, 14, 256)       1024      \n",
            "_________________________________________________________________\n",
            "conv_dw_6_relu (Activation)  (None, 14, 14, 256)       0         \n",
            "_________________________________________________________________\n",
            "conv_pw_6 (Conv2D)           (None, 14, 14, 512)       131072    \n",
            "_________________________________________________________________\n",
            "conv_pw_6_bn (BatchNormaliza (None, 14, 14, 512)       2048      \n",
            "_________________________________________________________________\n",
            "conv_pw_6_relu (Activation)  (None, 14, 14, 512)       0         \n",
            "_________________________________________________________________\n",
            "conv_pad_7 (ZeroPadding2D)   (None, 16, 16, 512)       0         \n",
            "_________________________________________________________________\n",
            "conv_dw_7 (DepthwiseConv2D)  (None, 14, 14, 512)       4608      \n",
            "_________________________________________________________________\n",
            "conv_dw_7_bn (BatchNormaliza (None, 14, 14, 512)       2048      \n",
            "_________________________________________________________________\n",
            "conv_dw_7_relu (Activation)  (None, 14, 14, 512)       0         \n",
            "_________________________________________________________________\n",
            "conv_pw_7 (Conv2D)           (None, 14, 14, 512)       262144    \n",
            "_________________________________________________________________\n",
            "conv_pw_7_bn (BatchNormaliza (None, 14, 14, 512)       2048      \n",
            "_________________________________________________________________\n",
            "conv_pw_7_relu (Activation)  (None, 14, 14, 512)       0         \n",
            "_________________________________________________________________\n",
            "conv_pad_8 (ZeroPadding2D)   (None, 16, 16, 512)       0         \n",
            "_________________________________________________________________\n",
            "conv_dw_8 (DepthwiseConv2D)  (None, 14, 14, 512)       4608      \n",
            "_________________________________________________________________\n",
            "conv_dw_8_bn (BatchNormaliza (None, 14, 14, 512)       2048      \n",
            "_________________________________________________________________\n",
            "conv_dw_8_relu (Activation)  (None, 14, 14, 512)       0         \n",
            "_________________________________________________________________\n",
            "conv_pw_8 (Conv2D)           (None, 14, 14, 512)       262144    \n",
            "_________________________________________________________________\n",
            "conv_pw_8_bn (BatchNormaliza (None, 14, 14, 512)       2048      \n",
            "_________________________________________________________________\n",
            "conv_pw_8_relu (Activation)  (None, 14, 14, 512)       0         \n",
            "_________________________________________________________________\n",
            "conv_pad_9 (ZeroPadding2D)   (None, 16, 16, 512)       0         \n",
            "_________________________________________________________________\n",
            "conv_dw_9 (DepthwiseConv2D)  (None, 14, 14, 512)       4608      \n",
            "_________________________________________________________________\n",
            "conv_dw_9_bn (BatchNormaliza (None, 14, 14, 512)       2048      \n",
            "_________________________________________________________________\n",
            "conv_dw_9_relu (Activation)  (None, 14, 14, 512)       0         \n",
            "_________________________________________________________________\n",
            "conv_pw_9 (Conv2D)           (None, 14, 14, 512)       262144    \n",
            "_________________________________________________________________\n",
            "conv_pw_9_bn (BatchNormaliza (None, 14, 14, 512)       2048      \n",
            "_________________________________________________________________\n",
            "conv_pw_9_relu (Activation)  (None, 14, 14, 512)       0         \n",
            "_________________________________________________________________\n",
            "conv_pad_10 (ZeroPadding2D)  (None, 16, 16, 512)       0         \n",
            "_________________________________________________________________\n",
            "conv_dw_10 (DepthwiseConv2D) (None, 14, 14, 512)       4608      \n",
            "_________________________________________________________________\n",
            "conv_dw_10_bn (BatchNormaliz (None, 14, 14, 512)       2048      \n",
            "_________________________________________________________________\n",
            "conv_dw_10_relu (Activation) (None, 14, 14, 512)       0         \n",
            "_________________________________________________________________\n",
            "conv_pw_10 (Conv2D)          (None, 14, 14, 512)       262144    \n",
            "_________________________________________________________________\n",
            "conv_pw_10_bn (BatchNormaliz (None, 14, 14, 512)       2048      \n",
            "_________________________________________________________________\n",
            "conv_pw_10_relu (Activation) (None, 14, 14, 512)       0         \n",
            "_________________________________________________________________\n",
            "conv_pad_11 (ZeroPadding2D)  (None, 16, 16, 512)       0         \n",
            "_________________________________________________________________\n",
            "conv_dw_11 (DepthwiseConv2D) (None, 14, 14, 512)       4608      \n",
            "_________________________________________________________________\n",
            "conv_dw_11_bn (BatchNormaliz (None, 14, 14, 512)       2048      \n",
            "_________________________________________________________________\n",
            "conv_dw_11_relu (Activation) (None, 14, 14, 512)       0         \n",
            "_________________________________________________________________\n",
            "conv_pw_11 (Conv2D)          (None, 14, 14, 512)       262144    \n",
            "_________________________________________________________________\n",
            "conv_pw_11_bn (BatchNormaliz (None, 14, 14, 512)       2048      \n",
            "_________________________________________________________________\n",
            "conv_pw_11_relu (Activation) (None, 14, 14, 512)       0         \n",
            "_________________________________________________________________\n",
            "conv_pad_12 (ZeroPadding2D)  (None, 16, 16, 512)       0         \n",
            "_________________________________________________________________\n",
            "conv_dw_12 (DepthwiseConv2D) (None, 7, 7, 512)         4608      \n",
            "_________________________________________________________________\n",
            "conv_dw_12_bn (BatchNormaliz (None, 7, 7, 512)         2048      \n",
            "_________________________________________________________________\n",
            "conv_dw_12_relu (Activation) (None, 7, 7, 512)         0         \n",
            "_________________________________________________________________\n",
            "conv_pw_12 (Conv2D)          (None, 7, 7, 1024)        524288    \n",
            "_________________________________________________________________\n",
            "conv_pw_12_bn (BatchNormaliz (None, 7, 7, 1024)        4096      \n",
            "_________________________________________________________________\n",
            "conv_pw_12_relu (Activation) (None, 7, 7, 1024)        0         \n",
            "_________________________________________________________________\n",
            "conv_pad_13 (ZeroPadding2D)  (None, 9, 9, 1024)        0         \n",
            "_________________________________________________________________\n",
            "conv_dw_13 (DepthwiseConv2D) (None, 7, 7, 1024)        9216      \n",
            "_________________________________________________________________\n",
            "conv_dw_13_bn (BatchNormaliz (None, 7, 7, 1024)        4096      \n",
            "_________________________________________________________________\n",
            "conv_dw_13_relu (Activation) (None, 7, 7, 1024)        0         \n",
            "_________________________________________________________________\n",
            "conv_pw_13 (Conv2D)          (None, 7, 7, 1024)        1048576   \n",
            "_________________________________________________________________\n",
            "conv_pw_13_bn (BatchNormaliz (None, 7, 7, 1024)        4096      \n",
            "_________________________________________________________________\n",
            "conv_pw_13_relu (Activation) (None, 7, 7, 1024)        0         \n",
            "_________________________________________________________________\n",
            "global_average_pooling2d_3 ( (None, 1024)              0         \n",
            "_________________________________________________________________\n",
            "reshape_1 (Reshape)          (None, 1, 1, 1024)        0         \n",
            "_________________________________________________________________\n",
            "dropout (Dropout)            (None, 1, 1, 1024)        0         \n",
            "_________________________________________________________________\n",
            "conv_preds (Conv2D)          (None, 1, 1, 1000)        1025000   \n",
            "_________________________________________________________________\n",
            "act_softmax (Activation)     (None, 1, 1, 1000)        0         \n",
            "_________________________________________________________________\n",
            "reshape_2 (Reshape)          (None, 1000)              0         \n",
            "=================================================================\n",
            "Total params: 4,253,864\n",
            "Trainable params: 0\n",
            "Non-trainable params: 4,253,864\n",
            "_________________________________________________________________\n"
          ],
          "name": "stdout"
        }
      ]
    },
    {
      "metadata": {
        "id": "n99JsjqYp5d5",
        "colab_type": "code",
        "colab": {
          "autoexec": {
            "startup": false,
            "wait_interval": 0
          },
          "base_uri": "https://localhost:8080/",
          "height": 34
        },
        "outputId": "650bfc29-16fb-4eea-a5c4-4b7753260bf7",
        "executionInfo": {
          "status": "ok",
          "timestamp": 1532498218355,
          "user_tz": -330,
          "elapsed": 1101,
          "user": {
            "displayName": "Pawan Snj",
            "photoUrl": "//lh6.googleusercontent.com/-ojjGyAo7og4/AAAAAAAAAAI/AAAAAAAADXU/VP6DtpEZJts/s50-c-k-no/photo.jpg",
            "userId": "100746673235819701094"
          }
        }
      },
      "cell_type": "code",
      "source": [
        "type(mobilenet_model)\n",
        "#print(\"DONE\")"
      ],
      "execution_count": 161,
      "outputs": [
        {
          "output_type": "execute_result",
          "data": {
            "text/plain": [
              "keras.engine.training.Model"
            ]
          },
          "metadata": {
            "tags": []
          },
          "execution_count": 161
        }
      ]
    },
    {
      "metadata": {
        "id": "h79Wj2NLKvuT",
        "colab_type": "text"
      },
      "cell_type": "markdown",
      "source": [
        "## Converting MobileNet Model to Sequential()"
      ]
    },
    {
      "metadata": {
        "id": "Hs-kv36vp5hU",
        "colab_type": "code",
        "colab": {
          "autoexec": {
            "startup": false,
            "wait_interval": 0
          },
          "base_uri": "https://localhost:8080/",
          "height": 34
        },
        "outputId": "32038cf5-6beb-4744-dc11-5ec139f2d191",
        "executionInfo": {
          "status": "ok",
          "timestamp": 1532498231685,
          "user_tz": -330,
          "elapsed": 4805,
          "user": {
            "displayName": "Pawan Snj",
            "photoUrl": "//lh6.googleusercontent.com/-ojjGyAo7og4/AAAAAAAAAAI/AAAAAAAADXU/VP6DtpEZJts/s50-c-k-no/photo.jpg",
            "userId": "100746673235819701094"
          }
        }
      },
      "cell_type": "code",
      "source": [
        "model3= Sequential()\n",
        "for layer in mobilenet_model.layers:\n",
        "    model3.add(layer)\n",
        "print(\"DONE\")"
      ],
      "execution_count": 162,
      "outputs": [
        {
          "output_type": "stream",
          "text": [
            "DONE\n"
          ],
          "name": "stdout"
        }
      ]
    },
    {
      "metadata": {
        "id": "JIG6PiWDp5kz",
        "colab_type": "code",
        "colab": {
          "autoexec": {
            "startup": false,
            "wait_interval": 0
          },
          "base_uri": "https://localhost:8080/",
          "height": 3604
        },
        "outputId": "9f539fba-43c5-4346-91fb-a1b08bbdf0ec",
        "executionInfo": {
          "status": "ok",
          "timestamp": 1532497018983,
          "user_tz": -330,
          "elapsed": 994,
          "user": {
            "displayName": "Pawan Snj",
            "photoUrl": "//lh6.googleusercontent.com/-ojjGyAo7og4/AAAAAAAAAAI/AAAAAAAADXU/VP6DtpEZJts/s50-c-k-no/photo.jpg",
            "userId": "100746673235819701094"
          }
        }
      },
      "cell_type": "code",
      "source": [
        "model3.summary()"
      ],
      "execution_count": 124,
      "outputs": [
        {
          "output_type": "stream",
          "text": [
            "_________________________________________________________________\n",
            "Layer (type)                 Output Shape              Param #   \n",
            "=================================================================\n",
            "input_7 (InputLayer)         (None, 224, 224, 3)       0         \n",
            "_________________________________________________________________\n",
            "conv1_pad (ZeroPadding2D)    (None, 226, 226, 3)       0         \n",
            "_________________________________________________________________\n",
            "conv1 (Conv2D)               (None, 112, 112, 32)      864       \n",
            "_________________________________________________________________\n",
            "conv1_bn (BatchNormalization (None, 112, 112, 32)      128       \n",
            "_________________________________________________________________\n",
            "conv1_relu (Activation)      (None, 112, 112, 32)      0         \n",
            "_________________________________________________________________\n",
            "conv_pad_1 (ZeroPadding2D)   (None, 114, 114, 32)      0         \n",
            "_________________________________________________________________\n",
            "conv_dw_1 (DepthwiseConv2D)  (None, 112, 112, 32)      288       \n",
            "_________________________________________________________________\n",
            "conv_dw_1_bn (BatchNormaliza (None, 112, 112, 32)      128       \n",
            "_________________________________________________________________\n",
            "conv_dw_1_relu (Activation)  (None, 112, 112, 32)      0         \n",
            "_________________________________________________________________\n",
            "conv_pw_1 (Conv2D)           (None, 112, 112, 64)      2048      \n",
            "_________________________________________________________________\n",
            "conv_pw_1_bn (BatchNormaliza (None, 112, 112, 64)      256       \n",
            "_________________________________________________________________\n",
            "conv_pw_1_relu (Activation)  (None, 112, 112, 64)      0         \n",
            "_________________________________________________________________\n",
            "conv_pad_2 (ZeroPadding2D)   (None, 114, 114, 64)      0         \n",
            "_________________________________________________________________\n",
            "conv_dw_2 (DepthwiseConv2D)  (None, 56, 56, 64)        576       \n",
            "_________________________________________________________________\n",
            "conv_dw_2_bn (BatchNormaliza (None, 56, 56, 64)        256       \n",
            "_________________________________________________________________\n",
            "conv_dw_2_relu (Activation)  (None, 56, 56, 64)        0         \n",
            "_________________________________________________________________\n",
            "conv_pw_2 (Conv2D)           (None, 56, 56, 128)       8192      \n",
            "_________________________________________________________________\n",
            "conv_pw_2_bn (BatchNormaliza (None, 56, 56, 128)       512       \n",
            "_________________________________________________________________\n",
            "conv_pw_2_relu (Activation)  (None, 56, 56, 128)       0         \n",
            "_________________________________________________________________\n",
            "conv_pad_3 (ZeroPadding2D)   (None, 58, 58, 128)       0         \n",
            "_________________________________________________________________\n",
            "conv_dw_3 (DepthwiseConv2D)  (None, 56, 56, 128)       1152      \n",
            "_________________________________________________________________\n",
            "conv_dw_3_bn (BatchNormaliza (None, 56, 56, 128)       512       \n",
            "_________________________________________________________________\n",
            "conv_dw_3_relu (Activation)  (None, 56, 56, 128)       0         \n",
            "_________________________________________________________________\n",
            "conv_pw_3 (Conv2D)           (None, 56, 56, 128)       16384     \n",
            "_________________________________________________________________\n",
            "conv_pw_3_bn (BatchNormaliza (None, 56, 56, 128)       512       \n",
            "_________________________________________________________________\n",
            "conv_pw_3_relu (Activation)  (None, 56, 56, 128)       0         \n",
            "_________________________________________________________________\n",
            "conv_pad_4 (ZeroPadding2D)   (None, 58, 58, 128)       0         \n",
            "_________________________________________________________________\n",
            "conv_dw_4 (DepthwiseConv2D)  (None, 28, 28, 128)       1152      \n",
            "_________________________________________________________________\n",
            "conv_dw_4_bn (BatchNormaliza (None, 28, 28, 128)       512       \n",
            "_________________________________________________________________\n",
            "conv_dw_4_relu (Activation)  (None, 28, 28, 128)       0         \n",
            "_________________________________________________________________\n",
            "conv_pw_4 (Conv2D)           (None, 28, 28, 256)       32768     \n",
            "_________________________________________________________________\n",
            "conv_pw_4_bn (BatchNormaliza (None, 28, 28, 256)       1024      \n",
            "_________________________________________________________________\n",
            "conv_pw_4_relu (Activation)  (None, 28, 28, 256)       0         \n",
            "_________________________________________________________________\n",
            "conv_pad_5 (ZeroPadding2D)   (None, 30, 30, 256)       0         \n",
            "_________________________________________________________________\n",
            "conv_dw_5 (DepthwiseConv2D)  (None, 28, 28, 256)       2304      \n",
            "_________________________________________________________________\n",
            "conv_dw_5_bn (BatchNormaliza (None, 28, 28, 256)       1024      \n",
            "_________________________________________________________________\n",
            "conv_dw_5_relu (Activation)  (None, 28, 28, 256)       0         \n",
            "_________________________________________________________________\n",
            "conv_pw_5 (Conv2D)           (None, 28, 28, 256)       65536     \n",
            "_________________________________________________________________\n",
            "conv_pw_5_bn (BatchNormaliza (None, 28, 28, 256)       1024      \n",
            "_________________________________________________________________\n",
            "conv_pw_5_relu (Activation)  (None, 28, 28, 256)       0         \n",
            "_________________________________________________________________\n",
            "conv_pad_6 (ZeroPadding2D)   (None, 30, 30, 256)       0         \n",
            "_________________________________________________________________\n",
            "conv_dw_6 (DepthwiseConv2D)  (None, 14, 14, 256)       2304      \n",
            "_________________________________________________________________\n",
            "conv_dw_6_bn (BatchNormaliza (None, 14, 14, 256)       1024      \n",
            "_________________________________________________________________\n",
            "conv_dw_6_relu (Activation)  (None, 14, 14, 256)       0         \n",
            "_________________________________________________________________\n",
            "conv_pw_6 (Conv2D)           (None, 14, 14, 512)       131072    \n",
            "_________________________________________________________________\n",
            "conv_pw_6_bn (BatchNormaliza (None, 14, 14, 512)       2048      \n",
            "_________________________________________________________________\n",
            "conv_pw_6_relu (Activation)  (None, 14, 14, 512)       0         \n",
            "_________________________________________________________________\n",
            "conv_pad_7 (ZeroPadding2D)   (None, 16, 16, 512)       0         \n",
            "_________________________________________________________________\n",
            "conv_dw_7 (DepthwiseConv2D)  (None, 14, 14, 512)       4608      \n",
            "_________________________________________________________________\n",
            "conv_dw_7_bn (BatchNormaliza (None, 14, 14, 512)       2048      \n",
            "_________________________________________________________________\n",
            "conv_dw_7_relu (Activation)  (None, 14, 14, 512)       0         \n",
            "_________________________________________________________________\n",
            "conv_pw_7 (Conv2D)           (None, 14, 14, 512)       262144    \n",
            "_________________________________________________________________\n",
            "conv_pw_7_bn (BatchNormaliza (None, 14, 14, 512)       2048      \n",
            "_________________________________________________________________\n",
            "conv_pw_7_relu (Activation)  (None, 14, 14, 512)       0         \n",
            "_________________________________________________________________\n",
            "conv_pad_8 (ZeroPadding2D)   (None, 16, 16, 512)       0         \n",
            "_________________________________________________________________\n",
            "conv_dw_8 (DepthwiseConv2D)  (None, 14, 14, 512)       4608      \n",
            "_________________________________________________________________\n",
            "conv_dw_8_bn (BatchNormaliza (None, 14, 14, 512)       2048      \n",
            "_________________________________________________________________\n",
            "conv_dw_8_relu (Activation)  (None, 14, 14, 512)       0         \n",
            "_________________________________________________________________\n",
            "conv_pw_8 (Conv2D)           (None, 14, 14, 512)       262144    \n",
            "_________________________________________________________________\n",
            "conv_pw_8_bn (BatchNormaliza (None, 14, 14, 512)       2048      \n",
            "_________________________________________________________________\n",
            "conv_pw_8_relu (Activation)  (None, 14, 14, 512)       0         \n",
            "_________________________________________________________________\n",
            "conv_pad_9 (ZeroPadding2D)   (None, 16, 16, 512)       0         \n",
            "_________________________________________________________________\n",
            "conv_dw_9 (DepthwiseConv2D)  (None, 14, 14, 512)       4608      \n",
            "_________________________________________________________________\n",
            "conv_dw_9_bn (BatchNormaliza (None, 14, 14, 512)       2048      \n",
            "_________________________________________________________________\n",
            "conv_dw_9_relu (Activation)  (None, 14, 14, 512)       0         \n",
            "_________________________________________________________________\n",
            "conv_pw_9 (Conv2D)           (None, 14, 14, 512)       262144    \n",
            "_________________________________________________________________\n",
            "conv_pw_9_bn (BatchNormaliza (None, 14, 14, 512)       2048      \n",
            "_________________________________________________________________\n",
            "conv_pw_9_relu (Activation)  (None, 14, 14, 512)       0         \n",
            "_________________________________________________________________\n",
            "conv_pad_10 (ZeroPadding2D)  (None, 16, 16, 512)       0         \n",
            "_________________________________________________________________\n",
            "conv_dw_10 (DepthwiseConv2D) (None, 14, 14, 512)       4608      \n",
            "_________________________________________________________________\n",
            "conv_dw_10_bn (BatchNormaliz (None, 14, 14, 512)       2048      \n",
            "_________________________________________________________________\n",
            "conv_dw_10_relu (Activation) (None, 14, 14, 512)       0         \n",
            "_________________________________________________________________\n",
            "conv_pw_10 (Conv2D)          (None, 14, 14, 512)       262144    \n",
            "_________________________________________________________________\n",
            "conv_pw_10_bn (BatchNormaliz (None, 14, 14, 512)       2048      \n",
            "_________________________________________________________________\n",
            "conv_pw_10_relu (Activation) (None, 14, 14, 512)       0         \n",
            "_________________________________________________________________\n",
            "conv_pad_11 (ZeroPadding2D)  (None, 16, 16, 512)       0         \n",
            "_________________________________________________________________\n",
            "conv_dw_11 (DepthwiseConv2D) (None, 14, 14, 512)       4608      \n",
            "_________________________________________________________________\n",
            "conv_dw_11_bn (BatchNormaliz (None, 14, 14, 512)       2048      \n",
            "_________________________________________________________________\n",
            "conv_dw_11_relu (Activation) (None, 14, 14, 512)       0         \n",
            "_________________________________________________________________\n",
            "conv_pw_11 (Conv2D)          (None, 14, 14, 512)       262144    \n",
            "_________________________________________________________________\n",
            "conv_pw_11_bn (BatchNormaliz (None, 14, 14, 512)       2048      \n",
            "_________________________________________________________________\n",
            "conv_pw_11_relu (Activation) (None, 14, 14, 512)       0         \n",
            "_________________________________________________________________\n",
            "conv_pad_12 (ZeroPadding2D)  (None, 16, 16, 512)       0         \n",
            "_________________________________________________________________\n",
            "conv_dw_12 (DepthwiseConv2D) (None, 7, 7, 512)         4608      \n",
            "_________________________________________________________________\n",
            "conv_dw_12_bn (BatchNormaliz (None, 7, 7, 512)         2048      \n",
            "_________________________________________________________________\n",
            "conv_dw_12_relu (Activation) (None, 7, 7, 512)         0         \n",
            "_________________________________________________________________\n",
            "conv_pw_12 (Conv2D)          (None, 7, 7, 1024)        524288    \n",
            "_________________________________________________________________\n",
            "conv_pw_12_bn (BatchNormaliz (None, 7, 7, 1024)        4096      \n",
            "_________________________________________________________________\n",
            "conv_pw_12_relu (Activation) (None, 7, 7, 1024)        0         \n",
            "_________________________________________________________________\n",
            "conv_pad_13 (ZeroPadding2D)  (None, 9, 9, 1024)        0         \n",
            "_________________________________________________________________\n",
            "conv_dw_13 (DepthwiseConv2D) (None, 7, 7, 1024)        9216      \n",
            "_________________________________________________________________\n",
            "conv_dw_13_bn (BatchNormaliz (None, 7, 7, 1024)        4096      \n",
            "_________________________________________________________________\n",
            "conv_dw_13_relu (Activation) (None, 7, 7, 1024)        0         \n",
            "_________________________________________________________________\n",
            "conv_pw_13 (Conv2D)          (None, 7, 7, 1024)        1048576   \n",
            "_________________________________________________________________\n",
            "conv_pw_13_bn (BatchNormaliz (None, 7, 7, 1024)        4096      \n",
            "_________________________________________________________________\n",
            "conv_pw_13_relu (Activation) (None, 7, 7, 1024)        0         \n",
            "_________________________________________________________________\n",
            "global_average_pooling2d_3 ( (None, 1024)              0         \n",
            "_________________________________________________________________\n",
            "reshape_1 (Reshape)          (None, 1, 1, 1024)        0         \n",
            "_________________________________________________________________\n",
            "dropout (Dropout)            (None, 1, 1, 1024)        0         \n",
            "_________________________________________________________________\n",
            "conv_preds (Conv2D)          (None, 1, 1, 1000)        1025000   \n",
            "_________________________________________________________________\n",
            "act_softmax (Activation)     (None, 1, 1, 1000)        0         \n",
            "_________________________________________________________________\n",
            "reshape_2 (Reshape)          (None, 1000)              0         \n",
            "=================================================================\n",
            "Total params: 4,253,864\n",
            "Trainable params: 4,231,976\n",
            "Non-trainable params: 21,888\n",
            "_________________________________________________________________\n"
          ],
          "name": "stdout"
        }
      ]
    },
    {
      "metadata": {
        "id": "1ITLhSJmK4CV",
        "colab_type": "text"
      },
      "cell_type": "markdown",
      "source": [
        "## Removing the Last layer of MobileNet Model"
      ]
    },
    {
      "metadata": {
        "id": "6BWgLApop563",
        "colab_type": "code",
        "colab": {
          "autoexec": {
            "startup": false,
            "wait_interval": 0
          },
          "base_uri": "https://localhost:8080/",
          "height": 34
        },
        "outputId": "4240762d-b3cc-4d57-f6b5-1904e9da4403",
        "executionInfo": {
          "status": "ok",
          "timestamp": 1532498243757,
          "user_tz": -330,
          "elapsed": 1113,
          "user": {
            "displayName": "Pawan Snj",
            "photoUrl": "//lh6.googleusercontent.com/-ojjGyAo7og4/AAAAAAAAAAI/AAAAAAAADXU/VP6DtpEZJts/s50-c-k-no/photo.jpg",
            "userId": "100746673235819701094"
          }
        }
      },
      "cell_type": "code",
      "source": [
        "model3.layers.pop()\n",
        "print(\"DONE\")"
      ],
      "execution_count": 163,
      "outputs": [
        {
          "output_type": "stream",
          "text": [
            "DONE\n"
          ],
          "name": "stdout"
        }
      ]
    },
    {
      "metadata": {
        "id": "2h_ZllvWrWL7",
        "colab_type": "code",
        "colab": {
          "autoexec": {
            "startup": false,
            "wait_interval": 0
          },
          "base_uri": "https://localhost:8080/",
          "height": 3587
        },
        "outputId": "56f33ad2-adb3-4988-a4ce-d08ee687ed38",
        "executionInfo": {
          "status": "ok",
          "timestamp": 1532498246293,
          "user_tz": -330,
          "elapsed": 1392,
          "user": {
            "displayName": "Pawan Snj",
            "photoUrl": "//lh6.googleusercontent.com/-ojjGyAo7og4/AAAAAAAAAAI/AAAAAAAADXU/VP6DtpEZJts/s50-c-k-no/photo.jpg",
            "userId": "100746673235819701094"
          }
        }
      },
      "cell_type": "code",
      "source": [
        "model3.summary()\n",
        "print(\"DOne\")"
      ],
      "execution_count": 164,
      "outputs": [
        {
          "output_type": "stream",
          "text": [
            "_________________________________________________________________\n",
            "Layer (type)                 Output Shape              Param #   \n",
            "=================================================================\n",
            "input_7 (InputLayer)         (None, 224, 224, 3)       0         \n",
            "_________________________________________________________________\n",
            "conv1_pad (ZeroPadding2D)    (None, 226, 226, 3)       0         \n",
            "_________________________________________________________________\n",
            "conv1 (Conv2D)               (None, 112, 112, 32)      864       \n",
            "_________________________________________________________________\n",
            "conv1_bn (BatchNormalization (None, 112, 112, 32)      128       \n",
            "_________________________________________________________________\n",
            "conv1_relu (Activation)      (None, 112, 112, 32)      0         \n",
            "_________________________________________________________________\n",
            "conv_pad_1 (ZeroPadding2D)   (None, 114, 114, 32)      0         \n",
            "_________________________________________________________________\n",
            "conv_dw_1 (DepthwiseConv2D)  (None, 112, 112, 32)      288       \n",
            "_________________________________________________________________\n",
            "conv_dw_1_bn (BatchNormaliza (None, 112, 112, 32)      128       \n",
            "_________________________________________________________________\n",
            "conv_dw_1_relu (Activation)  (None, 112, 112, 32)      0         \n",
            "_________________________________________________________________\n",
            "conv_pw_1 (Conv2D)           (None, 112, 112, 64)      2048      \n",
            "_________________________________________________________________\n",
            "conv_pw_1_bn (BatchNormaliza (None, 112, 112, 64)      256       \n",
            "_________________________________________________________________\n",
            "conv_pw_1_relu (Activation)  (None, 112, 112, 64)      0         \n",
            "_________________________________________________________________\n",
            "conv_pad_2 (ZeroPadding2D)   (None, 114, 114, 64)      0         \n",
            "_________________________________________________________________\n",
            "conv_dw_2 (DepthwiseConv2D)  (None, 56, 56, 64)        576       \n",
            "_________________________________________________________________\n",
            "conv_dw_2_bn (BatchNormaliza (None, 56, 56, 64)        256       \n",
            "_________________________________________________________________\n",
            "conv_dw_2_relu (Activation)  (None, 56, 56, 64)        0         \n",
            "_________________________________________________________________\n",
            "conv_pw_2 (Conv2D)           (None, 56, 56, 128)       8192      \n",
            "_________________________________________________________________\n",
            "conv_pw_2_bn (BatchNormaliza (None, 56, 56, 128)       512       \n",
            "_________________________________________________________________\n",
            "conv_pw_2_relu (Activation)  (None, 56, 56, 128)       0         \n",
            "_________________________________________________________________\n",
            "conv_pad_3 (ZeroPadding2D)   (None, 58, 58, 128)       0         \n",
            "_________________________________________________________________\n",
            "conv_dw_3 (DepthwiseConv2D)  (None, 56, 56, 128)       1152      \n",
            "_________________________________________________________________\n",
            "conv_dw_3_bn (BatchNormaliza (None, 56, 56, 128)       512       \n",
            "_________________________________________________________________\n",
            "conv_dw_3_relu (Activation)  (None, 56, 56, 128)       0         \n",
            "_________________________________________________________________\n",
            "conv_pw_3 (Conv2D)           (None, 56, 56, 128)       16384     \n",
            "_________________________________________________________________\n",
            "conv_pw_3_bn (BatchNormaliza (None, 56, 56, 128)       512       \n",
            "_________________________________________________________________\n",
            "conv_pw_3_relu (Activation)  (None, 56, 56, 128)       0         \n",
            "_________________________________________________________________\n",
            "conv_pad_4 (ZeroPadding2D)   (None, 58, 58, 128)       0         \n",
            "_________________________________________________________________\n",
            "conv_dw_4 (DepthwiseConv2D)  (None, 28, 28, 128)       1152      \n",
            "_________________________________________________________________\n",
            "conv_dw_4_bn (BatchNormaliza (None, 28, 28, 128)       512       \n",
            "_________________________________________________________________\n",
            "conv_dw_4_relu (Activation)  (None, 28, 28, 128)       0         \n",
            "_________________________________________________________________\n",
            "conv_pw_4 (Conv2D)           (None, 28, 28, 256)       32768     \n",
            "_________________________________________________________________\n",
            "conv_pw_4_bn (BatchNormaliza (None, 28, 28, 256)       1024      \n",
            "_________________________________________________________________\n",
            "conv_pw_4_relu (Activation)  (None, 28, 28, 256)       0         \n",
            "_________________________________________________________________\n",
            "conv_pad_5 (ZeroPadding2D)   (None, 30, 30, 256)       0         \n",
            "_________________________________________________________________\n",
            "conv_dw_5 (DepthwiseConv2D)  (None, 28, 28, 256)       2304      \n",
            "_________________________________________________________________\n",
            "conv_dw_5_bn (BatchNormaliza (None, 28, 28, 256)       1024      \n",
            "_________________________________________________________________\n",
            "conv_dw_5_relu (Activation)  (None, 28, 28, 256)       0         \n",
            "_________________________________________________________________\n",
            "conv_pw_5 (Conv2D)           (None, 28, 28, 256)       65536     \n",
            "_________________________________________________________________\n",
            "conv_pw_5_bn (BatchNormaliza (None, 28, 28, 256)       1024      \n",
            "_________________________________________________________________\n",
            "conv_pw_5_relu (Activation)  (None, 28, 28, 256)       0         \n",
            "_________________________________________________________________\n",
            "conv_pad_6 (ZeroPadding2D)   (None, 30, 30, 256)       0         \n",
            "_________________________________________________________________\n",
            "conv_dw_6 (DepthwiseConv2D)  (None, 14, 14, 256)       2304      \n",
            "_________________________________________________________________\n",
            "conv_dw_6_bn (BatchNormaliza (None, 14, 14, 256)       1024      \n",
            "_________________________________________________________________\n",
            "conv_dw_6_relu (Activation)  (None, 14, 14, 256)       0         \n",
            "_________________________________________________________________\n",
            "conv_pw_6 (Conv2D)           (None, 14, 14, 512)       131072    \n",
            "_________________________________________________________________\n",
            "conv_pw_6_bn (BatchNormaliza (None, 14, 14, 512)       2048      \n",
            "_________________________________________________________________\n",
            "conv_pw_6_relu (Activation)  (None, 14, 14, 512)       0         \n",
            "_________________________________________________________________\n",
            "conv_pad_7 (ZeroPadding2D)   (None, 16, 16, 512)       0         \n",
            "_________________________________________________________________\n",
            "conv_dw_7 (DepthwiseConv2D)  (None, 14, 14, 512)       4608      \n",
            "_________________________________________________________________\n",
            "conv_dw_7_bn (BatchNormaliza (None, 14, 14, 512)       2048      \n",
            "_________________________________________________________________\n",
            "conv_dw_7_relu (Activation)  (None, 14, 14, 512)       0         \n",
            "_________________________________________________________________\n",
            "conv_pw_7 (Conv2D)           (None, 14, 14, 512)       262144    \n",
            "_________________________________________________________________\n",
            "conv_pw_7_bn (BatchNormaliza (None, 14, 14, 512)       2048      \n",
            "_________________________________________________________________\n",
            "conv_pw_7_relu (Activation)  (None, 14, 14, 512)       0         \n",
            "_________________________________________________________________\n",
            "conv_pad_8 (ZeroPadding2D)   (None, 16, 16, 512)       0         \n",
            "_________________________________________________________________\n",
            "conv_dw_8 (DepthwiseConv2D)  (None, 14, 14, 512)       4608      \n",
            "_________________________________________________________________\n",
            "conv_dw_8_bn (BatchNormaliza (None, 14, 14, 512)       2048      \n",
            "_________________________________________________________________\n",
            "conv_dw_8_relu (Activation)  (None, 14, 14, 512)       0         \n",
            "_________________________________________________________________\n",
            "conv_pw_8 (Conv2D)           (None, 14, 14, 512)       262144    \n",
            "_________________________________________________________________\n",
            "conv_pw_8_bn (BatchNormaliza (None, 14, 14, 512)       2048      \n",
            "_________________________________________________________________\n",
            "conv_pw_8_relu (Activation)  (None, 14, 14, 512)       0         \n",
            "_________________________________________________________________\n",
            "conv_pad_9 (ZeroPadding2D)   (None, 16, 16, 512)       0         \n",
            "_________________________________________________________________\n",
            "conv_dw_9 (DepthwiseConv2D)  (None, 14, 14, 512)       4608      \n",
            "_________________________________________________________________\n",
            "conv_dw_9_bn (BatchNormaliza (None, 14, 14, 512)       2048      \n",
            "_________________________________________________________________\n",
            "conv_dw_9_relu (Activation)  (None, 14, 14, 512)       0         \n",
            "_________________________________________________________________\n",
            "conv_pw_9 (Conv2D)           (None, 14, 14, 512)       262144    \n",
            "_________________________________________________________________\n",
            "conv_pw_9_bn (BatchNormaliza (None, 14, 14, 512)       2048      \n",
            "_________________________________________________________________\n",
            "conv_pw_9_relu (Activation)  (None, 14, 14, 512)       0         \n",
            "_________________________________________________________________\n",
            "conv_pad_10 (ZeroPadding2D)  (None, 16, 16, 512)       0         \n",
            "_________________________________________________________________\n",
            "conv_dw_10 (DepthwiseConv2D) (None, 14, 14, 512)       4608      \n",
            "_________________________________________________________________\n",
            "conv_dw_10_bn (BatchNormaliz (None, 14, 14, 512)       2048      \n",
            "_________________________________________________________________\n",
            "conv_dw_10_relu (Activation) (None, 14, 14, 512)       0         \n",
            "_________________________________________________________________\n",
            "conv_pw_10 (Conv2D)          (None, 14, 14, 512)       262144    \n",
            "_________________________________________________________________\n",
            "conv_pw_10_bn (BatchNormaliz (None, 14, 14, 512)       2048      \n",
            "_________________________________________________________________\n",
            "conv_pw_10_relu (Activation) (None, 14, 14, 512)       0         \n",
            "_________________________________________________________________\n",
            "conv_pad_11 (ZeroPadding2D)  (None, 16, 16, 512)       0         \n",
            "_________________________________________________________________\n",
            "conv_dw_11 (DepthwiseConv2D) (None, 14, 14, 512)       4608      \n",
            "_________________________________________________________________\n",
            "conv_dw_11_bn (BatchNormaliz (None, 14, 14, 512)       2048      \n",
            "_________________________________________________________________\n",
            "conv_dw_11_relu (Activation) (None, 14, 14, 512)       0         \n",
            "_________________________________________________________________\n",
            "conv_pw_11 (Conv2D)          (None, 14, 14, 512)       262144    \n",
            "_________________________________________________________________\n",
            "conv_pw_11_bn (BatchNormaliz (None, 14, 14, 512)       2048      \n",
            "_________________________________________________________________\n",
            "conv_pw_11_relu (Activation) (None, 14, 14, 512)       0         \n",
            "_________________________________________________________________\n",
            "conv_pad_12 (ZeroPadding2D)  (None, 16, 16, 512)       0         \n",
            "_________________________________________________________________\n",
            "conv_dw_12 (DepthwiseConv2D) (None, 7, 7, 512)         4608      \n",
            "_________________________________________________________________\n",
            "conv_dw_12_bn (BatchNormaliz (None, 7, 7, 512)         2048      \n",
            "_________________________________________________________________\n",
            "conv_dw_12_relu (Activation) (None, 7, 7, 512)         0         \n",
            "_________________________________________________________________\n",
            "conv_pw_12 (Conv2D)          (None, 7, 7, 1024)        524288    \n",
            "_________________________________________________________________\n",
            "conv_pw_12_bn (BatchNormaliz (None, 7, 7, 1024)        4096      \n",
            "_________________________________________________________________\n",
            "conv_pw_12_relu (Activation) (None, 7, 7, 1024)        0         \n",
            "_________________________________________________________________\n",
            "conv_pad_13 (ZeroPadding2D)  (None, 9, 9, 1024)        0         \n",
            "_________________________________________________________________\n",
            "conv_dw_13 (DepthwiseConv2D) (None, 7, 7, 1024)        9216      \n",
            "_________________________________________________________________\n",
            "conv_dw_13_bn (BatchNormaliz (None, 7, 7, 1024)        4096      \n",
            "_________________________________________________________________\n",
            "conv_dw_13_relu (Activation) (None, 7, 7, 1024)        0         \n",
            "_________________________________________________________________\n",
            "conv_pw_13 (Conv2D)          (None, 7, 7, 1024)        1048576   \n",
            "_________________________________________________________________\n",
            "conv_pw_13_bn (BatchNormaliz (None, 7, 7, 1024)        4096      \n",
            "_________________________________________________________________\n",
            "conv_pw_13_relu (Activation) (None, 7, 7, 1024)        0         \n",
            "_________________________________________________________________\n",
            "global_average_pooling2d_3 ( (None, 1024)              0         \n",
            "_________________________________________________________________\n",
            "reshape_1 (Reshape)          (None, 1, 1, 1024)        0         \n",
            "_________________________________________________________________\n",
            "dropout (Dropout)            (None, 1, 1, 1024)        0         \n",
            "_________________________________________________________________\n",
            "conv_preds (Conv2D)          (None, 1, 1, 1000)        1025000   \n",
            "_________________________________________________________________\n",
            "act_softmax (Activation)     (None, 1, 1, 1000)        0         \n",
            "=================================================================\n",
            "Total params: 4,253,864\n",
            "Trainable params: 0\n",
            "Non-trainable params: 4,253,864\n",
            "_________________________________________________________________\n",
            "DOne\n"
          ],
          "name": "stdout"
        }
      ]
    },
    {
      "metadata": {
        "id": "beX-kCxKLFKf",
        "colab_type": "text"
      },
      "cell_type": "markdown",
      "source": [
        "## Freezing\n",
        "We keep the weights of rest of the layers as it is, and we train only the classification layer.\n"
      ]
    },
    {
      "metadata": {
        "id": "mVAiS_FlrWSt",
        "colab_type": "code",
        "colab": {
          "autoexec": {
            "startup": false,
            "wait_interval": 0
          },
          "base_uri": "https://localhost:8080/",
          "height": 34
        },
        "outputId": "0aa9f42e-e2be-48e8-acfb-f14d119c7089",
        "executionInfo": {
          "status": "ok",
          "timestamp": 1532501034514,
          "user_tz": -330,
          "elapsed": 1110,
          "user": {
            "displayName": "Pawan Snj",
            "photoUrl": "//lh6.googleusercontent.com/-ojjGyAo7og4/AAAAAAAAAAI/AAAAAAAADXU/VP6DtpEZJts/s50-c-k-no/photo.jpg",
            "userId": "100746673235819701094"
          }
        }
      },
      "cell_type": "code",
      "source": [
        "for layer in model3.layers: ## MAking trainable= FALSE (FREEZING)\n",
        "    layer.trainable = False\n",
        "print(\"DONE\")"
      ],
      "execution_count": 165,
      "outputs": [
        {
          "output_type": "stream",
          "text": [
            "DONE\n"
          ],
          "name": "stdout"
        }
      ]
    },
    {
      "metadata": {
        "id": "dWExc2jXLSev",
        "colab_type": "text"
      },
      "cell_type": "markdown",
      "source": [
        "## Adding the classification layer\n",
        "We add the classification layer to fit into our problem. In case of Fashion_MNIST we add classification layer with classes."
      ]
    },
    {
      "metadata": {
        "id": "IJaNBtXrrWXG",
        "colab_type": "code",
        "colab": {
          "autoexec": {
            "startup": false,
            "wait_interval": 0
          },
          "base_uri": "https://localhost:8080/",
          "height": 34
        },
        "outputId": "a2cc93d6-f6f2-4974-be33-c94d6a627baf",
        "executionInfo": {
          "status": "ok",
          "timestamp": 1532497046551,
          "user_tz": -330,
          "elapsed": 1144,
          "user": {
            "displayName": "Pawan Snj",
            "photoUrl": "//lh6.googleusercontent.com/-ojjGyAo7og4/AAAAAAAAAAI/AAAAAAAADXU/VP6DtpEZJts/s50-c-k-no/photo.jpg",
            "userId": "100746673235819701094"
          }
        }
      },
      "cell_type": "code",
      "source": [
        "model3.add(Dense(10, activation='softmax'))\n",
        "print(\"DoNE\")"
      ],
      "execution_count": 128,
      "outputs": [
        {
          "output_type": "stream",
          "text": [
            "DoNE\n"
          ],
          "name": "stdout"
        }
      ]
    },
    {
      "metadata": {
        "id": "BB7j23-QrWau",
        "colab_type": "code",
        "colab": {
          "autoexec": {
            "startup": false,
            "wait_interval": 0
          },
          "base_uri": "https://localhost:8080/",
          "height": 3621
        },
        "outputId": "0bff85b3-669d-4a3e-eb84-cb71fc308c7d",
        "executionInfo": {
          "status": "ok",
          "timestamp": 1532497048983,
          "user_tz": -330,
          "elapsed": 1110,
          "user": {
            "displayName": "Pawan Snj",
            "photoUrl": "//lh6.googleusercontent.com/-ojjGyAo7og4/AAAAAAAAAAI/AAAAAAAADXU/VP6DtpEZJts/s50-c-k-no/photo.jpg",
            "userId": "100746673235819701094"
          }
        }
      },
      "cell_type": "code",
      "source": [
        "model3.summary()\n",
        "print('DONE')"
      ],
      "execution_count": 129,
      "outputs": [
        {
          "output_type": "stream",
          "text": [
            "_________________________________________________________________\n",
            "Layer (type)                 Output Shape              Param #   \n",
            "=================================================================\n",
            "input_7 (InputLayer)         (None, 224, 224, 3)       0         \n",
            "_________________________________________________________________\n",
            "conv1_pad (ZeroPadding2D)    (None, 226, 226, 3)       0         \n",
            "_________________________________________________________________\n",
            "conv1 (Conv2D)               (None, 112, 112, 32)      864       \n",
            "_________________________________________________________________\n",
            "conv1_bn (BatchNormalization (None, 112, 112, 32)      128       \n",
            "_________________________________________________________________\n",
            "conv1_relu (Activation)      (None, 112, 112, 32)      0         \n",
            "_________________________________________________________________\n",
            "conv_pad_1 (ZeroPadding2D)   (None, 114, 114, 32)      0         \n",
            "_________________________________________________________________\n",
            "conv_dw_1 (DepthwiseConv2D)  (None, 112, 112, 32)      288       \n",
            "_________________________________________________________________\n",
            "conv_dw_1_bn (BatchNormaliza (None, 112, 112, 32)      128       \n",
            "_________________________________________________________________\n",
            "conv_dw_1_relu (Activation)  (None, 112, 112, 32)      0         \n",
            "_________________________________________________________________\n",
            "conv_pw_1 (Conv2D)           (None, 112, 112, 64)      2048      \n",
            "_________________________________________________________________\n",
            "conv_pw_1_bn (BatchNormaliza (None, 112, 112, 64)      256       \n",
            "_________________________________________________________________\n",
            "conv_pw_1_relu (Activation)  (None, 112, 112, 64)      0         \n",
            "_________________________________________________________________\n",
            "conv_pad_2 (ZeroPadding2D)   (None, 114, 114, 64)      0         \n",
            "_________________________________________________________________\n",
            "conv_dw_2 (DepthwiseConv2D)  (None, 56, 56, 64)        576       \n",
            "_________________________________________________________________\n",
            "conv_dw_2_bn (BatchNormaliza (None, 56, 56, 64)        256       \n",
            "_________________________________________________________________\n",
            "conv_dw_2_relu (Activation)  (None, 56, 56, 64)        0         \n",
            "_________________________________________________________________\n",
            "conv_pw_2 (Conv2D)           (None, 56, 56, 128)       8192      \n",
            "_________________________________________________________________\n",
            "conv_pw_2_bn (BatchNormaliza (None, 56, 56, 128)       512       \n",
            "_________________________________________________________________\n",
            "conv_pw_2_relu (Activation)  (None, 56, 56, 128)       0         \n",
            "_________________________________________________________________\n",
            "conv_pad_3 (ZeroPadding2D)   (None, 58, 58, 128)       0         \n",
            "_________________________________________________________________\n",
            "conv_dw_3 (DepthwiseConv2D)  (None, 56, 56, 128)       1152      \n",
            "_________________________________________________________________\n",
            "conv_dw_3_bn (BatchNormaliza (None, 56, 56, 128)       512       \n",
            "_________________________________________________________________\n",
            "conv_dw_3_relu (Activation)  (None, 56, 56, 128)       0         \n",
            "_________________________________________________________________\n",
            "conv_pw_3 (Conv2D)           (None, 56, 56, 128)       16384     \n",
            "_________________________________________________________________\n",
            "conv_pw_3_bn (BatchNormaliza (None, 56, 56, 128)       512       \n",
            "_________________________________________________________________\n",
            "conv_pw_3_relu (Activation)  (None, 56, 56, 128)       0         \n",
            "_________________________________________________________________\n",
            "conv_pad_4 (ZeroPadding2D)   (None, 58, 58, 128)       0         \n",
            "_________________________________________________________________\n",
            "conv_dw_4 (DepthwiseConv2D)  (None, 28, 28, 128)       1152      \n",
            "_________________________________________________________________\n",
            "conv_dw_4_bn (BatchNormaliza (None, 28, 28, 128)       512       \n",
            "_________________________________________________________________\n",
            "conv_dw_4_relu (Activation)  (None, 28, 28, 128)       0         \n",
            "_________________________________________________________________\n",
            "conv_pw_4 (Conv2D)           (None, 28, 28, 256)       32768     \n",
            "_________________________________________________________________\n",
            "conv_pw_4_bn (BatchNormaliza (None, 28, 28, 256)       1024      \n",
            "_________________________________________________________________\n",
            "conv_pw_4_relu (Activation)  (None, 28, 28, 256)       0         \n",
            "_________________________________________________________________\n",
            "conv_pad_5 (ZeroPadding2D)   (None, 30, 30, 256)       0         \n",
            "_________________________________________________________________\n",
            "conv_dw_5 (DepthwiseConv2D)  (None, 28, 28, 256)       2304      \n",
            "_________________________________________________________________\n",
            "conv_dw_5_bn (BatchNormaliza (None, 28, 28, 256)       1024      \n",
            "_________________________________________________________________\n",
            "conv_dw_5_relu (Activation)  (None, 28, 28, 256)       0         \n",
            "_________________________________________________________________\n",
            "conv_pw_5 (Conv2D)           (None, 28, 28, 256)       65536     \n",
            "_________________________________________________________________\n",
            "conv_pw_5_bn (BatchNormaliza (None, 28, 28, 256)       1024      \n",
            "_________________________________________________________________\n",
            "conv_pw_5_relu (Activation)  (None, 28, 28, 256)       0         \n",
            "_________________________________________________________________\n",
            "conv_pad_6 (ZeroPadding2D)   (None, 30, 30, 256)       0         \n",
            "_________________________________________________________________\n",
            "conv_dw_6 (DepthwiseConv2D)  (None, 14, 14, 256)       2304      \n",
            "_________________________________________________________________\n",
            "conv_dw_6_bn (BatchNormaliza (None, 14, 14, 256)       1024      \n",
            "_________________________________________________________________\n",
            "conv_dw_6_relu (Activation)  (None, 14, 14, 256)       0         \n",
            "_________________________________________________________________\n",
            "conv_pw_6 (Conv2D)           (None, 14, 14, 512)       131072    \n",
            "_________________________________________________________________\n",
            "conv_pw_6_bn (BatchNormaliza (None, 14, 14, 512)       2048      \n",
            "_________________________________________________________________\n",
            "conv_pw_6_relu (Activation)  (None, 14, 14, 512)       0         \n",
            "_________________________________________________________________\n",
            "conv_pad_7 (ZeroPadding2D)   (None, 16, 16, 512)       0         \n",
            "_________________________________________________________________\n",
            "conv_dw_7 (DepthwiseConv2D)  (None, 14, 14, 512)       4608      \n",
            "_________________________________________________________________\n",
            "conv_dw_7_bn (BatchNormaliza (None, 14, 14, 512)       2048      \n",
            "_________________________________________________________________\n",
            "conv_dw_7_relu (Activation)  (None, 14, 14, 512)       0         \n",
            "_________________________________________________________________\n",
            "conv_pw_7 (Conv2D)           (None, 14, 14, 512)       262144    \n",
            "_________________________________________________________________\n",
            "conv_pw_7_bn (BatchNormaliza (None, 14, 14, 512)       2048      \n",
            "_________________________________________________________________\n",
            "conv_pw_7_relu (Activation)  (None, 14, 14, 512)       0         \n",
            "_________________________________________________________________\n",
            "conv_pad_8 (ZeroPadding2D)   (None, 16, 16, 512)       0         \n",
            "_________________________________________________________________\n",
            "conv_dw_8 (DepthwiseConv2D)  (None, 14, 14, 512)       4608      \n",
            "_________________________________________________________________\n",
            "conv_dw_8_bn (BatchNormaliza (None, 14, 14, 512)       2048      \n",
            "_________________________________________________________________\n",
            "conv_dw_8_relu (Activation)  (None, 14, 14, 512)       0         \n",
            "_________________________________________________________________\n",
            "conv_pw_8 (Conv2D)           (None, 14, 14, 512)       262144    \n",
            "_________________________________________________________________\n",
            "conv_pw_8_bn (BatchNormaliza (None, 14, 14, 512)       2048      \n",
            "_________________________________________________________________\n",
            "conv_pw_8_relu (Activation)  (None, 14, 14, 512)       0         \n",
            "_________________________________________________________________\n",
            "conv_pad_9 (ZeroPadding2D)   (None, 16, 16, 512)       0         \n",
            "_________________________________________________________________\n",
            "conv_dw_9 (DepthwiseConv2D)  (None, 14, 14, 512)       4608      \n",
            "_________________________________________________________________\n",
            "conv_dw_9_bn (BatchNormaliza (None, 14, 14, 512)       2048      \n",
            "_________________________________________________________________\n",
            "conv_dw_9_relu (Activation)  (None, 14, 14, 512)       0         \n",
            "_________________________________________________________________\n",
            "conv_pw_9 (Conv2D)           (None, 14, 14, 512)       262144    \n",
            "_________________________________________________________________\n",
            "conv_pw_9_bn (BatchNormaliza (None, 14, 14, 512)       2048      \n",
            "_________________________________________________________________\n",
            "conv_pw_9_relu (Activation)  (None, 14, 14, 512)       0         \n",
            "_________________________________________________________________\n",
            "conv_pad_10 (ZeroPadding2D)  (None, 16, 16, 512)       0         \n",
            "_________________________________________________________________\n",
            "conv_dw_10 (DepthwiseConv2D) (None, 14, 14, 512)       4608      \n",
            "_________________________________________________________________\n",
            "conv_dw_10_bn (BatchNormaliz (None, 14, 14, 512)       2048      \n",
            "_________________________________________________________________\n",
            "conv_dw_10_relu (Activation) (None, 14, 14, 512)       0         \n",
            "_________________________________________________________________\n",
            "conv_pw_10 (Conv2D)          (None, 14, 14, 512)       262144    \n",
            "_________________________________________________________________\n",
            "conv_pw_10_bn (BatchNormaliz (None, 14, 14, 512)       2048      \n",
            "_________________________________________________________________\n",
            "conv_pw_10_relu (Activation) (None, 14, 14, 512)       0         \n",
            "_________________________________________________________________\n",
            "conv_pad_11 (ZeroPadding2D)  (None, 16, 16, 512)       0         \n",
            "_________________________________________________________________\n",
            "conv_dw_11 (DepthwiseConv2D) (None, 14, 14, 512)       4608      \n",
            "_________________________________________________________________\n",
            "conv_dw_11_bn (BatchNormaliz (None, 14, 14, 512)       2048      \n",
            "_________________________________________________________________\n",
            "conv_dw_11_relu (Activation) (None, 14, 14, 512)       0         \n",
            "_________________________________________________________________\n",
            "conv_pw_11 (Conv2D)          (None, 14, 14, 512)       262144    \n",
            "_________________________________________________________________\n",
            "conv_pw_11_bn (BatchNormaliz (None, 14, 14, 512)       2048      \n",
            "_________________________________________________________________\n",
            "conv_pw_11_relu (Activation) (None, 14, 14, 512)       0         \n",
            "_________________________________________________________________\n",
            "conv_pad_12 (ZeroPadding2D)  (None, 16, 16, 512)       0         \n",
            "_________________________________________________________________\n",
            "conv_dw_12 (DepthwiseConv2D) (None, 7, 7, 512)         4608      \n",
            "_________________________________________________________________\n",
            "conv_dw_12_bn (BatchNormaliz (None, 7, 7, 512)         2048      \n",
            "_________________________________________________________________\n",
            "conv_dw_12_relu (Activation) (None, 7, 7, 512)         0         \n",
            "_________________________________________________________________\n",
            "conv_pw_12 (Conv2D)          (None, 7, 7, 1024)        524288    \n",
            "_________________________________________________________________\n",
            "conv_pw_12_bn (BatchNormaliz (None, 7, 7, 1024)        4096      \n",
            "_________________________________________________________________\n",
            "conv_pw_12_relu (Activation) (None, 7, 7, 1024)        0         \n",
            "_________________________________________________________________\n",
            "conv_pad_13 (ZeroPadding2D)  (None, 9, 9, 1024)        0         \n",
            "_________________________________________________________________\n",
            "conv_dw_13 (DepthwiseConv2D) (None, 7, 7, 1024)        9216      \n",
            "_________________________________________________________________\n",
            "conv_dw_13_bn (BatchNormaliz (None, 7, 7, 1024)        4096      \n",
            "_________________________________________________________________\n",
            "conv_dw_13_relu (Activation) (None, 7, 7, 1024)        0         \n",
            "_________________________________________________________________\n",
            "conv_pw_13 (Conv2D)          (None, 7, 7, 1024)        1048576   \n",
            "_________________________________________________________________\n",
            "conv_pw_13_bn (BatchNormaliz (None, 7, 7, 1024)        4096      \n",
            "_________________________________________________________________\n",
            "conv_pw_13_relu (Activation) (None, 7, 7, 1024)        0         \n",
            "_________________________________________________________________\n",
            "global_average_pooling2d_3 ( (None, 1024)              0         \n",
            "_________________________________________________________________\n",
            "reshape_1 (Reshape)          (None, 1, 1, 1024)        0         \n",
            "_________________________________________________________________\n",
            "dropout (Dropout)            (None, 1, 1, 1024)        0         \n",
            "_________________________________________________________________\n",
            "conv_preds (Conv2D)          (None, 1, 1, 1000)        1025000   \n",
            "_________________________________________________________________\n",
            "act_softmax (Activation)     (None, 1, 1, 1000)        0         \n",
            "_________________________________________________________________\n",
            "dense_16 (Dense)             (None, 10)                10010     \n",
            "=================================================================\n",
            "Total params: 4,263,874\n",
            "Trainable params: 10,010\n",
            "Non-trainable params: 4,253,864\n",
            "_________________________________________________________________\n",
            "DONE\n"
          ],
          "name": "stdout"
        }
      ]
    },
    {
      "metadata": {
        "id": "lDxWl6czrwC_",
        "colab_type": "code",
        "colab": {
          "autoexec": {
            "startup": false,
            "wait_interval": 0
          },
          "base_uri": "https://localhost:8080/",
          "height": 34
        },
        "outputId": "7c8d2d88-4f11-4a7c-fba5-ebfcce6f4dd4",
        "executionInfo": {
          "status": "ok",
          "timestamp": 1532497057005,
          "user_tz": -330,
          "elapsed": 1107,
          "user": {
            "displayName": "Pawan Snj",
            "photoUrl": "//lh6.googleusercontent.com/-ojjGyAo7og4/AAAAAAAAAAI/AAAAAAAADXU/VP6DtpEZJts/s50-c-k-no/photo.jpg",
            "userId": "100746673235819701094"
          }
        }
      },
      "cell_type": "code",
      "source": [
        "epochs3 = 5\n",
        "print(\"DONE\")"
      ],
      "execution_count": 130,
      "outputs": [
        {
          "output_type": "stream",
          "text": [
            "DONE\n"
          ],
          "name": "stdout"
        }
      ]
    },
    {
      "metadata": {
        "id": "r9WmS0zJLlMK",
        "colab_type": "text"
      },
      "cell_type": "markdown",
      "source": [
        "## Compile and Fit the Model"
      ]
    },
    {
      "metadata": {
        "id": "GXCktHmkrwON",
        "colab_type": "code",
        "colab": {
          "autoexec": {
            "startup": false,
            "wait_interval": 0
          },
          "base_uri": "https://localhost:8080/",
          "height": 136
        },
        "outputId": "24621ae3-546a-4ce4-9fbb-1707401aa6db",
        "executionInfo": {
          "status": "ok",
          "timestamp": 1532497079353,
          "user_tz": -330,
          "elapsed": 19286,
          "user": {
            "displayName": "Pawan Snj",
            "photoUrl": "//lh6.googleusercontent.com/-ojjGyAo7og4/AAAAAAAAAAI/AAAAAAAADXU/VP6DtpEZJts/s50-c-k-no/photo.jpg",
            "userId": "100746673235819701094"
          }
        }
      },
      "cell_type": "code",
      "source": [
        "model3.compile(loss='categorical_crossentropy', optimizer=keras.optimizers.Adam(), metrics=['accuracy'])\n",
        " \n",
        "hist = model.fit_generator(train_generator, steps_per_epoch=batch_size, epochs=epochs2, validation_data=(test_image,test_label))\n",
        "\n",
        "print(\"DONE\")"
      ],
      "execution_count": 131,
      "outputs": [
        {
          "output_type": "stream",
          "text": [
            "Epoch 1/3\n",
            "250/250 [==============================] - 7s 29ms/step - loss: 0.0015 - acc: 0.9996 - val_loss: 0.0329 - val_acc: 0.9922\n",
            "Epoch 2/3\n",
            "250/250 [==============================] - 5s 19ms/step - loss: 8.2917e-04 - acc: 0.9998 - val_loss: 0.0332 - val_acc: 0.9916\n",
            "Epoch 3/3\n",
            "250/250 [==============================] - 5s 19ms/step - loss: 0.0074 - acc: 0.9977 - val_loss: 0.0422 - val_acc: 0.9901\n",
            "DONE\n"
          ],
          "name": "stdout"
        }
      ]
    },
    {
      "metadata": {
        "id": "4QlMWuDCLwYo",
        "colab_type": "text"
      },
      "cell_type": "markdown",
      "source": [
        "## Graph\n",
        "#### Training accuracy vs Validation accuracy\n",
        "#### Training loss vs Validation loss"
      ]
    },
    {
      "metadata": {
        "id": "4HhmvhClrwRa",
        "colab_type": "code",
        "colab": {
          "autoexec": {
            "startup": false,
            "wait_interval": 0
          },
          "base_uri": "https://localhost:8080/",
          "height": 588
        },
        "outputId": "f40400bd-34f9-431f-a748-18beda178055",
        "executionInfo": {
          "status": "ok",
          "timestamp": 1532497086490,
          "user_tz": -330,
          "elapsed": 1860,
          "user": {
            "displayName": "Pawan Snj",
            "photoUrl": "//lh6.googleusercontent.com/-ojjGyAo7og4/AAAAAAAAAAI/AAAAAAAADXU/VP6DtpEZJts/s50-c-k-no/photo.jpg",
            "userId": "100746673235819701094"
          }
        }
      },
      "cell_type": "code",
      "source": [
        "# Graph losses and accuracy\n",
        "train_loss=hist.history['loss']\n",
        "val_loss=hist.history['val_loss']\n",
        "train_acc=hist.history['acc']\n",
        "val_acc=hist.history['val_acc']\n",
        "xc=range(epochs2)\n",
        "\n",
        "##############################################\n",
        "plt.figure(1,figsize=(4,4))\n",
        "plt.plot(xc,train_loss)\n",
        "plt.plot(xc,val_loss)\n",
        "\n",
        "plt.xlabel('num of epochs')\n",
        "plt.ylabel('loss')\n",
        "plt.title('train_loss vs test_loss')\n",
        "\n",
        "plt.grid(True)\n",
        "plt.legend(['train','val']) \n",
        "\n",
        "##################################################\n",
        "\n",
        "plt.figure(2,figsize=(4,4))\n",
        "plt.plot(xc,train_acc)\n",
        "plt.plot(xc,val_acc)\n",
        "\n",
        "plt.xlabel('num of Epochs')\n",
        "plt.ylabel('accuracy')\n",
        "plt.title('train_acc vs test_acc')\n",
        "\n",
        "plt.grid(True)\n",
        "plt.legend(['train','val'],loc=4)"
      ],
      "execution_count": 132,
      "outputs": [
        {
          "output_type": "execute_result",
          "data": {
            "text/plain": [
              "<matplotlib.legend.Legend at 0x7fe48de1de80>"
            ]
          },
          "metadata": {
            "tags": []
          },
          "execution_count": 132
        },
        {
          "output_type": "display_data",
          "data": {
            "image/png": "[encoded data removed]",
            "text/plain": [
              "<matplotlib.figure.Figure at 0x7fe48dde7a20>"
            ]
          },
          "metadata": {
            "tags": []
          }
        },
        {
          "output_type": "display_data",
          "data": {
            "image/png": "[encoded data removed]",
            "text/plain": [
              "<matplotlib.figure.Figure at 0x7fe48de27ef0>"
            ]
          },
          "metadata": {
            "tags": []
          }
        }
      ]
    }
  ]
}
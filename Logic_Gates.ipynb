{
  "nbformat": 4,
  "nbformat_minor": 0,
  "metadata": {
    "colab": {
      "name": "Logic_Gates.ipynb",
      "version": "0.3.2",
      "provenance": [],
      "collapsed_sections": []
    },
    "kernelspec": {
      "name": "python3",
      "display_name": "Python 3"
    },
    "accelerator": "GPU"
  },
  "cells": [
    {
      "metadata": {
        "id": "GpleYdgcnyuD",
        "colab_type": "text"
      },
      "cell_type": "markdown",
      "source": [
        "***XOR GATE*** "
      ]
    },
    {
      "metadata": {
        "id": "d7Atl402nu5h",
        "colab_type": "code",
        "colab": {}
      },
      "cell_type": "code",
      "source": [
        "import tensorflow as tf\n",
        "import keras\n",
        "import numpy as np"
      ],
      "execution_count": 0,
      "outputs": []
    },
    {
      "metadata": {
        "id": "0P0sJL_ftCy7",
        "colab_type": "text"
      },
      "cell_type": "markdown",
      "source": [
        "**INPUTS**"
      ]
    },
    {
      "metadata": {
        "id": "mU2gFyekioV8",
        "colab_type": "code",
        "outputId": "a819c9d5-206c-46be-af34-be0363a91208",
        "colab": {
          "base_uri": "https://localhost:8080/",
          "height": 84
        }
      },
      "cell_type": "code",
      "source": [
        "data_in = np.array([[0,0],\n",
        "                    [0,1],\n",
        "                    [1,0],\n",
        "                    [1,1]\n",
        "                   ])\n",
        "print (data_in)"
      ],
      "execution_count": 0,
      "outputs": [
        {
          "output_type": "stream",
          "text": [
            "[[0 0]\n",
            " [0 1]\n",
            " [1 0]\n",
            " [1 1]]\n"
          ],
          "name": "stdout"
        }
      ]
    },
    {
      "metadata": {
        "id": "cEtOxPfpwkcs",
        "colab_type": "code",
        "colab": {}
      },
      "cell_type": "code",
      "source": [
        "epochs=10000"
      ],
      "execution_count": 0,
      "outputs": []
    },
    {
      "metadata": {
        "id": "InTUyq6ptVkc",
        "colab_type": "text"
      },
      "cell_type": "markdown",
      "source": [
        "**ACTUAL OUTPUTS**"
      ]
    },
    {
      "metadata": {
        "id": "hCYI2lAyioY4",
        "colab_type": "code",
        "colab": {}
      },
      "cell_type": "code",
      "source": [
        "logic_and = np.array([[0],[0],[0],[1]])\n",
        "logic_or  = np.array ([[0],[1],[1],[1]])\n",
        "logic_xor = np.array([[0],[1],[1],[0]])"
      ],
      "execution_count": 0,
      "outputs": []
    },
    {
      "metadata": {
        "id": "Yt780glziodr",
        "colab_type": "code",
        "colab": {}
      },
      "cell_type": "code",
      "source": [
        "from keras.models import Sequential\n",
        "from keras.layers import Dense, Activation\n",
        "from keras.optimizers import SGD"
      ],
      "execution_count": 0,
      "outputs": []
    },
    {
      "metadata": {
        "id": "wrDy_-jBtrlV",
        "colab_type": "text"
      },
      "cell_type": "markdown",
      "source": [
        "**MODEL**"
      ]
    },
    {
      "metadata": {
        "id": "JMRtnvL3lyyV",
        "colab_type": "code",
        "outputId": "b991d53e-37f0-4069-a734-608d4f546b94",
        "colab": {
          "base_uri": "https://localhost:8080/",
          "height": 269
        }
      },
      "cell_type": "code",
      "source": [
        "model_xor = Sequential()\n",
        "model_xor.add(Dense(input_dim = 2, units=2))\n",
        "model_xor.add(Activation('sigmoid'))\n",
        "model_xor.add(Dense(units=1))\n",
        "model_xor.add(Activation('sigmoid'))\n",
        "model_xor.summary()"
      ],
      "execution_count": 0,
      "outputs": [
        {
          "output_type": "stream",
          "text": [
            "_________________________________________________________________\n",
            "Layer (type)                 Output Shape              Param #   \n",
            "=================================================================\n",
            "dense_5 (Dense)              (None, 2)                 6         \n",
            "_________________________________________________________________\n",
            "activation_5 (Activation)    (None, 2)                 0         \n",
            "_________________________________________________________________\n",
            "dense_6 (Dense)              (None, 1)                 3         \n",
            "_________________________________________________________________\n",
            "activation_6 (Activation)    (None, 1)                 0         \n",
            "=================================================================\n",
            "Total params: 9\n",
            "Trainable params: 9\n",
            "Non-trainable params: 0\n",
            "_________________________________________________________________\n"
          ],
          "name": "stdout"
        }
      ]
    },
    {
      "metadata": {
        "id": "2g92CelntzW1",
        "colab_type": "text"
      },
      "cell_type": "markdown",
      "source": [
        "**COMPILE **"
      ]
    },
    {
      "metadata": {
        "id": "3aTVKY6-kO0z",
        "colab_type": "code",
        "colab": {}
      },
      "cell_type": "code",
      "source": [
        "model_xor.compile(loss = 'mse', optimizer=SGD(lr=0.5))"
      ],
      "execution_count": 0,
      "outputs": []
    },
    {
      "metadata": {
        "id": "vi7Cf2TPt3i7",
        "colab_type": "text"
      },
      "cell_type": "markdown",
      "source": [
        "**FIT**"
      ]
    },
    {
      "metadata": {
        "id": "VhoYhrXJkj6z",
        "colab_type": "code",
        "colab": {}
      },
      "cell_type": "code",
      "source": [
        "history=model_xor.fit(data_in, logic_xor, epochs =epochs, verbose=False)"
      ],
      "execution_count": 0,
      "outputs": []
    },
    {
      "metadata": {
        "id": "0fc19FvBuAmG",
        "colab_type": "text"
      },
      "cell_type": "markdown",
      "source": [
        "**WEIGHTS**"
      ]
    },
    {
      "metadata": {
        "id": "4fHsX--VsNsu",
        "colab_type": "code",
        "outputId": "ddadaf84-c895-444d-cddf-59181393db58",
        "colab": {
          "base_uri": "https://localhost:8080/",
          "height": 101
        }
      },
      "cell_type": "code",
      "source": [
        "print (keras.backend.eval(model_xor.weights[0])) #weights layer1\n",
        "print (keras.backend.eval(model_xor.weights[1])) #bias\n",
        "print (keras.backend.eval(model_xor.weights[2])) #weights layer2\n"
      ],
      "execution_count": 0,
      "outputs": [
        {
          "output_type": "stream",
          "text": [
            "[[ 5.6723814  5.852081 ]\n",
            " [-5.45901   -5.9416313]]\n",
            "[ 2.7330961 -3.2039237]\n",
            "[[-8.508477]\n",
            " [ 8.77803 ]]\n"
          ],
          "name": "stdout"
        }
      ]
    },
    {
      "metadata": {
        "id": "LXHzddNWuHMg",
        "colab_type": "text"
      },
      "cell_type": "markdown",
      "source": [
        "**PREDICTION**"
      ]
    },
    {
      "metadata": {
        "id": "lQvtvmnRneRW",
        "colab_type": "code",
        "outputId": "5fe839d0-a6ad-4e5d-ce6f-96e1b8f3db51",
        "colab": {
          "base_uri": "https://localhost:8080/",
          "height": 84
        }
      },
      "cell_type": "code",
      "source": [
        "print (model_xor.predict(np.array([[0,0]])))\n",
        "print (model_xor.predict(np.array([[0,1]])))\n",
        "print (model_xor.predict(np.array([[1,0]])))\n",
        "print (model_xor.predict(np.array([[1,1]])))"
      ],
      "execution_count": 0,
      "outputs": [
        {
          "output_type": "stream",
          "text": [
            "[[0.0258038]]\n",
            "[[0.97050065]]\n",
            "[[0.9760292]]\n",
            "[[0.02288321]]\n"
          ],
          "name": "stdout"
        }
      ]
    },
    {
      "metadata": {
        "id": "gl4KjOzxtGhL",
        "colab_type": "code",
        "outputId": "5b4cb5cf-9214-4e8a-81ef-414884d736c1",
        "colab": {
          "base_uri": "https://localhost:8080/",
          "height": 34
        }
      },
      "cell_type": "code",
      "source": [
        "history.history.keys()"
      ],
      "execution_count": 0,
      "outputs": [
        {
          "output_type": "execute_result",
          "data": {
            "text/plain": [
              "dict_keys(['loss'])"
            ]
          },
          "metadata": {
            "tags": []
          },
          "execution_count": 40
        }
      ]
    },
    {
      "metadata": {
        "id": "6XJgdJHftUN6",
        "colab_type": "code",
        "outputId": "eff40363-d933-41e9-81bb-e19ec7f7fc8f",
        "colab": {
          "base_uri": "https://localhost:8080/",
          "height": 310
        }
      },
      "cell_type": "code",
      "source": [
        "import matplotlib.pyplot as plt\n",
        "train_loss=history.history['loss']\n",
        "xc=range(epochs) \n",
        "\n",
        "plt.figure(1,figsize=(4,4))\n",
        "plt.plot(xc,train_loss)\n",
        "\n",
        "plt.xlabel('num of epochs')\n",
        "plt.ylabel('loss')\n",
        "plt.title('train_loss vs epochs')"
      ],
      "execution_count": 0,
      "outputs": [
        {
          "output_type": "execute_result",
          "data": {
            "text/plain": [
              "Text(0.5,1,'train_loss vs epochs')"
            ]
          },
          "metadata": {
            "tags": []
          },
          "execution_count": 49
        },
        {
          "output_type": "display_data",
          "data": {
            "image/png": "[encoded data removed]",
            "text/plain": [
              "<matplotlib.figure.Figure at 0x7f275c59e780>"
            ]
          },
          "metadata": {
            "tags": []
          }
        }
      ]
    },
    {
      "metadata": {
        "id": "zN7gxV-On-Di",
        "colab_type": "text"
      },
      "cell_type": "markdown",
      "source": [
        "**OR**"
      ]
    },
    {
      "metadata": {
        "id": "n9skwjL0olRY",
        "colab_type": "code",
        "colab": {}
      },
      "cell_type": "code",
      "source": [
        "model_or = Sequential()\n",
        "model_or.add(Dense(input_dim = 2, units=2))\n",
        "model_or.add(Activation('sigmoid'))\n",
        "model_or.add(Dense(units=1))\n",
        "model_or.add(Activation('sigmoid'))"
      ],
      "execution_count": 0,
      "outputs": []
    },
    {
      "metadata": {
        "colab_type": "text",
        "id": "GJmD7tkFubUQ"
      },
      "cell_type": "markdown",
      "source": [
        "**COMPILE **"
      ]
    },
    {
      "metadata": {
        "id": "IZ7hZ9c-olYT",
        "colab_type": "code",
        "colab": {}
      },
      "cell_type": "code",
      "source": [
        "model_or.compile(loss = 'mse', optimizer=SGD(lr=0.5))\n",
        "epochs1=10000"
      ],
      "execution_count": 0,
      "outputs": []
    },
    {
      "metadata": {
        "colab_type": "text",
        "id": "hOqlKEIXufzh"
      },
      "cell_type": "markdown",
      "source": [
        "**FIT**"
      ]
    },
    {
      "metadata": {
        "id": "tcKilwF4oldj",
        "colab_type": "code",
        "colab": {}
      },
      "cell_type": "code",
      "source": [
        "history=model_or.fit(data_in, logic_or, epochs =epochs1, verbose=False)"
      ],
      "execution_count": 0,
      "outputs": []
    },
    {
      "metadata": {
        "colab_type": "text",
        "id": "dats9Y8Puh4M"
      },
      "cell_type": "markdown",
      "source": [
        "**WEIGHTS**"
      ]
    },
    {
      "metadata": {
        "id": "xFSTgk_1ssC9",
        "colab_type": "code",
        "outputId": "881c73ca-e614-41d1-f613-dbae1ce0986d",
        "colab": {
          "base_uri": "https://localhost:8080/",
          "height": 118
        }
      },
      "cell_type": "code",
      "source": [
        "print (keras.backend.eval(model_or.weights[0])) #weights layer1\n",
        "print (keras.backend.eval(model_or.weights[1])) #bias\n",
        "print (keras.backend.eval(model_or.weights[2])) #weights layer2\n",
        "print (keras.backend.eval(model_or.weights[3])) #bias"
      ],
      "execution_count": 0,
      "outputs": [
        {
          "output_type": "stream",
          "text": [
            "[[-4.4819703  2.729899 ]\n",
            " [-4.3294525  2.900962 ]]\n",
            "[ 2.0259328 -1.1464099]\n",
            "[[-7.9798546]\n",
            " [ 4.9261246]]\n",
            "[1.3611085]\n"
          ],
          "name": "stdout"
        }
      ]
    },
    {
      "metadata": {
        "id": "MfnBMONEx0kO",
        "colab_type": "code",
        "outputId": "d06ba90f-cc9d-4133-ffac-71cc3ffea094",
        "colab": {
          "base_uri": "https://localhost:8080/",
          "height": 310
        }
      },
      "cell_type": "code",
      "source": [
        "import matplotlib.pyplot as plt\n",
        "train_loss=history.history['loss']\n",
        "xc=range(epochs1) \n",
        "\n",
        "plt.figure(1,figsize=(4,4))\n",
        "plt.plot(xc,train_loss)\n",
        "\n",
        "plt.xlabel('num of epochs')\n",
        "plt.ylabel('loss')\n",
        "plt.title('train_loss vs epochs')"
      ],
      "execution_count": 0,
      "outputs": [
        {
          "output_type": "execute_result",
          "data": {
            "text/plain": [
              "Text(0.5,1,'train_loss vs epochs')"
            ]
          },
          "metadata": {
            "tags": []
          },
          "execution_count": 59
        },
        {
          "output_type": "display_data",
          "data": {
            "image/png": "[encoded data removed]",
            "text/plain": [
              "<matplotlib.figure.Figure at 0x7f275b7fecc0>"
            ]
          },
          "metadata": {
            "tags": []
          }
        }
      ]
    },
    {
      "metadata": {
        "colab_type": "text",
        "id": "-9H2fes-ulQn"
      },
      "cell_type": "markdown",
      "source": [
        "**PREDICTION**"
      ]
    },
    {
      "metadata": {
        "id": "a5pLElKdolgj",
        "colab_type": "code",
        "outputId": "9e64aa2d-45f1-4c88-b3ad-c97173844e2a",
        "colab": {
          "base_uri": "https://localhost:8080/",
          "height": 84
        }
      },
      "cell_type": "code",
      "source": [
        "print (model_or.predict(np.array([[0,0]])))\n",
        "print (model_or.predict(np.array([[0,1]])))\n",
        "print (model_or.predict(np.array([[1,0]])))\n",
        "print (model_or.predict(np.array([[1,1]])))"
      ],
      "execution_count": 0,
      "outputs": [
        {
          "output_type": "stream",
          "text": [
            "[[0.01097472]]\n",
            "[[0.9921232]]\n",
            "[[0.99198115]]\n",
            "[[0.9980211]]\n"
          ],
          "name": "stdout"
        }
      ]
    },
    {
      "metadata": {
        "id": "WOQE76two7z9",
        "colab_type": "text"
      },
      "cell_type": "markdown",
      "source": [
        "**And**"
      ]
    },
    {
      "metadata": {
        "id": "Nhb9IpZfpQD1",
        "colab_type": "code",
        "colab": {}
      },
      "cell_type": "code",
      "source": [
        "model_and = Sequential()\n",
        "model_and.add(Dense(input_dim = 2, units=2))\n",
        "model_and.add(Activation('sigmoid'))\n",
        "model_and.add(Dense(units=1))\n",
        "model_and.add(Activation('sigmoid'))"
      ],
      "execution_count": 0,
      "outputs": []
    },
    {
      "metadata": {
        "colab_type": "text",
        "id": "I6KJFZ4DuvWg"
      },
      "cell_type": "markdown",
      "source": [
        "**COMPILE **"
      ]
    },
    {
      "metadata": {
        "id": "0_oFBsimpQIC",
        "colab_type": "code",
        "colab": {}
      },
      "cell_type": "code",
      "source": [
        "model_and.compile(loss = 'mse', optimizer=SGD(lr=0.5))\n",
        "epochs2=10000"
      ],
      "execution_count": 0,
      "outputs": []
    },
    {
      "metadata": {
        "colab_type": "text",
        "id": "GEO4g5jyuyAn"
      },
      "cell_type": "markdown",
      "source": [
        "**FIT**"
      ]
    },
    {
      "metadata": {
        "id": "TPd2UDCaq_As",
        "colab_type": "code",
        "colab": {}
      },
      "cell_type": "code",
      "source": [
        "history=model_and.fit(data_in, logic_and, epochs =epochs2, verbose=False)"
      ],
      "execution_count": 0,
      "outputs": []
    },
    {
      "metadata": {
        "colab_type": "text",
        "id": "B26txF5UvaY_"
      },
      "cell_type": "markdown",
      "source": [
        "**WEIGHTS**"
      ]
    },
    {
      "metadata": {
        "id": "irNsrKVhsxzU",
        "colab_type": "code",
        "outputId": "5beae48c-5036-4250-8323-9c91fa01ca53",
        "colab": {
          "base_uri": "https://localhost:8080/",
          "height": 118
        }
      },
      "cell_type": "code",
      "source": [
        "print (keras.backend.eval(model_and.weights[0])) #weights layer1\n",
        "print (keras.backend.eval(model_and.weights[1])) #bias\n",
        "print (keras.backend.eval(model_and.weights[2])) #weights layer2\n",
        "print (keras.backend.eval(model_and.weights[3])) #bias"
      ],
      "execution_count": 0,
      "outputs": [
        {
          "output_type": "stream",
          "text": [
            "[[-2.6508493 -3.5602434]\n",
            " [-1.6013918 -4.1930466]]\n",
            "[2.2188208 5.2662787]\n",
            "[[-3.981178]\n",
            " [-8.481849]]\n",
            "[4.6773477]\n"
          ],
          "name": "stdout"
        }
      ]
    },
    {
      "metadata": {
        "id": "ThHH3p2Ryazt",
        "colab_type": "code",
        "outputId": "1948d3ae-195f-46da-ec90-d087a6d6e29e",
        "colab": {
          "base_uri": "https://localhost:8080/",
          "height": 310
        }
      },
      "cell_type": "code",
      "source": [
        "import matplotlib.pyplot as plt\n",
        "train_loss=history.history['loss']\n",
        "xc=range(epochs1) \n",
        "\n",
        "plt.figure(1,figsize=(4,4))\n",
        "plt.plot(xc,train_loss)\n",
        "\n",
        "plt.xlabel('num of epochs')\n",
        "plt.ylabel('loss')\n",
        "plt.title('train_loss vs epochs')"
      ],
      "execution_count": 0,
      "outputs": [
        {
          "output_type": "execute_result",
          "data": {
            "text/plain": [
              "Text(0.5,1,'train_loss vs epochs')"
            ]
          },
          "metadata": {
            "tags": []
          },
          "execution_count": 65
        },
        {
          "output_type": "display_data",
          "data": {
            "image/png": "[encoded data removed]",
            "text/plain": [
              "<matplotlib.figure.Figure at 0x7f275b63a208>"
            ]
          },
          "metadata": {
            "tags": []
          }
        }
      ]
    },
    {
      "metadata": {
        "colab_type": "text",
        "id": "vsfKp8HnvdMw"
      },
      "cell_type": "markdown",
      "source": [
        "**PREDICTION**"
      ]
    },
    {
      "metadata": {
        "id": "cTGUC8ghpQLX",
        "colab_type": "code",
        "outputId": "8f4ed511-232e-4cf5-f9a7-d9cfd1ef3a2c",
        "colab": {
          "base_uri": "https://localhost:8080/",
          "height": 84
        }
      },
      "cell_type": "code",
      "source": [
        "print (model_and.predict(np.array([[0,0]])))\n",
        "print (model_and.predict(np.array([[0,1]])))\n",
        "print (model_and.predict(np.array([[1,0]])))\n",
        "print (model_and.predict(np.array([[1,1]])))"
      ],
      "execution_count": 0,
      "outputs": [
        {
          "output_type": "stream",
          "text": [
            "[[0.00064111]]\n",
            "[[0.01434753]]\n",
            "[[0.0168207]]\n",
            "[[0.9724921]]\n"
          ],
          "name": "stdout"
        }
      ]
    }
  ]
}
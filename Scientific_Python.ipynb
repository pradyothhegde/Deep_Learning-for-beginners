{
  "nbformat": 4,
  "nbformat_minor": 0,
  "metadata": {
    "colab": {
      "name": "Scientific_Python.ipynb",
      "version": "0.3.2",
      "provenance": [],
      "collapsed_sections": []
    },
    "kernelspec": {
      "name": "python3",
      "display_name": "Python 3"
    }
  },
  "cells": [
    {
      "metadata": {
        "id": "DOfgDCytaZpG",
        "colab_type": "text"
      },
      "cell_type": "markdown",
      "source": [
        "**Hello World**\n",
        "\n",
        "\n",
        "1.   Taking input from user\n",
        "2.   Taking input from users\n",
        "3.   Addition of two numbers by tal=king inputs from users\n",
        "\n"
      ]
    },
    {
      "metadata": {
        "id": "NzB9xVFXagng",
        "colab_type": "code",
        "outputId": "96b009b3-4f13-4efb-b568-ab127ccfacde",
        "colab": {
          "base_uri": "https://localhost:8080/",
          "height": 34
        }
      },
      "cell_type": "code",
      "source": [
        "print(\"Hello World\")"
      ],
      "execution_count": 0,
      "outputs": [
        {
          "output_type": "stream",
          "text": [
            "Hello World\n"
          ],
          "name": "stdout"
        }
      ]
    },
    {
      "metadata": {
        "id": "oi584M9Uajp2",
        "colab_type": "text"
      },
      "cell_type": "markdown",
      "source": [
        "**Basic Data Types**\n",
        "\n",
        "\n",
        "1.   Integer\n",
        "2.   Float\n",
        "\n"
      ]
    },
    {
      "metadata": {
        "id": "EcX4IVhraqAd",
        "colab_type": "code",
        "outputId": "28a1f088-1388-421c-b972-7c7612ce20fb",
        "colab": {
          "base_uri": "https://localhost:8080/",
          "height": 51
        }
      },
      "cell_type": "code",
      "source": [
        "x = 3\n",
        "y = 3.5\n",
        "print(type(3))\n",
        "print(type(3.5))"
      ],
      "execution_count": 0,
      "outputs": [
        {
          "output_type": "stream",
          "text": [
            "<class 'int'>\n",
            "<class 'float'>\n"
          ],
          "name": "stdout"
        }
      ]
    },
    {
      "metadata": {
        "id": "1nTDHC7AbJpt",
        "colab_type": "text"
      },
      "cell_type": "markdown",
      "source": [
        "**Arithmatic Operations**\n",
        "\n",
        "1.   Addition\n",
        "2.   Subtraction\n",
        "3.   Multipliction\n",
        "4.   Division \n",
        "\n",
        "\n",
        "\n",
        "\n"
      ]
    },
    {
      "metadata": {
        "id": "Cq0XtJ_SbSuP",
        "colab_type": "code",
        "outputId": "657f2e63-2a5c-4971-ca79-4afee178afcc",
        "colab": {
          "base_uri": "https://localhost:8080/",
          "height": 85
        }
      },
      "cell_type": "code",
      "source": [
        "x = 5\n",
        "print(x+5)    \n",
        "print(x-5)\n",
        "print(x*5)\n",
        "print(x/1)"
      ],
      "execution_count": 0,
      "outputs": [
        {
          "output_type": "stream",
          "text": [
            "10\n",
            "0\n",
            "25\n",
            "5.0\n"
          ],
          "name": "stdout"
        }
      ]
    },
    {
      "metadata": {
        "id": "GdMnkRE3lXm1",
        "colab_type": "text"
      },
      "cell_type": "markdown",
      "source": [
        "**Arithmatic operation by incremet**"
      ]
    },
    {
      "metadata": {
        "id": "nC_3hr7bbxxe",
        "colab_type": "code",
        "outputId": "81f60d89-49ec-40e2-c195-552751c8efc1",
        "colab": {
          "base_uri": "https://localhost:8080/",
          "height": 51
        }
      },
      "cell_type": "code",
      "source": [
        "x = 10\n",
        "x+=1\n",
        "print(x)\n",
        "\n",
        "x* = 2\n",
        "print(x)"
      ],
      "execution_count": 0,
      "outputs": [
        {
          "output_type": "stream",
          "text": [
            "11\n",
            "22\n"
          ],
          "name": "stdout"
        }
      ]
    },
    {
      "metadata": {
        "id": "W97YKM57cWG6",
        "colab_type": "code",
        "outputId": "e10a4625-add6-45e9-b16b-ac2c559b832e",
        "colab": {
          "base_uri": "https://localhost:8080/",
          "height": 34
        }
      },
      "cell_type": "code",
      "source": [
        "x  = 10\n",
        "print(x+1,x-1,x*2,x/2)"
      ],
      "execution_count": 0,
      "outputs": [
        {
          "output_type": "stream",
          "text": [
            "11 9 20 5.0\n"
          ],
          "name": "stdout"
        }
      ]
    },
    {
      "metadata": {
        "id": "j7T7mrFdl5XL",
        "colab_type": "text"
      },
      "cell_type": "markdown",
      "source": [
        "**Unary increment**"
      ]
    },
    {
      "metadata": {
        "id": "mP_4NCwQcj_S",
        "colab_type": "code",
        "colab": {}
      },
      "cell_type": "code",
      "source": [
        "#x=3\n",
        "#x++\n",
        "#print(x)"
      ],
      "execution_count": 0,
      "outputs": []
    },
    {
      "metadata": {
        "id": "0VyGMjh4czpU",
        "colab_type": "text"
      },
      "cell_type": "markdown",
      "source": [
        "**Booleans**"
      ]
    },
    {
      "metadata": {
        "id": "BiqKry9Oc2vc",
        "colab_type": "code",
        "outputId": "40415850-6772-4273-9be3-51cf00114373",
        "colab": {
          "base_uri": "https://localhost:8080/",
          "height": 51
        }
      },
      "cell_type": "code",
      "source": [
        "t,f = True,False\n",
        "print(type(t))\n",
        "print(type(f))"
      ],
      "execution_count": 0,
      "outputs": [
        {
          "output_type": "stream",
          "text": [
            "<class 'bool'>\n",
            "<class 'bool'>\n"
          ],
          "name": "stdout"
        }
      ]
    },
    {
      "metadata": {
        "id": "hRnb326LmCUT",
        "colab_type": "text"
      },
      "cell_type": "markdown",
      "source": [
        "**Task1**\n",
        "\n",
        "\n",
        "**Logical Operations**\n",
        "\n",
        "\n",
        "1.   AND\n",
        "2.   OR\n",
        "\n"
      ]
    },
    {
      "metadata": {
        "id": "gGLIEGr2dIPQ",
        "colab_type": "code",
        "outputId": "da3cde21-8667-4024-db78-825bdda280b0",
        "colab": {
          "base_uri": "https://localhost:8080/",
          "height": 85
        }
      },
      "cell_type": "code",
      "source": [
        "a,b = False,True\n",
        "print(a and a)\n",
        "print(a and b)\n",
        "print(b and a)\n",
        "print(b and b)"
      ],
      "execution_count": 0,
      "outputs": [
        {
          "output_type": "stream",
          "text": [
            "False\n",
            "False\n",
            "False\n",
            "True\n"
          ],
          "name": "stdout"
        }
      ]
    },
    {
      "metadata": {
        "id": "oBVJ3L23doA3",
        "colab_type": "text"
      },
      "cell_type": "markdown",
      "source": [
        "**String Operations**"
      ]
    },
    {
      "metadata": {
        "id": "2xW19qjRjaeZ",
        "colab_type": "code",
        "outputId": "1ff2ff93-2fba-46fb-8177-7f70fde5306f",
        "colab": {
          "base_uri": "https://localhost:8080/",
          "height": 51
        }
      },
      "cell_type": "code",
      "source": [
        "a = \"hello\"\n",
        "b = 'hi'\n",
        "c = \" hi \"\n",
        "print(a)\n",
        "print(b)"
      ],
      "execution_count": 0,
      "outputs": [
        {
          "output_type": "stream",
          "text": [
            "hello\n",
            "hi\n"
          ],
          "name": "stdout"
        }
      ]
    },
    {
      "metadata": {
        "id": "0H_dhUsKmU1L",
        "colab_type": "text"
      },
      "cell_type": "markdown",
      "source": [
        "**String Concatenation**"
      ]
    },
    {
      "metadata": {
        "id": "Z1qo0ZFdj1gE",
        "colab_type": "code",
        "outputId": "2ba7f5e0-2d2b-4ba8-8f12-25592aa81aaa",
        "colab": {
          "base_uri": "https://localhost:8080/",
          "height": 51
        }
      },
      "cell_type": "code",
      "source": [
        "a = \"hello\" +' '+ \"hi\"\n",
        "print(a)\n",
        "print(len(a))"
      ],
      "execution_count": 0,
      "outputs": [
        {
          "output_type": "stream",
          "text": [
            "hello hi\n",
            "8\n"
          ],
          "name": "stdout"
        }
      ]
    },
    {
      "metadata": {
        "id": "jZsKZlJrqCzs",
        "colab_type": "text"
      },
      "cell_type": "markdown",
      "source": [
        "\n",
        "\n",
        "1.   Capitalize\n",
        "2.   Uppercse\n",
        "3.   Lowercase\n",
        "4.   Rightjustify\n",
        "5.   Center\n",
        "6.   Replace\n",
        "\n",
        "\n",
        "\n",
        "\n",
        "\n",
        "\n",
        "\n"
      ]
    },
    {
      "metadata": {
        "id": "v-IJpZrzkl-P",
        "colab_type": "code",
        "outputId": "66d800b1-17f0-4375-ad40-a0c673e74134",
        "colab": {
          "base_uri": "https://localhost:8080/",
          "height": 102
        }
      },
      "cell_type": "code",
      "source": [
        "s = 'hi'\n",
        "print(s.capitalize())\n",
        "print(s.upper())\n",
        "print(s.rjust(5))\n",
        "print(s.center(2))\n",
        "print(s.replace('n','N'))"
      ],
      "execution_count": 0,
      "outputs": [
        {
          "output_type": "stream",
          "text": [
            "Hi\n",
            "HI\n",
            "   hi\n",
            "hi\n",
            "hi\n"
          ],
          "name": "stdout"
        }
      ]
    },
    {
      "metadata": {
        "id": "KVaxKUcQtG02",
        "colab_type": "text"
      },
      "cell_type": "markdown",
      "source": [
        "**Containers**\n",
        "\n",
        "\n",
        "1.   Lists\n",
        "2.   Dictionary\n",
        "3.   Sets\n",
        "4.   Tuples\n",
        "\n",
        "---\n",
        "\n",
        "\n",
        "\n",
        "\n",
        "\n"
      ]
    },
    {
      "metadata": {
        "id": "dFyshkHAu2V9",
        "colab_type": "text"
      },
      "cell_type": "markdown",
      "source": [
        "**List Operations**\n",
        "\n",
        "\n",
        "1.   Lenght\n",
        "2.   Initial Element\n",
        "3.   Last Element\n",
        "4.   Accessing element by array index\n",
        "5.   Adding elements of different types into the list\n",
        "6.   Append\n",
        "7.   Pop\n",
        "8.   Clear/Delete\n",
        "\n"
      ]
    },
    {
      "metadata": {
        "id": "NTEs75zttKUE",
        "colab_type": "code",
        "outputId": "a5e264f3-eb0a-41ca-ad2b-7665c69079b8",
        "colab": {
          "base_uri": "https://localhost:8080/",
          "height": 145
        }
      },
      "cell_type": "code",
      "source": [
        "a = [10,20,30,40,50]\n",
        "print(a)\n",
        "print(a[0])\n",
        "print(a[-1])\n",
        "print(len(a))\n",
        "a[4]='hello'\n",
        "a.append(\"Hi\")\n",
        "print(a)\n",
        "a.pop()\n",
        "print(a)\n",
        "a.clear()\n",
        "print(a)\n"
      ],
      "execution_count": 0,
      "outputs": [
        {
          "output_type": "stream",
          "text": [
            "[10, 20, 30, 40, 50]\n",
            "10\n",
            "50\n",
            "5\n",
            "[10, 20, 30, 40, 'hello', 'Hi']\n",
            "[10, 20, 30, 40, 'hello']\n",
            "[]\n"
          ],
          "name": "stdout"
        }
      ]
    },
    {
      "metadata": {
        "id": "yqjrdlwqLpkw",
        "colab_type": "text"
      },
      "cell_type": "markdown",
      "source": [
        "**Sorting**"
      ]
    },
    {
      "metadata": {
        "id": "jDgESX4ZLeU9",
        "colab_type": "code",
        "outputId": "51b4ce31-377c-4cbc-d5fe-e533a563598e",
        "colab": {
          "base_uri": "https://localhost:8080/",
          "height": 35
        }
      },
      "cell_type": "code",
      "source": [
        "a = ['z','a','l']\n",
        "a.sort()\n",
        "print(a)"
      ],
      "execution_count": 0,
      "outputs": [
        {
          "output_type": "stream",
          "text": [
            "['a', 'l', 'z']\n"
          ],
          "name": "stdout"
        }
      ]
    },
    {
      "metadata": {
        "id": "CuFM6jb7wLBE",
        "colab_type": "text"
      },
      "cell_type": "markdown",
      "source": [
        "**Slicing**\n"
      ]
    },
    {
      "metadata": {
        "id": "hmzp4idlvfEB",
        "colab_type": "code",
        "outputId": "037f9dc7-0f47-464a-b27e-c4f6b28b8d8b",
        "colab": {
          "base_uri": "https://localhost:8080/",
          "height": 119
        }
      },
      "cell_type": "code",
      "source": [
        "num  = list(range(10))\n",
        "print(num)\n",
        "print(num[2:5])  \n",
        "print(num[2:])\n",
        "print(num[:2])\n",
        "print(num[:])\n",
        "print(num[:-1])"
      ],
      "execution_count": 0,
      "outputs": [
        {
          "output_type": "stream",
          "text": [
            "[0, 1, 2, 3, 4, 5, 6, 7, 8, 9]\n",
            "[2, 3, 4]\n",
            "[2, 3, 4, 5, 6, 7, 8, 9]\n",
            "[0, 1]\n",
            "[0, 1, 2, 3, 4, 5, 6, 7, 8, 9]\n",
            "[0, 1, 2, 3, 4, 5, 6, 7, 8]\n"
          ],
          "name": "stdout"
        }
      ]
    },
    {
      "metadata": {
        "id": "XkUABcuZy4hP",
        "colab_type": "text"
      },
      "cell_type": "markdown",
      "source": [
        "**Loops**"
      ]
    },
    {
      "metadata": {
        "id": "RRCTbtYczKWP",
        "colab_type": "code",
        "outputId": "fc534a37-f8bd-4161-de54-975c78f379b4",
        "colab": {
          "base_uri": "https://localhost:8080/",
          "height": 68
        }
      },
      "cell_type": "code",
      "source": [
        "alpha = ['a','b','c']\n",
        "for a in alpha:\n",
        "  print(a)"
      ],
      "execution_count": 0,
      "outputs": [
        {
          "output_type": "stream",
          "text": [
            "a\n",
            "b\n",
            "c\n"
          ],
          "name": "stdout"
        }
      ]
    },
    {
      "metadata": {
        "id": "eEkFBAWgzgjk",
        "colab_type": "text"
      },
      "cell_type": "markdown",
      "source": [
        "**Enumerate**"
      ]
    },
    {
      "metadata": {
        "id": "YrvNvFU0zjaE",
        "colab_type": "code",
        "outputId": "e250bdac-d3e3-4615-b143-4ccc78275a2c",
        "colab": {
          "base_uri": "https://localhost:8080/",
          "height": 68
        }
      },
      "cell_type": "code",
      "source": [
        "alpha = ['a','b','c']\n",
        "for index,i in enumerate(alpha):\n",
        "  print('%d: %s'%(index+1, i))\n",
        "  "
      ],
      "execution_count": 0,
      "outputs": [
        {
          "output_type": "stream",
          "text": [
            "1: a\n",
            "2: b\n",
            "3: c\n"
          ],
          "name": "stdout"
        }
      ]
    },
    {
      "metadata": {
        "id": "pCxLJImBD1uM",
        "colab_type": "text"
      },
      "cell_type": "markdown",
      "source": [
        "**List Comprehesion**"
      ]
    },
    {
      "metadata": {
        "id": "hweLuZTbDTmU",
        "colab_type": "code",
        "outputId": "bb68b7aa-19cb-402d-d4e1-1f5e175579b6",
        "colab": {
          "base_uri": "https://localhost:8080/",
          "height": 34
        }
      },
      "cell_type": "code",
      "source": [
        "a= [2,4,6]\n",
        "squares=[]\n",
        "for i in a:\n",
        "  squares.append(i**2)\n",
        "print(squares)"
      ],
      "execution_count": 0,
      "outputs": [
        {
          "output_type": "stream",
          "text": [
            "[4, 16, 36]\n"
          ],
          "name": "stdout"
        }
      ]
    },
    {
      "metadata": {
        "id": "8JWL4eGRD0LL",
        "colab_type": "code",
        "outputId": "77efc9e0-cddc-4c29-b558-769613e81823",
        "colab": {
          "base_uri": "https://localhost:8080/",
          "height": 35
        }
      },
      "cell_type": "code",
      "source": [
        "a= [2,4,6]\n",
        "squares = [x ** 2 for x in a]\n",
        "print(squares)"
      ],
      "execution_count": 0,
      "outputs": [
        {
          "output_type": "stream",
          "text": [
            "[4, 16, 36]\n"
          ],
          "name": "stdout"
        }
      ]
    },
    {
      "metadata": {
        "id": "U8vs68DFNHky",
        "colab_type": "code",
        "outputId": "581dd357-d7cf-41a0-d25c-51d689a00492",
        "colab": {
          "base_uri": "https://localhost:8080/",
          "height": 72
        }
      },
      "cell_type": "code",
      "source": [
        "a = [2,4,6]\n",
        "for i in a:\n",
        "  c = i*i\n",
        "  print(c)\n",
        " "
      ],
      "execution_count": 0,
      "outputs": [
        {
          "output_type": "stream",
          "text": [
            "4\n",
            "16\n",
            "36\n"
          ],
          "name": "stdout"
        }
      ]
    },
    {
      "metadata": {
        "id": "kRDi14_8EOCr",
        "colab_type": "text"
      },
      "cell_type": "markdown",
      "source": [
        "**Dictionary**\n",
        "\n",
        "\n",
        "1.   Checking the presence of elements in dictionary\n",
        "2.   Print Keys and Values \n",
        "3.   Print lenght of dictionary\n",
        "4.   Getting the keys from the dictionary\n",
        "5.   Accessing the element which is not present in the list\n",
        "6.   Iterate through dictionary\n",
        "7.   Updating the element in dictionary\n",
        "8.   Delete"
      ]
    },
    {
      "metadata": {
        "id": "wBaE37M7EUS7",
        "colab_type": "code",
        "outputId": "ebca8e18-b45d-4205-e510-f0855b104d3d",
        "colab": {
          "base_uri": "https://localhost:8080/",
          "height": 170
        }
      },
      "cell_type": "code",
      "source": [
        "alpha =  {'a':1,'b':2}\n",
        "print('a' in alpha)\n",
        "print('c' in alpha)\n",
        "\n",
        "print(alpha)\n",
        "print(alpha.values())\n",
        "print(alpha.keys())\n",
        "print(len(alpha))\n",
        "\n",
        "print(alpha['a'])\n",
        "print(alpha['b'])\n",
        "#print(alpha['c'])\n",
        "\n",
        "alpha.update({'c':3})\n",
        "print(alpha)"
      ],
      "execution_count": 0,
      "outputs": [
        {
          "output_type": "stream",
          "text": [
            "True\n",
            "False\n",
            "{'a': 1, 'b': 2}\n",
            "dict_values([1, 2])\n",
            "dict_keys(['a', 'b'])\n",
            "2\n",
            "1\n",
            "2\n",
            "{'a': 1, 'b': 2, 'c': 3}\n"
          ],
          "name": "stdout"
        }
      ]
    },
    {
      "metadata": {
        "id": "YG677JjkIR4U",
        "colab_type": "code",
        "outputId": "a12661c5-74cc-45ef-cf2f-d9bbace3b0dd",
        "colab": {
          "base_uri": "https://localhost:8080/",
          "height": 51
        }
      },
      "cell_type": "code",
      "source": [
        "alpha =  {'a':1,'b':2}\n",
        "for item in alpha:\n",
        "  c = alpha[item]\n",
        "  print(\"Index of alphabet %s is %d\" %(item, c))"
      ],
      "execution_count": 0,
      "outputs": [
        {
          "output_type": "stream",
          "text": [
            "Index of alphabet a is 1\n",
            "Index of alphabet b is 2\n"
          ],
          "name": "stdout"
        }
      ]
    },
    {
      "metadata": {
        "id": "A0yWE06II7DA",
        "colab_type": "text"
      },
      "cell_type": "markdown",
      "source": [
        "**Task**\n",
        "\n",
        "Question: Form a list from 0-9 and square only even numbers"
      ]
    },
    {
      "metadata": {
        "id": "4wp8iHFNI35l",
        "colab_type": "code",
        "outputId": "0638dc0d-3da3-4e52-d84f-492910936f0b",
        "colab": {
          "base_uri": "https://localhost:8080/",
          "height": 51
        }
      },
      "cell_type": "code",
      "source": [
        "a = list(range(10))\n",
        "print(a)\n",
        "even = {x: x **2 for x in a if x%2==0}\n",
        "print(even)"
      ],
      "execution_count": 0,
      "outputs": [
        {
          "output_type": "stream",
          "text": [
            "[0, 1, 2, 3, 4, 5, 6, 7, 8, 9]\n",
            "{0: 0, 2: 4, 4: 16, 6: 36, 8: 64}\n"
          ],
          "name": "stdout"
        }
      ]
    },
    {
      "metadata": {
        "id": "-7HR8T7jLUl_",
        "colab_type": "text"
      },
      "cell_type": "markdown",
      "source": [
        "**Sets**\n",
        "\n",
        "\n",
        "1.   Check the elements in sets\n",
        "2.   Lenght of sets\n",
        "3.   Add elements to sets \n",
        "4.   Remove the elements from sets\n",
        "5.   Iterate with enumerate\n",
        "6.   Delete\n",
        "\n",
        "\n"
      ]
    },
    {
      "metadata": {
        "id": "-_4xMsIILUE2",
        "colab_type": "code",
        "outputId": "5f0ad150-c0c3-46eb-dc17-549c1e51e3ea",
        "colab": {
          "base_uri": "https://localhost:8080/",
          "height": 119
        }
      },
      "cell_type": "code",
      "source": [
        "alpha = {'a','b'}\n",
        "\n",
        "print(alpha)\n",
        "\n",
        "print('a' in alpha)\n",
        "print('c' in alpha)\n",
        "\n",
        "print(len(alpha))\n",
        "\n",
        "alpha.add('c')\n",
        "print(alpha)\n",
        "\n",
        "alpha.remove('c')\n",
        "print(alpha)\n",
        "  \n",
        "del alpha\n",
        "#print(alpha)"
      ],
      "execution_count": 0,
      "outputs": [
        {
          "output_type": "stream",
          "text": [
            "{'b', 'a'}\n",
            "True\n",
            "False\n",
            "2\n",
            "{'b', 'a', 'c'}\n",
            "{'b', 'a'}\n"
          ],
          "name": "stdout"
        }
      ]
    },
    {
      "metadata": {
        "id": "SAp5seqMRRfF",
        "colab_type": "code",
        "outputId": "2aee8c9f-223f-4c9d-cd3a-32fde649d2ba",
        "colab": {
          "base_uri": "https://localhost:8080/",
          "height": 126
        }
      },
      "cell_type": "code",
      "source": [
        "a = set((1,2,3,4))\n",
        "print(a)\n",
        "print(type(a))\n",
        "\n",
        "b = set([1,2,3,4])\n",
        "print(b)\n",
        "print(type(b))\n",
        "\n",
        "c = set({'a':1,'b':2})\n",
        "print(c)\n",
        "print(type(c))\n"
      ],
      "execution_count": 0,
      "outputs": [
        {
          "output_type": "stream",
          "text": [
            "{1, 2, 3, 4}\n",
            "<class 'set'>\n",
            "{1, 2, 3, 4}\n",
            "<class 'set'>\n",
            "{'b', 'a'}\n",
            "<class 'set'>\n"
          ],
          "name": "stdout"
        }
      ]
    },
    {
      "metadata": {
        "id": "7e3Nqj0hSPQ-",
        "colab_type": "text"
      },
      "cell_type": "markdown",
      "source": [
        "**Set Operation**\n",
        "\n",
        "\n",
        "1.   Union\n",
        "2.   Intersection\n",
        "3.   Difference\n",
        "\n"
      ]
    },
    {
      "metadata": {
        "id": "Am9PuBTVSOm3",
        "colab_type": "code",
        "outputId": "c6f9a15e-5f8b-42af-d73c-e19330ba6a4d",
        "colab": {
          "base_uri": "https://localhost:8080/",
          "height": 72
        }
      },
      "cell_type": "code",
      "source": [
        "a = set([1,2,3,4])\n",
        "b = set([5,6,7,8])\n",
        "\n",
        "c= a | b\n",
        "print(c)\n",
        "\n",
        "d = a-b\n",
        "print(d)\n",
        "\n",
        "e = b-a\n",
        "print(e)\n"
      ],
      "execution_count": 0,
      "outputs": [
        {
          "output_type": "stream",
          "text": [
            "{1, 2, 3, 4, 5, 6, 7, 8}\n",
            "{1, 2, 3, 4}\n",
            "{8, 5, 6, 7}\n"
          ],
          "name": "stdout"
        }
      ]
    },
    {
      "metadata": {
        "id": "PdjHOgRONqPJ",
        "colab_type": "code",
        "outputId": "a57007b1-8150-45e4-e90d-a658783d2017",
        "colab": {
          "base_uri": "https://localhost:8080/",
          "height": 51
        }
      },
      "cell_type": "code",
      "source": [
        "alpha = {'a','b'}\n",
        "for i,alpha in enumerate(alpha):\n",
        "  print(\"%d: %s\" %(i+1,alpha))"
      ],
      "execution_count": 0,
      "outputs": [
        {
          "output_type": "stream",
          "text": [
            "1: b\n",
            "2: a\n"
          ],
          "name": "stdout"
        }
      ]
    },
    {
      "metadata": {
        "id": "rXcZaB3cjidA",
        "colab_type": "text"
      },
      "cell_type": "markdown",
      "source": [
        "**Tuples**\n",
        "\n",
        "\n",
        "1.   Initial element\n",
        "2.   Final Element\n",
        "3.   Lenght of tuple\n",
        "4.   Delete Tuples\n",
        "  \n"
      ]
    },
    {
      "metadata": {
        "id": "A-WVwkpilB5c",
        "colab_type": "code",
        "outputId": "0f627a3d-c5d3-4d97-9699-64307293e759",
        "colab": {
          "base_uri": "https://localhost:8080/",
          "height": 85
        }
      },
      "cell_type": "code",
      "source": [
        "tup = ('a','b',1,2)\n",
        "print(tup)\n",
        "print(tup[0])\n",
        "print(tup[-1])\n",
        "print(len(tup))\n",
        "del tup\n",
        "#print(tup)"
      ],
      "execution_count": 0,
      "outputs": [
        {
          "output_type": "stream",
          "text": [
            "('a', 'b', 1, 2)\n",
            "a\n",
            "2\n",
            "4\n"
          ],
          "name": "stdout"
        }
      ]
    },
    {
      "metadata": {
        "id": "2P4Fqn0dnSO1",
        "colab_type": "text"
      },
      "cell_type": "markdown",
      "source": [
        "**Functions**"
      ]
    },
    {
      "metadata": {
        "id": "Ce6yiEQmnRtb",
        "colab_type": "code",
        "outputId": "2217ab2e-8925-4783-8148-4f9870f00729",
        "colab": {
          "base_uri": "https://localhost:8080/",
          "height": 85
        }
      },
      "cell_type": "code",
      "source": [
        "def predict(x):\n",
        "  if x%2==0:\n",
        "    return 'Even'\n",
        "  elif x%2!=0:\n",
        "    return 'Odd'\n",
        "\n",
        "for x in [2,3,4,5]:\n",
        "  print(predict(x))"
      ],
      "execution_count": 0,
      "outputs": [
        {
          "output_type": "stream",
          "text": [
            "Even\n",
            "Odd\n",
            "Even\n",
            "Odd\n"
          ],
          "name": "stdout"
        }
      ]
    },
    {
      "metadata": {
        "id": "9B6dLGL4oW8R",
        "colab_type": "text"
      },
      "cell_type": "markdown",
      "source": [
        "**Task**\n",
        "Square of the numbers using function"
      ]
    },
    {
      "metadata": {
        "id": "Wcs5vgdSoViA",
        "colab_type": "code",
        "outputId": "8af79b98-7bd1-4d77-dd9e-db7fe18ca6c3",
        "colab": {
          "base_uri": "https://localhost:8080/",
          "height": 34
        }
      },
      "cell_type": "code",
      "source": [
        "def square(x):\n",
        "  z = x**2\n",
        "  return z\n",
        "print(square(4))"
      ],
      "execution_count": 0,
      "outputs": [
        {
          "output_type": "stream",
          "text": [
            "16\n"
          ],
          "name": "stdout"
        }
      ]
    },
    {
      "metadata": {
        "id": "SKkuw_Zdpfgz",
        "colab_type": "text"
      },
      "cell_type": "markdown",
      "source": [
        "**Task**\n",
        "Sum of two numbers using function"
      ]
    },
    {
      "metadata": {
        "id": "p_Lxoym0nQvU",
        "colab_type": "code",
        "outputId": "7dd9c04a-96c4-45ed-9836-058c1641de8b",
        "colab": {
          "base_uri": "https://localhost:8080/",
          "height": 34
        }
      },
      "cell_type": "code",
      "source": [
        "def sum(a,b):\n",
        "  res=a+b\n",
        "  return res\n",
        "print(sum(5,5))"
      ],
      "execution_count": 0,
      "outputs": [
        {
          "output_type": "stream",
          "text": [
            "10\n"
          ],
          "name": "stdout"
        }
      ]
    },
    {
      "metadata": {
        "id": "-w4SkzYltRSt",
        "colab_type": "text"
      },
      "cell_type": "markdown",
      "source": [
        "**Loss Function Implementations**\n",
        "\n",
        "\n",
        "1.   **Mean Square Error**"
      ]
    },
    {
      "metadata": {
        "id": "t-MEcqqXtQx4",
        "colab_type": "code",
        "outputId": "e76eb3db-ab3b-4722-ddf0-1c16e4194160",
        "colab": {
          "base_uri": "https://localhost:8080/",
          "height": 35
        }
      },
      "cell_type": "code",
      "source": [
        "import numpy as np\n",
        "i = 8\n",
        "y = 10\n",
        "def meansquare(a,b):\n",
        "  c=np.square(a-b)\n",
        "  print(c)\n",
        "  \n",
        "meansquare(8,10)"
      ],
      "execution_count": 0,
      "outputs": [
        {
          "output_type": "stream",
          "text": [
            "4\n"
          ],
          "name": "stdout"
        }
      ]
    },
    {
      "metadata": {
        "id": "YP5bjT-oxK-z",
        "colab_type": "text"
      },
      "cell_type": "markdown",
      "source": [
        "**Cross Entropy**"
      ]
    },
    {
      "metadata": {
        "id": "neCPuSVOxIYM",
        "colab_type": "code",
        "outputId": "81dd86e1-192c-4081-8115-5268bf2e4859",
        "colab": {
          "base_uri": "https://localhost:8080/",
          "height": 35
        }
      },
      "cell_type": "code",
      "source": [
        "import math\n",
        "i = 8\n",
        "o = 10\n",
        "#c =   -(8*(math.log(10)) + (1-8)*(math.log((1-10))))\n",
        "c =    -(i*(math.log(o)) +  (1-i)*(math.log(abs(1-o))))\n",
        "print(c)"
      ],
      "execution_count": 0,
      "outputs": [
        {
          "output_type": "stream",
          "text": [
            "-3.0401087025988307\n"
          ],
          "name": "stdout"
        }
      ]
    },
    {
      "metadata": {
        "id": "SR1Ealu32R0_",
        "colab_type": "code",
        "outputId": "dd26a207-751a-4e32-f057-9ffccacde000",
        "colab": {
          "base_uri": "https://localhost:8080/",
          "height": 35
        }
      },
      "cell_type": "code",
      "source": [
        "from math import log\n",
        "def BCE(a,b):\n",
        "  c = -(a*(math.log(b)) + (1-a)*(math.log(abs(1-b))))\n",
        "  return c\n",
        "BCE(8,10)"
      ],
      "execution_count": 0,
      "outputs": [
        {
          "output_type": "execute_result",
          "data": {
            "text/plain": [
              "-3.0401087025988307"
            ]
          },
          "metadata": {
            "tags": []
          },
          "execution_count": 11
        }
      ]
    },
    {
      "metadata": {
        "id": "dmO5CgRfxX11",
        "colab_type": "text"
      },
      "cell_type": "markdown",
      "source": [
        "**Numpy Array**\n",
        "\n",
        "\n",
        "1.   Declare Array\n",
        "2.   2Dimesional Array (shape)\n",
        "3.   Lenght of the array\n",
        "4.   Operations on arrays\n",
        "5.   Deleting array\n",
        "6.   Delete array\n",
        "\n",
        "\n",
        "\n",
        "\n",
        "\n"
      ]
    },
    {
      "metadata": {
        "id": "JCLm03cyxae_",
        "colab_type": "code",
        "colab": {
          "base_uri": "https://localhost:8080/",
          "height": 235
        },
        "outputId": "6ea87d6c-6f15-49d9-b187-ab0abcfef8c9"
      },
      "cell_type": "code",
      "source": [
        "import numpy as np\n",
        "a = np.array([1,2,3])\n",
        "print(a)\n",
        "print(a.shape)\n",
        "print(type(a))\n",
        "\n",
        "b = np.array([[1,2,3],\n",
        "              [4,5,6],\n",
        "              [7,8,9]])\n",
        "print(b)\n",
        "print(b.shape)\n",
        "\n",
        "print(len(b))\n",
        "\n",
        "print(b[0][0])\n",
        "\n",
        "c = np.array([1,'a'])\n",
        "print(c)\n",
        "print(type(c))\n",
        "\n",
        "d = np.array([5,10,15])\n",
        "e=d/5.0\n",
        "print(e)\n",
        "\n",
        "del d"
      ],
      "execution_count": 38,
      "outputs": [
        {
          "output_type": "stream",
          "text": [
            "[1 2 3]\n",
            "(3,)\n",
            "<class 'numpy.ndarray'>\n",
            "[[1 2 3]\n",
            " [4 5 6]\n",
            " [7 8 9]]\n",
            "(3, 3)\n",
            "3\n",
            "1\n",
            "['1' 'a']\n",
            "<class 'numpy.ndarray'>\n",
            "[1. 2. 3.]\n"
          ],
          "name": "stdout"
        }
      ]
    },
    {
      "metadata": {
        "id": "HRu7IApotilI",
        "colab_type": "text"
      },
      "cell_type": "markdown",
      "source": [
        "**Braod Casting**"
      ]
    },
    {
      "metadata": {
        "id": "do68DkWevm-H",
        "colab_type": "code",
        "colab": {
          "base_uri": "https://localhost:8080/",
          "height": 128
        },
        "outputId": "3456f5e1-a351-4de4-ac7a-72ccf698b656"
      },
      "cell_type": "code",
      "source": [
        "from google.colab import drive\n",
        "drive.mount('/content/drive')"
      ],
      "execution_count": 9,
      "outputs": [
        {
          "output_type": "stream",
          "text": [
            "Go to this URL in a browser: https://accounts.google.com/o/oauth2/auth?client_id=947318989803-6bn6qk8qdgf4n4g3pfee6491hc0brc4i.apps.googleusercontent.com&redirect_uri=urn%3Aietf%3Awg%3Aoauth%3A2.0%3Aoob&scope=email%20https%3A%2F%2Fwww.googleapis.com%2Fauth%2Fdocs.test%20https%3A%2F%2Fwww.googleapis.com%2Fauth%2Fdrive%20https%3A%2F%2Fwww.googleapis.com%2Fauth%2Fdrive.photos.readonly%20https%3A%2F%2Fwww.googleapis.com%2Fauth%2Fpeopleapi.readonly&response_type=code\n",
            "\n",
            "Enter your authorization code:\n",
            "··········\n",
            "Mounted at /content/drive\n"
          ],
          "name": "stdout"
        }
      ]
    },
    {
      "metadata": {
        "id": "mlIG5ALowkw6",
        "colab_type": "code",
        "colab": {
          "base_uri": "https://localhost:8080/",
          "height": 35
        },
        "outputId": "87d9582a-a2c2-46c4-ddb7-9e2530728fac"
      },
      "cell_type": "code",
      "source": [
        "os.chdir('/content/drive/My Drive/Python_NIT')\n",
        "print(os.getcwd())"
      ],
      "execution_count": 13,
      "outputs": [
        {
          "output_type": "stream",
          "text": [
            "/content/drive/My Drive/Python_NIT\n"
          ],
          "name": "stdout"
        }
      ]
    },
    {
      "metadata": {
        "id": "4Sxyj0Hetnme",
        "colab_type": "code",
        "colab": {
          "base_uri": "https://localhost:8080/",
          "height": 209
        },
        "outputId": "f27ef942-3c99-4e6e-b1d9-421f30375ad9"
      },
      "cell_type": "code",
      "source": [
        "from IPython.display import Image, display\n",
        "display(Image(filename='broadcast1.png', embed=True))"
      ],
      "execution_count": 14,
      "outputs": [
        {
          "output_type": "display_data",
          "data": {
            "image/png": "[encoded data removed]",
            "text/plain": [
              "<IPython.core.display.Image object>"
            ]
          },
          "metadata": {
            "tags": []
          }
        }
      ]
    },
    {
      "metadata": {
        "colab_type": "text",
        "id": "xZQiU7Ruw7Iq"
      },
      "cell_type": "markdown",
      "source": [
        "**Example1**"
      ]
    },
    {
      "metadata": {
        "id": "2bTmZr73th2x",
        "colab_type": "code",
        "colab": {
          "base_uri": "https://localhost:8080/",
          "height": 72
        },
        "outputId": "1ae89d6e-e71d-426a-83f1-298040a3b229"
      },
      "cell_type": "code",
      "source": [
        "a = np.arange(3)\n",
        "b = 1\n",
        "print(a)\n",
        "print(b)\n",
        "a+b"
      ],
      "execution_count": 40,
      "outputs": [
        {
          "output_type": "stream",
          "text": [
            "[0 1 2]\n",
            "1\n"
          ],
          "name": "stdout"
        },
        {
          "output_type": "execute_result",
          "data": {
            "text/plain": [
              "array([1, 2, 3])"
            ]
          },
          "metadata": {
            "tags": []
          },
          "execution_count": 40
        }
      ]
    },
    {
      "metadata": {
        "id": "z8zBW9Zg1UuC",
        "colab_type": "text"
      },
      "cell_type": "markdown",
      "source": [
        "**Example 2**"
      ]
    },
    {
      "metadata": {
        "id": "HIMlMIyUtgUL",
        "colab_type": "code",
        "colab": {
          "base_uri": "https://localhost:8080/",
          "height": 189
        },
        "outputId": "5767fb5b-a937-4d40-d37a-b2375a6fe5a2"
      },
      "cell_type": "code",
      "source": [
        "from IPython.display import Image, display\n",
        "display(Image(filename='broadcast2.png', embed=True))"
      ],
      "execution_count": 41,
      "outputs": [
        {
          "output_type": "display_data",
          "data": {
            "image/png": "[encoded data removed]",
            "text/plain": [
              "<IPython.core.display.Image object>"
            ]
          },
          "metadata": {
            "tags": []
          }
        }
      ]
    },
    {
      "metadata": {
        "id": "roing4gl1boZ",
        "colab_type": "code",
        "colab": {
          "base_uri": "https://localhost:8080/",
          "height": 108
        },
        "outputId": "7e827068-3aef-4ae8-e46a-b76637847646"
      },
      "cell_type": "code",
      "source": [
        "a = np.arange(6).reshape(2,3)\n",
        "print(a)\n",
        "b = np.arange(3).reshape(1,3)\n",
        "print(b)\n",
        "a+b"
      ],
      "execution_count": 45,
      "outputs": [
        {
          "output_type": "stream",
          "text": [
            "[[0 1 2]\n",
            " [3 4 5]]\n",
            "[[0 1 2]]\n"
          ],
          "name": "stdout"
        },
        {
          "output_type": "execute_result",
          "data": {
            "text/plain": [
              "array([[0, 2, 4],\n",
              "       [3, 5, 7]])"
            ]
          },
          "metadata": {
            "tags": []
          },
          "execution_count": 45
        }
      ]
    },
    {
      "metadata": {
        "id": "JzX1m7Iy2Ak4",
        "colab_type": "text"
      },
      "cell_type": "markdown",
      "source": [
        "**Example3**"
      ]
    },
    {
      "metadata": {
        "id": "zIV4eYDP2GBA",
        "colab_type": "code",
        "colab": {
          "base_uri": "https://localhost:8080/",
          "height": 270
        },
        "outputId": "373558b9-6fa6-47ce-9c46-ab7b08d5b93a"
      },
      "cell_type": "code",
      "source": [
        "from IPython.display import Image, display\n",
        "display(Image(filename='broadcast3.png', embed=True))"
      ],
      "execution_count": 46,
      "outputs": [
        {
          "output_type": "display_data",
          "data": {
            "image/png": "[encoded data removed]",
            "text/plain": [
              "<IPython.core.display.Image object>"
            ]
          },
          "metadata": {
            "tags": []
          }
        }
      ]
    },
    {
      "metadata": {
        "id": "GNHVBt6t2Kra",
        "colab_type": "code",
        "colab": {
          "base_uri": "https://localhost:8080/",
          "height": 126
        },
        "outputId": "aeb8b938-ea2b-4aa4-8003-27cda422f600"
      },
      "cell_type": "code",
      "source": [
        "a = np.arange(6).reshape(2,3)\n",
        "print(a)\n",
        "b = np.array([0,1]).reshape(2,1)\n",
        "print(b)\n",
        "a+b"
      ],
      "execution_count": 47,
      "outputs": [
        {
          "output_type": "stream",
          "text": [
            "[[0 1 2]\n",
            " [3 4 5]]\n",
            "[[0]\n",
            " [1]]\n"
          ],
          "name": "stdout"
        },
        {
          "output_type": "execute_result",
          "data": {
            "text/plain": [
              "array([[0, 1, 2],\n",
              "       [4, 5, 6]])"
            ]
          },
          "metadata": {
            "tags": []
          },
          "execution_count": 47
        }
      ]
    },
    {
      "metadata": {
        "id": "MFQ18Wwu2UF6",
        "colab_type": "text"
      },
      "cell_type": "markdown",
      "source": [
        "**Example4**"
      ]
    },
    {
      "metadata": {
        "id": "mxJVrkjY2Yxp",
        "colab_type": "code",
        "colab": {
          "base_uri": "https://localhost:8080/",
          "height": 268
        },
        "outputId": "06a5f494-2799-4647-fdf1-396dc9b7caeb"
      },
      "cell_type": "code",
      "source": [
        "from IPython.display import Image, display\n",
        "display(Image(filename='broadcast4.png', embed=True))"
      ],
      "execution_count": 48,
      "outputs": [
        {
          "output_type": "display_data",
          "data": {
            "image/png": "[encoded data removed]",
            "text/plain": [
              "<IPython.core.display.Image object>"
            ]
          },
          "metadata": {
            "tags": []
          }
        }
      ]
    },
    {
      "metadata": {
        "id": "nBKJuBcP2lSA",
        "colab_type": "code",
        "colab": {
          "base_uri": "https://localhost:8080/",
          "height": 108
        },
        "outputId": "46e061e0-8a56-4f98-9f43-bf8da2c6c29d"
      },
      "cell_type": "code",
      "source": [
        "a = np.arange(6).reshape(2,3)\n",
        "print(a)\n",
        "b = 2\n",
        "print(b)\n",
        "a+b"
      ],
      "execution_count": 49,
      "outputs": [
        {
          "output_type": "stream",
          "text": [
            "[[0 1 2]\n",
            " [3 4 5]]\n",
            "2\n"
          ],
          "name": "stdout"
        },
        {
          "output_type": "execute_result",
          "data": {
            "text/plain": [
              "array([[2, 3, 4],\n",
              "       [5, 6, 7]])"
            ]
          },
          "metadata": {
            "tags": []
          },
          "execution_count": 49
        }
      ]
    },
    {
      "metadata": {
        "id": "CBu7bROb2tjF",
        "colab_type": "text"
      },
      "cell_type": "markdown",
      "source": [
        "**Example5**"
      ]
    },
    {
      "metadata": {
        "id": "Yb59J4tP2x0Q",
        "colab_type": "code",
        "colab": {
          "base_uri": "https://localhost:8080/",
          "height": 270
        },
        "outputId": "79f86669-73ac-4963-9452-beab023ccb3d"
      },
      "cell_type": "code",
      "source": [
        "from IPython.display import Image, display\n",
        "display(Image(filename='broadcast5.png', embed=True))"
      ],
      "execution_count": 50,
      "outputs": [
        {
          "output_type": "display_data",
          "data": {
            "image/png": "[encoded data removed]",
            "text/plain": [
              "<IPython.core.display.Image object>"
            ]
          },
          "metadata": {
            "tags": []
          }
        }
      ]
    },
    {
      "metadata": {
        "id": "aEN4gI6624P1",
        "colab_type": "code",
        "colab": {
          "base_uri": "https://localhost:8080/",
          "height": 108
        },
        "outputId": "f44a6bd4-417e-417d-debe-c3fe805afb07"
      },
      "cell_type": "code",
      "source": [
        "a = np.array([0,3]).reshape(2,1)\n",
        "print(a)\n",
        "b = np.arange(3).reshape(1,3)\n",
        "print(b)\n",
        "a+b"
      ],
      "execution_count": 54,
      "outputs": [
        {
          "output_type": "stream",
          "text": [
            "[[0]\n",
            " [3]]\n",
            "[[0 1 2]]\n"
          ],
          "name": "stdout"
        },
        {
          "output_type": "execute_result",
          "data": {
            "text/plain": [
              "array([[0, 1, 2],\n",
              "       [3, 4, 5]])"
            ]
          },
          "metadata": {
            "tags": []
          },
          "execution_count": 54
        }
      ]
    }
  ]
}
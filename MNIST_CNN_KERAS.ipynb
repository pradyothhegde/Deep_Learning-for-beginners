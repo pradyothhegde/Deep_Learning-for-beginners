{
 "cells": [
  {
   "cell_type": "markdown",
   "metadata": {},
   "source": [
    "# Convolutional Neural Network\n",
    "In this tutorial we have applied convolutional neural network to MNIST dataset. This is the unique MNIST tutorial where we have:\n",
    "##### 1) Visualized MNIST dataset\n",
    "##### 2) Visualized the Convolutional Model using Keras\n",
    "##### 3) Plotting graph for Training loss vs Validation loss\n",
    "##### 4) Plotting graph for Training accuracy vs Validation accuracy\n",
    "##### 5) Saving the Model\n",
    "##### 6) Loading the Model\n",
    "##### 7) Prediction \n",
    "##### 8) Measuring the performance by plotting Confusion Matrix \n",
    "\n",
    "## Import the required libraries"
   ]
  },
  {
   "cell_type": "code",
   "execution_count": 15,
   "metadata": {
    "colab": {
     "autoexec": {
      "startup": false,
      "wait_interval": 0
     },
     "base_uri": "https://localhost:8080/",
     "height": 34
    },
    "colab_type": "code",
    "executionInfo": {
     "elapsed": 9599,
     "status": "ok",
     "timestamp": 1532426649789,
     "user": {
      "displayName": "Pawan Snj",
      "photoUrl": "//lh6.googleusercontent.com/-ojjGyAo7og4/AAAAAAAAAAI/AAAAAAAADXU/VP6DtpEZJts/s50-c-k-no/photo.jpg",
      "userId": "100746673235819701094"
     },
     "user_tz": -330
    },
    "id": "gxzpgT-1Cvfs",
    "outputId": "8d26f82d-c0e8-4839-f10b-ddce9d730d8c"
   },
   "outputs": [
    {
     "name": "stdout",
     "output_type": "stream",
     "text": [
      "DONE\n"
     ]
    }
   ],
   "source": [
    "import tensorflow as tf\n",
    "import matplotlib.pyplot as plt\n",
    "import numpy as np\n",
    "import math\n",
    "import cv2\n",
    "%matplotlib inline\n",
    "print(\"DONE\")"
   ]
  },
  {
   "cell_type": "code",
   "execution_count": 2,
   "metadata": {
    "colab": {
     "autoexec": {
      "startup": false,
      "wait_interval": 0
     },
     "base_uri": "https://localhost:8080/",
     "height": 52
    },
    "colab_type": "code",
    "executionInfo": {
     "elapsed": 2817,
     "status": "ok",
     "timestamp": 1532426659064,
     "user": {
      "displayName": "Pawan Snj",
      "photoUrl": "//lh6.googleusercontent.com/-ojjGyAo7og4/AAAAAAAAAAI/AAAAAAAADXU/VP6DtpEZJts/s50-c-k-no/photo.jpg",
      "userId": "100746673235819701094"
     },
     "user_tz": -330
    },
    "id": "WlphQbCqDBwH",
    "outputId": "20b7cbf7-9c0b-47a2-98e3-026a6bd3b1d5"
   },
   "outputs": [
    {
     "name": "stdout",
     "output_type": "stream",
     "text": [
      "DONE\n"
     ]
    },
    {
     "name": "stderr",
     "output_type": "stream",
     "text": [
      "Using TensorFlow backend.\n"
     ]
    }
   ],
   "source": [
    "import keras\n",
    "from keras.models import Sequential\n",
    "from keras.layers import Input,InputLayer,Conv2D,Dense,Flatten,Reshape,MaxPooling2D,Dropout\n",
    "from keras.datasets import mnist\n",
    "from keras.models import load_model\n",
    "print(\"DONE\")"
   ]
  },
  {
   "cell_type": "code",
   "execution_count": 3,
   "metadata": {
    "colab": {
     "autoexec": {
      "startup": false,
      "wait_interval": 0
     },
     "base_uri": "https://localhost:8080/",
     "height": 87
    },
    "colab_type": "code",
    "executionInfo": {
     "elapsed": 3879,
     "status": "ok",
     "timestamp": 1532426666319,
     "user": {
      "displayName": "Pawan Snj",
      "photoUrl": "//lh6.googleusercontent.com/-ojjGyAo7og4/AAAAAAAAAAI/AAAAAAAADXU/VP6DtpEZJts/s50-c-k-no/photo.jpg",
      "userId": "100746673235819701094"
     },
     "user_tz": -330
    },
    "id": "wumBJF7UDB9H",
    "outputId": "642e3f54-d20a-461d-f995-3a7c09c6dbbc"
   },
   "outputs": [
    {
     "name": "stdout",
     "output_type": "stream",
     "text": [
      "1.9.0\n",
      "2.1.6\n",
      "3.4.1\n",
      "DONE\n"
     ]
    }
   ],
   "source": [
    "print(tf.__version__)\n",
    "print(keras.__version__)\n",
    "print(cv2.__version__)\n",
    "print(\"DONE\")"
   ]
  },
  {
   "cell_type": "markdown",
   "metadata": {},
   "source": [
    "## Specify:\n",
    "#### 1) Batch size\n",
    "#### 2) Classes"
   ]
  },
  {
   "cell_type": "code",
   "execution_count": 4,
   "metadata": {
    "colab": {
     "autoexec": {
      "startup": false,
      "wait_interval": 0
     },
     "base_uri": "https://localhost:8080/",
     "height": 34
    },
    "colab_type": "code",
    "executionInfo": {
     "elapsed": 3831,
     "status": "ok",
     "timestamp": 1532426670445,
     "user": {
      "displayName": "Pawan Snj",
      "photoUrl": "//lh6.googleusercontent.com/-ojjGyAo7og4/AAAAAAAAAAI/AAAAAAAADXU/VP6DtpEZJts/s50-c-k-no/photo.jpg",
      "userId": "100746673235819701094"
     },
     "user_tz": -330
    },
    "id": "L6jA6LvqDB6p",
    "outputId": "7ffceec9-d40d-4b7a-baf0-3b2b2a8ac983"
   },
   "outputs": [
    {
     "name": "stdout",
     "output_type": "stream",
     "text": [
      "Hello\n"
     ]
    }
   ],
   "source": [
    "batch_size = 128\n",
    "num_classes = 10\n",
    "print(\"Hello\")"
   ]
  },
  {
   "cell_type": "markdown",
   "metadata": {},
   "source": [
    "# Dataset\n",
    "MNIST : The MNIST database of handwritten digits, has a training set of 60,000 examples, and a test set of 10,000 examples. It is a subset of a larger set available from NIST. The digits have been size-normalized and centered in a fixed-size image.It is a good database for people who want to try learning techniques and pattern recognition methods on real-world data while spending minimal efforts on preprocessing and formatting.\n",
    "##### 1)Load the dataset\n",
    "##### 2)Split the dataset into test and train\n",
    "##### 3)Visualize the MNIST data using matplotlib"
   ]
  },
  {
   "cell_type": "code",
   "execution_count": 5,
   "metadata": {
    "colab": {
     "autoexec": {
      "startup": false,
      "wait_interval": 0
     },
     "base_uri": "https://localhost:8080/",
     "height": 321
    },
    "colab_type": "code",
    "executionInfo": {
     "elapsed": 6839,
     "status": "ok",
     "timestamp": 1532426679130,
     "user": {
      "displayName": "Pawan Snj",
      "photoUrl": "//lh6.googleusercontent.com/-ojjGyAo7og4/AAAAAAAAAAI/AAAAAAAADXU/VP6DtpEZJts/s50-c-k-no/photo.jpg",
      "userId": "100746673235819701094"
     },
     "user_tz": -330
    },
    "id": "1r_V0KLJDB3W",
    "outputId": "cce8c427-136c-4b32-c2e4-cf585dd9a20e"
   },
   "outputs": [
    {
     "name": "stdout",
     "output_type": "stream",
     "text": [
      "Downloading data from https://s3.amazonaws.com/img-datasets/mnist.npz\n",
      "11493376/11490434 [==============================] - 4s 0us/step\n"
     ]
    },
    {
     "data": {
      "image/png": "[encoded data removed]",
      "text/plain": [
       "<matplotlib.figure.Figure at 0x7fead20ccf98>"
      ]
     },
     "metadata": {
      "tags": []
     },
     "output_type": "display_data"
    },
    {
     "name": "stdout",
     "output_type": "stream",
     "text": [
      "DONE\n"
     ]
    }
   ],
   "source": [
    "(x_train, y_train), (x_test, y_test) = mnist.load_data()\n",
    "\n",
    "plt.subplot(221)\n",
    "plt.imshow(x_train[0], cmap=plt.get_cmap('gray'))\n",
    "plt.subplot(222)\n",
    "plt.imshow(x_train[1], cmap=plt.get_cmap('gray'))\n",
    "plt.subplot(223)\n",
    "plt.imshow(x_train[2], cmap=plt.get_cmap('gray'))\n",
    "plt.subplot(224)\n",
    "plt.imshow(x_train[3], cmap=plt.get_cmap('gray'))\n",
    "# show the plot\n",
    "plt.show()\n",
    "\n",
    "print('DONE')"
   ]
  },
  {
   "cell_type": "code",
   "execution_count": 6,
   "metadata": {
    "colab": {
     "autoexec": {
      "startup": false,
      "wait_interval": 0
     },
     "base_uri": "https://localhost:8080/",
     "height": 87
    },
    "colab_type": "code",
    "executionInfo": {
     "elapsed": 5342,
     "status": "ok",
     "timestamp": 1532426687994,
     "user": {
      "displayName": "Pawan Snj",
      "photoUrl": "//lh6.googleusercontent.com/-ojjGyAo7og4/AAAAAAAAAAI/AAAAAAAADXU/VP6DtpEZJts/s50-c-k-no/photo.jpg",
      "userId": "100746673235819701094"
     },
     "user_tz": -330
    },
    "id": "wwiqSgAKWRmQ",
    "outputId": "2c2aaf08-ff68-4a02-cd6e-ef2dc74aa5e0"
   },
   "outputs": [
    {
     "name": "stdout",
     "output_type": "stream",
     "text": [
      "60000\n",
      "60000\n",
      "10000\n",
      "10000\n"
     ]
    }
   ],
   "source": [
    "print(len(x_train))\n",
    "print(len(y_train))\n",
    "print(len(y_test))\n",
    "print(len(y_test))"
   ]
  },
  {
   "cell_type": "markdown",
   "metadata": {},
   "source": [
    "## Preprocessing the dataset\n",
    "##### 1) Reshaping\n",
    "##### 2) Converting to float\n",
    "##### 3) DIvide by 255"
   ]
  },
  {
   "cell_type": "code",
   "execution_count": 7,
   "metadata": {
    "colab": {
     "autoexec": {
      "startup": false,
      "wait_interval": 0
     },
     "base_uri": "https://localhost:8080/",
     "height": 34
    },
    "colab_type": "code",
    "executionInfo": {
     "elapsed": 1761,
     "status": "ok",
     "timestamp": 1532426690682,
     "user": {
      "displayName": "Pawan Snj",
      "photoUrl": "//lh6.googleusercontent.com/-ojjGyAo7og4/AAAAAAAAAAI/AAAAAAAADXU/VP6DtpEZJts/s50-c-k-no/photo.jpg",
      "userId": "100746673235819701094"
     },
     "user_tz": -330
    },
    "id": "3dXfLls7DMri",
    "outputId": "a618b47c-eebc-4bdf-ea7a-40bc2b79b74b"
   },
   "outputs": [
    {
     "name": "stdout",
     "output_type": "stream",
     "text": [
      "DONE\n"
     ]
    }
   ],
   "source": [
    "x_train = x_train.reshape(x_train.shape[0], 28, 28,1)\n",
    "x_test  = x_test.reshape(x_test.shape[0], 28, 28,1)\n",
    "input_shape = (28, 28, 1)\n",
    "print(\"DONE\")"
   ]
  },
  {
   "cell_type": "code",
   "execution_count": 8,
   "metadata": {
    "colab": {
     "autoexec": {
      "startup": false,
      "wait_interval": 0
     },
     "base_uri": "https://localhost:8080/",
     "height": 87
    },
    "colab_type": "code",
    "executionInfo": {
     "elapsed": 1488,
     "status": "ok",
     "timestamp": 1532426694395,
     "user": {
      "displayName": "Pawan Snj",
      "photoUrl": "//lh6.googleusercontent.com/-ojjGyAo7og4/AAAAAAAAAAI/AAAAAAAADXU/VP6DtpEZJts/s50-c-k-no/photo.jpg",
      "userId": "100746673235819701094"
     },
     "user_tz": -330
    },
    "id": "f5eC3SD-DM2w",
    "outputId": "b6a67fbb-23a8-45bc-94b8-636e2a6fd30e"
   },
   "outputs": [
    {
     "name": "stdout",
     "output_type": "stream",
     "text": [
      "x_train shape: (60000, 28, 28, 1)\n",
      "60000 train samples\n",
      "10000 test samples\n",
      "DONE\n"
     ]
    }
   ],
   "source": [
    "x_train = x_train.astype('float32')\n",
    "x_test = x_test.astype('float32')\n",
    "x_train /= 255\n",
    "x_test /= 255\n",
    "print('x_train shape:', x_train.shape)\n",
    "print(x_train.shape[0], 'train samples')\n",
    "print(x_test.shape[0], 'test samples')\n",
    "print('DONE')"
   ]
  },
  {
   "cell_type": "code",
   "execution_count": 9,
   "metadata": {
    "colab": {
     "autoexec": {
      "startup": false,
      "wait_interval": 0
     },
     "base_uri": "https://localhost:8080/",
     "height": 34
    },
    "colab_type": "code",
    "executionInfo": {
     "elapsed": 1399,
     "status": "ok",
     "timestamp": 1532426697629,
     "user": {
      "displayName": "Pawan Snj",
      "photoUrl": "//lh6.googleusercontent.com/-ojjGyAo7og4/AAAAAAAAAAI/AAAAAAAADXU/VP6DtpEZJts/s50-c-k-no/photo.jpg",
      "userId": "100746673235819701094"
     },
     "user_tz": -330
    },
    "id": "-yy1tR92DM_9",
    "outputId": "393a1c9a-6a6b-4073-9db0-9407940848fd"
   },
   "outputs": [
    {
     "name": "stdout",
     "output_type": "stream",
     "text": [
      "DONE\n"
     ]
    }
   ],
   "source": [
    "y_train = keras.utils.to_categorical(y_train, num_classes)\n",
    "y_test = keras.utils.to_categorical(y_test, num_classes)\n",
    "print(\"DONE\")"
   ]
  },
  {
   "cell_type": "markdown",
   "metadata": {},
   "source": [
    "## Building the Model"
   ]
  },
  {
   "cell_type": "code",
   "execution_count": null,
   "metadata": {
    "colab": {
     "autoexec": {
      "startup": false,
      "wait_interval": 0
     },
     "base_uri": "https://localhost:8080/",
     "height": 443
    },
    "colab_type": "code",
    "executionInfo": {
     "elapsed": 1362,
     "status": "ok",
     "timestamp": 1532426700930,
     "user": {
      "displayName": "Pawan Snj",
      "photoUrl": "//lh6.googleusercontent.com/-ojjGyAo7og4/AAAAAAAAAAI/AAAAAAAADXU/VP6DtpEZJts/s50-c-k-no/photo.jpg",
      "userId": "100746673235819701094"
     },
     "user_tz": -330
    },
    "id": "TGkPYO4YDNL5",
    "outputId": "d811531c-b2aa-4252-bbb9-5b4dd30808d0"
   },
   "outputs": [],
   "source": [
    "model = Sequential()\n",
    "model.add(Conv2D(32, kernel_size=(3, 3),\n",
    "                 activation='relu',\n",
    "                 input_shape=input_shape))\n",
    "model.add(Conv2D(64, (3, 3), activation='relu'))\n",
    "model.add(MaxPooling2D(pool_size=(2, 2)))\n",
    "model.add(Dropout(0.25))\n",
    "model.add(Flatten())\n",
    "model.add(Dense(128, activation='relu'))\n",
    "model.add(Dropout(0.5))\n",
    "model.add(Dense(num_classes, activation='softmax'))\n",
    "model.summary()\n",
    "print(\"DONE\")"
   ]
  },
  {
   "cell_type": "markdown",
   "metadata": {},
   "source": [
    "## Compile the Model"
   ]
  },
  {
   "cell_type": "code",
   "execution_count": 11,
   "metadata": {
    "colab": {
     "autoexec": {
      "startup": false,
      "wait_interval": 0
     },
     "base_uri": "https://localhost:8080/",
     "height": 34
    },
    "colab_type": "code",
    "executionInfo": {
     "elapsed": 1533,
     "status": "ok",
     "timestamp": 1532426705041,
     "user": {
      "displayName": "Pawan Snj",
      "photoUrl": "//lh6.googleusercontent.com/-ojjGyAo7og4/AAAAAAAAAAI/AAAAAAAADXU/VP6DtpEZJts/s50-c-k-no/photo.jpg",
      "userId": "100746673235819701094"
     },
     "user_tz": -330
    },
    "id": "KsQxZjSMDNHl",
    "outputId": "541031f3-b3d5-4312-e903-af21b5556948"
   },
   "outputs": [
    {
     "name": "stdout",
     "output_type": "stream",
     "text": [
      "DONE\n"
     ]
    }
   ],
   "source": [
    "model.compile(loss=keras.losses.categorical_crossentropy,\n",
    "              optimizer=keras.optimizers.Adadelta(),\n",
    "              metrics=['accuracy'])\n",
    "print(\"DONE\")"
   ]
  },
  {
   "cell_type": "markdown",
   "metadata": {},
   "source": [
    "## Fit the Model"
   ]
  },
  {
   "cell_type": "code",
   "execution_count": 12,
   "metadata": {
    "colab": {
     "autoexec": {
      "startup": false,
      "wait_interval": 0
     },
     "base_uri": "https://localhost:8080/",
     "height": 605
    },
    "colab_type": "code",
    "executionInfo": {
     "elapsed": 151493,
     "status": "ok",
     "timestamp": 1532426863456,
     "user": {
      "displayName": "Pawan Snj",
      "photoUrl": "//lh6.googleusercontent.com/-ojjGyAo7og4/AAAAAAAAAAI/AAAAAAAADXU/VP6DtpEZJts/s50-c-k-no/photo.jpg",
      "userId": "100746673235819701094"
     },
     "user_tz": -330
    },
    "id": "180zwXq-DeqF",
    "outputId": "2367942e-4922-437f-8801-e6d6f2f43360"
   },
   "outputs": [
    {
     "name": "stdout",
     "output_type": "stream",
     "text": [
      "Train on 60000 samples, validate on 10000 samples\n",
      "Epoch 1/15\n",
      "60000/60000 [==============================] - 12s 201us/step - loss: 0.2655 - acc: 0.9183 - val_loss: 0.0626 - val_acc: 0.9815\n",
      "Epoch 2/15\n",
      "60000/60000 [==============================] - 10s 165us/step - loss: 0.0919 - acc: 0.9733 - val_loss: 0.0383 - val_acc: 0.9875\n",
      "Epoch 3/15\n",
      "29312/60000 [=============>................] - ETA: 4s - loss: 0.0659 - acc: 0.979660000/60000 [==============================] - 10s 164us/step - loss: 0.0667 - acc: 0.9799 - val_loss: 0.0388 - val_acc: 0.9862\n",
      "Epoch 4/15\n",
      "60000/60000 [==============================] - 10s 164us/step - loss: 0.0563 - acc: 0.9833 - val_loss: 0.0316 - val_acc: 0.9893\n",
      "Epoch 5/15\n",
      "60000/60000 [==============================] - 10s 164us/step - loss: 0.0477 - acc: 0.9852 - val_loss: 0.0277 - val_acc: 0.9909\n",
      "Epoch 6/15\n",
      "  896/60000 [..............................] - ETA: 9s - loss: 0.0270 - acc: 0.992260000/60000 [==============================] - 10s 165us/step - loss: 0.0420 - acc: 0.9870 - val_loss: 0.0266 - val_acc: 0.9909\n",
      "Epoch 7/15\n",
      "60000/60000 [==============================] - 10s 164us/step - loss: 0.0395 - acc: 0.9878 - val_loss: 0.0270 - val_acc: 0.9904\n",
      "Epoch 8/15\n",
      "54912/60000 [==========================>...] - ETA: 0s - loss: 0.0368 - acc: 0.988860000/60000 [==============================] - 10s 164us/step - loss: 0.0366 - acc: 0.9890 - val_loss: 0.0290 - val_acc: 0.9907\n",
      "Epoch 9/15\n",
      "60000/60000 [==============================] - 10s 164us/step - loss: 0.0319 - acc: 0.9904 - val_loss: 0.0279 - val_acc: 0.9912\n",
      "Epoch 10/15\n",
      "60000/60000 [==============================] - 10s 164us/step - loss: 0.0290 - acc: 0.9910 - val_loss: 0.0270 - val_acc: 0.9917\n",
      "Epoch 11/15\n",
      " 4736/60000 [=>............................] - ETA: 8s - loss: 0.0192 - acc: 0.994160000/60000 [==============================] - 10s 164us/step - loss: 0.0279 - acc: 0.9911 - val_loss: 0.0300 - val_acc: 0.9912\n",
      "Epoch 12/15\n",
      "60000/60000 [==============================] - 10s 164us/step - loss: 0.0271 - acc: 0.9920 - val_loss: 0.0263 - val_acc: 0.9918\n",
      "Epoch 13/15\n",
      "55424/60000 [==========================>...] - ETA: 0s - loss: 0.0264 - acc: 0.991860000/60000 [==============================] - 10s 164us/step - loss: 0.0269 - acc: 0.9917 - val_loss: 0.0273 - val_acc: 0.9921\n",
      "Epoch 14/15\n",
      "60000/60000 [==============================] - 10s 164us/step - loss: 0.0240 - acc: 0.9921 - val_loss: 0.0233 - val_acc: 0.9925\n",
      "Epoch 15/15\n",
      "60000/60000 [==============================] - 10s 164us/step - loss: 0.0241 - acc: 0.9927 - val_loss: 0.0261 - val_acc: 0.9925\n",
      "DONE\n"
     ]
    }
   ],
   "source": [
    "hist = model.fit(x_train, y_train,\n",
    "          batch_size=batch_size,\n",
    "          epochs=15,\n",
    "          verbose=1,\n",
    "          validation_data=(x_test, y_test))\n",
    "print(\"DONE\")"
   ]
  },
  {
   "cell_type": "markdown",
   "metadata": {},
   "source": [
    "## Evaluate the Model"
   ]
  },
  {
   "cell_type": "code",
   "execution_count": 13,
   "metadata": {
    "colab": {
     "autoexec": {
      "startup": false,
      "wait_interval": 0
     },
     "base_uri": "https://localhost:8080/",
     "height": 70
    },
    "colab_type": "code",
    "executionInfo": {
     "elapsed": 2557,
     "status": "ok",
     "timestamp": 1532426868262,
     "user": {
      "displayName": "Pawan Snj",
      "photoUrl": "//lh6.googleusercontent.com/-ojjGyAo7og4/AAAAAAAAAAI/AAAAAAAADXU/VP6DtpEZJts/s50-c-k-no/photo.jpg",
      "userId": "100746673235819701094"
     },
     "user_tz": -330
    },
    "id": "BaFtrLftUI-J",
    "outputId": "445f13b3-52e3-48a4-8a44-778cdcb5fe5e"
   },
   "outputs": [
    {
     "name": "stdout",
     "output_type": "stream",
     "text": [
      "Test loss: 0.026106026894799787\n",
      "Test accuracy: 0.9925\n",
      "DONE\n"
     ]
    }
   ],
   "source": [
    "score = model.evaluate(x_test, y_test, verbose=0)\n",
    "print('Test loss:', score[0])\n",
    "print('Test accuracy:', score[1])\n",
    "print(\"DONE\")"
   ]
  },
  {
   "cell_type": "markdown",
   "metadata": {},
   "source": [
    "## Save the Model"
   ]
  },
  {
   "cell_type": "code",
   "execution_count": null,
   "metadata": {
    "colab": {
     "autoexec": {
      "startup": false,
      "wait_interval": 0
     },
     "base_uri": "https://localhost:8080/",
     "height": 34
    },
    "colab_type": "code",
    "executionInfo": {
     "elapsed": 1010,
     "status": "ok",
     "timestamp": 1531025837662,
     "user": {
      "displayName": "Pawan Snj",
      "photoUrl": "//lh6.googleusercontent.com/-ojjGyAo7og4/AAAAAAAAAAI/AAAAAAAADXU/VP6DtpEZJts/s50-c-k-no/photo.jpg",
      "userId": "100746673235819701094"
     },
     "user_tz": -330
    },
    "id": "47xVtAyBJ0jL",
    "outputId": "9b5e6bf9-d43d-45c0-a097-3a75a5012101"
   },
   "outputs": [
    {
     "name": "stdout",
     "output_type": "stream",
     "text": [
      "DONE\n"
     ]
    }
   ],
   "source": [
    "#Saving the model\n",
    "#model.save(\"mnist_weights_colab.h5py\")\n",
    "#print(\"DONE\")"
   ]
  },
  {
   "cell_type": "markdown",
   "metadata": {},
   "source": [
    "## Load the Model"
   ]
  },
  {
   "cell_type": "code",
   "execution_count": null,
   "metadata": {
    "colab": {
     "autoexec": {
      "startup": false,
      "wait_interval": 0
     },
     "base_uri": "https://localhost:8080/",
     "height": 34
    },
    "colab_type": "code",
    "executionInfo": {
     "elapsed": 2004,
     "status": "ok",
     "timestamp": 1531025840587,
     "user": {
      "displayName": "Pawan Snj",
      "photoUrl": "//lh6.googleusercontent.com/-ojjGyAo7og4/AAAAAAAAAAI/AAAAAAAADXU/VP6DtpEZJts/s50-c-k-no/photo.jpg",
      "userId": "100746673235819701094"
     },
     "user_tz": -330
    },
    "id": "zkeIzf8qJ8x8",
    "outputId": "ca7a87a0-a496-40d5-a88b-38b781dc9e60"
   },
   "outputs": [
    {
     "name": "stdout",
     "output_type": "stream",
     "text": [
      "DONE\n"
     ]
    }
   ],
   "source": [
    "#Loading the model\n",
    "#from keras.models import load_model\n",
    "#model2 = load_model(\"mnist_weights_colab.h5py\")\n",
    "#print(\"DONE\")"
   ]
  },
  {
   "cell_type": "markdown",
   "metadata": {},
   "source": [
    "## Plotting the graphs\n",
    "##### Training loss vs Validation loss\n",
    "##### Training accuracy vs Validation accuracy"
   ]
  },
  {
   "cell_type": "code",
   "execution_count": 17,
   "metadata": {
    "colab": {
     "autoexec": {
      "startup": false,
      "wait_interval": 0
     },
     "base_uri": "https://localhost:8080/",
     "height": 34
    },
    "colab_type": "code",
    "executionInfo": {
     "elapsed": 1356,
     "status": "ok",
     "timestamp": 1532426897466,
     "user": {
      "displayName": "Pawan Snj",
      "photoUrl": "//lh6.googleusercontent.com/-ojjGyAo7og4/AAAAAAAAAAI/AAAAAAAADXU/VP6DtpEZJts/s50-c-k-no/photo.jpg",
      "userId": "100746673235819701094"
     },
     "user_tz": -330
    },
    "id": "2UoUlM77Mv0m",
    "outputId": "76a30b12-ad66-46de-eb20-a28824434372"
   },
   "outputs": [
    {
     "name": "stdout",
     "output_type": "stream",
     "text": [
      "DONE\n"
     ]
    }
   ],
   "source": [
    "train_loss=hist.history['loss']\n",
    "val_loss=hist.history['val_loss']\n",
    "train_acc=hist.history['acc']\n",
    "val_acc=hist.history['val_acc']\n",
    "xc=range(15)\n",
    "print(\"DONE\")"
   ]
  },
  {
   "cell_type": "code",
   "execution_count": 28,
   "metadata": {
    "colab": {
     "autoexec": {
      "startup": false,
      "wait_interval": 0
     },
     "base_uri": "https://localhost:8080/",
     "height": 423
    },
    "colab_type": "code",
    "executionInfo": {
     "elapsed": 1257,
     "status": "ok",
     "timestamp": 1532428175904,
     "user": {
      "displayName": "Pawan Snj",
      "photoUrl": "//lh6.googleusercontent.com/-ojjGyAo7og4/AAAAAAAAAAI/AAAAAAAADXU/VP6DtpEZJts/s50-c-k-no/photo.jpg",
      "userId": "100746673235819701094"
     },
     "user_tz": -330
    },
    "id": "opjR_IVkDeyy",
    "outputId": "6b079abf-4828-4a97-c999-10acc2909d17"
   },
   "outputs": [
    {
     "name": "stdout",
     "output_type": "stream",
     "text": [
      "DONE\n"
     ]
    },
    {
     "data": {
      "image/png": "[encoded data removed]",
      "text/plain": [
       "<matplotlib.figure.Figure at 0x7fea9e9e26d8>"
      ]
     },
     "metadata": {
      "tags": []
     },
     "output_type": "display_data"
    }
   ],
   "source": [
    "plt.figure(1,figsize=(5,5))\n",
    "plt.plot(xc,train_loss)\n",
    "plt.plot(xc,val_loss)\n",
    "plt.xlabel('num of Epochs')\n",
    "plt.ylabel('loss')\n",
    "plt.title('train_loss vs val_loss')\n",
    "plt.grid(True)\n",
    "plt.legend(['train','val'])\n",
    "#print plt.style.available # use bmh, classic,ggplot for big pictures\n",
    "#plt.style.use(['classic'])\n",
    "print(\"DONE\")"
   ]
  },
  {
   "cell_type": "code",
   "execution_count": 29,
   "metadata": {
    "colab": {
     "autoexec": {
      "startup": false,
      "wait_interval": 0
     },
     "base_uri": "https://localhost:8080/",
     "height": 405
    },
    "colab_type": "code",
    "executionInfo": {
     "elapsed": 1197,
     "status": "ok",
     "timestamp": 1532428180065,
     "user": {
      "displayName": "Pawan Snj",
      "photoUrl": "//lh6.googleusercontent.com/-ojjGyAo7og4/AAAAAAAAAAI/AAAAAAAADXU/VP6DtpEZJts/s50-c-k-no/photo.jpg",
      "userId": "100746673235819701094"
     },
     "user_tz": -330
    },
    "id": "GM5BHyTWDe7t",
    "outputId": "1d89fd8e-da39-47a0-a917-d338f60e9699"
   },
   "outputs": [
    {
     "data": {
      "image/png": "[encoded data removed]",
      "text/plain": [
       "<matplotlib.figure.Figure at 0x7fea9df00390>"
      ]
     },
     "metadata": {
      "tags": []
     },
     "output_type": "display_data"
    }
   ],
   "source": [
    "plt.figure(2,figsize=(5,5))\n",
    "plt.plot(xc,train_acc)\n",
    "plt.plot(xc,val_acc)\n",
    "plt.xlabel('num of Epochs')\n",
    "plt.ylabel('accuracy')\n",
    "plt.title('train_acc vs val_acc')\n",
    "plt.grid(True)\n",
    "plt.legend(['train','val'],loc=4)\n",
    "#print plt.style.available # use bmh, classic,ggplot for big pictures\n",
    "plt.style.use(['classic'])"
   ]
  },
  {
   "cell_type": "code",
   "execution_count": 20,
   "metadata": {
    "colab": {
     "autoexec": {
      "startup": false,
      "wait_interval": 0
     },
     "base_uri": "https://localhost:8080/",
     "height": 34
    },
    "colab_type": "code",
    "executionInfo": {
     "elapsed": 1140,
     "status": "ok",
     "timestamp": 1532426919588,
     "user": {
      "displayName": "Pawan Snj",
      "photoUrl": "//lh6.googleusercontent.com/-ojjGyAo7og4/AAAAAAAAAAI/AAAAAAAADXU/VP6DtpEZJts/s50-c-k-no/photo.jpg",
      "userId": "100746673235819701094"
     },
     "user_tz": -330
    },
    "id": "r0YhOF8aW_dl",
    "outputId": "d32b0bd7-1fa6-4451-8ed6-f5b532881709"
   },
   "outputs": [
    {
     "name": "stdout",
     "output_type": "stream",
     "text": [
      "DONE\n"
     ]
    }
   ],
   "source": [
    "from google.colab import files\n",
    "from io import BytesIO\n",
    "from PIL import Image\n",
    "print(\"DONE\")\n"
   ]
  },
  {
   "cell_type": "markdown",
   "metadata": {},
   "source": [
    "## Prediction"
   ]
  },
  {
   "cell_type": "code",
   "execution_count": 21,
   "metadata": {
    "colab": {
     "autoexec": {
      "startup": false,
      "wait_interval": 0
     },
     "base_uri": "https://localhost:8080/",
     "height": 91,
     "resources": {
      "http://localhost:8080/nbextensions/google.colab/files.js": {
       "data": "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",
       "headers": [
        [
         "content-type",
         "application/javascript"
        ]
       ],
       "ok": true,
       "status": 200,
       "status_text": ""
      }
     }
    },
    "colab_type": "code",
    "executionInfo": {
     "elapsed": 24320,
     "status": "ok",
     "timestamp": 1532426946131,
     "user": {
      "displayName": "Pawan Snj",
      "photoUrl": "//lh6.googleusercontent.com/-ojjGyAo7og4/AAAAAAAAAAI/AAAAAAAADXU/VP6DtpEZJts/s50-c-k-no/photo.jpg",
      "userId": "100746673235819701094"
     },
     "user_tz": -330
    },
    "id": "xpJpKO92W_h9",
    "outputId": "6b576cdd-1ecd-4873-df33-2de083e13b03"
   },
   "outputs": [
    {
     "data": {
      "text/html": [
       "\n",
       "     <input type=\"file\" id=\"files-86502c1d-080f-40c9-bda7-c3c7b13053ab\" name=\"files[]\" multiple disabled />\n",
       "     <output id=\"result-86502c1d-080f-40c9-bda7-c3c7b13053ab\">\n",
       "      Upload widget is only available when the cell has been executed in the\n",
       "      current browser session. Please rerun this cell to enable.\n",
       "      </output>\n",
       "      <script src=\"/nbextensions/google.colab/files.js\"></script> "
      ],
      "text/plain": [
       "<IPython.core.display.HTML object>"
      ]
     },
     "metadata": {
      "tags": []
     },
     "output_type": "display_data"
    },
    {
     "name": "stdout",
     "output_type": "stream",
     "text": [
      "Saving 6.png to 6.png\n",
      "DONE\n"
     ]
    }
   ],
   "source": [
    "uploaded = files.upload()\n",
    "print(\"DONE\") # We have performed this task using Google Colaboratory"
   ]
  },
  {
   "cell_type": "code",
   "execution_count": 22,
   "metadata": {
    "colab": {
     "autoexec": {
      "startup": false,
      "wait_interval": 0
     },
     "base_uri": "https://localhost:8080/",
     "height": 486
    },
    "colab_type": "code",
    "executionInfo": {
     "elapsed": 1626,
     "status": "ok",
     "timestamp": 1532426948342,
     "user": {
      "displayName": "Pawan Snj",
      "photoUrl": "//lh6.googleusercontent.com/-ojjGyAo7og4/AAAAAAAAAAI/AAAAAAAADXU/VP6DtpEZJts/s50-c-k-no/photo.jpg",
      "userId": "100746673235819701094"
     },
     "user_tz": -330
    },
    "id": "T1HE3hRikhHC",
    "outputId": "7e914af7-31d6-4e77-d078-483933c79685"
   },
   "outputs": [
    {
     "name": "stdout",
     "output_type": "stream",
     "text": [
      "(28, 28)\n",
      "(1, 28, 28)\n",
      "DONE\n"
     ]
    },
    {
     "data": {
      "image/png": "[encoded data removed]",
      "text/plain": [
       "<matplotlib.figure.Figure at 0x7feaa01d6eb8>"
      ]
     },
     "metadata": {
      "tags": []
     },
     "output_type": "display_data"
    }
   ],
   "source": [
    "img=cv2.imread(\"./6.png\")\n",
    "plt.imshow(img)\n",
    "test_image = cv2.cvtColor(img, cv2.COLOR_BGR2GRAY)\n",
    "test_image=cv2.resize(test_image,(28,28))\n",
    "test_image = np.array(test_image)\n",
    "test_image = test_image.astype('float32')\n",
    "test_image /= 255\n",
    "print (test_image.shape)\n",
    "plt.imshow(test_image)\n",
    "test_image= np.expand_dims(test_image, axis=0)\n",
    "print(test_image.shape)\n",
    "#print(\"shape before\",img.shape)\n",
    "#est_image = cv2.cvtColor(img, cv2.COLOR_BGR2GRAY)\n",
    "#print(\"shape before\",test_image.shape)\n",
    "#test_image = Image_open(BytesIO(uploaded[0 (1).jpg]))\n",
    "#plt.imshow(test_image)\n",
    "print(\"DONE\")\n"
   ]
  },
  {
   "cell_type": "code",
   "execution_count": 23,
   "metadata": {
    "colab": {
     "autoexec": {
      "startup": false,
      "wait_interval": 0
     },
     "base_uri": "https://localhost:8080/",
     "height": 105
    },
    "colab_type": "code",
    "executionInfo": {
     "elapsed": 979,
     "status": "ok",
     "timestamp": 1532426955868,
     "user": {
      "displayName": "Pawan Snj",
      "photoUrl": "//lh6.googleusercontent.com/-ojjGyAo7og4/AAAAAAAAAAI/AAAAAAAADXU/VP6DtpEZJts/s50-c-k-no/photo.jpg",
      "userId": "100746673235819701094"
     },
     "user_tz": -330
    },
    "id": "kGlIlJgrdNYR",
    "outputId": "85df9731-30d3-413a-830c-7344d7b95380"
   },
   "outputs": [
    {
     "name": "stdout",
     "output_type": "stream",
     "text": [
      "(1, 28, 28)\n",
      "[[1.8737055e-06 7.1945027e-13 1.5204249e-10 8.4485819e-08 1.4819246e-14\n",
      "  2.0203121e-02 9.7975153e-01 3.4787453e-15 4.3280281e-05 6.9741257e-12]]\n",
      "[6]\n",
      "DONE\n"
     ]
    }
   ],
   "source": [
    "print(test_image.shape)\n",
    "print((model.predict(test_image.reshape(1,28,28,1))))\n",
    "print(model.predict_classes(test_image.reshape(1,28,28,1)))\n",
    "print('DONE')"
   ]
  },
  {
   "cell_type": "code",
   "execution_count": null,
   "metadata": {
    "colab": {
     "autoexec": {
      "startup": false,
      "wait_interval": 0
     },
     "base_uri": "https://localhost:8080/",
     "height": 34
    },
    "colab_type": "code",
    "executionInfo": {
     "elapsed": 983,
     "status": "ok",
     "timestamp": 1531051242432,
     "user": {
      "displayName": "Pawan Snj",
      "photoUrl": "//lh6.googleusercontent.com/-ojjGyAo7og4/AAAAAAAAAAI/AAAAAAAADXU/VP6DtpEZJts/s50-c-k-no/photo.jpg",
      "userId": "100746673235819701094"
     },
     "user_tz": -330
    },
    "id": "LbtgI2BWw-Fs",
    "outputId": "02ce2d1e-8ece-4a4f-ed1d-b6cfff69310e"
   },
   "outputs": [
    {
     "name": "stdout",
     "output_type": "stream",
     "text": [
      "DONE\n"
     ]
    }
   ],
   "source": [
    "model.get_config()\n",
    "model.get_config()\n",
    "model.layers[0].get_config()\n",
    "model.layers[0].input_shape\t\t\t\n",
    "model.layers[0].output_shape\t\t\t\n",
    "model.layers[0].get_weights()\n",
    "np.shape(model.layers[0].get_weights()[0])\n",
    "model.layers[0].trainable\n",
    "print(\"DONE\")"
   ]
  },
  {
   "cell_type": "markdown",
   "metadata": {
    "colab": {
     "autoexec": {
      "startup": false,
      "wait_interval": 0
     }
    },
    "colab_type": "code",
    "id": "_5CCqWNRfMAM"
   },
   "source": [
    "\n",
    "\n",
    "## Confusion Matrix"
   ]
  },
  {
   "cell_type": "code",
   "execution_count": 27,
   "metadata": {
    "colab": {
     "autoexec": {
      "startup": false,
      "wait_interval": 0
     },
     "base_uri": "https://localhost:8080/",
     "height": 301
    },
    "colab_type": "code",
    "executionInfo": {
     "elapsed": 2091,
     "status": "ok",
     "timestamp": 1532427068567,
     "user": {
      "displayName": "Pawan Snj",
      "photoUrl": "//lh6.googleusercontent.com/-ojjGyAo7og4/AAAAAAAAAAI/AAAAAAAADXU/VP6DtpEZJts/s50-c-k-no/photo.jpg",
      "userId": "100746673235819701094"
     },
     "user_tz": -330
    },
    "id": "_Ccwn-KohwVH",
    "outputId": "dfd5adff-7f89-4362-a26e-e6f3ae52f943"
   },
   "outputs": [
    {
     "name": "stdout",
     "output_type": "stream",
     "text": [
      "                precision    recall  f1-score   support\n",
      "\n",
      "       class 0       0.99      1.00      0.99       980\n",
      "       class 1       0.99      1.00      1.00      1135\n",
      "       class 2       0.99      0.99      0.99      1032\n",
      "       class 3       0.99      1.00      1.00      1010\n",
      "       class 4       0.99      0.99      0.99       982\n",
      "       class 5       0.99      0.99      0.99       892\n",
      "       class 6       1.00      0.99      0.99       958\n",
      "       class 7       0.99      0.99      0.99      1028\n",
      "class 8class 9       0.99      0.99      0.99       974\n",
      "\n",
      "   avg / total       0.99      0.99      0.99     10000\n",
      "\n"
     ]
    },
    {
     "name": "stderr",
     "output_type": "stream",
     "text": [
      "/usr/local/lib/python3.6/dist-packages/sklearn/metrics/classification.py:1428: UserWarning: labels size, 10, does not match size of target_names, 9\n",
      "  .format(len(labels), len(target_names))\n"
     ]
    }
   ],
   "source": [
    "from sklearn.metrics import classification_report,confusion_matrix\n",
    "import itertools\n",
    "\n",
    "Y_pred = model.predict(x_test)\n",
    "#print(Y_pred)\n",
    "y_pred = np.argmax(Y_pred, axis=1)\n",
    "#print(y_pred)\n",
    "#y_pred = model.predict_classes(X_test)\n",
    "#print(y_pred)\n",
    "target_names = ['class 0', 'class 1', 'class 2','class 3','class 4','class 5','class 6','class 7','class 8' 'class 9']\n",
    "\t\t\t\t\t\n",
    "print(classification_report(np.argmax(y_test,axis=1), y_pred,target_names=target_names))\n",
    "\n",
    "#print(confusion_matrix(np.argmax(y_test,axis=1), y_pred))"
   ]
  },
  {
   "cell_type": "code",
   "execution_count": null,
   "metadata": {
    "colab": {
     "autoexec": {
      "startup": false,
      "wait_interval": 0
     }
    },
    "colab_type": "code",
    "id": "bf_5unulhbbs"
   },
   "outputs": [],
   "source": [
    "def plot_confusion_matrix(cm, classes,\n",
    "                          normalize=False,\n",
    "                          title='Confusion matrix',\n",
    "                          cmap=plt.cm.Blues):\n",
    "    \"\"\"\n",
    "    This function prints and plots the confusion matrix.\n",
    "    Normalization can be applied by setting `normalize=True`.\n",
    "    \"\"\"\n",
    "    plt.imshow(cm, interpolation='nearest', cmap=cmap)\n",
    "    plt.title(title)\n",
    "    plt.colorbar()\n",
    "    tick_marks = np.arange(len(classes))\n",
    "    plt.xticks(tick_marks, classes, rotation=45)\n",
    "    plt.yticks(tick_marks, classes)\n",
    "\n",
    "    if normalize:\n",
    "        cm = cm.astype('float') / cm.sum(axis=1)[:, np.newaxis]\n",
    "        print(\"Normalized confusion matrix\")\n",
    "    else:\n",
    "        print('Confusion matrix, without normalization')\n",
    "\n",
    "    print(cm)\n",
    "\n",
    "    thresh = cm.max() / 2.\n",
    "    for i, j in itertools.product(range(cm.shape[0]), range(cm.shape[1])):\n",
    "        plt.text(j, i, cm[i, j],\n",
    "                 horizontalalignment=\"center\",\n",
    "                 color=\"white\" if cm[i, j] > thresh else \"black\")\n",
    "\n",
    "    plt.tight_layout()\n",
    "    plt.ylabel('True label')\n",
    "    plt.xlabel('Predicted label')"
   ]
  },
  {
   "cell_type": "code",
   "execution_count": 26,
   "metadata": {
    "colab": {
     "autoexec": {
      "startup": false,
      "wait_interval": 0
     },
     "base_uri": "https://localhost:8080/",
     "height": 697
    },
    "colab_type": "code",
    "executionInfo": {
     "elapsed": 1848,
     "status": "ok",
     "timestamp": 1532426986059,
     "user": {
      "displayName": "Pawan Snj",
      "photoUrl": "//lh6.googleusercontent.com/-ojjGyAo7og4/AAAAAAAAAAI/AAAAAAAADXU/VP6DtpEZJts/s50-c-k-no/photo.jpg",
      "userId": "100746673235819701094"
     },
     "user_tz": -330
    },
    "id": "6MvJbARRgmhr",
    "outputId": "04798846-6b8c-46bd-ab44-14b78f221692"
   },
   "outputs": [
    {
     "name": "stdout",
     "output_type": "stream",
     "text": [
      "Confusion matrix, without normalization\n",
      "[[ 977    0    0    0    0    0    1    1    1    0]\n",
      " [   0 1135    0    0    0    0    0    0    0    0]\n",
      " [   1    2 1023    0    1    0    0    4    1    0]\n",
      " [   0    0    1 1007    0    1    0    0    1    0]\n",
      " [   0    0    0    0  975    0    1    0    1    5]\n",
      " [   3    0    0    5    0  882    1    0    0    1]\n",
      " [   3    2    0    1    2    1  947    0    2    0]\n",
      " [   0    2    3    0    0    0    0 1021    1    1]\n",
      " [   2    0    2    0    0    0    1    1  967    1]\n",
      " [   3    1    0    1    3    5    0    3    2  991]]\n"
     ]
    },
    {
     "data": {
      "image/png": "[encoded data removed]",
      "text/plain": [
       "<matplotlib.figure.Figure at 0x7feaa01d6cf8>"
      ]
     },
     "metadata": {
      "tags": []
     },
     "output_type": "display_data"
    }
   ],
   "source": [
    "cnf_matrix = (confusion_matrix(np.argmax(y_test,axis=1), y_pred))\n",
    "\n",
    "np.set_printoptions(precision=2)\n",
    "\n",
    "plt.figure()\n",
    "\n",
    "# Plot non-normalized confusion matrix\n",
    "plot_confusion_matrix(cnf_matrix, classes=target_names,\n",
    "                      title='Confusion matrix')\n",
    "#plt.figure()\n",
    "# Plot normalized confusion matrix\n",
    "#plot_confusion_matrix(cnf_matrix, classes=target_names, normalize=True,\n",
    "#                      title='Normalized confusion matrix')\n",
    "#plt.figure()\n",
    "plt.show()"
   ]
  }
 ],
 "metadata": {
  "accelerator": "GPU",
  "colab": {
   "collapsed_sections": [],
   "default_view": {},
   "name": "Copy of MnistCnn_Keras.ipynb",
   "provenance": [],
   "version": "0.3.2",
   "views": {}
  },
  "kernelspec": {
   "display_name": "Python 3",
   "language": "python",
   "name": "python3"
  },
  "language_info": {
   "codemirror_mode": {
    "name": "ipython",
    "version": 3
   },
   "file_extension": ".py",
   "mimetype": "text/x-python",
   "name": "python",
   "nbconvert_exporter": "python",
   "pygments_lexer": "ipython3",
   "version": "3.5.3"
  }
 },
 "nbformat": 4,
 "nbformat_minor": 2
}

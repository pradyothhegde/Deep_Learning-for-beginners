{
 "cells": [
  {
   "cell_type": "markdown",
   "metadata": {},
   "source": [
    "# Iris Classifire\n",
    "### 1) Importing necessary libraries"
   ]
  },
  {
   "cell_type": "code",
   "execution_count": null,
   "metadata": {},
   "outputs": [],
   "source": [
    "import tensorflow as tf\n",
    "import keras\n",
    "from keras.models import Sequential\n",
    "from keras.layers import Dense\n",
    "import numpy\n",
    "import pandas as pd\n",
    "from keras.utils import np_utils\n",
    "print (\"DONE\")"
   ]
  },
  {
   "cell_type": "code",
   "execution_count": 3,
   "metadata": {},
   "outputs": [
    {
     "name": "stdout",
     "output_type": "stream",
     "text": [
      "DONE\n"
     ]
    }
   ],
   "source": [
    "#Reading the columns of the dataset\n",
    "COLUMN_NAMES = [\n",
    "        'SepalLength', \n",
    "        'SepalWidth',\n",
    "        'PetalLength', \n",
    "        'PetalWidth', \n",
    "        'Species'\n",
    "        ]\n",
    "numpy.random.seed(7)\n",
    "print(\"DONE\")"
   ]
  },
  {
   "cell_type": "markdown",
   "metadata": {},
   "source": [
    "# Dataset\n",
    "### 1) Reading training dataset\n",
    "### 2) Reading testing dataset"
   ]
  },
  {
   "cell_type": "code",
   "execution_count": 4,
   "metadata": {},
   "outputs": [
    {
     "name": "stdout",
     "output_type": "stream",
     "text": [
      "DONE\n"
     ]
    }
   ],
   "source": [
    "\n",
    "training_dataset = pd.read_csv('iris_training.csv', names=COLUMN_NAMES, header=0)\n",
    "train_data_iris  = training_dataset.iloc[:, 0:4].values\n",
    "train_label_iris = training_dataset.iloc[:, 4].values\n",
    "#print (train_x)\n",
    "#print (train_y)\n",
    "\n",
    "\n",
    "test_dataset = pd.read_csv('iris_test.csv', names=COLUMN_NAMES, header=0)\n",
    "test_data_iris = test_dataset.iloc[:, 0:4].values\n",
    "test_label_iris = test_dataset.iloc[:, 4].values\n",
    "\n",
    "print('DONE')"
   ]
  },
  {
   "cell_type": "markdown",
   "metadata": {},
   "source": [
    "# Encoding\n",
    "### 1) Encoding training label\n",
    "### 2) Encoding testing laabel"
   ]
  },
  {
   "cell_type": "code",
   "execution_count": 5,
   "metadata": {},
   "outputs": [
    {
     "name": "stdout",
     "output_type": "stream",
     "text": [
      "DONE\n"
     ]
    }
   ],
   "source": [
    "\n",
    "encoding_test_label_iris = np_utils.to_categorical(test_label_iris)\n",
    "# Encoding training dataset\n",
    "encoding_train_label_iris = np_utils.to_categorical(train_label_iris)\n",
    "print(\"DONE\")"
   ]
  },
  {
   "cell_type": "markdown",
   "metadata": {},
   "source": [
    "# Build the Model"
   ]
  },
  {
   "cell_type": "code",
   "execution_count": 6,
   "metadata": {},
   "outputs": [
    {
     "name": "stdout",
     "output_type": "stream",
     "text": [
      "_________________________________________________________________\n",
      "Layer (type)                 Output Shape              Param #   \n",
      "=================================================================\n",
      "dense_1 (Dense)              (None, 10)                50        \n",
      "_________________________________________________________________\n",
      "dense_2 (Dense)              (None, 10)                110       \n",
      "_________________________________________________________________\n",
      "dense_3 (Dense)              (None, 3)                 33        \n",
      "=================================================================\n",
      "Total params: 193\n",
      "Trainable params: 193\n",
      "Non-trainable params: 0\n",
      "_________________________________________________________________\n",
      "DONE\n"
     ]
    }
   ],
   "source": [
    "#Building the model\n",
    "model = Sequential()\n",
    "model.add(Dense(10, input_dim=4, activation='relu'))\n",
    "model.add(Dense(10, activation='relu'))\n",
    "model.add(Dense(3, activation='softmax'))\n",
    "model.summary()\n",
    "print('DONE')"
   ]
  },
  {
   "cell_type": "markdown",
   "metadata": {},
   "source": [
    "# Compile the Model\n",
    "# Fit the Model"
   ]
  },
  {
   "cell_type": "code",
   "execution_count": 7,
   "metadata": {},
   "outputs": [
    {
     "name": "stdout",
     "output_type": "stream",
     "text": [
      "WARNING:tensorflow:From c:\\users\\hp\\appdata\\local\\programs\\python\\python35\\lib\\site-packages\\keras\\backend\\tensorflow_backend.py:2755: calling reduce_sum (from tensorflow.python.ops.math_ops) with keep_dims is deprecated and will be removed in a future version.\n",
      "Instructions for updating:\n",
      "keep_dims is deprecated, use keepdims instead\n",
      "WARNING:tensorflow:From c:\\users\\hp\\appdata\\local\\programs\\python\\python35\\lib\\site-packages\\keras\\backend\\tensorflow_backend.py:1290: calling reduce_mean (from tensorflow.python.ops.math_ops) with keep_dims is deprecated and will be removed in a future version.\n",
      "Instructions for updating:\n",
      "keep_dims is deprecated, use keepdims instead\n",
      "Epoch 1/100\n",
      "120/120 [==============================] - 0s - loss: 1.2395 - acc: 0.0000e+00     \n",
      "Epoch 2/100\n",
      "120/120 [==============================] - 0s - loss: 1.2251 - acc: 0.0000e+00     \n",
      "Epoch 3/100\n",
      "120/120 [==============================] - 0s - loss: 1.2121 - acc: 0.0000e+00     \n",
      "Epoch 4/100\n",
      "120/120 [==============================] - 0s - loss: 1.2001 - acc: 0.0000e+00     \n",
      "Epoch 5/100\n",
      "120/120 [==============================] - 0s - loss: 1.1887 - acc: 0.0000e+00     \n",
      "Epoch 6/100\n",
      "120/120 [==============================] - 0s - loss: 1.1767 - acc: 0.0000e+00     \n",
      "Epoch 7/100\n",
      "120/120 [==============================] - 0s - loss: 1.1644 - acc: 0.0750     \n",
      "Epoch 8/100\n",
      "120/120 [==============================] - 0s - loss: 1.1528 - acc: 0.1417     \n",
      "Epoch 9/100\n",
      "120/120 [==============================] - 0s - loss: 1.1414 - acc: 0.3167     \n",
      "Epoch 10/100\n",
      "120/120 [==============================] - 0s - loss: 1.1306 - acc: 0.3417     \n",
      "Epoch 11/100\n",
      "120/120 [==============================] - 0s - loss: 1.1207 - acc: 0.3500     \n",
      "Epoch 12/100\n",
      "120/120 [==============================] - 0s - loss: 1.1117 - acc: 0.3500     \n",
      "Epoch 13/100\n",
      "120/120 [==============================] - 0s - loss: 1.1031 - acc: 0.3500     \n",
      "Epoch 14/100\n",
      "120/120 [==============================] - 0s - loss: 1.0951 - acc: 0.3500     \n",
      "Epoch 15/100\n",
      "120/120 [==============================] - 0s - loss: 1.0875 - acc: 0.3500     \n",
      "Epoch 16/100\n",
      "120/120 [==============================] - 0s - loss: 1.0802 - acc: 0.3500     \n",
      "Epoch 17/100\n",
      "120/120 [==============================] - 0s - loss: 1.0736 - acc: 0.3500     \n",
      "Epoch 18/100\n",
      "120/120 [==============================] - 0s - loss: 1.0673 - acc: 0.3500     \n",
      "Epoch 19/100\n",
      "120/120 [==============================] - 0s - loss: 1.0611 - acc: 0.3500     \n",
      "Epoch 20/100\n",
      "120/120 [==============================] - 0s - loss: 1.0549 - acc: 0.3583     \n",
      "Epoch 21/100\n",
      "120/120 [==============================] - 0s - loss: 1.0476 - acc: 0.3667     \n",
      "Epoch 22/100\n",
      "120/120 [==============================] - 0s - loss: 1.0396 - acc: 0.3917     \n",
      "Epoch 23/100\n",
      "120/120 [==============================] - 0s - loss: 1.0313 - acc: 0.4667     \n",
      "Epoch 24/100\n",
      "120/120 [==============================] - 0s - loss: 1.0236 - acc: 0.5167     \n",
      "Epoch 25/100\n",
      "120/120 [==============================] - 0s - loss: 1.0169 - acc: 0.5500     \n",
      "Epoch 26/100\n",
      "120/120 [==============================] - 0s - loss: 1.0112 - acc: 0.5833     \n",
      "Epoch 27/100\n",
      "120/120 [==============================] - 0s - loss: 1.0066 - acc: 0.6000     \n",
      "Epoch 28/100\n",
      "120/120 [==============================] - 0s - loss: 1.0033 - acc: 0.6583     \n",
      "Epoch 29/100\n",
      "120/120 [==============================] - 0s - loss: 1.0001 - acc: 0.6583     \n",
      "Epoch 30/100\n",
      "120/120 [==============================] - 0s - loss: 0.9970 - acc: 0.6083     \n",
      "Epoch 31/100\n",
      "120/120 [==============================] - 0s - loss: 0.9940 - acc: 0.5833     \n",
      "Epoch 32/100\n",
      "120/120 [==============================] - 0s - loss: 0.9911 - acc: 0.5083     \n",
      "Epoch 33/100\n",
      "120/120 [==============================] - 0s - loss: 0.9886 - acc: 0.4750     \n",
      "Epoch 34/100\n",
      "120/120 [==============================] - 0s - loss: 0.9861 - acc: 0.4667     \n",
      "Epoch 35/100\n",
      "120/120 [==============================] - 0s - loss: 0.9836 - acc: 0.4833     \n",
      "Epoch 36/100\n",
      "120/120 [==============================] - 0s - loss: 0.9809 - acc: 0.5333     \n",
      "Epoch 37/100\n",
      "120/120 [==============================] - 0s - loss: 0.9781 - acc: 0.5833     \n",
      "Epoch 38/100\n",
      "120/120 [==============================] - 0s - loss: 0.9749 - acc: 0.6250     \n",
      "Epoch 39/100\n",
      "120/120 [==============================] - 0s - loss: 0.9718 - acc: 0.6500     \n",
      "Epoch 40/100\n",
      "120/120 [==============================] - 0s - loss: 0.9688 - acc: 0.6833     \n",
      "Epoch 41/100\n",
      "120/120 [==============================] - 0s - loss: 0.9657 - acc: 0.6917     \n",
      "Epoch 42/100\n",
      "120/120 [==============================] - 0s - loss: 0.9631 - acc: 0.6917     \n",
      "Epoch 43/100\n",
      "120/120 [==============================] - 0s - loss: 0.9603 - acc: 0.6917     \n",
      "Epoch 44/100\n",
      "120/120 [==============================] - 0s - loss: 0.9576 - acc: 0.6917     \n",
      "Epoch 45/100\n",
      "120/120 [==============================] - 0s - loss: 0.9548 - acc: 0.6917     \n",
      "Epoch 46/100\n",
      "120/120 [==============================] - 0s - loss: 0.9520 - acc: 0.6917     \n",
      "Epoch 47/100\n",
      "120/120 [==============================] - 0s - loss: 0.9493 - acc: 0.6917     \n",
      "Epoch 48/100\n",
      "120/120 [==============================] - 0s - loss: 0.9465 - acc: 0.6917     \n",
      "Epoch 49/100\n",
      "120/120 [==============================] - 0s - loss: 0.9438 - acc: 0.6917     \n",
      "Epoch 50/100\n",
      "120/120 [==============================] - 0s - loss: 0.9410 - acc: 0.6917     \n",
      "Epoch 51/100\n",
      "120/120 [==============================] - 0s - loss: 0.9382 - acc: 0.6917     \n",
      "Epoch 52/100\n",
      "120/120 [==============================] - 0s - loss: 0.9351 - acc: 0.6917     \n",
      "Epoch 53/100\n",
      "120/120 [==============================] - 0s - loss: 0.9322 - acc: 0.6917     \n",
      "Epoch 54/100\n",
      "120/120 [==============================] - 0s - loss: 0.9290 - acc: 0.6917     \n",
      "Epoch 55/100\n",
      "120/120 [==============================] - 0s - loss: 0.9258 - acc: 0.6917     \n",
      "Epoch 56/100\n",
      "120/120 [==============================] - 0s - loss: 0.9229 - acc: 0.6917     \n",
      "Epoch 57/100\n",
      "120/120 [==============================] - 0s - loss: 0.9201 - acc: 0.6917     \n",
      "Epoch 58/100\n",
      "120/120 [==============================] - 0s - loss: 0.9172 - acc: 0.6917     \n",
      "Epoch 59/100\n",
      "120/120 [==============================] - 0s - loss: 0.9142 - acc: 0.6917     \n",
      "Epoch 60/100\n",
      "120/120 [==============================] - 0s - loss: 0.9111 - acc: 0.6917     \n",
      "Epoch 61/100\n",
      "120/120 [==============================] - 0s - loss: 0.9081 - acc: 0.6917     \n",
      "Epoch 62/100\n",
      "120/120 [==============================] - 0s - loss: 0.9051 - acc: 0.6917     \n",
      "Epoch 63/100\n",
      "120/120 [==============================] - 0s - loss: 0.9022 - acc: 0.6917     \n",
      "Epoch 64/100\n",
      "120/120 [==============================] - 0s - loss: 0.8991 - acc: 0.6917     \n",
      "Epoch 65/100\n",
      "120/120 [==============================] - 0s - loss: 0.8962 - acc: 0.6917     \n",
      "Epoch 66/100\n",
      "120/120 [==============================] - 0s - loss: 0.8932 - acc: 0.6917     \n",
      "Epoch 67/100\n",
      "120/120 [==============================] - ETA: 0s - loss: 0.9133 - acc: 0.660 - 0s - loss: 0.8900 - acc: 0.6917     \n",
      "Epoch 68/100\n",
      "120/120 [==============================] - 0s - loss: 0.8867 - acc: 0.6917     \n",
      "Epoch 69/100\n",
      "120/120 [==============================] - 0s - loss: 0.8835 - acc: 0.6917     \n",
      "Epoch 70/100\n",
      "120/120 [==============================] - 0s - loss: 0.8802 - acc: 0.6917     \n",
      "Epoch 71/100\n",
      "120/120 [==============================] - 0s - loss: 0.8769 - acc: 0.6917     \n",
      "Epoch 72/100\n",
      "120/120 [==============================] - 0s - loss: 0.8738 - acc: 0.6917     \n",
      "Epoch 73/100\n",
      "120/120 [==============================] - 0s - loss: 0.8704 - acc: 0.6917     \n",
      "Epoch 74/100\n",
      "120/120 [==============================] - 0s - loss: 0.8671 - acc: 0.6917     \n",
      "Epoch 75/100\n",
      "120/120 [==============================] - 0s - loss: 0.8638 - acc: 0.6917     \n",
      "Epoch 76/100\n",
      "120/120 [==============================] - 0s - loss: 0.8603 - acc: 0.6917     \n",
      "Epoch 77/100\n",
      "120/120 [==============================] - 0s - loss: 0.8569 - acc: 0.6917     \n",
      "Epoch 78/100\n",
      "120/120 [==============================] - 0s - loss: 0.8535 - acc: 0.6917     \n",
      "Epoch 79/100\n",
      "120/120 [==============================] - 0s - loss: 0.8501 - acc: 0.6917     \n",
      "Epoch 80/100\n",
      "120/120 [==============================] - 0s - loss: 0.8466 - acc: 0.6917     \n",
      "Epoch 81/100\n",
      "120/120 [==============================] - 0s - loss: 0.8431 - acc: 0.6917     \n",
      "Epoch 82/100\n",
      "120/120 [==============================] - 0s - loss: 0.8395 - acc: 0.6917     \n",
      "Epoch 83/100\n",
      "120/120 [==============================] - 0s - loss: 0.8358 - acc: 0.6917     \n",
      "Epoch 84/100\n",
      "120/120 [==============================] - 0s - loss: 0.8320 - acc: 0.6917     \n",
      "Epoch 85/100\n",
      "120/120 [==============================] - 0s - loss: 0.8283 - acc: 0.6917     \n",
      "Epoch 86/100\n",
      "120/120 [==============================] - 0s - loss: 0.8246 - acc: 0.6917     \n",
      "Epoch 87/100\n",
      "120/120 [==============================] - 0s - loss: 0.8207 - acc: 0.7000     \n",
      "Epoch 88/100\n",
      "120/120 [==============================] - 0s - loss: 0.8168 - acc: 0.7000     \n",
      "Epoch 89/100\n",
      "120/120 [==============================] - 0s - loss: 0.8129 - acc: 0.7000     \n",
      "Epoch 90/100\n",
      "120/120 [==============================] - 0s - loss: 0.8091 - acc: 0.7000     \n",
      "Epoch 91/100\n",
      "120/120 [==============================] - 0s - loss: 0.8052 - acc: 0.7000     \n",
      "Epoch 92/100\n",
      "120/120 [==============================] - 0s - loss: 0.8011 - acc: 0.7000     \n",
      "Epoch 93/100\n",
      "120/120 [==============================] - 0s - loss: 0.7970 - acc: 0.7000     \n",
      "Epoch 94/100\n",
      "120/120 [==============================] - 0s - loss: 0.7925 - acc: 0.7000     \n",
      "Epoch 95/100\n",
      "120/120 [==============================] - 0s - loss: 0.7881 - acc: 0.7000     \n",
      "Epoch 96/100\n",
      "120/120 [==============================] - 0s - loss: 0.7839 - acc: 0.7000     \n",
      "Epoch 97/100\n",
      "120/120 [==============================] - 0s - loss: 0.7794 - acc: 0.7000     \n",
      "Epoch 98/100\n",
      "120/120 [==============================] - 0s - loss: 0.7751 - acc: 0.7000     \n",
      "Epoch 99/100\n",
      "120/120 [==============================] - 0s - loss: 0.7708 - acc: 0.7000     \n",
      "Epoch 100/100\n",
      "120/120 [==============================] - 0s - loss: 0.7670 - acc: 0.7000     \n",
      "DONE\n"
     ]
    }
   ],
   "source": [
    "model.compile(loss='categorical_crossentropy', optimizer='adam', metrics=['accuracy'])\n",
    "model.fit(train_data_iris, encoding_train_label_iris, epochs=100, batch_size=100)\n",
    "print(\"DONE\")"
   ]
  },
  {
   "cell_type": "markdown",
   "metadata": {},
   "source": [
    " # Evaluate the model"
   ]
  },
  {
   "cell_type": "code",
   "execution_count": 10,
   "metadata": {},
   "outputs": [
    {
     "name": "stdout",
     "output_type": "stream",
     "text": [
      "30/30 [==============================] - 0s\n",
      "\n",
      "Accuracy: 53.33%\n"
     ]
    }
   ],
   "source": [
    "\n",
    "# evaluate the model\n",
    "scores = model.evaluate(test_data_iris, encoding_test_label_iris )\n",
    "print(\"\\nAccuracy: %.2f%%\" % (scores[1]*100))"
   ]
  },
  {
   "cell_type": "code",
   "execution_count": null,
   "metadata": {},
   "outputs": [],
   "source": []
  },
  {
   "cell_type": "code",
   "execution_count": null,
   "metadata": {},
   "outputs": [],
   "source": []
  }
 ],
 "metadata": {
  "kernelspec": {
   "display_name": "Python 3",
   "language": "python",
   "name": "python3"
  },
  "language_info": {
   "codemirror_mode": {
    "name": "ipython",
    "version": 3
   },
   "file_extension": ".py",
   "mimetype": "text/x-python",
   "name": "python",
   "nbconvert_exporter": "python",
   "pygments_lexer": "ipython3",
   "version": "3.5.3"
  }
 },
 "nbformat": 4,
 "nbformat_minor": 2
}

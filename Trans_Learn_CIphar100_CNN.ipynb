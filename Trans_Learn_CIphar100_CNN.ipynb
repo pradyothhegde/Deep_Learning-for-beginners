{
  "nbformat": 4,
  "nbformat_minor": 0,
  "metadata": {
    "colab": {
      "name": "Tut3_Cipar_100_Keras_CNN.ipynb",
      "version": "0.3.2",
      "views": {},
      "default_view": {},
      "provenance": [],
      "collapsed_sections": []
    },
    "kernelspec": {
      "name": "python3",
      "display_name": "Python 3"
    },
    "accelerator": "GPU"
  },
  "cells": [
    {
      "metadata": {
        "id": "xVMCYr_l04PQ",
        "colab_type": "code",
        "colab": {
          "autoexec": {
            "startup": false,
            "wait_interval": 0
          },
          "base_uri": "https://localhost:8080/",
          "height": 52
        },
        "outputId": "80fe62b9-ed1d-40b2-c417-44fb8bf914bf",
        "executionInfo": {
          "status": "ok",
          "timestamp": 1529030465557,
          "user_tz": -330,
          "elapsed": 7855,
          "user": {
            "displayName": "Pawan Snj",
            "photoUrl": "//lh6.googleusercontent.com/-ojjGyAo7og4/AAAAAAAAAAI/AAAAAAAADXU/VP6DtpEZJts/s50-c-k-no/photo.jpg",
            "userId": "100746673235819701094"
          }
        }
      },
      "cell_type": "code",
      "source": [
        "import numpy as np\n",
        "import matplotlib.pyplot as plt\n",
        "%matplotlib inline\n",
        "from __future__ import print_function\n",
        "import keras\n",
        "from keras.models import Sequential\n",
        "from keras.utils import to_categorical\n",
        "from keras.layers import Dense, Conv2D, MaxPooling2D, Dropout, Flatten\n",
        "print(\"DONE\")"
      ],
      "execution_count": 1,
      "outputs": [
        {
          "output_type": "stream",
          "text": [
            "Using TensorFlow backend.\n"
          ],
          "name": "stderr"
        },
        {
          "output_type": "stream",
          "text": [
            "DONE\n"
          ],
          "name": "stdout"
        }
      ]
    },
    {
      "metadata": {
        "id": "sR1qfHuo07XE",
        "colab_type": "code",
        "colab": {
          "autoexec": {
            "startup": false,
            "wait_interval": 0
          },
          "base_uri": "https://localhost:8080/",
          "height": 70
        },
        "outputId": "1d7abbc5-e0c4-42e1-955c-60b2d1934539",
        "executionInfo": {
          "status": "ok",
          "timestamp": 1529030495350,
          "user_tz": -330,
          "elapsed": 26806,
          "user": {
            "displayName": "Pawan Snj",
            "photoUrl": "//lh6.googleusercontent.com/-ojjGyAo7og4/AAAAAAAAAAI/AAAAAAAADXU/VP6DtpEZJts/s50-c-k-no/photo.jpg",
            "userId": "100746673235819701094"
          }
        }
      },
      "cell_type": "code",
      "source": [
        "#from keras.datasets import cifar100\n",
        "\n",
        "#(x_train, y_train), (x_test, y_test) = cifar100.load_data(label_mode='fine')\n",
        "\n",
        "from keras.datasets import cifar100\n",
        "(train_images, train_labels), (test_images, test_labels) = cifar100.load_data()\n",
        "print(\"DONE\")"
      ],
      "execution_count": 2,
      "outputs": [
        {
          "output_type": "stream",
          "text": [
            "Downloading data from https://www.cs.toronto.edu/~kriz/cifar-100-python.tar.gz\n",
            "169009152/169001437 [==============================] - 23s 0us/step\n",
            "DONE\n"
          ],
          "name": "stdout"
        }
      ]
    },
    {
      "metadata": {
        "id": "1Qik--ll07ch",
        "colab_type": "code",
        "colab": {
          "autoexec": {
            "startup": false,
            "wait_interval": 0
          },
          "base_uri": "https://localhost:8080/",
          "height": 176
        },
        "outputId": "d17843aa-3fe6-4eba-d013-5087bef57df8",
        "executionInfo": {
          "status": "ok",
          "timestamp": 1529030499239,
          "user_tz": -330,
          "elapsed": 1034,
          "user": {
            "displayName": "Pawan Snj",
            "photoUrl": "//lh6.googleusercontent.com/-ojjGyAo7og4/AAAAAAAAAAI/AAAAAAAADXU/VP6DtpEZJts/s50-c-k-no/photo.jpg",
            "userId": "100746673235819701094"
          }
        }
      },
      "cell_type": "code",
      "source": [
        "print('Training data shape : ', train_images.shape, train_labels.shape)\n",
        "\n",
        "print('Testing data shape : ', test_images.shape, test_labels.shape)\n",
        "\n",
        "# Find the unique numbers from the train labels\n",
        "classes = np.unique(train_labels)\n",
        "nClasses = len(classes)\n",
        "print('Total number of outputs : ', nClasses)\n",
        "print('Output classes : ', classes)\n",
        "print(\"DONE\")"
      ],
      "execution_count": 3,
      "outputs": [
        {
          "output_type": "stream",
          "text": [
            "Training data shape :  (50000, 32, 32, 3) (50000, 1)\n",
            "Testing data shape :  (10000, 32, 32, 3) (10000, 1)\n",
            "Total number of outputs :  100\n",
            "Output classes :  [ 0  1  2  3  4  5  6  7  8  9 10 11 12 13 14 15 16 17 18 19 20 21 22 23\n",
            " 24 25 26 27 28 29 30 31 32 33 34 35 36 37 38 39 40 41 42 43 44 45 46 47\n",
            " 48 49 50 51 52 53 54 55 56 57 58 59 60 61 62 63 64 65 66 67 68 69 70 71\n",
            " 72 73 74 75 76 77 78 79 80 81 82 83 84 85 86 87 88 89 90 91 92 93 94 95\n",
            " 96 97 98 99]\n",
            "DONE\n"
          ],
          "name": "stdout"
        }
      ]
    },
    {
      "metadata": {
        "id": "AwMaPAzg07g4",
        "colab_type": "code",
        "colab": {
          "autoexec": {
            "startup": false,
            "wait_interval": 0
          },
          "base_uri": "https://localhost:8080/",
          "height": 181
        },
        "outputId": "9c4637ee-90a2-479f-afb0-0b0006b48e9d",
        "executionInfo": {
          "status": "ok",
          "timestamp": 1529030502656,
          "user_tz": -330,
          "elapsed": 1624,
          "user": {
            "displayName": "Pawan Snj",
            "photoUrl": "//lh6.googleusercontent.com/-ojjGyAo7og4/AAAAAAAAAAI/AAAAAAAADXU/VP6DtpEZJts/s50-c-k-no/photo.jpg",
            "userId": "100746673235819701094"
          }
        }
      },
      "cell_type": "code",
      "source": [
        "plt.figure(figsize=[4,2])\n",
        "\n",
        "# Display the first image in training data\n",
        "plt.subplot(121)\n",
        "plt.imshow(train_images[0,:,:], cmap='gray')\n",
        "plt.title(\"Ground Truth : {}\".format(train_labels[0]))\n",
        "\n",
        "# Display the first image in testing data\n",
        "plt.subplot(122)\n",
        "plt.imshow(test_images[0,:,:], cmap='gray')\n",
        "plt.title(\"Ground Truth : {}\".format(test_labels[0]))\n",
        "print(\"DONE\")"
      ],
      "execution_count": 4,
      "outputs": [
        {
          "output_type": "stream",
          "text": [
            "DONE\n"
          ],
          "name": "stdout"
        },
        {
          "output_type": "display_data",
          "data": {
            "image/png": "[encoded data removed]",
            "text/plain": [
              "<matplotlib.figure.Figure at 0x7fb22b05c2e8>"
            ]
          },
          "metadata": {
            "tags": []
          }
        }
      ]
    },
    {
      "metadata": {
        "id": "7pm2tYxG07kB",
        "colab_type": "code",
        "colab": {
          "autoexec": {
            "startup": false,
            "wait_interval": 0
          },
          "base_uri": "https://localhost:8080/",
          "height": 34
        },
        "outputId": "b9a76f65-b43f-49f6-d2d0-cde6ecdb6abb",
        "executionInfo": {
          "status": "ok",
          "timestamp": 1529030506681,
          "user_tz": -330,
          "elapsed": 1439,
          "user": {
            "displayName": "Pawan Snj",
            "photoUrl": "//lh6.googleusercontent.com/-ojjGyAo7og4/AAAAAAAAAAI/AAAAAAAADXU/VP6DtpEZJts/s50-c-k-no/photo.jpg",
            "userId": "100746673235819701094"
          }
        }
      },
      "cell_type": "code",
      "source": [
        "# Find the shape of input images and create the variable input_shape\n",
        "nRows,nCols,nDims = train_images.shape[1:]\n",
        "train_data = train_images.reshape(train_images.shape[0], nRows, nCols, nDims)\n",
        "test_data  = test_images.reshape (test_images.shape[0], nRows, nCols, nDims)\n",
        "input_shape = (nRows, nCols, nDims)\n",
        "\n",
        "# Change to float datatype\n",
        "train_data = train_data.astype('float32')\n",
        "test_data = test_data.astype('float32')\n",
        "\n",
        "# Scale the data to lie between 0 to 1\n",
        "train_data /= 255\n",
        "test_data /= 255\n",
        "\n",
        "# Change the labels from integer to categorical data\n",
        "train_labels_one_hot = to_categorical(train_labels)\n",
        "test_labels_one_hot = to_categorical(test_labels)\n",
        "print(\"DONE\")"
      ],
      "execution_count": 5,
      "outputs": [
        {
          "output_type": "stream",
          "text": [
            "DONE\n"
          ],
          "name": "stdout"
        }
      ]
    },
    {
      "metadata": {
        "id": "SEy9DKtm07oJ",
        "colab_type": "code",
        "colab": {
          "autoexec": {
            "startup": false,
            "wait_interval": 0
          },
          "base_uri": "https://localhost:8080/",
          "height": 141
        },
        "outputId": "5c6cc574-4dac-4b68-9e1f-42a3f600764b",
        "executionInfo": {
          "status": "ok",
          "timestamp": 1529030509435,
          "user_tz": -330,
          "elapsed": 1026,
          "user": {
            "displayName": "Pawan Snj",
            "photoUrl": "//lh6.googleusercontent.com/-ojjGyAo7og4/AAAAAAAAAAI/AAAAAAAADXU/VP6DtpEZJts/s50-c-k-no/photo.jpg",
            "userId": "100746673235819701094"
          }
        }
      },
      "cell_type": "code",
      "source": [
        "# Display the change for category label using one-hot encoding\n",
        "print('Original label 0 : ', train_labels[0])\n",
        "print('After conversion to categorical ( one-hot ) : ', train_labels_one_hot[0])\n",
        "print(\"DONE\")"
      ],
      "execution_count": 6,
      "outputs": [
        {
          "output_type": "stream",
          "text": [
            "Original label 0 :  [19]\n",
            "After conversion to categorical ( one-hot ) :  [0. 0. 0. 0. 0. 0. 0. 0. 0. 0. 0. 0. 0. 0. 0. 0. 0. 0. 0. 1. 0. 0. 0. 0.\n",
            " 0. 0. 0. 0. 0. 0. 0. 0. 0. 0. 0. 0. 0. 0. 0. 0. 0. 0. 0. 0. 0. 0. 0. 0.\n",
            " 0. 0. 0. 0. 0. 0. 0. 0. 0. 0. 0. 0. 0. 0. 0. 0. 0. 0. 0. 0. 0. 0. 0. 0.\n",
            " 0. 0. 0. 0. 0. 0. 0. 0. 0. 0. 0. 0. 0. 0. 0. 0. 0. 0. 0. 0. 0. 0. 0. 0.\n",
            " 0. 0. 0. 0.]\n",
            "DONE\n"
          ],
          "name": "stdout"
        }
      ]
    },
    {
      "metadata": {
        "id": "VssbRs9E2gvN",
        "colab_type": "code",
        "colab": {
          "autoexec": {
            "startup": false,
            "wait_interval": 0
          },
          "base_uri": "https://localhost:8080/",
          "height": 34
        },
        "outputId": "b6eeaa8e-e225-4302-e5a2-f5a81708a2b5",
        "executionInfo": {
          "status": "ok",
          "timestamp": 1529030514407,
          "user_tz": -330,
          "elapsed": 1035,
          "user": {
            "displayName": "Pawan Snj",
            "photoUrl": "//lh6.googleusercontent.com/-ojjGyAo7og4/AAAAAAAAAAI/AAAAAAAADXU/VP6DtpEZJts/s50-c-k-no/photo.jpg",
            "userId": "100746673235819701094"
          }
        }
      },
      "cell_type": "code",
      "source": [
        "    model = Sequential()\n",
        "    # The first two layers with 32 filters of window size 3x3\n",
        "    model.add(Conv2D(32, (3, 3), padding='same', activation='relu', input_shape=input_shape))\n",
        "    model.add(Conv2D(32, (3, 3), activation='relu'))\n",
        "    model.add(MaxPooling2D(pool_size=(2, 2)))\n",
        "    model.add(Dropout(0.25))\n",
        "\n",
        "    model.add(Conv2D(64, (3, 3), padding='same', activation='relu'))\n",
        "    model.add(Conv2D(64, (3, 3), activation='relu'))\n",
        "    model.add(MaxPooling2D(pool_size=(2, 2)))\n",
        "    model.add(Dropout(0.25))\n",
        "\n",
        "    model.add(Conv2D(64, (3, 3), padding='same', activation='relu'))\n",
        "    model.add(Conv2D(64, (3, 3), activation='relu'))\n",
        "    model.add(MaxPooling2D(pool_size=(2, 2)))\n",
        "    model.add(Dropout(0.25))\n",
        "\n",
        "    model.add(Flatten())\n",
        "    model.add(Dense(512, activation='relu'))\n",
        "    model.add(Dropout(0.5))\n",
        "    model.add(Dense(nClasses, activation='softmax'))\n",
        "    print(\"DONE\")"
      ],
      "execution_count": 7,
      "outputs": [
        {
          "output_type": "stream",
          "text": [
            "DONE\n"
          ],
          "name": "stdout"
        }
      ]
    },
    {
      "metadata": {
        "id": "XV6pFnAE2g09",
        "colab_type": "code",
        "colab": {
          "autoexec": {
            "startup": false,
            "wait_interval": 0
          },
          "base_uri": "https://localhost:8080/",
          "height": 727
        },
        "outputId": "3f1b2762-9adf-4b77-82cb-c02d86d53152",
        "executionInfo": {
          "status": "ok",
          "timestamp": 1528971762565,
          "user_tz": -330,
          "elapsed": 966,
          "user": {
            "displayName": "Pawan Snj",
            "photoUrl": "//lh6.googleusercontent.com/-ojjGyAo7og4/AAAAAAAAAAI/AAAAAAAADXU/VP6DtpEZJts/s50-c-k-no/photo.jpg",
            "userId": "100746673235819701094"
          }
        }
      },
      "cell_type": "code",
      "source": [
        "model.summary()\n",
        "print(\"DONE\")"
      ],
      "execution_count": 8,
      "outputs": [
        {
          "output_type": "stream",
          "text": [
            "_________________________________________________________________\n",
            "Layer (type)                 Output Shape              Param #   \n",
            "=================================================================\n",
            "conv2d_1 (Conv2D)            (None, 32, 32, 32)        896       \n",
            "_________________________________________________________________\n",
            "conv2d_2 (Conv2D)            (None, 30, 30, 32)        9248      \n",
            "_________________________________________________________________\n",
            "max_pooling2d_1 (MaxPooling2 (None, 15, 15, 32)        0         \n",
            "_________________________________________________________________\n",
            "dropout_1 (Dropout)          (None, 15, 15, 32)        0         \n",
            "_________________________________________________________________\n",
            "conv2d_3 (Conv2D)            (None, 15, 15, 64)        18496     \n",
            "_________________________________________________________________\n",
            "conv2d_4 (Conv2D)            (None, 13, 13, 64)        36928     \n",
            "_________________________________________________________________\n",
            "max_pooling2d_2 (MaxPooling2 (None, 6, 6, 64)          0         \n",
            "_________________________________________________________________\n",
            "dropout_2 (Dropout)          (None, 6, 6, 64)          0         \n",
            "_________________________________________________________________\n",
            "conv2d_5 (Conv2D)            (None, 6, 6, 64)          36928     \n",
            "_________________________________________________________________\n",
            "conv2d_6 (Conv2D)            (None, 4, 4, 64)          36928     \n",
            "_________________________________________________________________\n",
            "max_pooling2d_3 (MaxPooling2 (None, 2, 2, 64)          0         \n",
            "_________________________________________________________________\n",
            "dropout_3 (Dropout)          (None, 2, 2, 64)          0         \n",
            "_________________________________________________________________\n",
            "flatten_1 (Flatten)          (None, 256)               0         \n",
            "_________________________________________________________________\n",
            "dense_1 (Dense)              (None, 512)               131584    \n",
            "_________________________________________________________________\n",
            "dropout_4 (Dropout)          (None, 512)               0         \n",
            "_________________________________________________________________\n",
            "dense_2 (Dense)              (None, 100)               51300     \n",
            "=================================================================\n",
            "Total params: 322,308\n",
            "Trainable params: 322,308\n",
            "Non-trainable params: 0\n",
            "_________________________________________________________________\n",
            "DONE\n"
          ],
          "name": "stdout"
        }
      ]
    },
    {
      "metadata": {
        "id": "fsHl8ZZx2g5l",
        "colab_type": "code",
        "colab": {
          "autoexec": {
            "startup": false,
            "wait_interval": 0
          },
          "base_uri": "https://localhost:8080/",
          "height": 34
        },
        "outputId": "e1c105cf-130f-4122-dc81-7db97a8b32f0",
        "executionInfo": {
          "status": "ok",
          "timestamp": 1529030520464,
          "user_tz": -330,
          "elapsed": 1029,
          "user": {
            "displayName": "Pawan Snj",
            "photoUrl": "//lh6.googleusercontent.com/-ojjGyAo7og4/AAAAAAAAAAI/AAAAAAAADXU/VP6DtpEZJts/s50-c-k-no/photo.jpg",
            "userId": "100746673235819701094"
          }
        }
      },
      "cell_type": "code",
      "source": [
        "batch_size = 256\n",
        "epochs = 25\n",
        "print(\"DONE\")\n"
      ],
      "execution_count": 8,
      "outputs": [
        {
          "output_type": "stream",
          "text": [
            "DONE\n"
          ],
          "name": "stdout"
        }
      ]
    },
    {
      "metadata": {
        "id": "iZU84euG2g91",
        "colab_type": "code",
        "colab": {
          "autoexec": {
            "startup": false,
            "wait_interval": 0
          },
          "base_uri": "https://localhost:8080/",
          "height": 961
        },
        "outputId": "5475a999-47ed-4e0a-b2e4-938f55ba5626",
        "executionInfo": {
          "status": "ok",
          "timestamp": 1529030798625,
          "user_tz": -330,
          "elapsed": 276082,
          "user": {
            "displayName": "Pawan Snj",
            "photoUrl": "//lh6.googleusercontent.com/-ojjGyAo7og4/AAAAAAAAAAI/AAAAAAAADXU/VP6DtpEZJts/s50-c-k-no/photo.jpg",
            "userId": "100746673235819701094"
          }
        }
      },
      "cell_type": "code",
      "source": [
        "model.compile(optimizer='rmsprop', loss='categorical_crossentropy', metrics=['accuracy'])\n",
        "hist = model.fit(train_data, train_labels_one_hot, batch_size=batch_size, epochs=epochs, verbose=1, \n",
        "                   validation_data=(test_data, test_labels_one_hot))\n",
        "print(\"DONE\")"
      ],
      "execution_count": 9,
      "outputs": [
        {
          "output_type": "stream",
          "text": [
            "Train on 50000 samples, validate on 10000 samples\n",
            "Epoch 1/25\n",
            "50000/50000 [==============================] - 13s 266us/step - loss: 4.3713 - acc: 0.0328 - val_loss: 4.0776 - val_acc: 0.0580\n",
            "Epoch 2/25\n",
            "50000/50000 [==============================] - 11s 221us/step - loss: 4.0448 - acc: 0.0713 - val_loss: 3.7803 - val_acc: 0.1140\n",
            "Epoch 3/25\n",
            "10240/50000 [=====>........................] - ETA: 8s - loss: 3.8719 - acc: 0.1004"
          ],
          "name": "stdout"
        },
        {
          "output_type": "stream",
          "text": [
            "50000/50000 [==============================] - 11s 218us/step - loss: 3.7810 - acc: 0.1165 - val_loss: 3.6732 - val_acc: 0.1444\n",
            "Epoch 4/25\n",
            "50000/50000 [==============================] - 11s 216us/step - loss: 3.5926 - acc: 0.1465 - val_loss: 3.5332 - val_acc: 0.1590\n",
            "Epoch 5/25\n",
            "32768/50000 [==================>...........] - ETA: 3s - loss: 3.4523 - acc: 0.1691"
          ],
          "name": "stdout"
        },
        {
          "output_type": "stream",
          "text": [
            "50000/50000 [==============================] - 11s 218us/step - loss: 3.4416 - acc: 0.1728 - val_loss: 3.2518 - val_acc: 0.2117\n",
            "Epoch 6/25\n",
            "50000/50000 [==============================] - 11s 217us/step - loss: 3.3074 - acc: 0.1965 - val_loss: 3.0876 - val_acc: 0.2457\n",
            "Epoch 7/25\n",
            "37120/50000 [=====================>........] - ETA: 2s - loss: 3.2081 - acc: 0.2147"
          ],
          "name": "stdout"
        },
        {
          "output_type": "stream",
          "text": [
            "50000/50000 [==============================] - 11s 217us/step - loss: 3.1938 - acc: 0.2179 - val_loss: 3.0000 - val_acc: 0.2675\n",
            "Epoch 8/25\n",
            "50000/50000 [==============================] - 11s 215us/step - loss: 3.1007 - acc: 0.2372 - val_loss: 2.8638 - val_acc: 0.2868\n",
            "Epoch 9/25\n",
            "38144/50000 [=====================>........] - ETA: 2s - loss: 3.0188 - acc: 0.2503"
          ],
          "name": "stdout"
        },
        {
          "output_type": "stream",
          "text": [
            "50000/50000 [==============================] - 11s 217us/step - loss: 3.0115 - acc: 0.2511 - val_loss: 2.7911 - val_acc: 0.2996\n",
            "Epoch 10/25\n",
            "50000/50000 [==============================] - 11s 217us/step - loss: 2.9318 - acc: 0.2699 - val_loss: 2.8182 - val_acc: 0.2992\n",
            "Epoch 11/25\n",
            "38400/50000 [======================>.......] - ETA: 2s - loss: 2.8619 - acc: 0.2821"
          ],
          "name": "stdout"
        },
        {
          "output_type": "stream",
          "text": [
            "50000/50000 [==============================] - 11s 218us/step - loss: 2.8588 - acc: 0.2816 - val_loss: 2.8661 - val_acc: 0.2881\n",
            "Epoch 12/25\n",
            "50000/50000 [==============================] - 11s 216us/step - loss: 2.8002 - acc: 0.2913 - val_loss: 2.7970 - val_acc: 0.2982\n",
            "Epoch 13/25\n",
            "37888/50000 [=====================>........] - ETA: 2s - loss: 2.7450 - acc: 0.3046"
          ],
          "name": "stdout"
        },
        {
          "output_type": "stream",
          "text": [
            "50000/50000 [==============================] - 11s 216us/step - loss: 2.7492 - acc: 0.3040 - val_loss: 2.7522 - val_acc: 0.3092\n",
            "Epoch 14/25\n",
            "50000/50000 [==============================] - 11s 221us/step - loss: 2.6995 - acc: 0.3102 - val_loss: 2.8008 - val_acc: 0.2957\n",
            "Epoch 15/25\n",
            "37632/50000 [=====================>........] - ETA: 2s - loss: 2.6429 - acc: 0.3263"
          ],
          "name": "stdout"
        },
        {
          "output_type": "stream",
          "text": [
            "50000/50000 [==============================] - 11s 217us/step - loss: 2.6429 - acc: 0.3258 - val_loss: 2.5288 - val_acc: 0.3524\n",
            "Epoch 16/25\n",
            "50000/50000 [==============================] - 11s 219us/step - loss: 2.5994 - acc: 0.3313 - val_loss: 2.7508 - val_acc: 0.3126\n",
            "Epoch 17/25\n",
            "38144/50000 [=====================>........] - ETA: 2s - loss: 2.5641 - acc: 0.3380"
          ],
          "name": "stdout"
        },
        {
          "output_type": "stream",
          "text": [
            "50000/50000 [==============================] - 11s 219us/step - loss: 2.5579 - acc: 0.3391 - val_loss: 2.5532 - val_acc: 0.3499\n",
            "Epoch 18/25\n",
            "50000/50000 [==============================] - 11s 216us/step - loss: 2.5197 - acc: 0.3500 - val_loss: 2.5953 - val_acc: 0.3424\n",
            "Epoch 19/25\n",
            "38144/50000 [=====================>........] - ETA: 2s - loss: 2.4911 - acc: 0.3530"
          ],
          "name": "stdout"
        },
        {
          "output_type": "stream",
          "text": [
            "50000/50000 [==============================] - 11s 218us/step - loss: 2.4897 - acc: 0.3533 - val_loss: 2.3926 - val_acc: 0.3809\n",
            "Epoch 20/25\n",
            "50000/50000 [==============================] - 11s 218us/step - loss: 2.4517 - acc: 0.3586 - val_loss: 2.3694 - val_acc: 0.3834\n",
            "Epoch 21/25\n",
            "37632/50000 [=====================>........] - ETA: 2s - loss: 2.4280 - acc: 0.3645"
          ],
          "name": "stdout"
        },
        {
          "output_type": "stream",
          "text": [
            "50000/50000 [==============================] - 11s 218us/step - loss: 2.4312 - acc: 0.3637 - val_loss: 2.3401 - val_acc: 0.3946\n",
            "Epoch 22/25\n",
            "50000/50000 [==============================] - 11s 217us/step - loss: 2.3969 - acc: 0.3721 - val_loss: 2.3321 - val_acc: 0.3944\n",
            "Epoch 23/25\n",
            "39424/50000 [======================>.......] - ETA: 2s - loss: 2.3543 - acc: 0.3809"
          ],
          "name": "stdout"
        },
        {
          "output_type": "stream",
          "text": [
            "50000/50000 [==============================] - 11s 217us/step - loss: 2.3622 - acc: 0.3783 - val_loss: 2.3827 - val_acc: 0.3880\n",
            "Epoch 24/25\n",
            "50000/50000 [==============================] - 11s 216us/step - loss: 2.3526 - acc: 0.3827 - val_loss: 2.3132 - val_acc: 0.3956\n",
            "Epoch 25/25\n",
            "38656/50000 [======================>.......] - ETA: 2s - loss: 2.3287 - acc: 0.3871"
          ],
          "name": "stdout"
        },
        {
          "output_type": "stream",
          "text": [
            "50000/50000 [==============================] - 11s 218us/step - loss: 2.3266 - acc: 0.3875 - val_loss: 2.4285 - val_acc: 0.3773\n",
            "DONE\n"
          ],
          "name": "stdout"
        }
      ]
    },
    {
      "metadata": {
        "id": "-tmg3fw7-Hqf",
        "colab_type": "code",
        "colab": {
          "autoexec": {
            "startup": false,
            "wait_interval": 0
          },
          "base_uri": "https://localhost:8080/",
          "height": 587
        },
        "outputId": "f281756f-9a6c-4387-fced-da2cc50eb3ea",
        "executionInfo": {
          "status": "ok",
          "timestamp": 1529030810062,
          "user_tz": -330,
          "elapsed": 1428,
          "user": {
            "displayName": "Pawan Snj",
            "photoUrl": "//lh6.googleusercontent.com/-ojjGyAo7og4/AAAAAAAAAAI/AAAAAAAADXU/VP6DtpEZJts/s50-c-k-no/photo.jpg",
            "userId": "100746673235819701094"
          }
        }
      },
      "cell_type": "code",
      "source": [
        "# Graph losses and accuracy\n",
        "train_loss=hist.history['loss']\n",
        "val_loss=hist.history['val_loss']\n",
        "train_acc=hist.history['acc']\n",
        "val_acc=hist.history['val_acc']\n",
        "xc=range(epochs)\n",
        "\n",
        "##############################################\n",
        "plt.figure(1,figsize=(4,4))\n",
        "plt.plot(xc,train_loss)\n",
        "plt.plot(xc,val_loss)\n",
        "\n",
        "plt.xlabel('num of epochs')\n",
        "plt.ylabel('loss')\n",
        "plt.title('train_loss vs test_loss')\n",
        "\n",
        "plt.grid(True)\n",
        "plt.legend(['train','val']) \n",
        "\n",
        "##################################################\n",
        "\n",
        "plt.figure(2,figsize=(4,4))\n",
        "plt.plot(xc,train_acc)\n",
        "plt.plot(xc,val_acc)\n",
        "\n",
        "plt.xlabel('num of Epochs')\n",
        "plt.ylabel('accuracy')\n",
        "plt.title('train_acc vs test_acc')\n",
        "\n",
        "plt.grid(True)\n",
        "plt.legend(['train','val'],loc=4)"
      ],
      "execution_count": 10,
      "outputs": [
        {
          "output_type": "execute_result",
          "data": {
            "text/plain": [
              "<matplotlib.legend.Legend at 0x7fb1f9079ac8>"
            ]
          },
          "metadata": {
            "tags": []
          },
          "execution_count": 10
        },
        {
          "output_type": "display_data",
          "data": {
            "image/png": "[encoded data removed]",
            "text/plain": [
              "<matplotlib.figure.Figure at 0x7fb22b0f4b38>"
            ]
          },
          "metadata": {
            "tags": []
          }
        },
        {
          "output_type": "display_data",
          "data": {
            "image/png": "[encoded data removed]",
            "text/plain": [
              "<matplotlib.figure.Figure at 0x7fb20e853eb8>"
            ]
          },
          "metadata": {
            "tags": []
          }
        }
      ]
    },
    {
      "metadata": {
        "id": "MO53BC9F2hBm",
        "colab_type": "code",
        "colab": {
          "autoexec": {
            "startup": false,
            "wait_interval": 0
          },
          "base_uri": "https://localhost:8080/",
          "height": 70
        },
        "outputId": "d3ce16d3-4dd7-4ab4-8472-aa8311f48252",
        "executionInfo": {
          "status": "ok",
          "timestamp": 1529030824720,
          "user_tz": -330,
          "elapsed": 8536,
          "user": {
            "displayName": "Pawan Snj",
            "photoUrl": "//lh6.googleusercontent.com/-ojjGyAo7og4/AAAAAAAAAAI/AAAAAAAADXU/VP6DtpEZJts/s50-c-k-no/photo.jpg",
            "userId": "100746673235819701094"
          }
        }
      },
      "cell_type": "code",
      "source": [
        "vgg16_model = keras.applications.vgg16.VGG16()\n",
        "print(\"DONE\")"
      ],
      "execution_count": 11,
      "outputs": [
        {
          "output_type": "stream",
          "text": [
            "Downloading data from https://github.com/fchollet/deep-learning-models/releases/download/v0.1/vgg16_weights_tf_dim_ordering_tf_kernels.h5\n",
            "553467904/553467096 [==============================] - 6s 0us/step\n",
            "DONE\n"
          ],
          "name": "stdout"
        }
      ]
    },
    {
      "metadata": {
        "id": "p95sZCAOqBLj",
        "colab_type": "code",
        "colab": {
          "autoexec": {
            "startup": false,
            "wait_interval": 0
          }
        }
      },
      "cell_type": "code",
      "source": [
        "vgg16_model.summary()\n",
        "print(\"DONE\")"
      ],
      "execution_count": 0,
      "outputs": []
    },
    {
      "metadata": {
        "id": "VlyDlqz4qBRw",
        "colab_type": "code",
        "colab": {
          "autoexec": {
            "startup": false,
            "wait_interval": 0
          },
          "base_uri": "https://localhost:8080/",
          "height": 34
        },
        "outputId": "8f21792f-54a3-4e4b-83f1-009d5284a6b2",
        "executionInfo": {
          "status": "ok",
          "timestamp": 1529030830204,
          "user_tz": -330,
          "elapsed": 1029,
          "user": {
            "displayName": "Pawan Snj",
            "photoUrl": "//lh6.googleusercontent.com/-ojjGyAo7og4/AAAAAAAAAAI/AAAAAAAADXU/VP6DtpEZJts/s50-c-k-no/photo.jpg",
            "userId": "100746673235819701094"
          }
        }
      },
      "cell_type": "code",
      "source": [
        "type(vgg16_model)"
      ],
      "execution_count": 12,
      "outputs": [
        {
          "output_type": "execute_result",
          "data": {
            "text/plain": [
              "keras.engine.training.Model"
            ]
          },
          "metadata": {
            "tags": []
          },
          "execution_count": 12
        }
      ]
    },
    {
      "metadata": {
        "id": "bCiNXwigqBU_",
        "colab_type": "code",
        "colab": {
          "autoexec": {
            "startup": false,
            "wait_interval": 0
          },
          "base_uri": "https://localhost:8080/",
          "height": 34
        },
        "outputId": "8bb3d602-6ea2-419c-c61c-b81484cb7765",
        "executionInfo": {
          "status": "ok",
          "timestamp": 1529030833281,
          "user_tz": -330,
          "elapsed": 1050,
          "user": {
            "displayName": "Pawan Snj",
            "photoUrl": "//lh6.googleusercontent.com/-ojjGyAo7og4/AAAAAAAAAAI/AAAAAAAADXU/VP6DtpEZJts/s50-c-k-no/photo.jpg",
            "userId": "100746673235819701094"
          }
        }
      },
      "cell_type": "code",
      "source": [
        "model1= Sequential()\n",
        "for layer in vgg16_model.layers:\n",
        "    model1.add(layer)\n",
        "print(\"DONE\")"
      ],
      "execution_count": 13,
      "outputs": [
        {
          "output_type": "stream",
          "text": [
            "DONE\n"
          ],
          "name": "stdout"
        }
      ]
    },
    {
      "metadata": {
        "id": "MEMyxVJBqBX3",
        "colab_type": "code",
        "colab": {
          "autoexec": {
            "startup": false,
            "wait_interval": 0
          }
        }
      },
      "cell_type": "code",
      "source": [
        "model1.summary()\n",
        "print(\"DONE\")"
      ],
      "execution_count": 0,
      "outputs": []
    },
    {
      "metadata": {
        "id": "cNkR_SXCqBbK",
        "colab_type": "code",
        "colab": {
          "autoexec": {
            "startup": false,
            "wait_interval": 0
          },
          "base_uri": "https://localhost:8080/",
          "height": 34
        },
        "outputId": "1c2ad182-4233-41b7-b151-8965bd6f50c4",
        "executionInfo": {
          "status": "ok",
          "timestamp": 1529030836952,
          "user_tz": -330,
          "elapsed": 1040,
          "user": {
            "displayName": "Pawan Snj",
            "photoUrl": "//lh6.googleusercontent.com/-ojjGyAo7og4/AAAAAAAAAAI/AAAAAAAADXU/VP6DtpEZJts/s50-c-k-no/photo.jpg",
            "userId": "100746673235819701094"
          }
        }
      },
      "cell_type": "code",
      "source": [
        "for layer in model1.layers: ## MAking trainable= FALSE (FREEZING)\n",
        "    layer.trainable = False\n",
        "print(\"DONE\")"
      ],
      "execution_count": 14,
      "outputs": [
        {
          "output_type": "stream",
          "text": [
            "DONE\n"
          ],
          "name": "stdout"
        }
      ]
    },
    {
      "metadata": {
        "id": "EJSHZl5qqBeI",
        "colab_type": "code",
        "colab": {
          "autoexec": {
            "startup": false,
            "wait_interval": 0
          },
          "base_uri": "https://localhost:8080/",
          "height": 34
        },
        "outputId": "2571be46-f075-426b-c6d6-29008a9da06c",
        "executionInfo": {
          "status": "ok",
          "timestamp": 1529030841085,
          "user_tz": -330,
          "elapsed": 1022,
          "user": {
            "displayName": "Pawan Snj",
            "photoUrl": "//lh6.googleusercontent.com/-ojjGyAo7og4/AAAAAAAAAAI/AAAAAAAADXU/VP6DtpEZJts/s50-c-k-no/photo.jpg",
            "userId": "100746673235819701094"
          }
        }
      },
      "cell_type": "code",
      "source": [
        "model1.add(Dense(100, activation='softmax'))\n",
        "print(\"DoNE\")"
      ],
      "execution_count": 15,
      "outputs": [
        {
          "output_type": "stream",
          "text": [
            "DoNE\n"
          ],
          "name": "stdout"
        }
      ]
    },
    {
      "metadata": {
        "id": "QP4wHb2rqBhQ",
        "colab_type": "code",
        "colab": {
          "autoexec": {
            "startup": false,
            "wait_interval": 0
          },
          "base_uri": "https://localhost:8080/",
          "height": 1012
        },
        "outputId": "65c7a8ad-7434-46a0-d69d-6ec974bfd7e5",
        "executionInfo": {
          "status": "ok",
          "timestamp": 1529030845452,
          "user_tz": -330,
          "elapsed": 1092,
          "user": {
            "displayName": "Pawan Snj",
            "photoUrl": "//lh6.googleusercontent.com/-ojjGyAo7og4/AAAAAAAAAAI/AAAAAAAADXU/VP6DtpEZJts/s50-c-k-no/photo.jpg",
            "userId": "100746673235819701094"
          }
        }
      },
      "cell_type": "code",
      "source": [
        "model1.summary()\n",
        "print('DONE')"
      ],
      "execution_count": 16,
      "outputs": [
        {
          "output_type": "stream",
          "text": [
            "_________________________________________________________________\n",
            "Layer (type)                 Output Shape              Param #   \n",
            "=================================================================\n",
            "input_1 (InputLayer)         (None, 224, 224, 3)       0         \n",
            "_________________________________________________________________\n",
            "block1_conv1 (Conv2D)        (None, 224, 224, 64)      1792      \n",
            "_________________________________________________________________\n",
            "block1_conv2 (Conv2D)        (None, 224, 224, 64)      36928     \n",
            "_________________________________________________________________\n",
            "block1_pool (MaxPooling2D)   (None, 112, 112, 64)      0         \n",
            "_________________________________________________________________\n",
            "block2_conv1 (Conv2D)        (None, 112, 112, 128)     73856     \n",
            "_________________________________________________________________\n",
            "block2_conv2 (Conv2D)        (None, 112, 112, 128)     147584    \n",
            "_________________________________________________________________\n",
            "block2_pool (MaxPooling2D)   (None, 56, 56, 128)       0         \n",
            "_________________________________________________________________\n",
            "block3_conv1 (Conv2D)        (None, 56, 56, 256)       295168    \n",
            "_________________________________________________________________\n",
            "block3_conv2 (Conv2D)        (None, 56, 56, 256)       590080    \n",
            "_________________________________________________________________\n",
            "block3_conv3 (Conv2D)        (None, 56, 56, 256)       590080    \n",
            "_________________________________________________________________\n",
            "block3_pool (MaxPooling2D)   (None, 28, 28, 256)       0         \n",
            "_________________________________________________________________\n",
            "block4_conv1 (Conv2D)        (None, 28, 28, 512)       1180160   \n",
            "_________________________________________________________________\n",
            "block4_conv2 (Conv2D)        (None, 28, 28, 512)       2359808   \n",
            "_________________________________________________________________\n",
            "block4_conv3 (Conv2D)        (None, 28, 28, 512)       2359808   \n",
            "_________________________________________________________________\n",
            "block4_pool (MaxPooling2D)   (None, 14, 14, 512)       0         \n",
            "_________________________________________________________________\n",
            "block5_conv1 (Conv2D)        (None, 14, 14, 512)       2359808   \n",
            "_________________________________________________________________\n",
            "block5_conv2 (Conv2D)        (None, 14, 14, 512)       2359808   \n",
            "_________________________________________________________________\n",
            "block5_conv3 (Conv2D)        (None, 14, 14, 512)       2359808   \n",
            "_________________________________________________________________\n",
            "block5_pool (MaxPooling2D)   (None, 7, 7, 512)         0         \n",
            "_________________________________________________________________\n",
            "flatten (Flatten)            (None, 25088)             0         \n",
            "_________________________________________________________________\n",
            "fc1 (Dense)                  (None, 4096)              102764544 \n",
            "_________________________________________________________________\n",
            "fc2 (Dense)                  (None, 4096)              16781312  \n",
            "_________________________________________________________________\n",
            "predictions (Dense)          (None, 1000)              4097000   \n",
            "_________________________________________________________________\n",
            "dense_3 (Dense)              (None, 100)               100100    \n",
            "=================================================================\n",
            "Total params: 138,457,644\n",
            "Trainable params: 100,100\n",
            "Non-trainable params: 138,357,544\n",
            "_________________________________________________________________\n",
            "DONE\n"
          ],
          "name": "stdout"
        }
      ]
    },
    {
      "metadata": {
        "id": "gte051QKqBkI",
        "colab_type": "code",
        "colab": {
          "autoexec": {
            "startup": false,
            "wait_interval": 0
          },
          "base_uri": "https://localhost:8080/",
          "height": 34
        },
        "outputId": "458e7f88-ffdc-45a4-89d3-db04967806ec",
        "executionInfo": {
          "status": "ok",
          "timestamp": 1529030944665,
          "user_tz": -330,
          "elapsed": 1053,
          "user": {
            "displayName": "Pawan Snj",
            "photoUrl": "//lh6.googleusercontent.com/-ojjGyAo7og4/AAAAAAAAAAI/AAAAAAAADXU/VP6DtpEZJts/s50-c-k-no/photo.jpg",
            "userId": "100746673235819701094"
          }
        }
      },
      "cell_type": "code",
      "source": [
        "epochs1 = 10\n",
        "print(\"DONE\")"
      ],
      "execution_count": 19,
      "outputs": [
        {
          "output_type": "stream",
          "text": [
            "DONE\n"
          ],
          "name": "stdout"
        }
      ]
    },
    {
      "metadata": {
        "id": "NZ94GjcTqBnv",
        "colab_type": "code",
        "colab": {
          "autoexec": {
            "startup": false,
            "wait_interval": 0
          },
          "base_uri": "https://localhost:8080/",
          "height": 427
        },
        "outputId": "768f0725-1422-40b0-c788-b09fa2c444d3",
        "executionInfo": {
          "status": "ok",
          "timestamp": 1529031059148,
          "user_tz": -330,
          "elapsed": 113067,
          "user": {
            "displayName": "Pawan Snj",
            "photoUrl": "//lh6.googleusercontent.com/-ojjGyAo7og4/AAAAAAAAAAI/AAAAAAAADXU/VP6DtpEZJts/s50-c-k-no/photo.jpg",
            "userId": "100746673235819701094"
          }
        }
      },
      "cell_type": "code",
      "source": [
        "model1.compile(optimizer='rmsprop', loss='categorical_crossentropy', metrics=['accuracy'])\n",
        "hist = model.fit(train_data, train_labels_one_hot, batch_size=batch_size, epochs=epochs1, verbose=1, \n",
        "                   validation_data=(test_data, test_labels_one_hot))\n",
        "print(\"DONE\")"
      ],
      "execution_count": 20,
      "outputs": [
        {
          "output_type": "stream",
          "text": [
            "Train on 50000 samples, validate on 10000 samples\n",
            "Epoch 1/10\n",
            "50000/50000 [==============================] - 11s 219us/step - loss: 2.2010 - acc: 0.4155 - val_loss: 2.2450 - val_acc: 0.4169\n",
            "Epoch 2/10\n",
            "50000/50000 [==============================] - 11s 217us/step - loss: 2.1949 - acc: 0.4169 - val_loss: 2.1846 - val_acc: 0.4255\n",
            "Epoch 3/10\n",
            "11520/50000 [=====>........................] - ETA: 7s - loss: 2.1728 - acc: 0.4157"
          ],
          "name": "stdout"
        },
        {
          "output_type": "stream",
          "text": [
            "50000/50000 [==============================] - 11s 219us/step - loss: 2.1750 - acc: 0.4203 - val_loss: 2.2224 - val_acc: 0.4223\n",
            "Epoch 4/10\n",
            "50000/50000 [==============================] - 11s 228us/step - loss: 2.1510 - acc: 0.4250 - val_loss: 2.2113 - val_acc: 0.4219\n",
            "Epoch 5/10\n",
            "31232/50000 [=================>............] - ETA: 4s - loss: 2.1392 - acc: 0.4266"
          ],
          "name": "stdout"
        },
        {
          "output_type": "stream",
          "text": [
            "50000/50000 [==============================] - 11s 228us/step - loss: 2.1429 - acc: 0.4266 - val_loss: 2.2021 - val_acc: 0.4237\n",
            "Epoch 6/10\n",
            "50000/50000 [==============================] - 11s 225us/step - loss: 2.1355 - acc: 0.4251 - val_loss: 2.2414 - val_acc: 0.4178\n",
            "Epoch 7/10\n",
            "36096/50000 [====================>.........] - ETA: 2s - loss: 2.1151 - acc: 0.4343"
          ],
          "name": "stdout"
        },
        {
          "output_type": "stream",
          "text": [
            "50000/50000 [==============================] - 11s 226us/step - loss: 2.1237 - acc: 0.4320 - val_loss: 2.1999 - val_acc: 0.4216\n",
            "Epoch 8/10\n",
            "50000/50000 [==============================] - 11s 226us/step - loss: 2.1093 - acc: 0.4371 - val_loss: 2.2223 - val_acc: 0.4248\n",
            "Epoch 9/10\n",
            "36608/50000 [====================>.........] - ETA: 2s - loss: 2.0955 - acc: 0.4402"
          ],
          "name": "stdout"
        },
        {
          "output_type": "stream",
          "text": [
            "50000/50000 [==============================] - 11s 226us/step - loss: 2.1025 - acc: 0.4378 - val_loss: 2.2173 - val_acc: 0.4269\n",
            "Epoch 10/10\n",
            "50000/50000 [==============================] - 11s 225us/step - loss: 2.0849 - acc: 0.4417 - val_loss: 2.1822 - val_acc: 0.4332\n",
            "DONE\n"
          ],
          "name": "stdout"
        }
      ]
    },
    {
      "metadata": {
        "id": "1krgdIR0qBq5",
        "colab_type": "code",
        "colab": {
          "autoexec": {
            "startup": false,
            "wait_interval": 0
          },
          "base_uri": "https://localhost:8080/",
          "height": 34
        },
        "outputId": "82f11100-3ecc-41ca-9885-70f054ed86ed",
        "executionInfo": {
          "status": "ok",
          "timestamp": 1529031310643,
          "user_tz": -330,
          "elapsed": 3240,
          "user": {
            "displayName": "Pawan Snj",
            "photoUrl": "//lh6.googleusercontent.com/-ojjGyAo7og4/AAAAAAAAAAI/AAAAAAAADXU/VP6DtpEZJts/s50-c-k-no/photo.jpg",
            "userId": "100746673235819701094"
          }
        }
      },
      "cell_type": "code",
      "source": [
        "vgg19_model = keras.applications.vgg19.VGG19()\n",
        "print(\"DONE\")"
      ],
      "execution_count": 31,
      "outputs": [
        {
          "output_type": "stream",
          "text": [
            "DONE\n"
          ],
          "name": "stdout"
        }
      ]
    },
    {
      "metadata": {
        "id": "ydb0Fw7d1Aq5",
        "colab_type": "code",
        "colab": {
          "autoexec": {
            "startup": false,
            "wait_interval": 0
          },
          "base_uri": "https://localhost:8080/",
          "height": 1083
        },
        "outputId": "ba09e909-10d0-4766-eda3-69904ffb829e",
        "executionInfo": {
          "status": "ok",
          "timestamp": 1529031313933,
          "user_tz": -330,
          "elapsed": 1017,
          "user": {
            "displayName": "Pawan Snj",
            "photoUrl": "//lh6.googleusercontent.com/-ojjGyAo7og4/AAAAAAAAAAI/AAAAAAAADXU/VP6DtpEZJts/s50-c-k-no/photo.jpg",
            "userId": "100746673235819701094"
          }
        }
      },
      "cell_type": "code",
      "source": [
        "vgg19_model.summary()\n",
        "print(\"DONE\")"
      ],
      "execution_count": 32,
      "outputs": [
        {
          "output_type": "stream",
          "text": [
            "_________________________________________________________________\n",
            "Layer (type)                 Output Shape              Param #   \n",
            "=================================================================\n",
            "input_3 (InputLayer)         (None, 224, 224, 3)       0         \n",
            "_________________________________________________________________\n",
            "block1_conv1 (Conv2D)        (None, 224, 224, 64)      1792      \n",
            "_________________________________________________________________\n",
            "block1_conv2 (Conv2D)        (None, 224, 224, 64)      36928     \n",
            "_________________________________________________________________\n",
            "block1_pool (MaxPooling2D)   (None, 112, 112, 64)      0         \n",
            "_________________________________________________________________\n",
            "block2_conv1 (Conv2D)        (None, 112, 112, 128)     73856     \n",
            "_________________________________________________________________\n",
            "block2_conv2 (Conv2D)        (None, 112, 112, 128)     147584    \n",
            "_________________________________________________________________\n",
            "block2_pool (MaxPooling2D)   (None, 56, 56, 128)       0         \n",
            "_________________________________________________________________\n",
            "block3_conv1 (Conv2D)        (None, 56, 56, 256)       295168    \n",
            "_________________________________________________________________\n",
            "block3_conv2 (Conv2D)        (None, 56, 56, 256)       590080    \n",
            "_________________________________________________________________\n",
            "block3_conv3 (Conv2D)        (None, 56, 56, 256)       590080    \n",
            "_________________________________________________________________\n",
            "block3_conv4 (Conv2D)        (None, 56, 56, 256)       590080    \n",
            "_________________________________________________________________\n",
            "block3_pool (MaxPooling2D)   (None, 28, 28, 256)       0         \n",
            "_________________________________________________________________\n",
            "block4_conv1 (Conv2D)        (None, 28, 28, 512)       1180160   \n",
            "_________________________________________________________________\n",
            "block4_conv2 (Conv2D)        (None, 28, 28, 512)       2359808   \n",
            "_________________________________________________________________\n",
            "block4_conv3 (Conv2D)        (None, 28, 28, 512)       2359808   \n",
            "_________________________________________________________________\n",
            "block4_conv4 (Conv2D)        (None, 28, 28, 512)       2359808   \n",
            "_________________________________________________________________\n",
            "block4_pool (MaxPooling2D)   (None, 14, 14, 512)       0         \n",
            "_________________________________________________________________\n",
            "block5_conv1 (Conv2D)        (None, 14, 14, 512)       2359808   \n",
            "_________________________________________________________________\n",
            "block5_conv2 (Conv2D)        (None, 14, 14, 512)       2359808   \n",
            "_________________________________________________________________\n",
            "block5_conv3 (Conv2D)        (None, 14, 14, 512)       2359808   \n",
            "_________________________________________________________________\n",
            "block5_conv4 (Conv2D)        (None, 14, 14, 512)       2359808   \n",
            "_________________________________________________________________\n",
            "block5_pool (MaxPooling2D)   (None, 7, 7, 512)         0         \n",
            "_________________________________________________________________\n",
            "flatten (Flatten)            (None, 25088)             0         \n",
            "_________________________________________________________________\n",
            "fc1 (Dense)                  (None, 4096)              102764544 \n",
            "_________________________________________________________________\n",
            "fc2 (Dense)                  (None, 4096)              16781312  \n",
            "_________________________________________________________________\n",
            "predictions (Dense)          (None, 1000)              4097000   \n",
            "=================================================================\n",
            "Total params: 143,667,240\n",
            "Trainable params: 143,667,240\n",
            "Non-trainable params: 0\n",
            "_________________________________________________________________\n",
            "DONE\n"
          ],
          "name": "stdout"
        }
      ]
    },
    {
      "metadata": {
        "id": "zeExF1RQ1AvQ",
        "colab_type": "code",
        "colab": {
          "autoexec": {
            "startup": false,
            "wait_interval": 0
          },
          "base_uri": "https://localhost:8080/",
          "height": 34
        },
        "outputId": "dcfcce7f-4f2f-467d-e330-fb4fcda65a2a",
        "executionInfo": {
          "status": "ok",
          "timestamp": 1529031321487,
          "user_tz": -330,
          "elapsed": 1254,
          "user": {
            "displayName": "Pawan Snj",
            "photoUrl": "//lh6.googleusercontent.com/-ojjGyAo7og4/AAAAAAAAAAI/AAAAAAAADXU/VP6DtpEZJts/s50-c-k-no/photo.jpg",
            "userId": "100746673235819701094"
          }
        }
      },
      "cell_type": "code",
      "source": [
        "type(vgg19_model)"
      ],
      "execution_count": 33,
      "outputs": [
        {
          "output_type": "execute_result",
          "data": {
            "text/plain": [
              "keras.engine.training.Model"
            ]
          },
          "metadata": {
            "tags": []
          },
          "execution_count": 33
        }
      ]
    },
    {
      "metadata": {
        "id": "HVjAE6xj1Azg",
        "colab_type": "code",
        "colab": {
          "autoexec": {
            "startup": false,
            "wait_interval": 0
          },
          "base_uri": "https://localhost:8080/",
          "height": 34
        },
        "outputId": "40ad78cf-29eb-4509-a0a1-f139e358d477",
        "executionInfo": {
          "status": "ok",
          "timestamp": 1529031324237,
          "user_tz": -330,
          "elapsed": 1217,
          "user": {
            "displayName": "Pawan Snj",
            "photoUrl": "//lh6.googleusercontent.com/-ojjGyAo7og4/AAAAAAAAAAI/AAAAAAAADXU/VP6DtpEZJts/s50-c-k-no/photo.jpg",
            "userId": "100746673235819701094"
          }
        }
      },
      "cell_type": "code",
      "source": [
        "model2= Sequential()\n",
        "for layer in vgg19_model.layers:\n",
        "    model2.add(layer)\n",
        "print(\"DONE\")"
      ],
      "execution_count": 34,
      "outputs": [
        {
          "output_type": "stream",
          "text": [
            "DONE\n"
          ],
          "name": "stdout"
        }
      ]
    },
    {
      "metadata": {
        "id": "YRrhl-Op1A3K",
        "colab_type": "code",
        "colab": {
          "autoexec": {
            "startup": false,
            "wait_interval": 0
          },
          "base_uri": "https://localhost:8080/",
          "height": 1083
        },
        "outputId": "7e13d743-e25b-4ac0-9a13-f22b8ad650a0",
        "executionInfo": {
          "status": "ok",
          "timestamp": 1529031328122,
          "user_tz": -330,
          "elapsed": 1047,
          "user": {
            "displayName": "Pawan Snj",
            "photoUrl": "//lh6.googleusercontent.com/-ojjGyAo7og4/AAAAAAAAAAI/AAAAAAAADXU/VP6DtpEZJts/s50-c-k-no/photo.jpg",
            "userId": "100746673235819701094"
          }
        }
      },
      "cell_type": "code",
      "source": [
        "model2.summary()\n",
        "print(\"DONE\")"
      ],
      "execution_count": 35,
      "outputs": [
        {
          "output_type": "stream",
          "text": [
            "_________________________________________________________________\n",
            "Layer (type)                 Output Shape              Param #   \n",
            "=================================================================\n",
            "input_3 (InputLayer)         (None, 224, 224, 3)       0         \n",
            "_________________________________________________________________\n",
            "block1_conv1 (Conv2D)        (None, 224, 224, 64)      1792      \n",
            "_________________________________________________________________\n",
            "block1_conv2 (Conv2D)        (None, 224, 224, 64)      36928     \n",
            "_________________________________________________________________\n",
            "block1_pool (MaxPooling2D)   (None, 112, 112, 64)      0         \n",
            "_________________________________________________________________\n",
            "block2_conv1 (Conv2D)        (None, 112, 112, 128)     73856     \n",
            "_________________________________________________________________\n",
            "block2_conv2 (Conv2D)        (None, 112, 112, 128)     147584    \n",
            "_________________________________________________________________\n",
            "block2_pool (MaxPooling2D)   (None, 56, 56, 128)       0         \n",
            "_________________________________________________________________\n",
            "block3_conv1 (Conv2D)        (None, 56, 56, 256)       295168    \n",
            "_________________________________________________________________\n",
            "block3_conv2 (Conv2D)        (None, 56, 56, 256)       590080    \n",
            "_________________________________________________________________\n",
            "block3_conv3 (Conv2D)        (None, 56, 56, 256)       590080    \n",
            "_________________________________________________________________\n",
            "block3_conv4 (Conv2D)        (None, 56, 56, 256)       590080    \n",
            "_________________________________________________________________\n",
            "block3_pool (MaxPooling2D)   (None, 28, 28, 256)       0         \n",
            "_________________________________________________________________\n",
            "block4_conv1 (Conv2D)        (None, 28, 28, 512)       1180160   \n",
            "_________________________________________________________________\n",
            "block4_conv2 (Conv2D)        (None, 28, 28, 512)       2359808   \n",
            "_________________________________________________________________\n",
            "block4_conv3 (Conv2D)        (None, 28, 28, 512)       2359808   \n",
            "_________________________________________________________________\n",
            "block4_conv4 (Conv2D)        (None, 28, 28, 512)       2359808   \n",
            "_________________________________________________________________\n",
            "block4_pool (MaxPooling2D)   (None, 14, 14, 512)       0         \n",
            "_________________________________________________________________\n",
            "block5_conv1 (Conv2D)        (None, 14, 14, 512)       2359808   \n",
            "_________________________________________________________________\n",
            "block5_conv2 (Conv2D)        (None, 14, 14, 512)       2359808   \n",
            "_________________________________________________________________\n",
            "block5_conv3 (Conv2D)        (None, 14, 14, 512)       2359808   \n",
            "_________________________________________________________________\n",
            "block5_conv4 (Conv2D)        (None, 14, 14, 512)       2359808   \n",
            "_________________________________________________________________\n",
            "block5_pool (MaxPooling2D)   (None, 7, 7, 512)         0         \n",
            "_________________________________________________________________\n",
            "flatten (Flatten)            (None, 25088)             0         \n",
            "_________________________________________________________________\n",
            "fc1 (Dense)                  (None, 4096)              102764544 \n",
            "_________________________________________________________________\n",
            "fc2 (Dense)                  (None, 4096)              16781312  \n",
            "_________________________________________________________________\n",
            "predictions (Dense)          (None, 1000)              4097000   \n",
            "=================================================================\n",
            "Total params: 143,667,240\n",
            "Trainable params: 143,667,240\n",
            "Non-trainable params: 0\n",
            "_________________________________________________________________\n",
            "DONE\n"
          ],
          "name": "stdout"
        }
      ]
    },
    {
      "metadata": {
        "id": "H3QPs6J61A7R",
        "colab_type": "code",
        "colab": {
          "autoexec": {
            "startup": false,
            "wait_interval": 0
          },
          "base_uri": "https://localhost:8080/",
          "height": 34
        },
        "outputId": "06fecbb1-7005-4dba-d91d-567e39b690eb",
        "executionInfo": {
          "status": "ok",
          "timestamp": 1529031334137,
          "user_tz": -330,
          "elapsed": 1015,
          "user": {
            "displayName": "Pawan Snj",
            "photoUrl": "//lh6.googleusercontent.com/-ojjGyAo7og4/AAAAAAAAAAI/AAAAAAAADXU/VP6DtpEZJts/s50-c-k-no/photo.jpg",
            "userId": "100746673235819701094"
          }
        }
      },
      "cell_type": "code",
      "source": [
        "for layer in model2.layers: ## MAking trainable= FALSE (FREEZING)\n",
        "    layer.trainable = False\n",
        "print(\"DONE\")"
      ],
      "execution_count": 36,
      "outputs": [
        {
          "output_type": "stream",
          "text": [
            "DONE\n"
          ],
          "name": "stdout"
        }
      ]
    },
    {
      "metadata": {
        "id": "-D6B0Bin1TBL",
        "colab_type": "code",
        "colab": {
          "autoexec": {
            "startup": false,
            "wait_interval": 0
          },
          "base_uri": "https://localhost:8080/",
          "height": 34
        },
        "outputId": "fe4977f7-4abd-4a6b-feef-569733bcb325",
        "executionInfo": {
          "status": "ok",
          "timestamp": 1529031337499,
          "user_tz": -330,
          "elapsed": 1042,
          "user": {
            "displayName": "Pawan Snj",
            "photoUrl": "//lh6.googleusercontent.com/-ojjGyAo7og4/AAAAAAAAAAI/AAAAAAAADXU/VP6DtpEZJts/s50-c-k-no/photo.jpg",
            "userId": "100746673235819701094"
          }
        }
      },
      "cell_type": "code",
      "source": [
        "model2.add(Dense(100, activation='softmax'))\n",
        "print(\"DoNE\")"
      ],
      "execution_count": 37,
      "outputs": [
        {
          "output_type": "stream",
          "text": [
            "DoNE\n"
          ],
          "name": "stdout"
        }
      ]
    },
    {
      "metadata": {
        "id": "ElrxMxiD1TFJ",
        "colab_type": "code",
        "colab": {
          "autoexec": {
            "startup": false,
            "wait_interval": 0
          },
          "base_uri": "https://localhost:8080/",
          "height": 1118
        },
        "outputId": "2cb9637d-429b-4353-a76c-7002c802580d",
        "executionInfo": {
          "status": "ok",
          "timestamp": 1529031340597,
          "user_tz": -330,
          "elapsed": 1019,
          "user": {
            "displayName": "Pawan Snj",
            "photoUrl": "//lh6.googleusercontent.com/-ojjGyAo7og4/AAAAAAAAAAI/AAAAAAAADXU/VP6DtpEZJts/s50-c-k-no/photo.jpg",
            "userId": "100746673235819701094"
          }
        }
      },
      "cell_type": "code",
      "source": [
        "model2.summary()\n",
        "print('DONE')"
      ],
      "execution_count": 38,
      "outputs": [
        {
          "output_type": "stream",
          "text": [
            "_________________________________________________________________\n",
            "Layer (type)                 Output Shape              Param #   \n",
            "=================================================================\n",
            "input_3 (InputLayer)         (None, 224, 224, 3)       0         \n",
            "_________________________________________________________________\n",
            "block1_conv1 (Conv2D)        (None, 224, 224, 64)      1792      \n",
            "_________________________________________________________________\n",
            "block1_conv2 (Conv2D)        (None, 224, 224, 64)      36928     \n",
            "_________________________________________________________________\n",
            "block1_pool (MaxPooling2D)   (None, 112, 112, 64)      0         \n",
            "_________________________________________________________________\n",
            "block2_conv1 (Conv2D)        (None, 112, 112, 128)     73856     \n",
            "_________________________________________________________________\n",
            "block2_conv2 (Conv2D)        (None, 112, 112, 128)     147584    \n",
            "_________________________________________________________________\n",
            "block2_pool (MaxPooling2D)   (None, 56, 56, 128)       0         \n",
            "_________________________________________________________________\n",
            "block3_conv1 (Conv2D)        (None, 56, 56, 256)       295168    \n",
            "_________________________________________________________________\n",
            "block3_conv2 (Conv2D)        (None, 56, 56, 256)       590080    \n",
            "_________________________________________________________________\n",
            "block3_conv3 (Conv2D)        (None, 56, 56, 256)       590080    \n",
            "_________________________________________________________________\n",
            "block3_conv4 (Conv2D)        (None, 56, 56, 256)       590080    \n",
            "_________________________________________________________________\n",
            "block3_pool (MaxPooling2D)   (None, 28, 28, 256)       0         \n",
            "_________________________________________________________________\n",
            "block4_conv1 (Conv2D)        (None, 28, 28, 512)       1180160   \n",
            "_________________________________________________________________\n",
            "block4_conv2 (Conv2D)        (None, 28, 28, 512)       2359808   \n",
            "_________________________________________________________________\n",
            "block4_conv3 (Conv2D)        (None, 28, 28, 512)       2359808   \n",
            "_________________________________________________________________\n",
            "block4_conv4 (Conv2D)        (None, 28, 28, 512)       2359808   \n",
            "_________________________________________________________________\n",
            "block4_pool (MaxPooling2D)   (None, 14, 14, 512)       0         \n",
            "_________________________________________________________________\n",
            "block5_conv1 (Conv2D)        (None, 14, 14, 512)       2359808   \n",
            "_________________________________________________________________\n",
            "block5_conv2 (Conv2D)        (None, 14, 14, 512)       2359808   \n",
            "_________________________________________________________________\n",
            "block5_conv3 (Conv2D)        (None, 14, 14, 512)       2359808   \n",
            "_________________________________________________________________\n",
            "block5_conv4 (Conv2D)        (None, 14, 14, 512)       2359808   \n",
            "_________________________________________________________________\n",
            "block5_pool (MaxPooling2D)   (None, 7, 7, 512)         0         \n",
            "_________________________________________________________________\n",
            "flatten (Flatten)            (None, 25088)             0         \n",
            "_________________________________________________________________\n",
            "fc1 (Dense)                  (None, 4096)              102764544 \n",
            "_________________________________________________________________\n",
            "fc2 (Dense)                  (None, 4096)              16781312  \n",
            "_________________________________________________________________\n",
            "predictions (Dense)          (None, 1000)              4097000   \n",
            "_________________________________________________________________\n",
            "dense_4 (Dense)              (None, 100)               100100    \n",
            "=================================================================\n",
            "Total params: 143,767,340\n",
            "Trainable params: 100,100\n",
            "Non-trainable params: 143,667,240\n",
            "_________________________________________________________________\n",
            "DONE\n"
          ],
          "name": "stdout"
        }
      ]
    },
    {
      "metadata": {
        "id": "64umkset1Toj",
        "colab_type": "code",
        "colab": {
          "autoexec": {
            "startup": false,
            "wait_interval": 0
          },
          "base_uri": "https://localhost:8080/",
          "height": 34
        },
        "outputId": "9b4163bb-22fe-4fde-96de-e68c07e06e18",
        "executionInfo": {
          "status": "ok",
          "timestamp": 1529031346431,
          "user_tz": -330,
          "elapsed": 1029,
          "user": {
            "displayName": "Pawan Snj",
            "photoUrl": "//lh6.googleusercontent.com/-ojjGyAo7og4/AAAAAAAAAAI/AAAAAAAADXU/VP6DtpEZJts/s50-c-k-no/photo.jpg",
            "userId": "100746673235819701094"
          }
        }
      },
      "cell_type": "code",
      "source": [
        "epochs2 = 10\n",
        "print(\"DONE\")"
      ],
      "execution_count": 39,
      "outputs": [
        {
          "output_type": "stream",
          "text": [
            "DONE\n"
          ],
          "name": "stdout"
        }
      ]
    },
    {
      "metadata": {
        "id": "TC5-rCAk1dkj",
        "colab_type": "code",
        "colab": {
          "autoexec": {
            "startup": false,
            "wait_interval": 0
          },
          "base_uri": "https://localhost:8080/",
          "height": 427
        },
        "outputId": "b54a8c68-bde6-4a35-f537-3c4cfa655487",
        "executionInfo": {
          "status": "ok",
          "timestamp": 1529031626316,
          "user_tz": -330,
          "elapsed": 110761,
          "user": {
            "displayName": "Pawan Snj",
            "photoUrl": "//lh6.googleusercontent.com/-ojjGyAo7og4/AAAAAAAAAAI/AAAAAAAADXU/VP6DtpEZJts/s50-c-k-no/photo.jpg",
            "userId": "100746673235819701094"
          }
        }
      },
      "cell_type": "code",
      "source": [
        "model2.compile(optimizer='rmsprop', loss='categorical_crossentropy', metrics=['accuracy'])\n",
        "hist = model.fit(train_data, train_labels_one_hot, batch_size=batch_size, epochs=epochs2, verbose=1, \n",
        "                   validation_data=(test_data, test_labels_one_hot))\n",
        "print(\"DONE\")"
      ],
      "execution_count": 41,
      "outputs": [
        {
          "output_type": "stream",
          "text": [
            "Train on 50000 samples, validate on 10000 samples\n",
            "Epoch 1/10\n",
            "50000/50000 [==============================] - 11s 217us/step - loss: 1.9924 - acc: 0.4610 - val_loss: 2.2983 - val_acc: 0.4224\n",
            "Epoch 2/10\n",
            "50000/50000 [==============================] - 11s 216us/step - loss: 1.9892 - acc: 0.4631 - val_loss: 2.1075 - val_acc: 0.4520\n",
            "Epoch 3/10\n",
            "13056/50000 [======>.......................] - ETA: 7s - loss: 1.9516 - acc: 0.4706"
          ],
          "name": "stdout"
        },
        {
          "output_type": "stream",
          "text": [
            "50000/50000 [==============================] - 11s 216us/step - loss: 1.9834 - acc: 0.4617 - val_loss: 2.0315 - val_acc: 0.4683\n",
            "Epoch 4/10\n",
            "50000/50000 [==============================] - 11s 216us/step - loss: 1.9806 - acc: 0.4618 - val_loss: 2.0376 - val_acc: 0.4607\n",
            "Epoch 5/10\n",
            "34560/50000 [===================>..........] - ETA: 3s - loss: 1.9753 - acc: 0.4626"
          ],
          "name": "stdout"
        },
        {
          "output_type": "stream",
          "text": [
            "50000/50000 [==============================] - 11s 216us/step - loss: 1.9770 - acc: 0.4630 - val_loss: 2.1119 - val_acc: 0.4490\n",
            "Epoch 6/10\n",
            "50000/50000 [==============================] - 11s 222us/step - loss: 1.9642 - acc: 0.4675 - val_loss: 2.0437 - val_acc: 0.4626\n",
            "Epoch 7/10\n",
            "36864/50000 [=====================>........] - ETA: 2s - loss: 1.9525 - acc: 0.4668"
          ],
          "name": "stdout"
        },
        {
          "output_type": "stream",
          "text": [
            "50000/50000 [==============================] - 11s 227us/step - loss: 1.9599 - acc: 0.4666 - val_loss: 2.1125 - val_acc: 0.4520\n",
            "Epoch 8/10\n",
            "50000/50000 [==============================] - 11s 227us/step - loss: 1.9592 - acc: 0.4673 - val_loss: 2.0906 - val_acc: 0.4542\n",
            "Epoch 9/10\n",
            "37632/50000 [=====================>........] - ETA: 2s - loss: 1.9465 - acc: 0.4750"
          ],
          "name": "stdout"
        },
        {
          "output_type": "stream",
          "text": [
            "50000/50000 [==============================] - 11s 219us/step - loss: 1.9520 - acc: 0.4719 - val_loss: 2.0076 - val_acc: 0.4719\n",
            "Epoch 10/10\n",
            "50000/50000 [==============================] - 11s 216us/step - loss: 1.9521 - acc: 0.4708 - val_loss: 2.0203 - val_acc: 0.4696\n",
            "DONE\n"
          ],
          "name": "stdout"
        }
      ]
    },
    {
      "metadata": {
        "id": "JQXsrQ2yYyGH",
        "colab_type": "code",
        "colab": {
          "autoexec": {
            "startup": false,
            "wait_interval": 0
          },
          "base_uri": "https://localhost:8080/",
          "height": 70
        },
        "outputId": "55b1c6df-e3d3-44ff-e694-49f811c6d525",
        "executionInfo": {
          "status": "ok",
          "timestamp": 1529031793357,
          "user_tz": -330,
          "elapsed": 6953,
          "user": {
            "displayName": "Pawan Snj",
            "photoUrl": "//lh6.googleusercontent.com/-ojjGyAo7og4/AAAAAAAAAAI/AAAAAAAADXU/VP6DtpEZJts/s50-c-k-no/photo.jpg",
            "userId": "100746673235819701094"
          }
        }
      },
      "cell_type": "code",
      "source": [
        "mobilenet_model = keras.applications.mobilenet.MobileNet()\n",
        "print(\"DONE\")"
      ],
      "execution_count": 42,
      "outputs": [
        {
          "output_type": "stream",
          "text": [
            "Downloading data from https://github.com/fchollet/deep-learning-models/releases/download/v0.6/mobilenet_1_0_224_tf.h5\n",
            "17227776/17225924 [==============================] - 1s 0us/step\n",
            "DONE\n"
          ],
          "name": "stdout"
        }
      ]
    },
    {
      "metadata": {
        "id": "1QwszilaYyZG",
        "colab_type": "code",
        "colab": {
          "autoexec": {
            "startup": false,
            "wait_interval": 0
          }
        }
      },
      "cell_type": "code",
      "source": [
        "mobilenet_model.summary()"
      ],
      "execution_count": 0,
      "outputs": []
    },
    {
      "metadata": {
        "id": "vAGFyJMfYyg9",
        "colab_type": "code",
        "colab": {
          "autoexec": {
            "startup": false,
            "wait_interval": 0
          },
          "base_uri": "https://localhost:8080/",
          "height": 34
        },
        "outputId": "1e979854-90f7-4da5-8142-2f812598abd9",
        "executionInfo": {
          "status": "ok",
          "timestamp": 1529031798887,
          "user_tz": -330,
          "elapsed": 1042,
          "user": {
            "displayName": "Pawan Snj",
            "photoUrl": "//lh6.googleusercontent.com/-ojjGyAo7og4/AAAAAAAAAAI/AAAAAAAADXU/VP6DtpEZJts/s50-c-k-no/photo.jpg",
            "userId": "100746673235819701094"
          }
        }
      },
      "cell_type": "code",
      "source": [
        "type(mobilenet_model)\n",
        "#print(\"DONE\")"
      ],
      "execution_count": 43,
      "outputs": [
        {
          "output_type": "execute_result",
          "data": {
            "text/plain": [
              "keras.engine.training.Model"
            ]
          },
          "metadata": {
            "tags": []
          },
          "execution_count": 43
        }
      ]
    },
    {
      "metadata": {
        "id": "1DGNggEoYyor",
        "colab_type": "code",
        "colab": {
          "autoexec": {
            "startup": false,
            "wait_interval": 0
          },
          "base_uri": "https://localhost:8080/",
          "height": 34
        },
        "outputId": "e3b778e5-4722-4922-94b3-e340506f54d3",
        "executionInfo": {
          "status": "ok",
          "timestamp": 1529031804068,
          "user_tz": -330,
          "elapsed": 3823,
          "user": {
            "displayName": "Pawan Snj",
            "photoUrl": "//lh6.googleusercontent.com/-ojjGyAo7og4/AAAAAAAAAAI/AAAAAAAADXU/VP6DtpEZJts/s50-c-k-no/photo.jpg",
            "userId": "100746673235819701094"
          }
        }
      },
      "cell_type": "code",
      "source": [
        "model3= Sequential()\n",
        "for layer in mobilenet_model.layers:\n",
        "    model3.add(layer)\n",
        "print(\"DONE\")"
      ],
      "execution_count": 44,
      "outputs": [
        {
          "output_type": "stream",
          "text": [
            "DONE\n"
          ],
          "name": "stdout"
        }
      ]
    },
    {
      "metadata": {
        "id": "jNu13FLOYyvj",
        "colab_type": "code",
        "colab": {
          "autoexec": {
            "startup": false,
            "wait_interval": 0
          }
        }
      },
      "cell_type": "code",
      "source": [
        "model3.summary()"
      ],
      "execution_count": 0,
      "outputs": []
    },
    {
      "metadata": {
        "id": "1LH0m6aHYy1Z",
        "colab_type": "code",
        "colab": {
          "autoexec": {
            "startup": false,
            "wait_interval": 0
          },
          "base_uri": "https://localhost:8080/",
          "height": 34
        },
        "outputId": "6bb6b64b-fd22-4d2b-c1ee-04ea76d4d363",
        "executionInfo": {
          "status": "ok",
          "timestamp": 1529031806593,
          "user_tz": -330,
          "elapsed": 1093,
          "user": {
            "displayName": "Pawan Snj",
            "photoUrl": "//lh6.googleusercontent.com/-ojjGyAo7og4/AAAAAAAAAAI/AAAAAAAADXU/VP6DtpEZJts/s50-c-k-no/photo.jpg",
            "userId": "100746673235819701094"
          }
        }
      },
      "cell_type": "code",
      "source": [
        "model3.layers.pop()\n",
        "print(\"DONE\")"
      ],
      "execution_count": 45,
      "outputs": [
        {
          "output_type": "stream",
          "text": [
            "DONE\n"
          ],
          "name": "stdout"
        }
      ]
    },
    {
      "metadata": {
        "id": "4s_gI0gYYy6V",
        "colab_type": "code",
        "colab": {
          "autoexec": {
            "startup": false,
            "wait_interval": 0
          }
        }
      },
      "cell_type": "code",
      "source": [
        "model3.summary()\n",
        "print(\"DOne\")"
      ],
      "execution_count": 0,
      "outputs": []
    },
    {
      "metadata": {
        "id": "hExRmEJlZJK3",
        "colab_type": "code",
        "colab": {
          "autoexec": {
            "startup": false,
            "wait_interval": 0
          },
          "base_uri": "https://localhost:8080/",
          "height": 34
        },
        "outputId": "36ae8a55-1ebf-462f-cd9e-79e6101e1ebb",
        "executionInfo": {
          "status": "ok",
          "timestamp": 1529031811101,
          "user_tz": -330,
          "elapsed": 1048,
          "user": {
            "displayName": "Pawan Snj",
            "photoUrl": "//lh6.googleusercontent.com/-ojjGyAo7og4/AAAAAAAAAAI/AAAAAAAADXU/VP6DtpEZJts/s50-c-k-no/photo.jpg",
            "userId": "100746673235819701094"
          }
        }
      },
      "cell_type": "code",
      "source": [
        "for layer in model3.layers: ## MAking trainable= FALSE (FREEZING)\n",
        "    layer.trainable = False\n",
        "print(\"DONE\")"
      ],
      "execution_count": 46,
      "outputs": [
        {
          "output_type": "stream",
          "text": [
            "DONE\n"
          ],
          "name": "stdout"
        }
      ]
    },
    {
      "metadata": {
        "id": "Q0xFf-f-ZJQF",
        "colab_type": "code",
        "colab": {
          "autoexec": {
            "startup": false,
            "wait_interval": 0
          },
          "base_uri": "https://localhost:8080/",
          "height": 34
        },
        "outputId": "41ba9c03-0ea3-405f-9744-9d5259fac0fa",
        "executionInfo": {
          "status": "ok",
          "timestamp": 1529031819265,
          "user_tz": -330,
          "elapsed": 1020,
          "user": {
            "displayName": "Pawan Snj",
            "photoUrl": "//lh6.googleusercontent.com/-ojjGyAo7og4/AAAAAAAAAAI/AAAAAAAADXU/VP6DtpEZJts/s50-c-k-no/photo.jpg",
            "userId": "100746673235819701094"
          }
        }
      },
      "cell_type": "code",
      "source": [
        "model3.add(Dense(100, activation='softmax'))\n",
        "print(\"DoNE\")"
      ],
      "execution_count": 47,
      "outputs": [
        {
          "output_type": "stream",
          "text": [
            "DoNE\n"
          ],
          "name": "stdout"
        }
      ]
    },
    {
      "metadata": {
        "id": "JoG7IUkBZJUN",
        "colab_type": "code",
        "colab": {
          "autoexec": {
            "startup": false,
            "wait_interval": 0
          }
        }
      },
      "cell_type": "code",
      "source": [
        "model3.summary()\n",
        "print('DONE')"
      ],
      "execution_count": 0,
      "outputs": []
    },
    {
      "metadata": {
        "id": "AN48VJz1ZUle",
        "colab_type": "code",
        "colab": {
          "autoexec": {
            "startup": false,
            "wait_interval": 0
          },
          "base_uri": "https://localhost:8080/",
          "height": 34
        },
        "outputId": "42a21082-3eb9-46e5-eb38-dda08f4a3ae8",
        "executionInfo": {
          "status": "ok",
          "timestamp": 1529031825673,
          "user_tz": -330,
          "elapsed": 1013,
          "user": {
            "displayName": "Pawan Snj",
            "photoUrl": "//lh6.googleusercontent.com/-ojjGyAo7og4/AAAAAAAAAAI/AAAAAAAADXU/VP6DtpEZJts/s50-c-k-no/photo.jpg",
            "userId": "100746673235819701094"
          }
        }
      },
      "cell_type": "code",
      "source": [
        "epochs3 = 10\n",
        "print(\"DONE\")"
      ],
      "execution_count": 48,
      "outputs": [
        {
          "output_type": "stream",
          "text": [
            "DONE\n"
          ],
          "name": "stdout"
        }
      ]
    },
    {
      "metadata": {
        "id": "JePQKUyUZUpP",
        "colab_type": "code",
        "colab": {
          "autoexec": {
            "startup": false,
            "wait_interval": 0
          },
          "base_uri": "https://localhost:8080/",
          "height": 427
        },
        "outputId": "03ed69fa-0ab2-4e23-e535-2508bdc128c4",
        "executionInfo": {
          "status": "ok",
          "timestamp": 1529031938149,
          "user_tz": -330,
          "elapsed": 111161,
          "user": {
            "displayName": "Pawan Snj",
            "photoUrl": "//lh6.googleusercontent.com/-ojjGyAo7og4/AAAAAAAAAAI/AAAAAAAADXU/VP6DtpEZJts/s50-c-k-no/photo.jpg",
            "userId": "100746673235819701094"
          }
        }
      },
      "cell_type": "code",
      "source": [
        "model3.compile(optimizer='rmsprop', loss='categorical_crossentropy', metrics=['accuracy'])\n",
        "hist = model.fit(train_data, train_labels_one_hot, batch_size=batch_size, epochs=epochs3, verbose=1, \n",
        "                   validation_data=(test_data, test_labels_one_hot))\n",
        "print(\"DONE\")"
      ],
      "execution_count": 49,
      "outputs": [
        {
          "output_type": "stream",
          "text": [
            "Train on 50000 samples, validate on 10000 samples\n",
            "Epoch 1/10\n",
            "50000/50000 [==============================] - 12s 234us/step - loss: 1.9447 - acc: 0.4684 - val_loss: 2.1558 - val_acc: 0.4510\n",
            "Epoch 2/10\n",
            "50000/50000 [==============================] - 11s 229us/step - loss: 1.9440 - acc: 0.4720 - val_loss: 2.0479 - val_acc: 0.4629\n",
            "Epoch 3/10\n",
            "10240/50000 [=====>........................] - ETA: 8s - loss: 1.9277 - acc: 0.4718"
          ],
          "name": "stdout"
        },
        {
          "output_type": "stream",
          "text": [
            "50000/50000 [==============================] - 11s 221us/step - loss: 1.9328 - acc: 0.4712 - val_loss: 2.0967 - val_acc: 0.4558\n",
            "Epoch 4/10\n",
            "50000/50000 [==============================] - 11s 216us/step - loss: 1.9289 - acc: 0.4754 - val_loss: 2.0681 - val_acc: 0.4628\n",
            "Epoch 5/10\n",
            "32256/50000 [==================>...........] - ETA: 3s - loss: 1.9177 - acc: 0.4764"
          ],
          "name": "stdout"
        },
        {
          "output_type": "stream",
          "text": [
            "50000/50000 [==============================] - 11s 216us/step - loss: 1.9281 - acc: 0.4740 - val_loss: 2.0435 - val_acc: 0.4710\n",
            "Epoch 6/10\n",
            "50000/50000 [==============================] - 11s 216us/step - loss: 1.9294 - acc: 0.4747 - val_loss: 2.0854 - val_acc: 0.4597\n",
            "Epoch 7/10\n",
            "38400/50000 [======================>.......] - ETA: 2s - loss: 1.9221 - acc: 0.4790"
          ],
          "name": "stdout"
        },
        {
          "output_type": "stream",
          "text": [
            "50000/50000 [==============================] - 11s 217us/step - loss: 1.9245 - acc: 0.4767 - val_loss: 2.0177 - val_acc: 0.4703\n",
            "Epoch 8/10\n",
            "50000/50000 [==============================] - 11s 217us/step - loss: 1.9231 - acc: 0.4760 - val_loss: 2.1242 - val_acc: 0.4556\n",
            "Epoch 9/10\n",
            "38144/50000 [=====================>........] - ETA: 2s - loss: 1.9126 - acc: 0.4769"
          ],
          "name": "stdout"
        },
        {
          "output_type": "stream",
          "text": [
            "50000/50000 [==============================] - 11s 218us/step - loss: 1.9201 - acc: 0.4761 - val_loss: 2.0470 - val_acc: 0.4644\n",
            "Epoch 10/10\n",
            "50000/50000 [==============================] - 11s 217us/step - loss: 1.9172 - acc: 0.4786 - val_loss: 2.1601 - val_acc: 0.4532\n",
            "DONE\n"
          ],
          "name": "stdout"
        }
      ]
    }
  ]
}
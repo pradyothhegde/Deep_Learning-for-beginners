{
 "cells": [
  {
   "cell_type": "markdown",
   "metadata": {
    "colab_type": "text",
    "deletable": true,
    "editable": true,
    "id": "DOfgDCytaZpG"
   },
   "source": [
    " **Hello World**\n",
    "\n",
    "\n",
    "1.   Taking input from user\n",
    "\n"
   ]
  },
  {
   "cell_type": "code",
   "execution_count": 3,
   "metadata": {
    "collapsed": false
   },
   "outputs": [
    {
     "name": "stdout",
     "output_type": "stream",
     "text": [
      "Hello\n"
     ]
    }
   ],
   "source": [
    "print('Hello')"
   ]
  },
  {
   "cell_type": "markdown",
   "metadata": {},
   "source": [
    "** Taking user Input**"
   ]
  },
  {
   "cell_type": "code",
   "execution_count": 1,
   "metadata": {
    "collapsed": false
   },
   "outputs": [
    {
     "name": "stdout",
     "output_type": "stream",
     "text": [
      "2\n",
      "e\n"
     ]
    }
   ],
   "source": [
    "a = int(input())\n",
    "b = str(input())"
   ]
  },
  {
   "cell_type": "markdown",
   "metadata": {
    "colab_type": "text",
    "deletable": true,
    "editable": true,
    "id": "oi584M9Uajp2"
   },
   "source": [
    "**Basic Data Types**\n",
    "\n",
    "\n",
    "1.   Integer\n",
    "2.   Float\n",
    "\n"
   ]
  },
  {
   "cell_type": "code",
   "execution_count": 4,
   "metadata": {
    "collapsed": false
   },
   "outputs": [
    {
     "name": "stdout",
     "output_type": "stream",
     "text": [
      "<class 'int'>\n",
      "<class 'float'>\n",
      "<class 'bool'>\n"
     ]
    }
   ],
   "source": [
    "a = 5\n",
    "b = 5.5\n",
    "c = True\n",
    "\n",
    "print(type(a))\n",
    "print(type(b))\n",
    "print(type(c))"
   ]
  },
  {
   "cell_type": "markdown",
   "metadata": {
    "colab_type": "text",
    "deletable": true,
    "editable": true,
    "id": "1nTDHC7AbJpt"
   },
   "source": [
    "**Arithmatic Operations**\n",
    "\n",
    "1.   Addition\n",
    "2.   Subtraction\n",
    "3.   Multipliction\n",
    "4.   Division \n",
    "\n",
    "\n",
    "\n",
    "\n"
   ]
  },
  {
   "cell_type": "code",
   "execution_count": 7,
   "metadata": {
    "collapsed": false
   },
   "outputs": [
    {
     "name": "stdout",
     "output_type": "stream",
     "text": [
      "10.5\n",
      "-0.5\n",
      "27.5\n",
      "0.9090909090909091\n"
     ]
    }
   ],
   "source": [
    "a = 5\n",
    "b - 5.5\n",
    "\n",
    "print(a+b)\n",
    "print(a-b)\n",
    "print(a*b)\n",
    "print(a/b)"
   ]
  },
  {
   "cell_type": "markdown",
   "metadata": {
    "colab_type": "text",
    "deletable": true,
    "editable": true,
    "id": "GdMnkRE3lXm1"
   },
   "source": [
    "**Arithmatic operation by incremet**"
   ]
  },
  {
   "cell_type": "code",
   "execution_count": 11,
   "metadata": {
    "collapsed": false
   },
   "outputs": [
    {
     "name": "stdout",
     "output_type": "stream",
     "text": [
      "11\n"
     ]
    }
   ],
   "source": [
    "x = 10\n",
    "x+=1\n",
    "print(x)"
   ]
  },
  {
   "cell_type": "code",
   "execution_count": null,
   "metadata": {
    "collapsed": true
   },
   "outputs": [],
   "source": [
    "print(a+b, a-b, a*b, a/b)\n",
    "\n",
    "x=1\n",
    "x++\n",
    "print(x)"
   ]
  },
  {
   "cell_type": "markdown",
   "metadata": {
    "colab_type": "text",
    "deletable": true,
    "editable": true,
    "id": "j7T7mrFdl5XL"
   },
   "source": [
    "**Unary increment**"
   ]
  },
  {
   "cell_type": "code",
   "execution_count": null,
   "metadata": {
    "collapsed": true
   },
   "outputs": [],
   "source": [
    "x=1\n",
    "x++\n",
    "print(x)"
   ]
  },
  {
   "cell_type": "markdown",
   "metadata": {
    "colab_type": "text",
    "deletable": true,
    "editable": true,
    "id": "0VyGMjh4czpU"
   },
   "source": [
    "**Booleans**"
   ]
  },
  {
   "cell_type": "code",
   "execution_count": 12,
   "metadata": {
    "collapsed": false
   },
   "outputs": [
    {
     "name": "stdout",
     "output_type": "stream",
     "text": [
      "<class 'bool'>\n",
      "<class 'bool'>\n"
     ]
    }
   ],
   "source": [
    "t,f = True, False\n",
    "print(type(t))\n",
    "print(type(f))"
   ]
  },
  {
   "cell_type": "markdown",
   "metadata": {},
   "source": [
    "# **TASK 1**"
   ]
  },
  {
   "cell_type": "markdown",
   "metadata": {
    "colab_type": "text",
    "deletable": true,
    "editable": true,
    "id": "hRnb326LmCUT"
   },
   "source": [
    "\n",
    "\n",
    " **Logical Operations**\n",
    " \n",
    "\n",
    "1.   AND\n",
    "2.   OR\n",
    "\n",
    "\n",
    "\n",
    "\n"
   ]
  },
  {
   "cell_type": "code",
   "execution_count": 14,
   "metadata": {
    "collapsed": false
   },
   "outputs": [
    {
     "name": "stdout",
     "output_type": "stream",
     "text": [
      "False\n",
      "True\n",
      "True\n",
      "True\n"
     ]
    }
   ],
   "source": [
    "t,f  =True,False\n",
    "print(f or f)\n",
    "print(f or t)\n",
    "print(t or f)\n",
    "print(t or t)"
   ]
  },
  {
   "cell_type": "code",
   "execution_count": 15,
   "metadata": {
    "collapsed": false
   },
   "outputs": [
    {
     "name": "stdout",
     "output_type": "stream",
     "text": [
      "False\n",
      "False\n",
      "False\n",
      "True\n"
     ]
    }
   ],
   "source": [
    "t,f  =True,False\n",
    "print(f and f)\n",
    "print(f and t)\n",
    "print(t and f)\n",
    "print(t and t)"
   ]
  },
  {
   "cell_type": "markdown",
   "metadata": {
    "colab_type": "text",
    "deletable": true,
    "editable": true,
    "id": "oBVJ3L23doA3"
   },
   "source": [
    "**String Operations**"
   ]
  },
  {
   "cell_type": "markdown",
   "metadata": {
    "colab_type": "text",
    "deletable": true,
    "editable": true,
    "id": "0H_dhUsKmU1L"
   },
   "source": [
    "**String Concatenation**"
   ]
  },
  {
   "cell_type": "markdown",
   "metadata": {
    "colab_type": "text",
    "deletable": true,
    "editable": true,
    "id": "jZsKZlJrqCzs"
   },
   "source": [
    "\n",
    "\n",
    "1.   Capitalize\n",
    "2.   Uppercase\n",
    "3.   Lowercase\n",
    "4.   Rightjustify\n",
    "5.   Center\n",
    "6.   Replace\n",
    "\n",
    "\n",
    "\n",
    "\n",
    "\n",
    "\n",
    "\n"
   ]
  },
  {
   "cell_type": "code",
   "execution_count": 27,
   "metadata": {
    "collapsed": false
   },
   "outputs": [
    {
     "name": "stdout",
     "output_type": "stream",
     "text": [
      "nitk\n",
      "Nitk\n",
      "NITK\n",
      " nitk\n",
      "nitk\n",
      "Nitk\n"
     ]
    }
   ],
   "source": [
    "s = \"nitk\"\n",
    "print(s)\n",
    "print(s.capitalize())\n",
    "print(s.upper())\n",
    "print(s.rjust(5))\n",
    "print(s.center(0))\n",
    "print(s.replace('n','N'))"
   ]
  },
  {
   "cell_type": "markdown",
   "metadata": {},
   "source": [
    "# Task 2"
   ]
  },
  {
   "cell_type": "markdown",
   "metadata": {},
   "source": [
    "**String Concatenattion**"
   ]
  },
  {
   "cell_type": "code",
   "execution_count": 29,
   "metadata": {
    "collapsed": false
   },
   "outputs": [
    {
     "name": "stdout",
     "output_type": "stream",
     "text": [
      "Hello NITK\n"
     ]
    }
   ],
   "source": [
    "a = \"Hello\"\n",
    "b = \" NITK\"\n",
    "\n",
    "print(a+b)"
   ]
  },
  {
   "cell_type": "code",
   "execution_count": 31,
   "metadata": {
    "collapsed": false
   },
   "outputs": [
    {
     "name": "stdout",
     "output_type": "stream",
     "text": [
      "a\n",
      "b\n",
      "ab\n"
     ]
    }
   ],
   "source": [
    "a = str(input())\n",
    "b = str(input())\n",
    "c = a+b\n",
    "print( c)"
   ]
  },
  {
   "cell_type": "markdown",
   "metadata": {
    "colab_type": "text",
    "deletable": true,
    "editable": true,
    "id": "KVaxKUcQtG02"
   },
   "source": [
    "**Containers**\n",
    "\n",
    "\n",
    "1.   Lists\n",
    "2.   Dictionary\n",
    "3.   Sets\n",
    "4.   Tuples\n",
    "\n",
    "---\n",
    "\n",
    "\n",
    "\n",
    "\n",
    "\n"
   ]
  },
  {
   "cell_type": "markdown",
   "metadata": {
    "colab_type": "text",
    "deletable": true,
    "editable": true,
    "id": "dFyshkHAu2V9"
   },
   "source": [
    "**List Operations**\n",
    "\n",
    "\n",
    "1.   Lenght\n",
    "2.   Initial Element\n",
    "3.   Last Element\n",
    "4.   Accessing element by array index\n",
    "5.   Adding elements of different types into the list\n",
    "6.   Append\n",
    "7.   Pop\n",
    "8.   Remove\n",
    "9.   Clear/Delete\n",
    "\n"
   ]
  },
  {
   "cell_type": "code",
   "execution_count": 78,
   "metadata": {
    "collapsed": false
   },
   "outputs": [
    {
     "name": "stdout",
     "output_type": "stream",
     "text": [
      "[1, 2, 3.5, 'K', 'G', True, False]\n",
      "7\n",
      "G\n",
      "1\n",
      "False\n",
      "[1, 2, 3.5, 'K', 'G', True, False, 'h']\n",
      "[1, 2, 3.5, 'K', 'G', True, False, 'h', 10]\n",
      "10\n",
      "[1, 2, 3.5, 'K', 'G', True, False, 'h']\n",
      "[1, 2, 3.5, 'G', True, False, 'h']\n",
      "[]\n"
     ]
    }
   ],
   "source": [
    "a = [1,2,3.5,'K',\"G\",True,False]\n",
    "print(a)\n",
    "\n",
    "print(len(a))\n",
    "\n",
    "print(a[4])\n",
    "\n",
    "print(a[0])\n",
    "\n",
    "print(a[-1])\n",
    "\n",
    "a.append(\"h\")\n",
    "print(a)\n",
    "\n",
    "a.append(10)\n",
    "print(a)\n",
    "\n",
    "print(a.pop())\n",
    "print(a)\n",
    "\n",
    "a.remove('K')\n",
    "print(a)\n",
    "\n",
    "a.clear()\n",
    "print(a)\n",
    "\n",
    "del a"
   ]
  },
  {
   "cell_type": "markdown",
   "metadata": {
    "colab_type": "text",
    "deletable": true,
    "editable": true,
    "id": "CuFM6jb7wLBE"
   },
   "source": [
    "**Slicing**\n"
   ]
  },
  {
   "cell_type": "code",
   "execution_count": 92,
   "metadata": {
    "collapsed": false
   },
   "outputs": [
    {
     "name": "stdout",
     "output_type": "stream",
     "text": [
      "[0, 1, 2, 3, 4, 5, 6, 7, 8]\n",
      "[3, 4, 5, 6, 7]\n",
      "[0, 1, 2]\n",
      "[3, 4, 5, 6, 7, 8]\n",
      "[0, 1, 2, 3, 4, 5, 6, 7, 8]\n",
      "[0, 1, 2, 3, 4, 5, 6, 7]\n"
     ]
    }
   ],
   "source": [
    "#a = [0,1,2,3,4,5,6,7,8,9]\n",
    "#print(a)\n",
    "a = list(range(0,9))\n",
    "print(a)\n",
    "\n",
    "print(a[3:8])\n",
    "print(a[:3])\n",
    "print(a[3:])\n",
    "print(a[:])\n",
    "print(a[:-1])"
   ]
  },
  {
   "cell_type": "markdown",
   "metadata": {
    "colab_type": "text",
    "deletable": true,
    "editable": true,
    "id": "XkUABcuZy4hP"
   },
   "source": [
    "**Loops**"
   ]
  },
  {
   "cell_type": "code",
   "execution_count": 128,
   "metadata": {
    "collapsed": false
   },
   "outputs": [
    {
     "name": "stdout",
     "output_type": "stream",
     "text": [
      "1\n",
      "2\n",
      "3\n"
     ]
    }
   ],
   "source": [
    "a = [1,2,3]\n",
    "for i in a:\n",
    "    print(i)"
   ]
  },
  {
   "cell_type": "markdown",
   "metadata": {
    "colab_type": "text",
    "deletable": true,
    "editable": true,
    "id": "eEkFBAWgzgjk"
   },
   "source": [
    "**Enumerate**"
   ]
  },
  {
   "cell_type": "code",
   "execution_count": 135,
   "metadata": {
    "collapsed": false
   },
   "outputs": [
    {
     "name": "stdout",
     "output_type": "stream",
     "text": [
      "1: 1\n",
      "2: 2\n",
      "3: 3\n"
     ]
    }
   ],
   "source": [
    "for index, i in enumerate(a):\n",
    "    print(\"%d: %s\" %(index+1, i))"
   ]
  },
  {
   "cell_type": "markdown",
   "metadata": {},
   "source": [
    "# Task3\n",
    " \n",
    "Python program to print all the numbers which are divisible by 7 but are not multiple of 5 between 2000 and 3200"
   ]
  },
  {
   "cell_type": "code",
   "execution_count": 139,
   "metadata": {
    "collapsed": false
   },
   "outputs": [
    {
     "name": "stdout",
     "output_type": "stream",
     "text": [
      "[7]\n"
     ]
    }
   ],
   "source": [
    "a = []\n",
    "for i in range(0, 10):\n",
    "    if (i%7==0)and (i%5!=0):\n",
    "        a.append(i)        \n",
    "print(a)"
   ]
  },
  {
   "cell_type": "markdown",
   "metadata": {},
   "source": [
    "# Task4\n",
    " \n",
    "Square the number"
   ]
  },
  {
   "cell_type": "code",
   "execution_count": 140,
   "metadata": {
    "collapsed": false
   },
   "outputs": [
    {
     "name": "stdout",
     "output_type": "stream",
     "text": [
      "[1, 4, 9, 16, 25]\n"
     ]
    }
   ],
   "source": [
    "a = [1,2,3,4,5]\n",
    "square =[]\n",
    "for i in a:\n",
    "    square.append(i**2)\n",
    "print(square)"
   ]
  },
  {
   "cell_type": "markdown",
   "metadata": {
    "colab_type": "text",
    "deletable": true,
    "editable": true,
    "id": "kRDi14_8EOCr"
   },
   "source": [
    "**Dictionary**\n",
    "\n",
    "\n",
    "1.   Checking the presence of elements in dictionary\n",
    "2.   Print Keys and Values \n",
    "3.   Print lenght of dictionary\n",
    "4.   Getting the keys from the dictionary\n",
    "5.   Accessing the element which is not present in the list\n",
    "6.   Iterate through dictionary\n",
    "7.   Updating the element in dictionary\n",
    "8.   Clear the dictionary\n",
    "9.   Delete"
   ]
  },
  {
   "cell_type": "code",
   "execution_count": 3,
   "metadata": {
    "collapsed": false
   },
   "outputs": [
    {
     "name": "stdout",
     "output_type": "stream",
     "text": [
      "{'b': 2, 'a': 1}\n",
      "True\n",
      "dict_keys(['b', 'a'])\n",
      "dict_values([2, 1])\n",
      "2\n",
      "b\n",
      "a\n",
      "{'b': 2, 'a': 1, 'c': 3}\n",
      "1\n",
      "{}\n"
     ]
    }
   ],
   "source": [
    "alpha ={'a':1,'b':2}\n",
    "print(alpha)\n",
    "\n",
    "print('a' in alpha)\n",
    "\n",
    "print(alpha.keys())\n",
    "\n",
    "print(alpha.values())\n",
    "\n",
    "print(len(alpha))\n",
    "\n",
    "for i in alpha:\n",
    "    print(i)\n",
    "    \n",
    "alpha.update({'c':3})\n",
    "print(alpha)\n",
    "\n",
    "print(alpha['a'])\n",
    "\n",
    "alpha.clear()\n",
    "print(alpha)\n",
    "\n",
    "del alpha\n",
    "\n",
    "#print(alpha)"
   ]
  },
  {
   "cell_type": "markdown",
   "metadata": {
    "colab_type": "text",
    "deletable": true,
    "editable": true,
    "id": "A0yWE06II7DA"
   },
   "source": [
    "# Task 5\n",
    "\n",
    "Question: Using the concept of dictionary, form a list from 0-9 and square only even numbers"
   ]
  },
  {
   "cell_type": "code",
   "execution_count": 174,
   "metadata": {
    "collapsed": false
   },
   "outputs": [
    {
     "name": "stdout",
     "output_type": "stream",
     "text": [
      "{0: 0, 8: 64, 2: 4, 4: 16, 6: 36}\n"
     ]
    }
   ],
   "source": [
    "a = list(range(0,9))\n",
    "even = {x: x**2 for x in a if x%2==0}\n",
    "print(even)"
   ]
  },
  {
   "cell_type": "markdown",
   "metadata": {
    "colab_type": "text",
    "deletable": true,
    "editable": true,
    "id": "-7HR8T7jLUl_"
   },
   "source": [
    "**Sets**\n",
    "\n",
    "\n",
    "1.   Check the elements in sets\n",
    "2.   Lenght of sets\n",
    "3.   Add elements to sets \n",
    "4.   Remove the elements from sets\n",
    "5.   Iterate with enumerate\n",
    "6.   Clear  \n",
    "7.   Delete\n",
    "\n",
    "\n"
   ]
  },
  {
   "cell_type": "code",
   "execution_count": 187,
   "metadata": {
    "collapsed": false
   },
   "outputs": [
    {
     "name": "stdout",
     "output_type": "stream",
     "text": [
      "True\n",
      "2\n",
      "{'c', 'b', 'a'}\n",
      "{'c', 'b'}\n",
      "c\n",
      "b\n",
      "set()\n"
     ]
    }
   ],
   "source": [
    "s = {'a','b'}\n",
    "print('a' in s)\n",
    "\n",
    "print(len(s))\n",
    "\n",
    "s.add('c')\n",
    "print(s)\n",
    "\n",
    "s.remove('a')\n",
    "print(s)\n",
    "\n",
    "for i in s:\n",
    "    print(i)\n",
    "\n",
    "s.clear()\n",
    "print(s)\n",
    "\n",
    "del s\n",
    "#print(s)"
   ]
  },
  {
   "cell_type": "markdown",
   "metadata": {
    "colab_type": "text",
    "deletable": true,
    "editable": true,
    "id": "rXcZaB3cjidA"
   },
   "source": [
    "**Tuples**\n",
    "\n",
    "\n",
    "1.   Initial element\n",
    "2.   Final Element\n",
    "3.   Lenght of tuple\n",
    "4.   Delete Tuples\n",
    "  \n"
   ]
  },
  {
   "cell_type": "code",
   "execution_count": 196,
   "metadata": {
    "collapsed": false
   },
   "outputs": [
    {
     "name": "stdout",
     "output_type": "stream",
     "text": [
      "(1, 2, 3, 4)\n",
      "4\n",
      "4\n",
      "1\n"
     ]
    }
   ],
   "source": [
    "a = (1,2,3,4)\n",
    "print(a)\n",
    "print(a[-1])\n",
    "print(len(a))\n",
    "print(a[0])\n",
    "#del a"
   ]
  },
  {
   "cell_type": "markdown",
   "metadata": {
    "colab_type": "text",
    "deletable": true,
    "editable": true,
    "id": "2P4Fqn0dnSO1"
   },
   "source": [
    "**Functions**"
   ]
  },
  {
   "cell_type": "code",
   "execution_count": 2,
   "metadata": {
    "collapsed": false
   },
   "outputs": [
    {
     "data": {
      "text/plain": [
       "9"
      ]
     },
     "execution_count": 2,
     "metadata": {},
     "output_type": "execute_result"
    }
   ],
   "source": [
    "def add(a,b):\n",
    "    c = a+b\n",
    "    return c\n",
    "\n",
    "add(4,5)"
   ]
  },
  {
   "cell_type": "markdown",
   "metadata": {
    "colab_type": "text",
    "deletable": true,
    "editable": true,
    "id": "9B6dLGL4oW8R"
   },
   "source": [
    "# Task\n",
    "Add two numbers by taking users input"
   ]
  },
  {
   "cell_type": "code",
   "execution_count": null,
   "metadata": {
    "collapsed": true
   },
   "outputs": [],
   "source": []
  }
 ],
 "metadata": {
  "colab": {
   "collapsed_sections": [],
   "name": "Try_Scientific_Python.ipynb",
   "provenance": [],
   "version": "0.3.2"
  },
  "kernelspec": {
   "display_name": "Python 3",
   "language": "python",
   "name": "python3"
  },
  "language_info": {
   "codemirror_mode": {
    "name": "ipython",
    "version": 3
   },
   "file_extension": ".py",
   "mimetype": "text/x-python",
   "name": "python",
   "nbconvert_exporter": "python",
   "pygments_lexer": "ipython3",
   "version": "3.5.0"
  }
 },
 "nbformat": 4,
 "nbformat_minor": 0
}

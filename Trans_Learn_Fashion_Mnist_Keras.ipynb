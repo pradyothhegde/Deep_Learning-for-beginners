{
  "nbformat": 4,
  "nbformat_minor": 0,
  "metadata": {
    "colab": {
      "name": "Tut4_Fashion_Mnist_Keras.ipynb",
      "version": "0.3.2",
      "views": {},
      "default_view": {},
      "provenance": [],
      "collapsed_sections": []
    },
    "kernelspec": {
      "name": "python3",
      "display_name": "Python 3"
    },
    "accelerator": "GPU"
  },
  "cells": [
    {
      "metadata": {
        "id": "MiHVeMd3Iw68",
        "colab_type": "text"
      },
      "cell_type": "markdown",
      "source": [
        "# Transfer Learning\n",
        "Transfer learning is a research problem in machine learning that focuses on storing knowledge gained while solving one problem and applying it to a different but related problem.In this tutorial first we will train the model with the simple architecture and then apply transfer learning technique so that we can clearly make out the impact/usefullness of transfer kearning.Here we have performed transfer learning using 1) VGG 16 2) VGG 19 3) Mobilenet\n",
        "## Applying Transfer Learning Technique to Mnist \n",
        "### Importing the required libraries"
      ]
    },
    {
      "metadata": {
        "id": "EupXQy1AIyUR",
        "colab_type": "code",
        "colab": {
          "autoexec": {
            "startup": false,
            "wait_interval": 0
          }
        }
      },
      "cell_type": "code",
      "source": [
        "import keras\n",
        "from keras.datasets import fashion_mnist\n",
        "from keras.models import Sequential\n",
        "from keras.layers import Dense, Activation, Flatten\n",
        "from keras.layers import Conv2D, MaxPooling2D\n",
        "from keras.preprocessing.image import ImageDataGenerator\n",
        "from keras.utils.vis_utils import plot_model\n",
        "import matplotlib.pyplot as plt\n",
        "print(\"DONE\")"
      ],
      "execution_count": 0,
      "outputs": []
    },
    {
      "metadata": {
        "id": "89YikJC59JNo",
        "colab_type": "text"
      },
      "cell_type": "markdown",
      "source": [
        "## Loading the Dataset"
      ]
    },
    {
      "metadata": {
        "id": "hK7KMGwhBZ0T",
        "colab_type": "code",
        "colab": {
          "autoexec": {
            "startup": false,
            "wait_interval": 0
          },
          "base_uri": "https://localhost:8080/",
          "height": 170
        },
        "outputId": "28a98907-5dda-4e07-feba-da09b59292e1",
        "executionInfo": {
          "status": "ok",
          "timestamp": 1532499795414,
          "user_tz": -330,
          "elapsed": 2596,
          "user": {
            "displayName": "Pawan Snj",
            "photoUrl": "//lh6.googleusercontent.com/-ojjGyAo7og4/AAAAAAAAAAI/AAAAAAAADXU/VP6DtpEZJts/s50-c-k-no/photo.jpg",
            "userId": "100746673235819701094"
          }
        }
      },
      "cell_type": "code",
      "source": [
        "(x_train, y_train), (x_test, y_test) = fashion_mnist.load_data()\n",
        "print(\"DONE\")"
      ],
      "execution_count": 3,
      "outputs": [
        {
          "output_type": "stream",
          "text": [
            "Downloading data from http://fashion-mnist.s3-website.eu-central-1.amazonaws.com/train-labels-idx1-ubyte.gz\n",
            "32768/29515 [=================================] - 0s 0us/step\n",
            "Downloading data from http://fashion-mnist.s3-website.eu-central-1.amazonaws.com/train-images-idx3-ubyte.gz\n",
            "26427392/26421880 [==============================] - 1s 0us/step\n",
            "Downloading data from http://fashion-mnist.s3-website.eu-central-1.amazonaws.com/t10k-labels-idx1-ubyte.gz\n",
            "8192/5148 [===============================================] - 0s 0us/step\n",
            "Downloading data from http://fashion-mnist.s3-website.eu-central-1.amazonaws.com/t10k-images-idx3-ubyte.gz\n",
            "4423680/4422102 [==============================] - 0s 0us/step\n",
            "DONE\n"
          ],
          "name": "stdout"
        }
      ]
    },
    {
      "metadata": {
        "id": "apImj-_f9bmW",
        "colab_type": "text"
      },
      "cell_type": "markdown",
      "source": [
        "## Data Preprocessing"
      ]
    },
    {
      "metadata": {
        "id": "ueqt8ac3BZ9i",
        "colab_type": "code",
        "colab": {
          "autoexec": {
            "startup": false,
            "wait_interval": 0
          },
          "base_uri": "https://localhost:8080/",
          "height": 34
        },
        "outputId": "98b313db-a045-498c-9edc-eb134ba6a528",
        "executionInfo": {
          "status": "ok",
          "timestamp": 1532499797233,
          "user_tz": -330,
          "elapsed": 1146,
          "user": {
            "displayName": "Pawan Snj",
            "photoUrl": "//lh6.googleusercontent.com/-ojjGyAo7og4/AAAAAAAAAAI/AAAAAAAADXU/VP6DtpEZJts/s50-c-k-no/photo.jpg",
            "userId": "100746673235819701094"
          }
        }
      },
      "cell_type": "code",
      "source": [
        "x_train = x_train.reshape(x_train.shape[0], 28, 28, 1)\n",
        "x_test = x_test.reshape(x_test.shape[0], 28, 28, 1)\n",
        " \n",
        "x_train = x_train.astype('float32')\n",
        "x_test = x_test.astype('float32')\n",
        " \n",
        "x_train /= 255 #inputs have to be between [0, 1]\n",
        "x_test /= 255\n",
        "print(\"DONE\")"
      ],
      "execution_count": 4,
      "outputs": [
        {
          "output_type": "stream",
          "text": [
            "DONE\n"
          ],
          "name": "stdout"
        }
      ]
    },
    {
      "metadata": {
        "id": "lCA-8t8pBaEc",
        "colab_type": "code",
        "colab": {
          "autoexec": {
            "startup": false,
            "wait_interval": 0
          },
          "base_uri": "https://localhost:8080/",
          "height": 34
        },
        "outputId": "46d5089b-88ec-4de3-8db4-32d1b1719e46",
        "executionInfo": {
          "status": "ok",
          "timestamp": 1532499800121,
          "user_tz": -330,
          "elapsed": 1418,
          "user": {
            "displayName": "Pawan Snj",
            "photoUrl": "//lh6.googleusercontent.com/-ojjGyAo7og4/AAAAAAAAAAI/AAAAAAAADXU/VP6DtpEZJts/s50-c-k-no/photo.jpg",
            "userId": "100746673235819701094"
          }
        }
      },
      "cell_type": "code",
      "source": [
        "num_classes = 10\n",
        "y_train = keras.utils.to_categorical(y_train, num_classes)\n",
        "y_test = keras.utils.to_categorical(y_test, num_classes)\n",
        "print(\"DONE\")"
      ],
      "execution_count": 5,
      "outputs": [
        {
          "output_type": "stream",
          "text": [
            "DONE\n"
          ],
          "name": "stdout"
        }
      ]
    },
    {
      "metadata": {
        "id": "guT6sULk9h1O",
        "colab_type": "text"
      },
      "cell_type": "markdown",
      "source": [
        "## Building the Model"
      ]
    },
    {
      "metadata": {
        "id": "qj6nLOoEBaWz",
        "colab_type": "code",
        "colab": {
          "autoexec": {
            "startup": false,
            "wait_interval": 0
          },
          "base_uri": "https://localhost:8080/",
          "height": 34
        },
        "outputId": "38901e60-98b7-4544-9982-18c5391d6b7c",
        "executionInfo": {
          "status": "ok",
          "timestamp": 1532499803826,
          "user_tz": -330,
          "elapsed": 1827,
          "user": {
            "displayName": "Pawan Snj",
            "photoUrl": "//lh6.googleusercontent.com/-ojjGyAo7og4/AAAAAAAAAAI/AAAAAAAADXU/VP6DtpEZJts/s50-c-k-no/photo.jpg",
            "userId": "100746673235819701094"
          }
        }
      },
      "cell_type": "code",
      "source": [
        "model = Sequential()\n",
        " \n",
        "#1st convolution layer\n",
        "model.add(Conv2D(32, (3, 3) ,input_shape=(28,28,1))) #apply 32 filters size of (3, 3) \n",
        "model.add(Activation('relu'))\n",
        "model.add(MaxPooling2D(pool_size=(2,2)))\n",
        " \n",
        "#2nd convolution layer\n",
        "model.add(Conv2D(64,(3, 3))) #apply 64 filters size of (3x3)\n",
        "model.add(Activation('relu'))\n",
        "model.add(MaxPooling2D(pool_size=(2,2)))\n",
        " \n",
        "model.add(Flatten())\n",
        " \n",
        "# Fully connected layer. 1 hidden layer consisting of 512 nodes\n",
        "model.add(Dense(512))\n",
        "model.add(Activation('relu'))\n",
        " \n",
        "#10 outputs\n",
        "model.add(Dense(10, activation='softmax'))\n",
        "print(\"DONE\")"
      ],
      "execution_count": 6,
      "outputs": [
        {
          "output_type": "stream",
          "text": [
            "DONE\n"
          ],
          "name": "stdout"
        }
      ]
    },
    {
      "metadata": {
        "id": "GYoQb9-MCJbO",
        "colab_type": "code",
        "colab": {
          "autoexec": {
            "startup": false,
            "wait_interval": 0
          },
          "base_uri": "https://localhost:8080/",
          "height": 493
        },
        "outputId": "3fd73b9a-bc86-4769-e372-143ac025f5fc",
        "executionInfo": {
          "status": "ok",
          "timestamp": 1532499806486,
          "user_tz": -330,
          "elapsed": 1099,
          "user": {
            "displayName": "Pawan Snj",
            "photoUrl": "//lh6.googleusercontent.com/-ojjGyAo7og4/AAAAAAAAAAI/AAAAAAAADXU/VP6DtpEZJts/s50-c-k-no/photo.jpg",
            "userId": "100746673235819701094"
          }
        }
      },
      "cell_type": "code",
      "source": [
        "model.summary()\n",
        "print(\"DONE\")"
      ],
      "execution_count": 7,
      "outputs": [
        {
          "output_type": "stream",
          "text": [
            "_________________________________________________________________\n",
            "Layer (type)                 Output Shape              Param #   \n",
            "=================================================================\n",
            "conv2d_1 (Conv2D)            (None, 26, 26, 32)        320       \n",
            "_________________________________________________________________\n",
            "activation_1 (Activation)    (None, 26, 26, 32)        0         \n",
            "_________________________________________________________________\n",
            "max_pooling2d_1 (MaxPooling2 (None, 13, 13, 32)        0         \n",
            "_________________________________________________________________\n",
            "conv2d_2 (Conv2D)            (None, 11, 11, 64)        18496     \n",
            "_________________________________________________________________\n",
            "activation_2 (Activation)    (None, 11, 11, 64)        0         \n",
            "_________________________________________________________________\n",
            "max_pooling2d_2 (MaxPooling2 (None, 5, 5, 64)          0         \n",
            "_________________________________________________________________\n",
            "flatten_1 (Flatten)          (None, 1600)              0         \n",
            "_________________________________________________________________\n",
            "dense_1 (Dense)              (None, 512)               819712    \n",
            "_________________________________________________________________\n",
            "activation_3 (Activation)    (None, 512)               0         \n",
            "_________________________________________________________________\n",
            "dense_2 (Dense)              (None, 10)                5130      \n",
            "=================================================================\n",
            "Total params: 843,658\n",
            "Trainable params: 843,658\n",
            "Non-trainable params: 0\n",
            "_________________________________________________________________\n",
            "DONE\n"
          ],
          "name": "stdout"
        }
      ]
    },
    {
      "metadata": {
        "id": "3onQsfg8CJk2",
        "colab_type": "code",
        "colab": {
          "autoexec": {
            "startup": false,
            "wait_interval": 0
          },
          "base_uri": "https://localhost:8080/",
          "height": 34
        },
        "outputId": "49e0c434-a239-44d0-c74f-b63b69eb94d7",
        "executionInfo": {
          "status": "ok",
          "timestamp": 1532499810000,
          "user_tz": -330,
          "elapsed": 1164,
          "user": {
            "displayName": "Pawan Snj",
            "photoUrl": "//lh6.googleusercontent.com/-ojjGyAo7og4/AAAAAAAAAAI/AAAAAAAADXU/VP6DtpEZJts/s50-c-k-no/photo.jpg",
            "userId": "100746673235819701094"
          }
        }
      },
      "cell_type": "code",
      "source": [
        "batch_size = 250\n",
        "epochs = 10\n",
        "print(\"DONE\")"
      ],
      "execution_count": 8,
      "outputs": [
        {
          "output_type": "stream",
          "text": [
            "DONE\n"
          ],
          "name": "stdout"
        }
      ]
    },
    {
      "metadata": {
        "id": "9xIEWLSvCJsV",
        "colab_type": "code",
        "colab": {
          "autoexec": {
            "startup": false,
            "wait_interval": 0
          },
          "base_uri": "https://localhost:8080/",
          "height": 34
        },
        "outputId": "5ba37963-0822-4fe4-b4cb-dbb5de7b0b87",
        "executionInfo": {
          "status": "ok",
          "timestamp": 1532499813467,
          "user_tz": -330,
          "elapsed": 1879,
          "user": {
            "displayName": "Pawan Snj",
            "photoUrl": "//lh6.googleusercontent.com/-ojjGyAo7og4/AAAAAAAAAAI/AAAAAAAADXU/VP6DtpEZJts/s50-c-k-no/photo.jpg",
            "userId": "100746673235819701094"
          }
        }
      },
      "cell_type": "code",
      "source": [
        "gen = ImageDataGenerator()\n",
        "train_generator = gen.flow(x_train, y_train, batch_size=batch_size)\n",
        "print(\"DONE\")"
      ],
      "execution_count": 9,
      "outputs": [
        {
          "output_type": "stream",
          "text": [
            "DONE\n"
          ],
          "name": "stdout"
        }
      ]
    },
    {
      "metadata": {
        "id": "4-aRbMZx9unl",
        "colab_type": "text"
      },
      "cell_type": "markdown",
      "source": [
        "## Compiling and fitting the Model"
      ]
    },
    {
      "metadata": {
        "id": "e6cDSoROCJzN",
        "colab_type": "code",
        "colab": {
          "autoexec": {
            "startup": false,
            "wait_interval": 0
          },
          "base_uri": "https://localhost:8080/",
          "height": 394
        },
        "outputId": "da187191-9697-49a2-e52c-c374871ef3f3",
        "executionInfo": {
          "status": "ok",
          "timestamp": 1532499866000,
          "user_tz": -330,
          "elapsed": 48720,
          "user": {
            "displayName": "Pawan Snj",
            "photoUrl": "//lh6.googleusercontent.com/-ojjGyAo7og4/AAAAAAAAAAI/AAAAAAAADXU/VP6DtpEZJts/s50-c-k-no/photo.jpg",
            "userId": "100746673235819701094"
          }
        }
      },
      "cell_type": "code",
      "source": [
        "model.compile(loss='categorical_crossentropy', optimizer=keras.optimizers.Adam(), metrics=['accuracy'])\n",
        " \n",
        "hist = model.fit_generator(train_generator, steps_per_epoch=batch_size, epochs=epochs, validation_data=(x_test, y_test))\n",
        "\n",
        "print(\"DONE\")"
      ],
      "execution_count": 10,
      "outputs": [
        {
          "output_type": "stream",
          "text": [
            "Epoch 1/10\n",
            "250/250 [==============================] - 6s 24ms/step - loss: 0.5530 - acc: 0.8021 - val_loss: 0.4037 - val_acc: 0.8575\n",
            "Epoch 2/10\n",
            "250/250 [==============================] - 5s 18ms/step - loss: 0.3527 - acc: 0.8735 - val_loss: 0.3386 - val_acc: 0.8791\n",
            "Epoch 3/10\n",
            "250/250 [==============================] - 5s 18ms/step - loss: 0.3037 - acc: 0.8906 - val_loss: 0.3426 - val_acc: 0.8693\n",
            "Epoch 4/10\n",
            "250/250 [==============================] - 5s 18ms/step - loss: 0.2744 - acc: 0.9004 - val_loss: 0.2978 - val_acc: 0.8925\n",
            "Epoch 5/10\n",
            " 19/250 [=>............................] - ETA: 4s - loss: 0.2525 - acc: 0.9051"
          ],
          "name": "stdout"
        },
        {
          "output_type": "stream",
          "text": [
            "250/250 [==============================] - 5s 18ms/step - loss: 0.2476 - acc: 0.9085 - val_loss: 0.2721 - val_acc: 0.9026\n",
            "Epoch 6/10\n",
            "250/250 [==============================] - 5s 18ms/step - loss: 0.2308 - acc: 0.9163 - val_loss: 0.2600 - val_acc: 0.9057\n",
            "Epoch 7/10\n",
            "250/250 [==============================] - 5s 18ms/step - loss: 0.2077 - acc: 0.9229 - val_loss: 0.2529 - val_acc: 0.9064\n",
            "Epoch 8/10\n",
            "250/250 [==============================] - 5s 18ms/step - loss: 0.1905 - acc: 0.9304 - val_loss: 0.2648 - val_acc: 0.9044\n",
            "Epoch 9/10\n",
            " 42/250 [====>.........................] - ETA: 3s - loss: 0.1885 - acc: 0.9314"
          ],
          "name": "stdout"
        },
        {
          "output_type": "stream",
          "text": [
            "250/250 [==============================] - 5s 18ms/step - loss: 0.1785 - acc: 0.9341 - val_loss: 0.2436 - val_acc: 0.9133\n",
            "Epoch 10/10\n",
            "250/250 [==============================] - 5s 18ms/step - loss: 0.1655 - acc: 0.9400 - val_loss: 0.2507 - val_acc: 0.9096\n",
            "DONE\n"
          ],
          "name": "stdout"
        }
      ]
    },
    {
      "metadata": {
        "id": "bddq_o239-bk",
        "colab_type": "text"
      },
      "cell_type": "markdown",
      "source": [
        "## Graph\n",
        "\n",
        "1.   Training accuracy vs Validation accuracy\n",
        "2.   Training loss vs Validation loss\n",
        "\n",
        "\n",
        "\n"
      ]
    },
    {
      "metadata": {
        "id": "LWEBQ9NACKTu",
        "colab_type": "code",
        "colab": {
          "autoexec": {
            "startup": false,
            "wait_interval": 0
          },
          "base_uri": "https://localhost:8080/",
          "height": 588
        },
        "outputId": "a7d35a04-561b-4ae1-991c-fcde2e791a6e",
        "executionInfo": {
          "status": "ok",
          "timestamp": 1532499873008,
          "user_tz": -330,
          "elapsed": 2135,
          "user": {
            "displayName": "Pawan Snj",
            "photoUrl": "//lh6.googleusercontent.com/-ojjGyAo7og4/AAAAAAAAAAI/AAAAAAAADXU/VP6DtpEZJts/s50-c-k-no/photo.jpg",
            "userId": "100746673235819701094"
          }
        }
      },
      "cell_type": "code",
      "source": [
        "# Graph losses and accuracy\n",
        "train_loss=hist.history['loss']\n",
        "val_loss=hist.history['val_loss']\n",
        "train_acc=hist.history['acc']\n",
        "val_acc=hist.history['val_acc']\n",
        "xc=range(epochs)\n",
        "\n",
        "##############################################\n",
        "plt.figure(1,figsize=(4,4))\n",
        "plt.plot(xc,train_loss)\n",
        "plt.plot(xc,val_loss)\n",
        "\n",
        "plt.xlabel('num of epochs')\n",
        "plt.ylabel('loss')\n",
        "plt.title('train_loss vs test_loss')\n",
        "\n",
        "plt.grid(True)\n",
        "plt.legend(['train','val']) \n",
        "\n",
        "##################################################\n",
        "\n",
        "plt.figure(2,figsize=(4,4))\n",
        "plt.plot(xc,train_acc)\n",
        "plt.plot(xc,val_acc)\n",
        "\n",
        "plt.xlabel('num of Epochs')\n",
        "plt.ylabel('accuracy')\n",
        "plt.title('train_acc vs test_acc')\n",
        "\n",
        "plt.grid(True)\n",
        "plt.legend(['train','val'],loc=4)\n"
      ],
      "execution_count": 11,
      "outputs": [
        {
          "output_type": "execute_result",
          "data": {
            "text/plain": [
              "<matplotlib.legend.Legend at 0x7fd3673709b0>"
            ]
          },
          "metadata": {
            "tags": []
          },
          "execution_count": 11
        },
        {
          "output_type": "display_data",
          "data": {
            "image/png": "[encoded data removed]",
            "text/plain": [
              "<matplotlib.figure.Figure at 0x7fd3b4cb8630>"
            ]
          },
          "metadata": {
            "tags": []
          }
        },
        {
          "output_type": "display_data",
          "data": {
            "image/png": "[encoded data removed]",
            "text/plain": [
              "<matplotlib.figure.Figure at 0x7fd3672fd9b0>"
            ]
          },
          "metadata": {
            "tags": []
          }
        }
      ]
    },
    {
      "metadata": {
        "id": "0QTFaVKy-QmJ",
        "colab_type": "text"
      },
      "cell_type": "markdown",
      "source": [
        "# VGG 16 Model"
      ]
    },
    {
      "metadata": {
        "id": "-MaOTQJqflS5",
        "colab_type": "code",
        "colab": {
          "autoexec": {
            "startup": false,
            "wait_interval": 0
          },
          "base_uri": "https://localhost:8080/",
          "height": 34
        },
        "outputId": "b6a5030f-3eb7-461a-81f3-95cc962154d9",
        "executionInfo": {
          "status": "ok",
          "timestamp": 1532497994927,
          "user_tz": -330,
          "elapsed": 4891,
          "user": {
            "displayName": "Pawan Snj",
            "photoUrl": "//lh6.googleusercontent.com/-ojjGyAo7og4/AAAAAAAAAAI/AAAAAAAADXU/VP6DtpEZJts/s50-c-k-no/photo.jpg",
            "userId": "100746673235819701094"
          }
        }
      },
      "cell_type": "code",
      "source": [
        "vgg16_model = keras.applications.vgg16.VGG16()\n",
        "print(\"DONE\")"
      ],
      "execution_count": 0,
      "outputs": [
        {
          "output_type": "stream",
          "text": [
            "DONE\n"
          ],
          "name": "stdout"
        }
      ]
    },
    {
      "metadata": {
        "id": "5ujgd8yJB_WU",
        "colab_type": "code",
        "colab": {
          "autoexec": {
            "startup": false,
            "wait_interval": 0
          },
          "base_uri": "https://localhost:8080/",
          "height": 976
        },
        "outputId": "315eb341-4f4d-4f95-a514-7ad8ef51c0ad",
        "executionInfo": {
          "status": "ok",
          "timestamp": 1528891587752,
          "user_tz": -330,
          "elapsed": 1797,
          "user": {
            "displayName": "Pawan Snj",
            "photoUrl": "//lh6.googleusercontent.com/-ojjGyAo7og4/AAAAAAAAAAI/AAAAAAAADXU/VP6DtpEZJts/s50-c-k-no/photo.jpg",
            "userId": "100746673235819701094"
          }
        }
      },
      "cell_type": "code",
      "source": [
        "vgg16_model.summary()\n",
        "print(\"DONE\")"
      ],
      "execution_count": 14,
      "outputs": [
        {
          "output_type": "stream",
          "text": [
            "_________________________________________________________________\n",
            "Layer (type)                 Output Shape              Param #   \n",
            "=================================================================\n",
            "input_1 (InputLayer)         (None, 224, 224, 3)       0         \n",
            "_________________________________________________________________\n",
            "block1_conv1 (Conv2D)        (None, 224, 224, 64)      1792      \n",
            "_________________________________________________________________\n",
            "block1_conv2 (Conv2D)        (None, 224, 224, 64)      36928     \n",
            "_________________________________________________________________\n",
            "block1_pool (MaxPooling2D)   (None, 112, 112, 64)      0         \n",
            "_________________________________________________________________\n",
            "block2_conv1 (Conv2D)        (None, 112, 112, 128)     73856     \n",
            "_________________________________________________________________\n",
            "block2_conv2 (Conv2D)        (None, 112, 112, 128)     147584    \n",
            "_________________________________________________________________\n",
            "block2_pool (MaxPooling2D)   (None, 56, 56, 128)       0         \n",
            "_________________________________________________________________\n",
            "block3_conv1 (Conv2D)        (None, 56, 56, 256)       295168    \n",
            "_________________________________________________________________\n",
            "block3_conv2 (Conv2D)        (None, 56, 56, 256)       590080    \n",
            "_________________________________________________________________\n",
            "block3_conv3 (Conv2D)        (None, 56, 56, 256)       590080    \n",
            "_________________________________________________________________\n",
            "block3_pool (MaxPooling2D)   (None, 28, 28, 256)       0         \n",
            "_________________________________________________________________\n",
            "block4_conv1 (Conv2D)        (None, 28, 28, 512)       1180160   \n",
            "_________________________________________________________________\n",
            "block4_conv2 (Conv2D)        (None, 28, 28, 512)       2359808   \n",
            "_________________________________________________________________\n",
            "block4_conv3 (Conv2D)        (None, 28, 28, 512)       2359808   \n",
            "_________________________________________________________________\n",
            "block4_pool (MaxPooling2D)   (None, 14, 14, 512)       0         \n",
            "_________________________________________________________________\n",
            "block5_conv1 (Conv2D)        (None, 14, 14, 512)       2359808   \n",
            "_________________________________________________________________\n",
            "block5_conv2 (Conv2D)        (None, 14, 14, 512)       2359808   \n",
            "_________________________________________________________________\n",
            "block5_conv3 (Conv2D)        (None, 14, 14, 512)       2359808   \n",
            "_________________________________________________________________\n",
            "block5_pool (MaxPooling2D)   (None, 7, 7, 512)         0         \n",
            "_________________________________________________________________\n",
            "flatten (Flatten)            (None, 25088)             0         \n",
            "_________________________________________________________________\n",
            "fc1 (Dense)                  (None, 4096)              102764544 \n",
            "_________________________________________________________________\n",
            "fc2 (Dense)                  (None, 4096)              16781312  \n",
            "_________________________________________________________________\n",
            "predictions (Dense)          (None, 1000)              4097000   \n",
            "=================================================================\n",
            "Total params: 138,357,544\n",
            "Trainable params: 138,357,544\n",
            "Non-trainable params: 0\n",
            "_________________________________________________________________\n",
            "DONE\n"
          ],
          "name": "stdout"
        }
      ]
    },
    {
      "metadata": {
        "id": "0BbUzfCjB_fK",
        "colab_type": "code",
        "colab": {
          "autoexec": {
            "startup": false,
            "wait_interval": 0
          },
          "base_uri": "https://localhost:8080/",
          "height": 34
        },
        "outputId": "f003847c-fb07-43f3-cb0c-b275625e6528",
        "executionInfo": {
          "status": "ok",
          "timestamp": 1528891593400,
          "user_tz": -330,
          "elapsed": 1340,
          "user": {
            "displayName": "Pawan Snj",
            "photoUrl": "//lh6.googleusercontent.com/-ojjGyAo7og4/AAAAAAAAAAI/AAAAAAAADXU/VP6DtpEZJts/s50-c-k-no/photo.jpg",
            "userId": "100746673235819701094"
          }
        }
      },
      "cell_type": "code",
      "source": [
        "type(vgg16_model)"
      ],
      "execution_count": 15,
      "outputs": [
        {
          "output_type": "execute_result",
          "data": {
            "text/plain": [
              "keras.engine.training.Model"
            ]
          },
          "metadata": {
            "tags": []
          },
          "execution_count": 15
        }
      ]
    },
    {
      "metadata": {
        "id": "tTu4ST96-XNO",
        "colab_type": "text"
      },
      "cell_type": "markdown",
      "source": [
        "## Converting the VGG 16 Model to Sequential"
      ]
    },
    {
      "metadata": {
        "id": "aOnD89YRB_kM",
        "colab_type": "code",
        "colab": {
          "autoexec": {
            "startup": false,
            "wait_interval": 0
          },
          "base_uri": "https://localhost:8080/",
          "height": 34
        },
        "outputId": "f174cd0a-2aa8-4c1d-d683-29fd23b36114",
        "executionInfo": {
          "status": "ok",
          "timestamp": 1528891596602,
          "user_tz": -330,
          "elapsed": 1138,
          "user": {
            "displayName": "Pawan Snj",
            "photoUrl": "//lh6.googleusercontent.com/-ojjGyAo7og4/AAAAAAAAAAI/AAAAAAAADXU/VP6DtpEZJts/s50-c-k-no/photo.jpg",
            "userId": "100746673235819701094"
          }
        }
      },
      "cell_type": "code",
      "source": [
        "model1= Sequential()\n",
        "for layer in vgg16_model.layers:\n",
        "    model1.add(layer)\n",
        "print(\"DONE\")"
      ],
      "execution_count": 16,
      "outputs": [
        {
          "output_type": "stream",
          "text": [
            "DONE\n"
          ],
          "name": "stdout"
        }
      ]
    },
    {
      "metadata": {
        "id": "AZyIEDwoB_pS",
        "colab_type": "code",
        "colab": {
          "autoexec": {
            "startup": false,
            "wait_interval": 0
          },
          "base_uri": "https://localhost:8080/",
          "height": 976
        },
        "outputId": "120046d6-b1c6-4007-b76c-1708857138b5",
        "executionInfo": {
          "status": "ok",
          "timestamp": 1528891600113,
          "user_tz": -330,
          "elapsed": 1160,
          "user": {
            "displayName": "Pawan Snj",
            "photoUrl": "//lh6.googleusercontent.com/-ojjGyAo7og4/AAAAAAAAAAI/AAAAAAAADXU/VP6DtpEZJts/s50-c-k-no/photo.jpg",
            "userId": "100746673235819701094"
          }
        }
      },
      "cell_type": "code",
      "source": [
        "model1.summary()\n",
        "print(\"DONE\")"
      ],
      "execution_count": 17,
      "outputs": [
        {
          "output_type": "stream",
          "text": [
            "_________________________________________________________________\n",
            "Layer (type)                 Output Shape              Param #   \n",
            "=================================================================\n",
            "input_1 (InputLayer)         (None, 224, 224, 3)       0         \n",
            "_________________________________________________________________\n",
            "block1_conv1 (Conv2D)        (None, 224, 224, 64)      1792      \n",
            "_________________________________________________________________\n",
            "block1_conv2 (Conv2D)        (None, 224, 224, 64)      36928     \n",
            "_________________________________________________________________\n",
            "block1_pool (MaxPooling2D)   (None, 112, 112, 64)      0         \n",
            "_________________________________________________________________\n",
            "block2_conv1 (Conv2D)        (None, 112, 112, 128)     73856     \n",
            "_________________________________________________________________\n",
            "block2_conv2 (Conv2D)        (None, 112, 112, 128)     147584    \n",
            "_________________________________________________________________\n",
            "block2_pool (MaxPooling2D)   (None, 56, 56, 128)       0         \n",
            "_________________________________________________________________\n",
            "block3_conv1 (Conv2D)        (None, 56, 56, 256)       295168    \n",
            "_________________________________________________________________\n",
            "block3_conv2 (Conv2D)        (None, 56, 56, 256)       590080    \n",
            "_________________________________________________________________\n",
            "block3_conv3 (Conv2D)        (None, 56, 56, 256)       590080    \n",
            "_________________________________________________________________\n",
            "block3_pool (MaxPooling2D)   (None, 28, 28, 256)       0         \n",
            "_________________________________________________________________\n",
            "block4_conv1 (Conv2D)        (None, 28, 28, 512)       1180160   \n",
            "_________________________________________________________________\n",
            "block4_conv2 (Conv2D)        (None, 28, 28, 512)       2359808   \n",
            "_________________________________________________________________\n",
            "block4_conv3 (Conv2D)        (None, 28, 28, 512)       2359808   \n",
            "_________________________________________________________________\n",
            "block4_pool (MaxPooling2D)   (None, 14, 14, 512)       0         \n",
            "_________________________________________________________________\n",
            "block5_conv1 (Conv2D)        (None, 14, 14, 512)       2359808   \n",
            "_________________________________________________________________\n",
            "block5_conv2 (Conv2D)        (None, 14, 14, 512)       2359808   \n",
            "_________________________________________________________________\n",
            "block5_conv3 (Conv2D)        (None, 14, 14, 512)       2359808   \n",
            "_________________________________________________________________\n",
            "block5_pool (MaxPooling2D)   (None, 7, 7, 512)         0         \n",
            "_________________________________________________________________\n",
            "flatten (Flatten)            (None, 25088)             0         \n",
            "_________________________________________________________________\n",
            "fc1 (Dense)                  (None, 4096)              102764544 \n",
            "_________________________________________________________________\n",
            "fc2 (Dense)                  (None, 4096)              16781312  \n",
            "_________________________________________________________________\n",
            "predictions (Dense)          (None, 1000)              4097000   \n",
            "=================================================================\n",
            "Total params: 138,357,544\n",
            "Trainable params: 138,357,544\n",
            "Non-trainable params: 0\n",
            "_________________________________________________________________\n",
            "DONE\n"
          ],
          "name": "stdout"
        }
      ]
    },
    {
      "metadata": {
        "id": "9gtuDcogBSpq",
        "colab_type": "text"
      },
      "cell_type": "markdown",
      "source": [
        "# Removing the last layer\n",
        "VGG 16 is trained on Imagenet dataset which consist of 1000 classes,  Since our dataset consist of only 10 classes (Mnist), We remove last classification layer which is meant for classifying 1000 and replace it by the classification layer which is having only 10 classes."
      ]
    },
    {
      "metadata": {
        "id": "XEis8szMAE3D",
        "colab_type": "code",
        "colab": {
          "autoexec": {
            "startup": false,
            "wait_interval": 0
          },
          "base_uri": "https://localhost:8080/",
          "height": 34
        },
        "outputId": "1a74e9f7-39c7-441a-c3b4-35f5af616fec",
        "executionInfo": {
          "status": "ok",
          "timestamp": 1532498059117,
          "user_tz": -330,
          "elapsed": 1229,
          "user": {
            "displayName": "Pawan Snj",
            "photoUrl": "//lh6.googleusercontent.com/-ojjGyAo7og4/AAAAAAAAAAI/AAAAAAAADXU/VP6DtpEZJts/s50-c-k-no/photo.jpg",
            "userId": "100746673235819701094"
          }
        }
      },
      "cell_type": "code",
      "source": [
        "model1.layers.pop()\n",
        "print(\"DONE\")"
      ],
      "execution_count": 0,
      "outputs": [
        {
          "output_type": "stream",
          "text": [
            "DONE\n"
          ],
          "name": "stdout"
        }
      ]
    },
    {
      "metadata": {
        "id": "45xu9czJAKYS",
        "colab_type": "code",
        "colab": {
          "autoexec": {
            "startup": false,
            "wait_interval": 0
          },
          "base_uri": "https://localhost:8080/",
          "height": 884
        },
        "outputId": "91d2cdc9-d15b-44f2-dc84-350e61cfad06",
        "executionInfo": {
          "status": "ok",
          "timestamp": 1532498071557,
          "user_tz": -330,
          "elapsed": 1343,
          "user": {
            "displayName": "Pawan Snj",
            "photoUrl": "//lh6.googleusercontent.com/-ojjGyAo7og4/AAAAAAAAAAI/AAAAAAAADXU/VP6DtpEZJts/s50-c-k-no/photo.jpg",
            "userId": "100746673235819701094"
          }
        }
      },
      "cell_type": "code",
      "source": [
        "model1.summary()"
      ],
      "execution_count": 0,
      "outputs": [
        {
          "output_type": "stream",
          "text": [
            "_________________________________________________________________\n",
            "Layer (type)                 Output Shape              Param #   \n",
            "=================================================================\n",
            "input_8 (InputLayer)         (None, 224, 224, 3)       0         \n",
            "_________________________________________________________________\n",
            "block1_conv1 (Conv2D)        (None, 224, 224, 64)      1792      \n",
            "_________________________________________________________________\n",
            "block1_conv2 (Conv2D)        (None, 224, 224, 64)      36928     \n",
            "_________________________________________________________________\n",
            "block1_pool (MaxPooling2D)   (None, 112, 112, 64)      0         \n",
            "_________________________________________________________________\n",
            "block2_conv1 (Conv2D)        (None, 112, 112, 128)     73856     \n",
            "_________________________________________________________________\n",
            "block2_conv2 (Conv2D)        (None, 112, 112, 128)     147584    \n",
            "_________________________________________________________________\n",
            "block2_pool (MaxPooling2D)   (None, 56, 56, 128)       0         \n",
            "_________________________________________________________________\n",
            "block3_conv1 (Conv2D)        (None, 56, 56, 256)       295168    \n",
            "_________________________________________________________________\n",
            "block3_conv2 (Conv2D)        (None, 56, 56, 256)       590080    \n",
            "_________________________________________________________________\n",
            "block3_conv3 (Conv2D)        (None, 56, 56, 256)       590080    \n",
            "_________________________________________________________________\n",
            "block3_pool (MaxPooling2D)   (None, 28, 28, 256)       0         \n",
            "_________________________________________________________________\n",
            "block4_conv1 (Conv2D)        (None, 28, 28, 512)       1180160   \n",
            "_________________________________________________________________\n",
            "block4_conv2 (Conv2D)        (None, 28, 28, 512)       2359808   \n",
            "_________________________________________________________________\n",
            "block4_conv3 (Conv2D)        (None, 28, 28, 512)       2359808   \n",
            "_________________________________________________________________\n",
            "block4_pool (MaxPooling2D)   (None, 14, 14, 512)       0         \n",
            "_________________________________________________________________\n",
            "block5_conv1 (Conv2D)        (None, 14, 14, 512)       2359808   \n",
            "_________________________________________________________________\n",
            "block5_conv2 (Conv2D)        (None, 14, 14, 512)       2359808   \n",
            "_________________________________________________________________\n",
            "block5_conv3 (Conv2D)        (None, 14, 14, 512)       2359808   \n",
            "_________________________________________________________________\n",
            "block5_pool (MaxPooling2D)   (None, 7, 7, 512)         0         \n",
            "_________________________________________________________________\n",
            "flatten (Flatten)            (None, 25088)             0         \n",
            "_________________________________________________________________\n",
            "fc1 (Dense)                  (None, 4096)              102764544 \n",
            "_________________________________________________________________\n",
            "fc2 (Dense)                  (None, 4096)              16781312  \n",
            "=================================================================\n",
            "Total params: 134,260,544\n",
            "Trainable params: 0\n",
            "Non-trainable params: 134,260,544\n",
            "_________________________________________________________________\n"
          ],
          "name": "stdout"
        }
      ]
    },
    {
      "metadata": {
        "id": "x4mOozJhCdTb",
        "colab_type": "text"
      },
      "cell_type": "markdown",
      "source": [
        "# Freezing\n",
        "We keep the weights of rest of the layers as it is, and we train only the classification layer."
      ]
    },
    {
      "metadata": {
        "id": "LwwZnPk2B_ua",
        "colab_type": "code",
        "colab": {
          "autoexec": {
            "startup": false,
            "wait_interval": 0
          },
          "base_uri": "https://localhost:8080/",
          "height": 34
        },
        "outputId": "e839fdb2-af64-43d3-c3ae-6704dd5f8335",
        "executionInfo": {
          "status": "ok",
          "timestamp": 1528891605792,
          "user_tz": -330,
          "elapsed": 1832,
          "user": {
            "displayName": "Pawan Snj",
            "photoUrl": "//lh6.googleusercontent.com/-ojjGyAo7og4/AAAAAAAAAAI/AAAAAAAADXU/VP6DtpEZJts/s50-c-k-no/photo.jpg",
            "userId": "100746673235819701094"
          }
        }
      },
      "cell_type": "code",
      "source": [
        "for layer in model1.layers: ## MAking trainable= FALSE (FREEZING)\n",
        "    layer.trainable = False\n",
        "print(\"DONE\")"
      ],
      "execution_count": 18,
      "outputs": [
        {
          "output_type": "stream",
          "text": [
            "DONE\n"
          ],
          "name": "stdout"
        }
      ]
    },
    {
      "metadata": {
        "id": "6-Cp_JO9DYJk",
        "colab_type": "text"
      },
      "cell_type": "markdown",
      "source": [
        "# Adding the classification Layer\n",
        "We add the classification layer to fit into our problem. In case of MNIST we add classification layer with  classes."
      ]
    },
    {
      "metadata": {
        "id": "EZMuOXQjB_y0",
        "colab_type": "code",
        "colab": {
          "autoexec": {
            "startup": false,
            "wait_interval": 0
          },
          "base_uri": "https://localhost:8080/",
          "height": 34
        },
        "outputId": "f8185fae-24c7-4b8a-f060-193b158dda74",
        "executionInfo": {
          "status": "ok",
          "timestamp": 1528891609126,
          "user_tz": -330,
          "elapsed": 1341,
          "user": {
            "displayName": "Pawan Snj",
            "photoUrl": "//lh6.googleusercontent.com/-ojjGyAo7og4/AAAAAAAAAAI/AAAAAAAADXU/VP6DtpEZJts/s50-c-k-no/photo.jpg",
            "userId": "100746673235819701094"
          }
        }
      },
      "cell_type": "code",
      "source": [
        "model1.add(Dense(10, activation='softmax'))\n",
        "print(\"DoNE\")"
      ],
      "execution_count": 19,
      "outputs": [
        {
          "output_type": "stream",
          "text": [
            "DoNE\n"
          ],
          "name": "stdout"
        }
      ]
    },
    {
      "metadata": {
        "id": "3vRK-8itB_3g",
        "colab_type": "code",
        "colab": {
          "autoexec": {
            "startup": false,
            "wait_interval": 0
          },
          "base_uri": "https://localhost:8080/",
          "height": 1012
        },
        "outputId": "e8711b6e-5418-4d44-f87e-224f8763e844",
        "executionInfo": {
          "status": "ok",
          "timestamp": 1528891612119,
          "user_tz": -330,
          "elapsed": 1413,
          "user": {
            "displayName": "Pawan Snj",
            "photoUrl": "//lh6.googleusercontent.com/-ojjGyAo7og4/AAAAAAAAAAI/AAAAAAAADXU/VP6DtpEZJts/s50-c-k-no/photo.jpg",
            "userId": "100746673235819701094"
          }
        }
      },
      "cell_type": "code",
      "source": [
        "model1.summary()\n",
        "print('DONE')"
      ],
      "execution_count": 20,
      "outputs": [
        {
          "output_type": "stream",
          "text": [
            "_________________________________________________________________\n",
            "Layer (type)                 Output Shape              Param #   \n",
            "=================================================================\n",
            "input_1 (InputLayer)         (None, 224, 224, 3)       0         \n",
            "_________________________________________________________________\n",
            "block1_conv1 (Conv2D)        (None, 224, 224, 64)      1792      \n",
            "_________________________________________________________________\n",
            "block1_conv2 (Conv2D)        (None, 224, 224, 64)      36928     \n",
            "_________________________________________________________________\n",
            "block1_pool (MaxPooling2D)   (None, 112, 112, 64)      0         \n",
            "_________________________________________________________________\n",
            "block2_conv1 (Conv2D)        (None, 112, 112, 128)     73856     \n",
            "_________________________________________________________________\n",
            "block2_conv2 (Conv2D)        (None, 112, 112, 128)     147584    \n",
            "_________________________________________________________________\n",
            "block2_pool (MaxPooling2D)   (None, 56, 56, 128)       0         \n",
            "_________________________________________________________________\n",
            "block3_conv1 (Conv2D)        (None, 56, 56, 256)       295168    \n",
            "_________________________________________________________________\n",
            "block3_conv2 (Conv2D)        (None, 56, 56, 256)       590080    \n",
            "_________________________________________________________________\n",
            "block3_conv3 (Conv2D)        (None, 56, 56, 256)       590080    \n",
            "_________________________________________________________________\n",
            "block3_pool (MaxPooling2D)   (None, 28, 28, 256)       0         \n",
            "_________________________________________________________________\n",
            "block4_conv1 (Conv2D)        (None, 28, 28, 512)       1180160   \n",
            "_________________________________________________________________\n",
            "block4_conv2 (Conv2D)        (None, 28, 28, 512)       2359808   \n",
            "_________________________________________________________________\n",
            "block4_conv3 (Conv2D)        (None, 28, 28, 512)       2359808   \n",
            "_________________________________________________________________\n",
            "block4_pool (MaxPooling2D)   (None, 14, 14, 512)       0         \n",
            "_________________________________________________________________\n",
            "block5_conv1 (Conv2D)        (None, 14, 14, 512)       2359808   \n",
            "_________________________________________________________________\n",
            "block5_conv2 (Conv2D)        (None, 14, 14, 512)       2359808   \n",
            "_________________________________________________________________\n",
            "block5_conv3 (Conv2D)        (None, 14, 14, 512)       2359808   \n",
            "_________________________________________________________________\n",
            "block5_pool (MaxPooling2D)   (None, 7, 7, 512)         0         \n",
            "_________________________________________________________________\n",
            "flatten (Flatten)            (None, 25088)             0         \n",
            "_________________________________________________________________\n",
            "fc1 (Dense)                  (None, 4096)              102764544 \n",
            "_________________________________________________________________\n",
            "fc2 (Dense)                  (None, 4096)              16781312  \n",
            "_________________________________________________________________\n",
            "predictions (Dense)          (None, 1000)              4097000   \n",
            "_________________________________________________________________\n",
            "dense_3 (Dense)              (None, 10)                10010     \n",
            "=================================================================\n",
            "Total params: 138,367,554\n",
            "Trainable params: 10,010\n",
            "Non-trainable params: 138,357,544\n",
            "_________________________________________________________________\n",
            "DONE\n"
          ],
          "name": "stdout"
        }
      ]
    },
    {
      "metadata": {
        "id": "l2_rbMFxB_77",
        "colab_type": "code",
        "colab": {
          "autoexec": {
            "startup": false,
            "wait_interval": 0
          },
          "base_uri": "https://localhost:8080/",
          "height": 34
        },
        "outputId": "1dfbe696-de21-47a0-d1c3-b7b23346a68d",
        "executionInfo": {
          "status": "ok",
          "timestamp": 1528891644575,
          "user_tz": -330,
          "elapsed": 1168,
          "user": {
            "displayName": "Pawan Snj",
            "photoUrl": "//lh6.googleusercontent.com/-ojjGyAo7og4/AAAAAAAAAAI/AAAAAAAADXU/VP6DtpEZJts/s50-c-k-no/photo.jpg",
            "userId": "100746673235819701094"
          }
        }
      },
      "cell_type": "code",
      "source": [
        "epochs1 = 5\n",
        "print(\"DONE\")"
      ],
      "execution_count": 23,
      "outputs": [
        {
          "output_type": "stream",
          "text": [
            "DONE\n"
          ],
          "name": "stdout"
        }
      ]
    },
    {
      "metadata": {
        "id": "MfhHefQWD1pN",
        "colab_type": "text"
      },
      "cell_type": "markdown",
      "source": [
        "# Compile and Fit the Model"
      ]
    },
    {
      "metadata": {
        "id": "CWbOzYBLCAAT",
        "colab_type": "code",
        "colab": {
          "autoexec": {
            "startup": false,
            "wait_interval": 0
          },
          "base_uri": "https://localhost:8080/",
          "height": 232
        },
        "outputId": "7150bafe-05ea-44b2-de19-0ab34db720e3",
        "executionInfo": {
          "status": "ok",
          "timestamp": 1528891674002,
          "user_tz": -330,
          "elapsed": 24615,
          "user": {
            "displayName": "Pawan Snj",
            "photoUrl": "//lh6.googleusercontent.com/-ojjGyAo7og4/AAAAAAAAAAI/AAAAAAAADXU/VP6DtpEZJts/s50-c-k-no/photo.jpg",
            "userId": "100746673235819701094"
          }
        }
      },
      "cell_type": "code",
      "source": [
        "model1.compile(loss='categorical_crossentropy', optimizer=keras.optimizers.Adam(), metrics=['accuracy'])\n",
        " \n",
        "hist = model.fit_generator(train_generator, steps_per_epoch=batch_size, epochs=epochs1, validation_data=(x_test, y_test))\n",
        "\n",
        "print(\"DONE\")"
      ],
      "execution_count": 24,
      "outputs": [
        {
          "output_type": "stream",
          "text": [
            "Epoch 1/5\n",
            "250/250 [==============================] - 5s 18ms/step - loss: 0.1080 - acc: 0.9595 - val_loss: 0.2721 - val_acc: 0.9121\n",
            "Epoch 2/5\n",
            "250/250 [==============================] - 5s 19ms/step - loss: 0.0993 - acc: 0.9639 - val_loss: 0.2684 - val_acc: 0.9151\n",
            "Epoch 3/5\n",
            "250/250 [==============================] - 5s 19ms/step - loss: 0.0897 - acc: 0.9672 - val_loss: 0.2996 - val_acc: 0.9062\n",
            "Epoch 4/5\n",
            "250/250 [==============================] - 5s 19ms/step - loss: 0.0799 - acc: 0.9706 - val_loss: 0.2938 - val_acc: 0.9110\n",
            "Epoch 5/5\n",
            " 22/250 [=>............................] - ETA: 4s - loss: 0.0659 - acc: 0.9775"
          ],
          "name": "stdout"
        },
        {
          "output_type": "stream",
          "text": [
            "250/250 [==============================] - 5s 19ms/step - loss: 0.0729 - acc: 0.9743 - val_loss: 0.3003 - val_acc: 0.9140\n",
            "DONE\n"
          ],
          "name": "stdout"
        }
      ]
    },
    {
      "metadata": {
        "id": "WrggJfb9CAE9",
        "colab_type": "code",
        "colab": {
          "autoexec": {
            "startup": false,
            "wait_interval": 0
          },
          "base_uri": "https://localhost:8080/",
          "height": 587
        },
        "outputId": "7294c0ed-8d4d-4dfa-9554-6780c1c19954",
        "executionInfo": {
          "status": "ok",
          "timestamp": 1528891682694,
          "user_tz": -330,
          "elapsed": 1448,
          "user": {
            "displayName": "Pawan Snj",
            "photoUrl": "//lh6.googleusercontent.com/-ojjGyAo7og4/AAAAAAAAAAI/AAAAAAAADXU/VP6DtpEZJts/s50-c-k-no/photo.jpg",
            "userId": "100746673235819701094"
          }
        }
      },
      "cell_type": "code",
      "source": [
        "# Graph losses and accuracy\n",
        "train_loss=hist.history['loss']\n",
        "val_loss=hist.history['val_loss']\n",
        "train_acc=hist.history['acc']\n",
        "val_acc=hist.history['val_acc']\n",
        "xc=range(epochs1)\n",
        "\n",
        "##############################################\n",
        "plt.figure(1,figsize=(4,4))\n",
        "plt.plot(xc,train_loss)\n",
        "plt.plot(xc,val_loss)\n",
        "\n",
        "plt.xlabel('num of epochs')\n",
        "plt.ylabel('loss')\n",
        "plt.title('train_loss vs test_loss')\n",
        "\n",
        "plt.grid(True)\n",
        "plt.legend(['train','val']) \n",
        "\n",
        "##################################################\n",
        "\n",
        "plt.figure(2,figsize=(4,4))\n",
        "plt.plot(xc,train_acc)\n",
        "plt.plot(xc,val_acc)\n",
        "\n",
        "plt.xlabel('num of Epochs')\n",
        "plt.ylabel('accuracy')\n",
        "plt.title('train_acc vs test_acc')\n",
        "\n",
        "plt.grid(True)\n",
        "plt.legend(['train','val'],loc=4)\n"
      ],
      "execution_count": 25,
      "outputs": [
        {
          "output_type": "execute_result",
          "data": {
            "text/plain": [
              "<matplotlib.legend.Legend at 0x7f31633ac0f0>"
            ]
          },
          "metadata": {
            "tags": []
          },
          "execution_count": 25
        },
        {
          "output_type": "display_data",
          "data": {
            "image/png": "[encoded data removed]",
            "text/plain": [
              "<matplotlib.figure.Figure at 0x7f3162be77b8>"
            ]
          },
          "metadata": {
            "tags": []
          }
        },
        {
          "output_type": "display_data",
          "data": {
            "image/png": "[encoded data removed]",
            "text/plain": [
              "<matplotlib.figure.Figure at 0x7f3162c20908>"
            ]
          },
          "metadata": {
            "tags": []
          }
        }
      ]
    },
    {
      "metadata": {
        "id": "giLLMacVEFeq",
        "colab_type": "text"
      },
      "cell_type": "markdown",
      "source": [
        " # VGG 19 Model"
      ]
    },
    {
      "metadata": {
        "id": "5iKFJ5mvCAJB",
        "colab_type": "code",
        "colab": {
          "autoexec": {
            "startup": false,
            "wait_interval": 0
          },
          "base_uri": "https://localhost:8080/",
          "height": 70
        },
        "outputId": "1e0e8cda-ebf8-4813-89f4-17f8958ffed6",
        "executionInfo": {
          "status": "ok",
          "timestamp": 1528891887850,
          "user_tz": -330,
          "elapsed": 23595,
          "user": {
            "displayName": "Pawan Snj",
            "photoUrl": "//lh6.googleusercontent.com/-ojjGyAo7og4/AAAAAAAAAAI/AAAAAAAADXU/VP6DtpEZJts/s50-c-k-no/photo.jpg",
            "userId": "100746673235819701094"
          }
        }
      },
      "cell_type": "code",
      "source": [
        "vgg19_model = keras.applications.vgg19.VGG19(include_top=True, weights='imagenet', input_tensor=None, input_shape=None, pooling=None, classes=1000)\n",
        "print(\"DONE\")"
      ],
      "execution_count": 26,
      "outputs": [
        {
          "output_type": "stream",
          "text": [
            "Downloading data from https://github.com/fchollet/deep-learning-models/releases/download/v0.1/vgg19_weights_tf_dim_ordering_tf_kernels.h5\n",
            "574717952/574710816 [==============================] - 20s 0us/step\n",
            "DONE\n"
          ],
          "name": "stdout"
        }
      ]
    },
    {
      "metadata": {
        "id": "6wKcl7rsDCba",
        "colab_type": "code",
        "colab": {
          "autoexec": {
            "startup": false,
            "wait_interval": 0
          },
          "base_uri": "https://localhost:8080/",
          "height": 1083
        },
        "outputId": "8f513d07-df5e-4b4f-df51-0a45abdecd0a",
        "executionInfo": {
          "status": "ok",
          "timestamp": 1528891915120,
          "user_tz": -330,
          "elapsed": 1184,
          "user": {
            "displayName": "Pawan Snj",
            "photoUrl": "//lh6.googleusercontent.com/-ojjGyAo7og4/AAAAAAAAAAI/AAAAAAAADXU/VP6DtpEZJts/s50-c-k-no/photo.jpg",
            "userId": "100746673235819701094"
          }
        }
      },
      "cell_type": "code",
      "source": [
        "vgg19_model.summary()\n",
        "print(\"DONE\")"
      ],
      "execution_count": 27,
      "outputs": [
        {
          "output_type": "stream",
          "text": [
            "_________________________________________________________________\n",
            "Layer (type)                 Output Shape              Param #   \n",
            "=================================================================\n",
            "input_2 (InputLayer)         (None, 224, 224, 3)       0         \n",
            "_________________________________________________________________\n",
            "block1_conv1 (Conv2D)        (None, 224, 224, 64)      1792      \n",
            "_________________________________________________________________\n",
            "block1_conv2 (Conv2D)        (None, 224, 224, 64)      36928     \n",
            "_________________________________________________________________\n",
            "block1_pool (MaxPooling2D)   (None, 112, 112, 64)      0         \n",
            "_________________________________________________________________\n",
            "block2_conv1 (Conv2D)        (None, 112, 112, 128)     73856     \n",
            "_________________________________________________________________\n",
            "block2_conv2 (Conv2D)        (None, 112, 112, 128)     147584    \n",
            "_________________________________________________________________\n",
            "block2_pool (MaxPooling2D)   (None, 56, 56, 128)       0         \n",
            "_________________________________________________________________\n",
            "block3_conv1 (Conv2D)        (None, 56, 56, 256)       295168    \n",
            "_________________________________________________________________\n",
            "block3_conv2 (Conv2D)        (None, 56, 56, 256)       590080    \n",
            "_________________________________________________________________\n",
            "block3_conv3 (Conv2D)        (None, 56, 56, 256)       590080    \n",
            "_________________________________________________________________\n",
            "block3_conv4 (Conv2D)        (None, 56, 56, 256)       590080    \n",
            "_________________________________________________________________\n",
            "block3_pool (MaxPooling2D)   (None, 28, 28, 256)       0         \n",
            "_________________________________________________________________\n",
            "block4_conv1 (Conv2D)        (None, 28, 28, 512)       1180160   \n",
            "_________________________________________________________________\n",
            "block4_conv2 (Conv2D)        (None, 28, 28, 512)       2359808   \n",
            "_________________________________________________________________\n",
            "block4_conv3 (Conv2D)        (None, 28, 28, 512)       2359808   \n",
            "_________________________________________________________________\n",
            "block4_conv4 (Conv2D)        (None, 28, 28, 512)       2359808   \n",
            "_________________________________________________________________\n",
            "block4_pool (MaxPooling2D)   (None, 14, 14, 512)       0         \n",
            "_________________________________________________________________\n",
            "block5_conv1 (Conv2D)        (None, 14, 14, 512)       2359808   \n",
            "_________________________________________________________________\n",
            "block5_conv2 (Conv2D)        (None, 14, 14, 512)       2359808   \n",
            "_________________________________________________________________\n",
            "block5_conv3 (Conv2D)        (None, 14, 14, 512)       2359808   \n",
            "_________________________________________________________________\n",
            "block5_conv4 (Conv2D)        (None, 14, 14, 512)       2359808   \n",
            "_________________________________________________________________\n",
            "block5_pool (MaxPooling2D)   (None, 7, 7, 512)         0         \n",
            "_________________________________________________________________\n",
            "flatten (Flatten)            (None, 25088)             0         \n",
            "_________________________________________________________________\n",
            "fc1 (Dense)                  (None, 4096)              102764544 \n",
            "_________________________________________________________________\n",
            "fc2 (Dense)                  (None, 4096)              16781312  \n",
            "_________________________________________________________________\n",
            "predictions (Dense)          (None, 1000)              4097000   \n",
            "=================================================================\n",
            "Total params: 143,667,240\n",
            "Trainable params: 143,667,240\n",
            "Non-trainable params: 0\n",
            "_________________________________________________________________\n",
            "DONE\n"
          ],
          "name": "stdout"
        }
      ]
    },
    {
      "metadata": {
        "id": "i8pE3HZ8DCmb",
        "colab_type": "code",
        "colab": {
          "autoexec": {
            "startup": false,
            "wait_interval": 0
          },
          "base_uri": "https://localhost:8080/",
          "height": 34
        },
        "outputId": "20a767ac-360e-4edd-9f8a-c4bb24548a7b",
        "executionInfo": {
          "status": "ok",
          "timestamp": 1528891922092,
          "user_tz": -330,
          "elapsed": 1905,
          "user": {
            "displayName": "Pawan Snj",
            "photoUrl": "//lh6.googleusercontent.com/-ojjGyAo7og4/AAAAAAAAAAI/AAAAAAAADXU/VP6DtpEZJts/s50-c-k-no/photo.jpg",
            "userId": "100746673235819701094"
          }
        }
      },
      "cell_type": "code",
      "source": [
        "type(vgg19_model)\n",
        "#print(\"DONE\")"
      ],
      "execution_count": 28,
      "outputs": [
        {
          "output_type": "execute_result",
          "data": {
            "text/plain": [
              "keras.engine.training.Model"
            ]
          },
          "metadata": {
            "tags": []
          },
          "execution_count": 28
        }
      ]
    },
    {
      "metadata": {
        "id": "1L74dDh0ES1m",
        "colab_type": "text"
      },
      "cell_type": "markdown",
      "source": [
        "## Converting the VGG 19 Model to Sequential"
      ]
    },
    {
      "metadata": {
        "id": "gnJXOM6pDC4Q",
        "colab_type": "code",
        "colab": {
          "autoexec": {
            "startup": false,
            "wait_interval": 0
          },
          "base_uri": "https://localhost:8080/",
          "height": 34
        },
        "outputId": "49fa9dc5-141f-4956-d33f-980e54d5cafb",
        "executionInfo": {
          "status": "ok",
          "timestamp": 1528891926349,
          "user_tz": -330,
          "elapsed": 1780,
          "user": {
            "displayName": "Pawan Snj",
            "photoUrl": "//lh6.googleusercontent.com/-ojjGyAo7og4/AAAAAAAAAAI/AAAAAAAADXU/VP6DtpEZJts/s50-c-k-no/photo.jpg",
            "userId": "100746673235819701094"
          }
        }
      },
      "cell_type": "code",
      "source": [
        "model2= Sequential()\n",
        "for layer in vgg19_model.layers:\n",
        "    model2.add(layer)\n",
        "print(\"DONE\")"
      ],
      "execution_count": 29,
      "outputs": [
        {
          "output_type": "stream",
          "text": [
            "DONE\n"
          ],
          "name": "stdout"
        }
      ]
    },
    {
      "metadata": {
        "id": "9PfHE7u7DDBz",
        "colab_type": "code",
        "colab": {
          "autoexec": {
            "startup": false,
            "wait_interval": 0
          },
          "base_uri": "https://localhost:8080/",
          "height": 1065
        },
        "outputId": "7e89aa38-a52f-4a9f-c371-11ba543b4f65",
        "executionInfo": {
          "status": "ok",
          "timestamp": 1528891930214,
          "user_tz": -330,
          "elapsed": 1286,
          "user": {
            "displayName": "Pawan Snj",
            "photoUrl": "//lh6.googleusercontent.com/-ojjGyAo7og4/AAAAAAAAAAI/AAAAAAAADXU/VP6DtpEZJts/s50-c-k-no/photo.jpg",
            "userId": "100746673235819701094"
          }
        }
      },
      "cell_type": "code",
      "source": [
        "model2.summary()"
      ],
      "execution_count": 30,
      "outputs": [
        {
          "output_type": "stream",
          "text": [
            "_________________________________________________________________\n",
            "Layer (type)                 Output Shape              Param #   \n",
            "=================================================================\n",
            "input_2 (InputLayer)         (None, 224, 224, 3)       0         \n",
            "_________________________________________________________________\n",
            "block1_conv1 (Conv2D)        (None, 224, 224, 64)      1792      \n",
            "_________________________________________________________________\n",
            "block1_conv2 (Conv2D)        (None, 224, 224, 64)      36928     \n",
            "_________________________________________________________________\n",
            "block1_pool (MaxPooling2D)   (None, 112, 112, 64)      0         \n",
            "_________________________________________________________________\n",
            "block2_conv1 (Conv2D)        (None, 112, 112, 128)     73856     \n",
            "_________________________________________________________________\n",
            "block2_conv2 (Conv2D)        (None, 112, 112, 128)     147584    \n",
            "_________________________________________________________________\n",
            "block2_pool (MaxPooling2D)   (None, 56, 56, 128)       0         \n",
            "_________________________________________________________________\n",
            "block3_conv1 (Conv2D)        (None, 56, 56, 256)       295168    \n",
            "_________________________________________________________________\n",
            "block3_conv2 (Conv2D)        (None, 56, 56, 256)       590080    \n",
            "_________________________________________________________________\n",
            "block3_conv3 (Conv2D)        (None, 56, 56, 256)       590080    \n",
            "_________________________________________________________________\n",
            "block3_conv4 (Conv2D)        (None, 56, 56, 256)       590080    \n",
            "_________________________________________________________________\n",
            "block3_pool (MaxPooling2D)   (None, 28, 28, 256)       0         \n",
            "_________________________________________________________________\n",
            "block4_conv1 (Conv2D)        (None, 28, 28, 512)       1180160   \n",
            "_________________________________________________________________\n",
            "block4_conv2 (Conv2D)        (None, 28, 28, 512)       2359808   \n",
            "_________________________________________________________________\n",
            "block4_conv3 (Conv2D)        (None, 28, 28, 512)       2359808   \n",
            "_________________________________________________________________\n",
            "block4_conv4 (Conv2D)        (None, 28, 28, 512)       2359808   \n",
            "_________________________________________________________________\n",
            "block4_pool (MaxPooling2D)   (None, 14, 14, 512)       0         \n",
            "_________________________________________________________________\n",
            "block5_conv1 (Conv2D)        (None, 14, 14, 512)       2359808   \n",
            "_________________________________________________________________\n",
            "block5_conv2 (Conv2D)        (None, 14, 14, 512)       2359808   \n",
            "_________________________________________________________________\n",
            "block5_conv3 (Conv2D)        (None, 14, 14, 512)       2359808   \n",
            "_________________________________________________________________\n",
            "block5_conv4 (Conv2D)        (None, 14, 14, 512)       2359808   \n",
            "_________________________________________________________________\n",
            "block5_pool (MaxPooling2D)   (None, 7, 7, 512)         0         \n",
            "_________________________________________________________________\n",
            "flatten (Flatten)            (None, 25088)             0         \n",
            "_________________________________________________________________\n",
            "fc1 (Dense)                  (None, 4096)              102764544 \n",
            "_________________________________________________________________\n",
            "fc2 (Dense)                  (None, 4096)              16781312  \n",
            "_________________________________________________________________\n",
            "predictions (Dense)          (None, 1000)              4097000   \n",
            "=================================================================\n",
            "Total params: 143,667,240\n",
            "Trainable params: 143,667,240\n",
            "Non-trainable params: 0\n",
            "_________________________________________________________________\n"
          ],
          "name": "stdout"
        }
      ]
    },
    {
      "metadata": {
        "id": "yupnQtPKEdp6",
        "colab_type": "text"
      },
      "cell_type": "markdown",
      "source": [
        "# Removing the last layer\n",
        "VGG 16 is trained on Imagenet dataset which consist of 1000 classes,  Since our dataset consist of only 10 classes (Mnist), We remove last classification layer which is meant for classifying 1000 and replace it by the classification layer which is having only 10 classes."
      ]
    },
    {
      "metadata": {
        "id": "Z1vDqNxYDDLh",
        "colab_type": "code",
        "colab": {
          "autoexec": {
            "startup": false,
            "wait_interval": 0
          },
          "base_uri": "https://localhost:8080/",
          "height": 34
        },
        "outputId": "54170902-537e-48b1-df61-e19d83d544ed",
        "executionInfo": {
          "status": "ok",
          "timestamp": 1528891935945,
          "user_tz": -330,
          "elapsed": 1153,
          "user": {
            "displayName": "Pawan Snj",
            "photoUrl": "//lh6.googleusercontent.com/-ojjGyAo7og4/AAAAAAAAAAI/AAAAAAAADXU/VP6DtpEZJts/s50-c-k-no/photo.jpg",
            "userId": "100746673235819701094"
          }
        }
      },
      "cell_type": "code",
      "source": [
        "model2.layers.pop()\n",
        "print(\"DONE\")"
      ],
      "execution_count": 31,
      "outputs": [
        {
          "output_type": "stream",
          "text": [
            "DONE\n"
          ],
          "name": "stdout"
        }
      ]
    },
    {
      "metadata": {
        "id": "eHBNaAdMDDTZ",
        "colab_type": "code",
        "colab": {
          "autoexec": {
            "startup": false,
            "wait_interval": 0
          },
          "base_uri": "https://localhost:8080/",
          "height": 1047
        },
        "outputId": "ac00687b-dadc-447d-8c05-fc3222b4f478",
        "executionInfo": {
          "status": "ok",
          "timestamp": 1528891939264,
          "user_tz": -330,
          "elapsed": 1144,
          "user": {
            "displayName": "Pawan Snj",
            "photoUrl": "//lh6.googleusercontent.com/-ojjGyAo7og4/AAAAAAAAAAI/AAAAAAAADXU/VP6DtpEZJts/s50-c-k-no/photo.jpg",
            "userId": "100746673235819701094"
          }
        }
      },
      "cell_type": "code",
      "source": [
        "model2.summary()\n",
        "print(\"DOne\")"
      ],
      "execution_count": 32,
      "outputs": [
        {
          "output_type": "stream",
          "text": [
            "_________________________________________________________________\n",
            "Layer (type)                 Output Shape              Param #   \n",
            "=================================================================\n",
            "input_2 (InputLayer)         (None, 224, 224, 3)       0         \n",
            "_________________________________________________________________\n",
            "block1_conv1 (Conv2D)        (None, 224, 224, 64)      1792      \n",
            "_________________________________________________________________\n",
            "block1_conv2 (Conv2D)        (None, 224, 224, 64)      36928     \n",
            "_________________________________________________________________\n",
            "block1_pool (MaxPooling2D)   (None, 112, 112, 64)      0         \n",
            "_________________________________________________________________\n",
            "block2_conv1 (Conv2D)        (None, 112, 112, 128)     73856     \n",
            "_________________________________________________________________\n",
            "block2_conv2 (Conv2D)        (None, 112, 112, 128)     147584    \n",
            "_________________________________________________________________\n",
            "block2_pool (MaxPooling2D)   (None, 56, 56, 128)       0         \n",
            "_________________________________________________________________\n",
            "block3_conv1 (Conv2D)        (None, 56, 56, 256)       295168    \n",
            "_________________________________________________________________\n",
            "block3_conv2 (Conv2D)        (None, 56, 56, 256)       590080    \n",
            "_________________________________________________________________\n",
            "block3_conv3 (Conv2D)        (None, 56, 56, 256)       590080    \n",
            "_________________________________________________________________\n",
            "block3_conv4 (Conv2D)        (None, 56, 56, 256)       590080    \n",
            "_________________________________________________________________\n",
            "block3_pool (MaxPooling2D)   (None, 28, 28, 256)       0         \n",
            "_________________________________________________________________\n",
            "block4_conv1 (Conv2D)        (None, 28, 28, 512)       1180160   \n",
            "_________________________________________________________________\n",
            "block4_conv2 (Conv2D)        (None, 28, 28, 512)       2359808   \n",
            "_________________________________________________________________\n",
            "block4_conv3 (Conv2D)        (None, 28, 28, 512)       2359808   \n",
            "_________________________________________________________________\n",
            "block4_conv4 (Conv2D)        (None, 28, 28, 512)       2359808   \n",
            "_________________________________________________________________\n",
            "block4_pool (MaxPooling2D)   (None, 14, 14, 512)       0         \n",
            "_________________________________________________________________\n",
            "block5_conv1 (Conv2D)        (None, 14, 14, 512)       2359808   \n",
            "_________________________________________________________________\n",
            "block5_conv2 (Conv2D)        (None, 14, 14, 512)       2359808   \n",
            "_________________________________________________________________\n",
            "block5_conv3 (Conv2D)        (None, 14, 14, 512)       2359808   \n",
            "_________________________________________________________________\n",
            "block5_conv4 (Conv2D)        (None, 14, 14, 512)       2359808   \n",
            "_________________________________________________________________\n",
            "block5_pool (MaxPooling2D)   (None, 7, 7, 512)         0         \n",
            "_________________________________________________________________\n",
            "flatten (Flatten)            (None, 25088)             0         \n",
            "_________________________________________________________________\n",
            "fc1 (Dense)                  (None, 4096)              102764544 \n",
            "_________________________________________________________________\n",
            "fc2 (Dense)                  (None, 4096)              16781312  \n",
            "=================================================================\n",
            "Total params: 139,570,240\n",
            "Trainable params: 139,570,240\n",
            "Non-trainable params: 0\n",
            "_________________________________________________________________\n",
            "DOne\n"
          ],
          "name": "stdout"
        }
      ]
    },
    {
      "metadata": {
        "id": "3qbV8olxEsyg",
        "colab_type": "text"
      },
      "cell_type": "markdown",
      "source": [
        "# Freezing\n",
        "We keep the weights of rest of the layers as it is, and we train only the classification layer."
      ]
    },
    {
      "metadata": {
        "id": "OKrE8b_EDDao",
        "colab_type": "code",
        "colab": {
          "autoexec": {
            "startup": false,
            "wait_interval": 0
          },
          "base_uri": "https://localhost:8080/",
          "height": 34
        },
        "outputId": "e7c6c177-1f2c-44f3-c8b8-51f21f322e37",
        "executionInfo": {
          "status": "ok",
          "timestamp": 1528891944330,
          "user_tz": -330,
          "elapsed": 1138,
          "user": {
            "displayName": "Pawan Snj",
            "photoUrl": "//lh6.googleusercontent.com/-ojjGyAo7og4/AAAAAAAAAAI/AAAAAAAADXU/VP6DtpEZJts/s50-c-k-no/photo.jpg",
            "userId": "100746673235819701094"
          }
        }
      },
      "cell_type": "code",
      "source": [
        "for layer in model1.layers: ## MAking trainable= FALSE (FREEZING)\n",
        "    layer.trainable = False\n",
        "print(\"DONE\")"
      ],
      "execution_count": 33,
      "outputs": [
        {
          "output_type": "stream",
          "text": [
            "DONE\n"
          ],
          "name": "stdout"
        }
      ]
    },
    {
      "metadata": {
        "id": "wrF8qVu0E0Ci",
        "colab_type": "text"
      },
      "cell_type": "markdown",
      "source": [
        "# Adding the classification Layer\n",
        "We add the classification layer to fit into our problem. In case of MNIST we add classification layer with  classes."
      ]
    },
    {
      "metadata": {
        "id": "Oi5YZLsnDDgx",
        "colab_type": "code",
        "colab": {
          "autoexec": {
            "startup": false,
            "wait_interval": 0
          },
          "base_uri": "https://localhost:8080/",
          "height": 34
        },
        "outputId": "45d7221d-6860-46fd-9c36-c1917ae1d27a",
        "executionInfo": {
          "status": "ok",
          "timestamp": 1528891947643,
          "user_tz": -330,
          "elapsed": 1139,
          "user": {
            "displayName": "Pawan Snj",
            "photoUrl": "//lh6.googleusercontent.com/-ojjGyAo7og4/AAAAAAAAAAI/AAAAAAAADXU/VP6DtpEZJts/s50-c-k-no/photo.jpg",
            "userId": "100746673235819701094"
          }
        }
      },
      "cell_type": "code",
      "source": [
        "model2.add(Dense(10, activation='softmax'))\n",
        "print(\"DoNE\")"
      ],
      "execution_count": 34,
      "outputs": [
        {
          "output_type": "stream",
          "text": [
            "DoNE\n"
          ],
          "name": "stdout"
        }
      ]
    },
    {
      "metadata": {
        "id": "lpyEdNj7DDk9",
        "colab_type": "code",
        "colab": {
          "autoexec": {
            "startup": false,
            "wait_interval": 0
          },
          "base_uri": "https://localhost:8080/",
          "height": 1083
        },
        "outputId": "ae6dab2c-97b6-4c1c-9a2c-c38945408d33",
        "executionInfo": {
          "status": "ok",
          "timestamp": 1528891951042,
          "user_tz": -330,
          "elapsed": 1193,
          "user": {
            "displayName": "Pawan Snj",
            "photoUrl": "//lh6.googleusercontent.com/-ojjGyAo7og4/AAAAAAAAAAI/AAAAAAAADXU/VP6DtpEZJts/s50-c-k-no/photo.jpg",
            "userId": "100746673235819701094"
          }
        }
      },
      "cell_type": "code",
      "source": [
        "model2.summary()\n",
        "print('DONE')"
      ],
      "execution_count": 35,
      "outputs": [
        {
          "output_type": "stream",
          "text": [
            "_________________________________________________________________\n",
            "Layer (type)                 Output Shape              Param #   \n",
            "=================================================================\n",
            "input_2 (InputLayer)         (None, 224, 224, 3)       0         \n",
            "_________________________________________________________________\n",
            "block1_conv1 (Conv2D)        (None, 224, 224, 64)      1792      \n",
            "_________________________________________________________________\n",
            "block1_conv2 (Conv2D)        (None, 224, 224, 64)      36928     \n",
            "_________________________________________________________________\n",
            "block1_pool (MaxPooling2D)   (None, 112, 112, 64)      0         \n",
            "_________________________________________________________________\n",
            "block2_conv1 (Conv2D)        (None, 112, 112, 128)     73856     \n",
            "_________________________________________________________________\n",
            "block2_conv2 (Conv2D)        (None, 112, 112, 128)     147584    \n",
            "_________________________________________________________________\n",
            "block2_pool (MaxPooling2D)   (None, 56, 56, 128)       0         \n",
            "_________________________________________________________________\n",
            "block3_conv1 (Conv2D)        (None, 56, 56, 256)       295168    \n",
            "_________________________________________________________________\n",
            "block3_conv2 (Conv2D)        (None, 56, 56, 256)       590080    \n",
            "_________________________________________________________________\n",
            "block3_conv3 (Conv2D)        (None, 56, 56, 256)       590080    \n",
            "_________________________________________________________________\n",
            "block3_conv4 (Conv2D)        (None, 56, 56, 256)       590080    \n",
            "_________________________________________________________________\n",
            "block3_pool (MaxPooling2D)   (None, 28, 28, 256)       0         \n",
            "_________________________________________________________________\n",
            "block4_conv1 (Conv2D)        (None, 28, 28, 512)       1180160   \n",
            "_________________________________________________________________\n",
            "block4_conv2 (Conv2D)        (None, 28, 28, 512)       2359808   \n",
            "_________________________________________________________________\n",
            "block4_conv3 (Conv2D)        (None, 28, 28, 512)       2359808   \n",
            "_________________________________________________________________\n",
            "block4_conv4 (Conv2D)        (None, 28, 28, 512)       2359808   \n",
            "_________________________________________________________________\n",
            "block4_pool (MaxPooling2D)   (None, 14, 14, 512)       0         \n",
            "_________________________________________________________________\n",
            "block5_conv1 (Conv2D)        (None, 14, 14, 512)       2359808   \n",
            "_________________________________________________________________\n",
            "block5_conv2 (Conv2D)        (None, 14, 14, 512)       2359808   \n",
            "_________________________________________________________________\n",
            "block5_conv3 (Conv2D)        (None, 14, 14, 512)       2359808   \n",
            "_________________________________________________________________\n",
            "block5_conv4 (Conv2D)        (None, 14, 14, 512)       2359808   \n",
            "_________________________________________________________________\n",
            "block5_pool (MaxPooling2D)   (None, 7, 7, 512)         0         \n",
            "_________________________________________________________________\n",
            "flatten (Flatten)            (None, 25088)             0         \n",
            "_________________________________________________________________\n",
            "fc1 (Dense)                  (None, 4096)              102764544 \n",
            "_________________________________________________________________\n",
            "fc2 (Dense)                  (None, 4096)              16781312  \n",
            "_________________________________________________________________\n",
            "dense_4 (Dense)              (None, 10)                10010     \n",
            "=================================================================\n",
            "Total params: 139,580,250\n",
            "Trainable params: 139,580,250\n",
            "Non-trainable params: 0\n",
            "_________________________________________________________________\n",
            "DONE\n"
          ],
          "name": "stdout"
        }
      ]
    },
    {
      "metadata": {
        "id": "VUrtRf3wDgVB",
        "colab_type": "code",
        "colab": {
          "autoexec": {
            "startup": false,
            "wait_interval": 0
          },
          "base_uri": "https://localhost:8080/",
          "height": 34
        },
        "outputId": "1dc20c30-f541-44f1-bbab-969c9ce9cc0f",
        "executionInfo": {
          "status": "ok",
          "timestamp": 1528891972614,
          "user_tz": -330,
          "elapsed": 1425,
          "user": {
            "displayName": "Pawan Snj",
            "photoUrl": "//lh6.googleusercontent.com/-ojjGyAo7og4/AAAAAAAAAAI/AAAAAAAADXU/VP6DtpEZJts/s50-c-k-no/photo.jpg",
            "userId": "100746673235819701094"
          }
        }
      },
      "cell_type": "code",
      "source": [
        "epochs2 = 3\n",
        "print(\"DONE\")"
      ],
      "execution_count": 38,
      "outputs": [
        {
          "output_type": "stream",
          "text": [
            "DONE\n"
          ],
          "name": "stdout"
        }
      ]
    },
    {
      "metadata": {
        "id": "Ei8men_YE9rp",
        "colab_type": "text"
      },
      "cell_type": "markdown",
      "source": [
        "# Compile and Fit the Model"
      ]
    },
    {
      "metadata": {
        "id": "bBVhoFpJDgeu",
        "colab_type": "code",
        "colab": {
          "autoexec": {
            "startup": false,
            "wait_interval": 0
          },
          "base_uri": "https://localhost:8080/",
          "height": 141
        },
        "outputId": "0955eccc-7e3c-4e42-ce3a-46e7beb55271",
        "executionInfo": {
          "status": "ok",
          "timestamp": 1528892000626,
          "user_tz": -330,
          "elapsed": 15628,
          "user": {
            "displayName": "Pawan Snj",
            "photoUrl": "//lh6.googleusercontent.com/-ojjGyAo7og4/AAAAAAAAAAI/AAAAAAAADXU/VP6DtpEZJts/s50-c-k-no/photo.jpg",
            "userId": "100746673235819701094"
          }
        }
      },
      "cell_type": "code",
      "source": [
        "model2.compile(loss='categorical_crossentropy', optimizer=keras.optimizers.Adam(), metrics=['accuracy'])\n",
        " \n",
        "hist = model.fit_generator(train_generator, steps_per_epoch=batch_size, epochs=epochs2, validation_data=(x_test, y_test))\n",
        "\n",
        "print(\"DONE\")"
      ],
      "execution_count": 39,
      "outputs": [
        {
          "output_type": "stream",
          "text": [
            "Epoch 1/3\n",
            "250/250 [==============================] - 5s 19ms/step - loss: 0.0617 - acc: 0.9777 - val_loss: 0.3193 - val_acc: 0.9103\n",
            "Epoch 2/3\n",
            "250/250 [==============================] - 5s 19ms/step - loss: 0.0546 - acc: 0.9804 - val_loss: 0.3150 - val_acc: 0.9166\n",
            "Epoch 3/3\n",
            "250/250 [==============================] - 5s 19ms/step - loss: 0.0536 - acc: 0.9804 - val_loss: 0.3254 - val_acc: 0.9144\n",
            "DONE\n"
          ],
          "name": "stdout"
        }
      ]
    },
    {
      "metadata": {
        "id": "XeCSLiUHFHk0",
        "colab_type": "text"
      },
      "cell_type": "markdown",
      "source": [
        "## Graph\n",
        "\n",
        "1.   Training accuracy vs Validation accuracy\n",
        "2.   Training loss vs Validation loss\n",
        "\n",
        "\n",
        "\n"
      ]
    },
    {
      "metadata": {
        "id": "k-evp_jlDgjH",
        "colab_type": "code",
        "colab": {
          "autoexec": {
            "startup": false,
            "wait_interval": 0
          },
          "base_uri": "https://localhost:8080/",
          "height": 587
        },
        "outputId": "d6848170-04ab-455e-91f3-0fc3a8a9f3bb",
        "executionInfo": {
          "status": "ok",
          "timestamp": 1528892009200,
          "user_tz": -330,
          "elapsed": 2192,
          "user": {
            "displayName": "Pawan Snj",
            "photoUrl": "//lh6.googleusercontent.com/-ojjGyAo7og4/AAAAAAAAAAI/AAAAAAAADXU/VP6DtpEZJts/s50-c-k-no/photo.jpg",
            "userId": "100746673235819701094"
          }
        }
      },
      "cell_type": "code",
      "source": [
        "# Graph losses and accuracy\n",
        "train_loss=hist.history['loss']\n",
        "val_loss=hist.history['val_loss']\n",
        "train_acc=hist.history['acc']\n",
        "val_acc=hist.history['val_acc']\n",
        "xc=range(epochs2)\n",
        "\n",
        "##############################################\n",
        "plt.figure(1,figsize=(4,4))\n",
        "plt.plot(xc,train_loss)\n",
        "plt.plot(xc,val_loss)\n",
        "\n",
        "plt.xlabel('num of epochs')\n",
        "plt.ylabel('loss')\n",
        "plt.title('train_loss vs test_loss')\n",
        "\n",
        "plt.grid(True)\n",
        "plt.legend(['train','val']) \n",
        "\n",
        "##################################################\n",
        "\n",
        "plt.figure(2,figsize=(4,4))\n",
        "plt.plot(xc,train_acc)\n",
        "plt.plot(xc,val_acc)\n",
        "\n",
        "plt.xlabel('num of Epochs')\n",
        "plt.ylabel('accuracy')\n",
        "plt.title('train_acc vs test_acc')\n",
        "\n",
        "plt.grid(True)\n",
        "plt.legend(['train','val'],loc=4)"
      ],
      "execution_count": 40,
      "outputs": [
        {
          "output_type": "execute_result",
          "data": {
            "text/plain": [
              "<matplotlib.legend.Legend at 0x7f3162fb2438>"
            ]
          },
          "metadata": {
            "tags": []
          },
          "execution_count": 40
        },
        {
          "output_type": "display_data",
          "data": {
            "image/png": "[encoded data removed]",
            "text/plain": [
              "<matplotlib.figure.Figure at 0x7f316304fb70>"
            ]
          },
          "metadata": {
            "tags": []
          }
        },
        {
          "output_type": "display_data",
          "data": {
            "image/png": "[encoded data removed]",
            "text/plain": [
              "<matplotlib.figure.Figure at 0x7f3162ff8c50>"
            ]
          },
          "metadata": {
            "tags": []
          }
        }
      ]
    },
    {
      "metadata": {
        "id": "h3iPJ8M8Kotn",
        "colab_type": "text"
      },
      "cell_type": "markdown",
      "source": [
        "# MobileNet Model"
      ]
    },
    {
      "metadata": {
        "id": "IV5ELUblDgoX",
        "colab_type": "code",
        "colab": {
          "autoexec": {
            "startup": false,
            "wait_interval": 0
          },
          "base_uri": "https://localhost:8080/",
          "height": 70
        },
        "outputId": "ecbfebab-beaa-4b73-f09d-8838b96d5794",
        "executionInfo": {
          "status": "ok",
          "timestamp": 1528892507978,
          "user_tz": -330,
          "elapsed": 10812,
          "user": {
            "displayName": "Pawan Snj",
            "photoUrl": "//lh6.googleusercontent.com/-ojjGyAo7og4/AAAAAAAAAAI/AAAAAAAADXU/VP6DtpEZJts/s50-c-k-no/photo.jpg",
            "userId": "100746673235819701094"
          }
        }
      },
      "cell_type": "code",
      "source": [
        "mobilenet_model = keras.applications.mobilenet.MobileNet()\n",
        "print(\"DONE\")"
      ],
      "execution_count": 41,
      "outputs": [
        {
          "output_type": "stream",
          "text": [
            "Downloading data from https://github.com/fchollet/deep-learning-models/releases/download/v0.6/mobilenet_1_0_224_tf.h5\n",
            "17227776/17225924 [==============================] - 4s 0us/step\n",
            "DONE\n"
          ],
          "name": "stdout"
        }
      ]
    },
    {
      "metadata": {
        "id": "apEbMWMWDgsf",
        "colab_type": "code",
        "colab": {
          "autoexec": {
            "startup": false,
            "wait_interval": 0
          },
          "base_uri": "https://localhost:8080/",
          "height": 3767
        },
        "outputId": "1ab24bb6-89f4-409a-ced5-a274d0e86408",
        "executionInfo": {
          "status": "ok",
          "timestamp": 1528892513269,
          "user_tz": -330,
          "elapsed": 1463,
          "user": {
            "displayName": "Pawan Snj",
            "photoUrl": "//lh6.googleusercontent.com/-ojjGyAo7og4/AAAAAAAAAAI/AAAAAAAADXU/VP6DtpEZJts/s50-c-k-no/photo.jpg",
            "userId": "100746673235819701094"
          }
        }
      },
      "cell_type": "code",
      "source": [
        "mobilenet_model.summary()"
      ],
      "execution_count": 42,
      "outputs": [
        {
          "output_type": "stream",
          "text": [
            "_________________________________________________________________\n",
            "Layer (type)                 Output Shape              Param #   \n",
            "=================================================================\n",
            "input_3 (InputLayer)         (None, 224, 224, 3)       0         \n",
            "_________________________________________________________________\n",
            "conv1_pad (ZeroPadding2D)    (None, 226, 226, 3)       0         \n",
            "_________________________________________________________________\n",
            "conv1 (Conv2D)               (None, 112, 112, 32)      864       \n",
            "_________________________________________________________________\n",
            "conv1_bn (BatchNormalization (None, 112, 112, 32)      128       \n",
            "_________________________________________________________________\n",
            "conv1_relu (Activation)      (None, 112, 112, 32)      0         \n",
            "_________________________________________________________________\n",
            "conv_pad_1 (ZeroPadding2D)   (None, 114, 114, 32)      0         \n",
            "_________________________________________________________________\n",
            "conv_dw_1 (DepthwiseConv2D)  (None, 112, 112, 32)      288       \n",
            "_________________________________________________________________\n",
            "conv_dw_1_bn (BatchNormaliza (None, 112, 112, 32)      128       \n",
            "_________________________________________________________________\n",
            "conv_dw_1_relu (Activation)  (None, 112, 112, 32)      0         \n",
            "_________________________________________________________________\n",
            "conv_pw_1 (Conv2D)           (None, 112, 112, 64)      2048      \n",
            "_________________________________________________________________\n",
            "conv_pw_1_bn (BatchNormaliza (None, 112, 112, 64)      256       \n",
            "_________________________________________________________________\n",
            "conv_pw_1_relu (Activation)  (None, 112, 112, 64)      0         \n",
            "_________________________________________________________________\n",
            "conv_pad_2 (ZeroPadding2D)   (None, 114, 114, 64)      0         \n",
            "_________________________________________________________________\n",
            "conv_dw_2 (DepthwiseConv2D)  (None, 56, 56, 64)        576       \n",
            "_________________________________________________________________\n",
            "conv_dw_2_bn (BatchNormaliza (None, 56, 56, 64)        256       \n",
            "_________________________________________________________________\n",
            "conv_dw_2_relu (Activation)  (None, 56, 56, 64)        0         \n",
            "_________________________________________________________________\n",
            "conv_pw_2 (Conv2D)           (None, 56, 56, 128)       8192      \n",
            "_________________________________________________________________\n",
            "conv_pw_2_bn (BatchNormaliza (None, 56, 56, 128)       512       \n",
            "_________________________________________________________________\n",
            "conv_pw_2_relu (Activation)  (None, 56, 56, 128)       0         \n",
            "_________________________________________________________________\n",
            "conv_pad_3 (ZeroPadding2D)   (None, 58, 58, 128)       0         \n",
            "_________________________________________________________________\n",
            "conv_dw_3 (DepthwiseConv2D)  (None, 56, 56, 128)       1152      \n",
            "_________________________________________________________________\n",
            "conv_dw_3_bn (BatchNormaliza (None, 56, 56, 128)       512       \n",
            "_________________________________________________________________\n",
            "conv_dw_3_relu (Activation)  (None, 56, 56, 128)       0         \n",
            "_________________________________________________________________\n",
            "conv_pw_3 (Conv2D)           (None, 56, 56, 128)       16384     \n",
            "_________________________________________________________________\n",
            "conv_pw_3_bn (BatchNormaliza (None, 56, 56, 128)       512       \n",
            "_________________________________________________________________\n",
            "conv_pw_3_relu (Activation)  (None, 56, 56, 128)       0         \n",
            "_________________________________________________________________\n",
            "conv_pad_4 (ZeroPadding2D)   (None, 58, 58, 128)       0         \n",
            "_________________________________________________________________\n",
            "conv_dw_4 (DepthwiseConv2D)  (None, 28, 28, 128)       1152      \n",
            "_________________________________________________________________\n",
            "conv_dw_4_bn (BatchNormaliza (None, 28, 28, 128)       512       \n",
            "_________________________________________________________________\n",
            "conv_dw_4_relu (Activation)  (None, 28, 28, 128)       0         \n",
            "_________________________________________________________________\n",
            "conv_pw_4 (Conv2D)           (None, 28, 28, 256)       32768     \n",
            "_________________________________________________________________\n",
            "conv_pw_4_bn (BatchNormaliza (None, 28, 28, 256)       1024      \n",
            "_________________________________________________________________\n",
            "conv_pw_4_relu (Activation)  (None, 28, 28, 256)       0         \n",
            "_________________________________________________________________\n",
            "conv_pad_5 (ZeroPadding2D)   (None, 30, 30, 256)       0         \n",
            "_________________________________________________________________\n",
            "conv_dw_5 (DepthwiseConv2D)  (None, 28, 28, 256)       2304      \n",
            "_________________________________________________________________\n",
            "conv_dw_5_bn (BatchNormaliza (None, 28, 28, 256)       1024      \n",
            "_________________________________________________________________\n",
            "conv_dw_5_relu (Activation)  (None, 28, 28, 256)       0         \n",
            "_________________________________________________________________\n",
            "conv_pw_5 (Conv2D)           (None, 28, 28, 256)       65536     \n",
            "_________________________________________________________________\n",
            "conv_pw_5_bn (BatchNormaliza (None, 28, 28, 256)       1024      \n",
            "_________________________________________________________________\n",
            "conv_pw_5_relu (Activation)  (None, 28, 28, 256)       0         \n",
            "_________________________________________________________________\n",
            "conv_pad_6 (ZeroPadding2D)   (None, 30, 30, 256)       0         \n",
            "_________________________________________________________________\n",
            "conv_dw_6 (DepthwiseConv2D)  (None, 14, 14, 256)       2304      \n",
            "_________________________________________________________________\n",
            "conv_dw_6_bn (BatchNormaliza (None, 14, 14, 256)       1024      \n",
            "_________________________________________________________________\n",
            "conv_dw_6_relu (Activation)  (None, 14, 14, 256)       0         \n",
            "_________________________________________________________________\n",
            "conv_pw_6 (Conv2D)           (None, 14, 14, 512)       131072    \n",
            "_________________________________________________________________\n",
            "conv_pw_6_bn (BatchNormaliza (None, 14, 14, 512)       2048      \n",
            "_________________________________________________________________\n",
            "conv_pw_6_relu (Activation)  (None, 14, 14, 512)       0         \n",
            "_________________________________________________________________\n",
            "conv_pad_7 (ZeroPadding2D)   (None, 16, 16, 512)       0         \n",
            "_________________________________________________________________\n",
            "conv_dw_7 (DepthwiseConv2D)  (None, 14, 14, 512)       4608      \n",
            "_________________________________________________________________\n",
            "conv_dw_7_bn (BatchNormaliza (None, 14, 14, 512)       2048      \n",
            "_________________________________________________________________\n",
            "conv_dw_7_relu (Activation)  (None, 14, 14, 512)       0         \n",
            "_________________________________________________________________\n",
            "conv_pw_7 (Conv2D)           (None, 14, 14, 512)       262144    \n",
            "_________________________________________________________________\n",
            "conv_pw_7_bn (BatchNormaliza (None, 14, 14, 512)       2048      \n",
            "_________________________________________________________________\n",
            "conv_pw_7_relu (Activation)  (None, 14, 14, 512)       0         \n",
            "_________________________________________________________________\n",
            "conv_pad_8 (ZeroPadding2D)   (None, 16, 16, 512)       0         \n",
            "_________________________________________________________________\n",
            "conv_dw_8 (DepthwiseConv2D)  (None, 14, 14, 512)       4608      \n",
            "_________________________________________________________________\n",
            "conv_dw_8_bn (BatchNormaliza (None, 14, 14, 512)       2048      \n",
            "_________________________________________________________________\n",
            "conv_dw_8_relu (Activation)  (None, 14, 14, 512)       0         \n",
            "_________________________________________________________________\n",
            "conv_pw_8 (Conv2D)           (None, 14, 14, 512)       262144    \n",
            "_________________________________________________________________\n",
            "conv_pw_8_bn (BatchNormaliza (None, 14, 14, 512)       2048      \n",
            "_________________________________________________________________\n",
            "conv_pw_8_relu (Activation)  (None, 14, 14, 512)       0         \n",
            "_________________________________________________________________\n",
            "conv_pad_9 (ZeroPadding2D)   (None, 16, 16, 512)       0         \n",
            "_________________________________________________________________\n",
            "conv_dw_9 (DepthwiseConv2D)  (None, 14, 14, 512)       4608      \n",
            "_________________________________________________________________\n",
            "conv_dw_9_bn (BatchNormaliza (None, 14, 14, 512)       2048      \n",
            "_________________________________________________________________\n",
            "conv_dw_9_relu (Activation)  (None, 14, 14, 512)       0         \n",
            "_________________________________________________________________\n",
            "conv_pw_9 (Conv2D)           (None, 14, 14, 512)       262144    \n",
            "_________________________________________________________________\n",
            "conv_pw_9_bn (BatchNormaliza (None, 14, 14, 512)       2048      \n",
            "_________________________________________________________________\n",
            "conv_pw_9_relu (Activation)  (None, 14, 14, 512)       0         \n",
            "_________________________________________________________________\n",
            "conv_pad_10 (ZeroPadding2D)  (None, 16, 16, 512)       0         \n",
            "_________________________________________________________________\n",
            "conv_dw_10 (DepthwiseConv2D) (None, 14, 14, 512)       4608      \n",
            "_________________________________________________________________\n",
            "conv_dw_10_bn (BatchNormaliz (None, 14, 14, 512)       2048      \n",
            "_________________________________________________________________\n",
            "conv_dw_10_relu (Activation) (None, 14, 14, 512)       0         \n",
            "_________________________________________________________________\n",
            "conv_pw_10 (Conv2D)          (None, 14, 14, 512)       262144    \n",
            "_________________________________________________________________\n",
            "conv_pw_10_bn (BatchNormaliz (None, 14, 14, 512)       2048      \n",
            "_________________________________________________________________\n",
            "conv_pw_10_relu (Activation) (None, 14, 14, 512)       0         \n",
            "_________________________________________________________________\n",
            "conv_pad_11 (ZeroPadding2D)  (None, 16, 16, 512)       0         \n",
            "_________________________________________________________________\n",
            "conv_dw_11 (DepthwiseConv2D) (None, 14, 14, 512)       4608      \n",
            "_________________________________________________________________\n",
            "conv_dw_11_bn (BatchNormaliz (None, 14, 14, 512)       2048      \n",
            "_________________________________________________________________\n",
            "conv_dw_11_relu (Activation) (None, 14, 14, 512)       0         \n",
            "_________________________________________________________________\n",
            "conv_pw_11 (Conv2D)          (None, 14, 14, 512)       262144    \n",
            "_________________________________________________________________\n",
            "conv_pw_11_bn (BatchNormaliz (None, 14, 14, 512)       2048      \n",
            "_________________________________________________________________\n",
            "conv_pw_11_relu (Activation) (None, 14, 14, 512)       0         \n",
            "_________________________________________________________________\n",
            "conv_pad_12 (ZeroPadding2D)  (None, 16, 16, 512)       0         \n",
            "_________________________________________________________________\n",
            "conv_dw_12 (DepthwiseConv2D) (None, 7, 7, 512)         4608      \n",
            "_________________________________________________________________\n",
            "conv_dw_12_bn (BatchNormaliz (None, 7, 7, 512)         2048      \n",
            "_________________________________________________________________\n",
            "conv_dw_12_relu (Activation) (None, 7, 7, 512)         0         \n",
            "_________________________________________________________________\n",
            "conv_pw_12 (Conv2D)          (None, 7, 7, 1024)        524288    \n",
            "_________________________________________________________________\n",
            "conv_pw_12_bn (BatchNormaliz (None, 7, 7, 1024)        4096      \n",
            "_________________________________________________________________\n",
            "conv_pw_12_relu (Activation) (None, 7, 7, 1024)        0         \n",
            "_________________________________________________________________\n",
            "conv_pad_13 (ZeroPadding2D)  (None, 9, 9, 1024)        0         \n",
            "_________________________________________________________________\n",
            "conv_dw_13 (DepthwiseConv2D) (None, 7, 7, 1024)        9216      \n",
            "_________________________________________________________________\n",
            "conv_dw_13_bn (BatchNormaliz (None, 7, 7, 1024)        4096      \n",
            "_________________________________________________________________\n",
            "conv_dw_13_relu (Activation) (None, 7, 7, 1024)        0         \n",
            "_________________________________________________________________\n",
            "conv_pw_13 (Conv2D)          (None, 7, 7, 1024)        1048576   \n",
            "_________________________________________________________________\n",
            "conv_pw_13_bn (BatchNormaliz (None, 7, 7, 1024)        4096      \n",
            "_________________________________________________________________\n",
            "conv_pw_13_relu (Activation) (None, 7, 7, 1024)        0         \n",
            "_________________________________________________________________\n",
            "global_average_pooling2d_1 ( (None, 1024)              0         \n",
            "_________________________________________________________________\n",
            "reshape_1 (Reshape)          (None, 1, 1, 1024)        0         \n",
            "_________________________________________________________________\n",
            "dropout (Dropout)            (None, 1, 1, 1024)        0         \n",
            "_________________________________________________________________\n",
            "conv_preds (Conv2D)          (None, 1, 1, 1000)        1025000   \n",
            "_________________________________________________________________\n",
            "act_softmax (Activation)     (None, 1, 1, 1000)        0         \n",
            "_________________________________________________________________\n",
            "reshape_2 (Reshape)          (None, 1000)              0         \n",
            "=================================================================\n",
            "Total params: 4,253,864\n",
            "Trainable params: 4,231,976\n",
            "Non-trainable params: 21,888\n",
            "_________________________________________________________________\n"
          ],
          "name": "stdout"
        }
      ]
    },
    {
      "metadata": {
        "id": "UJD4mtq6Dgwi",
        "colab_type": "code",
        "colab": {
          "autoexec": {
            "startup": false,
            "wait_interval": 0
          },
          "base_uri": "https://localhost:8080/",
          "height": 34
        },
        "outputId": "e330d985-ef72-445f-b2c9-af0edf1331de",
        "executionInfo": {
          "status": "ok",
          "timestamp": 1528892523139,
          "user_tz": -330,
          "elapsed": 1141,
          "user": {
            "displayName": "Pawan Snj",
            "photoUrl": "//lh6.googleusercontent.com/-ojjGyAo7og4/AAAAAAAAAAI/AAAAAAAADXU/VP6DtpEZJts/s50-c-k-no/photo.jpg",
            "userId": "100746673235819701094"
          }
        }
      },
      "cell_type": "code",
      "source": [
        "type(mobilenet_model)\n",
        "#print(\"DONE\")"
      ],
      "execution_count": 43,
      "outputs": [
        {
          "output_type": "execute_result",
          "data": {
            "text/plain": [
              "keras.engine.training.Model"
            ]
          },
          "metadata": {
            "tags": []
          },
          "execution_count": 43
        }
      ]
    },
    {
      "metadata": {
        "id": "h79Wj2NLKvuT",
        "colab_type": "text"
      },
      "cell_type": "markdown",
      "source": [
        "## Converting MobileNet Model to Sequential()"
      ]
    },
    {
      "metadata": {
        "id": "YpJ0ByedDg0F",
        "colab_type": "code",
        "colab": {
          "autoexec": {
            "startup": false,
            "wait_interval": 0
          },
          "base_uri": "https://localhost:8080/",
          "height": 34
        },
        "outputId": "9c145cb9-abf7-4ab8-ed77-c1ff7262f5c4",
        "executionInfo": {
          "status": "ok",
          "timestamp": 1528892529058,
          "user_tz": -330,
          "elapsed": 3909,
          "user": {
            "displayName": "Pawan Snj",
            "photoUrl": "//lh6.googleusercontent.com/-ojjGyAo7og4/AAAAAAAAAAI/AAAAAAAADXU/VP6DtpEZJts/s50-c-k-no/photo.jpg",
            "userId": "100746673235819701094"
          }
        }
      },
      "cell_type": "code",
      "source": [
        "model3= Sequential()\n",
        "for layer in mobilenet_model.layers:\n",
        "    model3.add(layer)\n",
        "print(\"DONE\")"
      ],
      "execution_count": 44,
      "outputs": [
        {
          "output_type": "stream",
          "text": [
            "DONE\n"
          ],
          "name": "stdout"
        }
      ]
    },
    {
      "metadata": {
        "id": "0bX8yWbJDg4L",
        "colab_type": "code",
        "colab": {
          "autoexec": {
            "startup": false,
            "wait_interval": 0
          },
          "base_uri": "https://localhost:8080/",
          "height": 3767
        },
        "outputId": "1459e894-0fe2-4d06-f570-dcf02350b824",
        "executionInfo": {
          "status": "ok",
          "timestamp": 1528892532199,
          "user_tz": -330,
          "elapsed": 1171,
          "user": {
            "displayName": "Pawan Snj",
            "photoUrl": "//lh6.googleusercontent.com/-ojjGyAo7og4/AAAAAAAAAAI/AAAAAAAADXU/VP6DtpEZJts/s50-c-k-no/photo.jpg",
            "userId": "100746673235819701094"
          }
        }
      },
      "cell_type": "code",
      "source": [
        "model3.summary()"
      ],
      "execution_count": 45,
      "outputs": [
        {
          "output_type": "stream",
          "text": [
            "_________________________________________________________________\n",
            "Layer (type)                 Output Shape              Param #   \n",
            "=================================================================\n",
            "input_3 (InputLayer)         (None, 224, 224, 3)       0         \n",
            "_________________________________________________________________\n",
            "conv1_pad (ZeroPadding2D)    (None, 226, 226, 3)       0         \n",
            "_________________________________________________________________\n",
            "conv1 (Conv2D)               (None, 112, 112, 32)      864       \n",
            "_________________________________________________________________\n",
            "conv1_bn (BatchNormalization (None, 112, 112, 32)      128       \n",
            "_________________________________________________________________\n",
            "conv1_relu (Activation)      (None, 112, 112, 32)      0         \n",
            "_________________________________________________________________\n",
            "conv_pad_1 (ZeroPadding2D)   (None, 114, 114, 32)      0         \n",
            "_________________________________________________________________\n",
            "conv_dw_1 (DepthwiseConv2D)  (None, 112, 112, 32)      288       \n",
            "_________________________________________________________________\n",
            "conv_dw_1_bn (BatchNormaliza (None, 112, 112, 32)      128       \n",
            "_________________________________________________________________\n",
            "conv_dw_1_relu (Activation)  (None, 112, 112, 32)      0         \n",
            "_________________________________________________________________\n",
            "conv_pw_1 (Conv2D)           (None, 112, 112, 64)      2048      \n",
            "_________________________________________________________________\n",
            "conv_pw_1_bn (BatchNormaliza (None, 112, 112, 64)      256       \n",
            "_________________________________________________________________\n",
            "conv_pw_1_relu (Activation)  (None, 112, 112, 64)      0         \n",
            "_________________________________________________________________\n",
            "conv_pad_2 (ZeroPadding2D)   (None, 114, 114, 64)      0         \n",
            "_________________________________________________________________\n",
            "conv_dw_2 (DepthwiseConv2D)  (None, 56, 56, 64)        576       \n",
            "_________________________________________________________________\n",
            "conv_dw_2_bn (BatchNormaliza (None, 56, 56, 64)        256       \n",
            "_________________________________________________________________\n",
            "conv_dw_2_relu (Activation)  (None, 56, 56, 64)        0         \n",
            "_________________________________________________________________\n",
            "conv_pw_2 (Conv2D)           (None, 56, 56, 128)       8192      \n",
            "_________________________________________________________________\n",
            "conv_pw_2_bn (BatchNormaliza (None, 56, 56, 128)       512       \n",
            "_________________________________________________________________\n",
            "conv_pw_2_relu (Activation)  (None, 56, 56, 128)       0         \n",
            "_________________________________________________________________\n",
            "conv_pad_3 (ZeroPadding2D)   (None, 58, 58, 128)       0         \n",
            "_________________________________________________________________\n",
            "conv_dw_3 (DepthwiseConv2D)  (None, 56, 56, 128)       1152      \n",
            "_________________________________________________________________\n",
            "conv_dw_3_bn (BatchNormaliza (None, 56, 56, 128)       512       \n",
            "_________________________________________________________________\n",
            "conv_dw_3_relu (Activation)  (None, 56, 56, 128)       0         \n",
            "_________________________________________________________________\n",
            "conv_pw_3 (Conv2D)           (None, 56, 56, 128)       16384     \n",
            "_________________________________________________________________\n",
            "conv_pw_3_bn (BatchNormaliza (None, 56, 56, 128)       512       \n",
            "_________________________________________________________________\n",
            "conv_pw_3_relu (Activation)  (None, 56, 56, 128)       0         \n",
            "_________________________________________________________________\n",
            "conv_pad_4 (ZeroPadding2D)   (None, 58, 58, 128)       0         \n",
            "_________________________________________________________________\n",
            "conv_dw_4 (DepthwiseConv2D)  (None, 28, 28, 128)       1152      \n",
            "_________________________________________________________________\n",
            "conv_dw_4_bn (BatchNormaliza (None, 28, 28, 128)       512       \n",
            "_________________________________________________________________\n",
            "conv_dw_4_relu (Activation)  (None, 28, 28, 128)       0         \n",
            "_________________________________________________________________\n",
            "conv_pw_4 (Conv2D)           (None, 28, 28, 256)       32768     \n",
            "_________________________________________________________________\n",
            "conv_pw_4_bn (BatchNormaliza (None, 28, 28, 256)       1024      \n",
            "_________________________________________________________________\n",
            "conv_pw_4_relu (Activation)  (None, 28, 28, 256)       0         \n",
            "_________________________________________________________________\n",
            "conv_pad_5 (ZeroPadding2D)   (None, 30, 30, 256)       0         \n",
            "_________________________________________________________________\n",
            "conv_dw_5 (DepthwiseConv2D)  (None, 28, 28, 256)       2304      \n",
            "_________________________________________________________________\n",
            "conv_dw_5_bn (BatchNormaliza (None, 28, 28, 256)       1024      \n",
            "_________________________________________________________________\n",
            "conv_dw_5_relu (Activation)  (None, 28, 28, 256)       0         \n",
            "_________________________________________________________________\n",
            "conv_pw_5 (Conv2D)           (None, 28, 28, 256)       65536     \n",
            "_________________________________________________________________\n",
            "conv_pw_5_bn (BatchNormaliza (None, 28, 28, 256)       1024      \n",
            "_________________________________________________________________\n",
            "conv_pw_5_relu (Activation)  (None, 28, 28, 256)       0         \n",
            "_________________________________________________________________\n",
            "conv_pad_6 (ZeroPadding2D)   (None, 30, 30, 256)       0         \n",
            "_________________________________________________________________\n",
            "conv_dw_6 (DepthwiseConv2D)  (None, 14, 14, 256)       2304      \n",
            "_________________________________________________________________\n",
            "conv_dw_6_bn (BatchNormaliza (None, 14, 14, 256)       1024      \n",
            "_________________________________________________________________\n",
            "conv_dw_6_relu (Activation)  (None, 14, 14, 256)       0         \n",
            "_________________________________________________________________\n",
            "conv_pw_6 (Conv2D)           (None, 14, 14, 512)       131072    \n",
            "_________________________________________________________________\n",
            "conv_pw_6_bn (BatchNormaliza (None, 14, 14, 512)       2048      \n",
            "_________________________________________________________________\n",
            "conv_pw_6_relu (Activation)  (None, 14, 14, 512)       0         \n",
            "_________________________________________________________________\n",
            "conv_pad_7 (ZeroPadding2D)   (None, 16, 16, 512)       0         \n",
            "_________________________________________________________________\n",
            "conv_dw_7 (DepthwiseConv2D)  (None, 14, 14, 512)       4608      \n",
            "_________________________________________________________________\n",
            "conv_dw_7_bn (BatchNormaliza (None, 14, 14, 512)       2048      \n",
            "_________________________________________________________________\n",
            "conv_dw_7_relu (Activation)  (None, 14, 14, 512)       0         \n",
            "_________________________________________________________________\n",
            "conv_pw_7 (Conv2D)           (None, 14, 14, 512)       262144    \n",
            "_________________________________________________________________\n",
            "conv_pw_7_bn (BatchNormaliza (None, 14, 14, 512)       2048      \n",
            "_________________________________________________________________\n",
            "conv_pw_7_relu (Activation)  (None, 14, 14, 512)       0         \n",
            "_________________________________________________________________\n",
            "conv_pad_8 (ZeroPadding2D)   (None, 16, 16, 512)       0         \n",
            "_________________________________________________________________\n",
            "conv_dw_8 (DepthwiseConv2D)  (None, 14, 14, 512)       4608      \n",
            "_________________________________________________________________\n",
            "conv_dw_8_bn (BatchNormaliza (None, 14, 14, 512)       2048      \n",
            "_________________________________________________________________\n",
            "conv_dw_8_relu (Activation)  (None, 14, 14, 512)       0         \n",
            "_________________________________________________________________\n",
            "conv_pw_8 (Conv2D)           (None, 14, 14, 512)       262144    \n",
            "_________________________________________________________________\n",
            "conv_pw_8_bn (BatchNormaliza (None, 14, 14, 512)       2048      \n",
            "_________________________________________________________________\n",
            "conv_pw_8_relu (Activation)  (None, 14, 14, 512)       0         \n",
            "_________________________________________________________________\n",
            "conv_pad_9 (ZeroPadding2D)   (None, 16, 16, 512)       0         \n",
            "_________________________________________________________________\n",
            "conv_dw_9 (DepthwiseConv2D)  (None, 14, 14, 512)       4608      \n",
            "_________________________________________________________________\n",
            "conv_dw_9_bn (BatchNormaliza (None, 14, 14, 512)       2048      \n",
            "_________________________________________________________________\n",
            "conv_dw_9_relu (Activation)  (None, 14, 14, 512)       0         \n",
            "_________________________________________________________________\n",
            "conv_pw_9 (Conv2D)           (None, 14, 14, 512)       262144    \n",
            "_________________________________________________________________\n",
            "conv_pw_9_bn (BatchNormaliza (None, 14, 14, 512)       2048      \n",
            "_________________________________________________________________\n",
            "conv_pw_9_relu (Activation)  (None, 14, 14, 512)       0         \n",
            "_________________________________________________________________\n",
            "conv_pad_10 (ZeroPadding2D)  (None, 16, 16, 512)       0         \n",
            "_________________________________________________________________\n",
            "conv_dw_10 (DepthwiseConv2D) (None, 14, 14, 512)       4608      \n",
            "_________________________________________________________________\n",
            "conv_dw_10_bn (BatchNormaliz (None, 14, 14, 512)       2048      \n",
            "_________________________________________________________________\n",
            "conv_dw_10_relu (Activation) (None, 14, 14, 512)       0         \n",
            "_________________________________________________________________\n",
            "conv_pw_10 (Conv2D)          (None, 14, 14, 512)       262144    \n",
            "_________________________________________________________________\n",
            "conv_pw_10_bn (BatchNormaliz (None, 14, 14, 512)       2048      \n",
            "_________________________________________________________________\n",
            "conv_pw_10_relu (Activation) (None, 14, 14, 512)       0         \n",
            "_________________________________________________________________\n",
            "conv_pad_11 (ZeroPadding2D)  (None, 16, 16, 512)       0         \n",
            "_________________________________________________________________\n",
            "conv_dw_11 (DepthwiseConv2D) (None, 14, 14, 512)       4608      \n",
            "_________________________________________________________________\n",
            "conv_dw_11_bn (BatchNormaliz (None, 14, 14, 512)       2048      \n",
            "_________________________________________________________________\n",
            "conv_dw_11_relu (Activation) (None, 14, 14, 512)       0         \n",
            "_________________________________________________________________\n",
            "conv_pw_11 (Conv2D)          (None, 14, 14, 512)       262144    \n",
            "_________________________________________________________________\n",
            "conv_pw_11_bn (BatchNormaliz (None, 14, 14, 512)       2048      \n",
            "_________________________________________________________________\n",
            "conv_pw_11_relu (Activation) (None, 14, 14, 512)       0         \n",
            "_________________________________________________________________\n",
            "conv_pad_12 (ZeroPadding2D)  (None, 16, 16, 512)       0         \n",
            "_________________________________________________________________\n",
            "conv_dw_12 (DepthwiseConv2D) (None, 7, 7, 512)         4608      \n",
            "_________________________________________________________________\n",
            "conv_dw_12_bn (BatchNormaliz (None, 7, 7, 512)         2048      \n",
            "_________________________________________________________________\n",
            "conv_dw_12_relu (Activation) (None, 7, 7, 512)         0         \n",
            "_________________________________________________________________\n",
            "conv_pw_12 (Conv2D)          (None, 7, 7, 1024)        524288    \n",
            "_________________________________________________________________\n",
            "conv_pw_12_bn (BatchNormaliz (None, 7, 7, 1024)        4096      \n",
            "_________________________________________________________________\n",
            "conv_pw_12_relu (Activation) (None, 7, 7, 1024)        0         \n",
            "_________________________________________________________________\n",
            "conv_pad_13 (ZeroPadding2D)  (None, 9, 9, 1024)        0         \n",
            "_________________________________________________________________\n",
            "conv_dw_13 (DepthwiseConv2D) (None, 7, 7, 1024)        9216      \n",
            "_________________________________________________________________\n",
            "conv_dw_13_bn (BatchNormaliz (None, 7, 7, 1024)        4096      \n",
            "_________________________________________________________________\n",
            "conv_dw_13_relu (Activation) (None, 7, 7, 1024)        0         \n",
            "_________________________________________________________________\n",
            "conv_pw_13 (Conv2D)          (None, 7, 7, 1024)        1048576   \n",
            "_________________________________________________________________\n",
            "conv_pw_13_bn (BatchNormaliz (None, 7, 7, 1024)        4096      \n",
            "_________________________________________________________________\n",
            "conv_pw_13_relu (Activation) (None, 7, 7, 1024)        0         \n",
            "_________________________________________________________________\n",
            "global_average_pooling2d_1 ( (None, 1024)              0         \n",
            "_________________________________________________________________\n",
            "reshape_1 (Reshape)          (None, 1, 1, 1024)        0         \n",
            "_________________________________________________________________\n",
            "dropout (Dropout)            (None, 1, 1, 1024)        0         \n",
            "_________________________________________________________________\n",
            "conv_preds (Conv2D)          (None, 1, 1, 1000)        1025000   \n",
            "_________________________________________________________________\n",
            "act_softmax (Activation)     (None, 1, 1, 1000)        0         \n",
            "_________________________________________________________________\n",
            "reshape_2 (Reshape)          (None, 1000)              0         \n",
            "=================================================================\n",
            "Total params: 4,253,864\n",
            "Trainable params: 4,231,976\n",
            "Non-trainable params: 21,888\n",
            "_________________________________________________________________\n"
          ],
          "name": "stdout"
        }
      ]
    },
    {
      "metadata": {
        "id": "1ITLhSJmK4CV",
        "colab_type": "text"
      },
      "cell_type": "markdown",
      "source": [
        "## Removing the Last layer of MobileNet Model"
      ]
    },
    {
      "metadata": {
        "id": "3rSaHMKUDg7X",
        "colab_type": "code",
        "colab": {
          "autoexec": {
            "startup": false,
            "wait_interval": 0
          },
          "base_uri": "https://localhost:8080/",
          "height": 34
        },
        "outputId": "08c83b6f-0a8c-40a6-8ab3-cc3c87a675eb",
        "executionInfo": {
          "status": "ok",
          "timestamp": 1528892538790,
          "user_tz": -330,
          "elapsed": 1160,
          "user": {
            "displayName": "Pawan Snj",
            "photoUrl": "//lh6.googleusercontent.com/-ojjGyAo7og4/AAAAAAAAAAI/AAAAAAAADXU/VP6DtpEZJts/s50-c-k-no/photo.jpg",
            "userId": "100746673235819701094"
          }
        }
      },
      "cell_type": "code",
      "source": [
        "model3.layers.pop()\n",
        "print(\"DONE\")"
      ],
      "execution_count": 46,
      "outputs": [
        {
          "output_type": "stream",
          "text": [
            "DONE\n"
          ],
          "name": "stdout"
        }
      ]
    },
    {
      "metadata": {
        "id": "UDSRB_kqDg-T",
        "colab_type": "code",
        "colab": {
          "autoexec": {
            "startup": false,
            "wait_interval": 0
          },
          "base_uri": "https://localhost:8080/",
          "height": 3750
        },
        "outputId": "be644edc-9eef-46eb-b017-82630bd7751e",
        "executionInfo": {
          "status": "ok",
          "timestamp": 1528892541958,
          "user_tz": -330,
          "elapsed": 1177,
          "user": {
            "displayName": "Pawan Snj",
            "photoUrl": "//lh6.googleusercontent.com/-ojjGyAo7og4/AAAAAAAAAAI/AAAAAAAADXU/VP6DtpEZJts/s50-c-k-no/photo.jpg",
            "userId": "100746673235819701094"
          }
        }
      },
      "cell_type": "code",
      "source": [
        "model3.summary()\n",
        "print(\"DOne\")"
      ],
      "execution_count": 47,
      "outputs": [
        {
          "output_type": "stream",
          "text": [
            "_________________________________________________________________\n",
            "Layer (type)                 Output Shape              Param #   \n",
            "=================================================================\n",
            "input_3 (InputLayer)         (None, 224, 224, 3)       0         \n",
            "_________________________________________________________________\n",
            "conv1_pad (ZeroPadding2D)    (None, 226, 226, 3)       0         \n",
            "_________________________________________________________________\n",
            "conv1 (Conv2D)               (None, 112, 112, 32)      864       \n",
            "_________________________________________________________________\n",
            "conv1_bn (BatchNormalization (None, 112, 112, 32)      128       \n",
            "_________________________________________________________________\n",
            "conv1_relu (Activation)      (None, 112, 112, 32)      0         \n",
            "_________________________________________________________________\n",
            "conv_pad_1 (ZeroPadding2D)   (None, 114, 114, 32)      0         \n",
            "_________________________________________________________________\n",
            "conv_dw_1 (DepthwiseConv2D)  (None, 112, 112, 32)      288       \n",
            "_________________________________________________________________\n",
            "conv_dw_1_bn (BatchNormaliza (None, 112, 112, 32)      128       \n",
            "_________________________________________________________________\n",
            "conv_dw_1_relu (Activation)  (None, 112, 112, 32)      0         \n",
            "_________________________________________________________________\n",
            "conv_pw_1 (Conv2D)           (None, 112, 112, 64)      2048      \n",
            "_________________________________________________________________\n",
            "conv_pw_1_bn (BatchNormaliza (None, 112, 112, 64)      256       \n",
            "_________________________________________________________________\n",
            "conv_pw_1_relu (Activation)  (None, 112, 112, 64)      0         \n",
            "_________________________________________________________________\n",
            "conv_pad_2 (ZeroPadding2D)   (None, 114, 114, 64)      0         \n",
            "_________________________________________________________________\n",
            "conv_dw_2 (DepthwiseConv2D)  (None, 56, 56, 64)        576       \n",
            "_________________________________________________________________\n",
            "conv_dw_2_bn (BatchNormaliza (None, 56, 56, 64)        256       \n",
            "_________________________________________________________________\n",
            "conv_dw_2_relu (Activation)  (None, 56, 56, 64)        0         \n",
            "_________________________________________________________________\n",
            "conv_pw_2 (Conv2D)           (None, 56, 56, 128)       8192      \n",
            "_________________________________________________________________\n",
            "conv_pw_2_bn (BatchNormaliza (None, 56, 56, 128)       512       \n",
            "_________________________________________________________________\n",
            "conv_pw_2_relu (Activation)  (None, 56, 56, 128)       0         \n",
            "_________________________________________________________________\n",
            "conv_pad_3 (ZeroPadding2D)   (None, 58, 58, 128)       0         \n",
            "_________________________________________________________________\n",
            "conv_dw_3 (DepthwiseConv2D)  (None, 56, 56, 128)       1152      \n",
            "_________________________________________________________________\n",
            "conv_dw_3_bn (BatchNormaliza (None, 56, 56, 128)       512       \n",
            "_________________________________________________________________\n",
            "conv_dw_3_relu (Activation)  (None, 56, 56, 128)       0         \n",
            "_________________________________________________________________\n",
            "conv_pw_3 (Conv2D)           (None, 56, 56, 128)       16384     \n",
            "_________________________________________________________________\n",
            "conv_pw_3_bn (BatchNormaliza (None, 56, 56, 128)       512       \n",
            "_________________________________________________________________\n",
            "conv_pw_3_relu (Activation)  (None, 56, 56, 128)       0         \n",
            "_________________________________________________________________\n",
            "conv_pad_4 (ZeroPadding2D)   (None, 58, 58, 128)       0         \n",
            "_________________________________________________________________\n",
            "conv_dw_4 (DepthwiseConv2D)  (None, 28, 28, 128)       1152      \n",
            "_________________________________________________________________\n",
            "conv_dw_4_bn (BatchNormaliza (None, 28, 28, 128)       512       \n",
            "_________________________________________________________________\n",
            "conv_dw_4_relu (Activation)  (None, 28, 28, 128)       0         \n",
            "_________________________________________________________________\n",
            "conv_pw_4 (Conv2D)           (None, 28, 28, 256)       32768     \n",
            "_________________________________________________________________\n",
            "conv_pw_4_bn (BatchNormaliza (None, 28, 28, 256)       1024      \n",
            "_________________________________________________________________\n",
            "conv_pw_4_relu (Activation)  (None, 28, 28, 256)       0         \n",
            "_________________________________________________________________\n",
            "conv_pad_5 (ZeroPadding2D)   (None, 30, 30, 256)       0         \n",
            "_________________________________________________________________\n",
            "conv_dw_5 (DepthwiseConv2D)  (None, 28, 28, 256)       2304      \n",
            "_________________________________________________________________\n",
            "conv_dw_5_bn (BatchNormaliza (None, 28, 28, 256)       1024      \n",
            "_________________________________________________________________\n",
            "conv_dw_5_relu (Activation)  (None, 28, 28, 256)       0         \n",
            "_________________________________________________________________\n",
            "conv_pw_5 (Conv2D)           (None, 28, 28, 256)       65536     \n",
            "_________________________________________________________________\n",
            "conv_pw_5_bn (BatchNormaliza (None, 28, 28, 256)       1024      \n",
            "_________________________________________________________________\n",
            "conv_pw_5_relu (Activation)  (None, 28, 28, 256)       0         \n",
            "_________________________________________________________________\n",
            "conv_pad_6 (ZeroPadding2D)   (None, 30, 30, 256)       0         \n",
            "_________________________________________________________________\n",
            "conv_dw_6 (DepthwiseConv2D)  (None, 14, 14, 256)       2304      \n",
            "_________________________________________________________________\n",
            "conv_dw_6_bn (BatchNormaliza (None, 14, 14, 256)       1024      \n",
            "_________________________________________________________________\n",
            "conv_dw_6_relu (Activation)  (None, 14, 14, 256)       0         \n",
            "_________________________________________________________________\n",
            "conv_pw_6 (Conv2D)           (None, 14, 14, 512)       131072    \n",
            "_________________________________________________________________\n",
            "conv_pw_6_bn (BatchNormaliza (None, 14, 14, 512)       2048      \n",
            "_________________________________________________________________\n",
            "conv_pw_6_relu (Activation)  (None, 14, 14, 512)       0         \n",
            "_________________________________________________________________\n",
            "conv_pad_7 (ZeroPadding2D)   (None, 16, 16, 512)       0         \n",
            "_________________________________________________________________\n",
            "conv_dw_7 (DepthwiseConv2D)  (None, 14, 14, 512)       4608      \n",
            "_________________________________________________________________\n",
            "conv_dw_7_bn (BatchNormaliza (None, 14, 14, 512)       2048      \n",
            "_________________________________________________________________\n",
            "conv_dw_7_relu (Activation)  (None, 14, 14, 512)       0         \n",
            "_________________________________________________________________\n",
            "conv_pw_7 (Conv2D)           (None, 14, 14, 512)       262144    \n",
            "_________________________________________________________________\n",
            "conv_pw_7_bn (BatchNormaliza (None, 14, 14, 512)       2048      \n",
            "_________________________________________________________________\n",
            "conv_pw_7_relu (Activation)  (None, 14, 14, 512)       0         \n",
            "_________________________________________________________________\n",
            "conv_pad_8 (ZeroPadding2D)   (None, 16, 16, 512)       0         \n",
            "_________________________________________________________________\n",
            "conv_dw_8 (DepthwiseConv2D)  (None, 14, 14, 512)       4608      \n",
            "_________________________________________________________________\n",
            "conv_dw_8_bn (BatchNormaliza (None, 14, 14, 512)       2048      \n",
            "_________________________________________________________________\n",
            "conv_dw_8_relu (Activation)  (None, 14, 14, 512)       0         \n",
            "_________________________________________________________________\n",
            "conv_pw_8 (Conv2D)           (None, 14, 14, 512)       262144    \n",
            "_________________________________________________________________\n",
            "conv_pw_8_bn (BatchNormaliza (None, 14, 14, 512)       2048      \n",
            "_________________________________________________________________\n",
            "conv_pw_8_relu (Activation)  (None, 14, 14, 512)       0         \n",
            "_________________________________________________________________\n",
            "conv_pad_9 (ZeroPadding2D)   (None, 16, 16, 512)       0         \n",
            "_________________________________________________________________\n",
            "conv_dw_9 (DepthwiseConv2D)  (None, 14, 14, 512)       4608      \n",
            "_________________________________________________________________\n",
            "conv_dw_9_bn (BatchNormaliza (None, 14, 14, 512)       2048      \n",
            "_________________________________________________________________\n",
            "conv_dw_9_relu (Activation)  (None, 14, 14, 512)       0         \n",
            "_________________________________________________________________\n",
            "conv_pw_9 (Conv2D)           (None, 14, 14, 512)       262144    \n",
            "_________________________________________________________________\n",
            "conv_pw_9_bn (BatchNormaliza (None, 14, 14, 512)       2048      \n",
            "_________________________________________________________________\n",
            "conv_pw_9_relu (Activation)  (None, 14, 14, 512)       0         \n",
            "_________________________________________________________________\n",
            "conv_pad_10 (ZeroPadding2D)  (None, 16, 16, 512)       0         \n",
            "_________________________________________________________________\n",
            "conv_dw_10 (DepthwiseConv2D) (None, 14, 14, 512)       4608      \n",
            "_________________________________________________________________\n",
            "conv_dw_10_bn (BatchNormaliz (None, 14, 14, 512)       2048      \n",
            "_________________________________________________________________\n",
            "conv_dw_10_relu (Activation) (None, 14, 14, 512)       0         \n",
            "_________________________________________________________________\n",
            "conv_pw_10 (Conv2D)          (None, 14, 14, 512)       262144    \n",
            "_________________________________________________________________\n",
            "conv_pw_10_bn (BatchNormaliz (None, 14, 14, 512)       2048      \n",
            "_________________________________________________________________\n",
            "conv_pw_10_relu (Activation) (None, 14, 14, 512)       0         \n",
            "_________________________________________________________________\n",
            "conv_pad_11 (ZeroPadding2D)  (None, 16, 16, 512)       0         \n",
            "_________________________________________________________________\n",
            "conv_dw_11 (DepthwiseConv2D) (None, 14, 14, 512)       4608      \n",
            "_________________________________________________________________\n",
            "conv_dw_11_bn (BatchNormaliz (None, 14, 14, 512)       2048      \n",
            "_________________________________________________________________\n",
            "conv_dw_11_relu (Activation) (None, 14, 14, 512)       0         \n",
            "_________________________________________________________________\n",
            "conv_pw_11 (Conv2D)          (None, 14, 14, 512)       262144    \n",
            "_________________________________________________________________\n",
            "conv_pw_11_bn (BatchNormaliz (None, 14, 14, 512)       2048      \n",
            "_________________________________________________________________\n",
            "conv_pw_11_relu (Activation) (None, 14, 14, 512)       0         \n",
            "_________________________________________________________________\n",
            "conv_pad_12 (ZeroPadding2D)  (None, 16, 16, 512)       0         \n",
            "_________________________________________________________________\n",
            "conv_dw_12 (DepthwiseConv2D) (None, 7, 7, 512)         4608      \n",
            "_________________________________________________________________\n",
            "conv_dw_12_bn (BatchNormaliz (None, 7, 7, 512)         2048      \n",
            "_________________________________________________________________\n",
            "conv_dw_12_relu (Activation) (None, 7, 7, 512)         0         \n",
            "_________________________________________________________________\n",
            "conv_pw_12 (Conv2D)          (None, 7, 7, 1024)        524288    \n",
            "_________________________________________________________________\n",
            "conv_pw_12_bn (BatchNormaliz (None, 7, 7, 1024)        4096      \n",
            "_________________________________________________________________\n",
            "conv_pw_12_relu (Activation) (None, 7, 7, 1024)        0         \n",
            "_________________________________________________________________\n",
            "conv_pad_13 (ZeroPadding2D)  (None, 9, 9, 1024)        0         \n",
            "_________________________________________________________________\n",
            "conv_dw_13 (DepthwiseConv2D) (None, 7, 7, 1024)        9216      \n",
            "_________________________________________________________________\n",
            "conv_dw_13_bn (BatchNormaliz (None, 7, 7, 1024)        4096      \n",
            "_________________________________________________________________\n",
            "conv_dw_13_relu (Activation) (None, 7, 7, 1024)        0         \n",
            "_________________________________________________________________\n",
            "conv_pw_13 (Conv2D)          (None, 7, 7, 1024)        1048576   \n",
            "_________________________________________________________________\n",
            "conv_pw_13_bn (BatchNormaliz (None, 7, 7, 1024)        4096      \n",
            "_________________________________________________________________\n",
            "conv_pw_13_relu (Activation) (None, 7, 7, 1024)        0         \n",
            "_________________________________________________________________\n",
            "global_average_pooling2d_1 ( (None, 1024)              0         \n",
            "_________________________________________________________________\n",
            "reshape_1 (Reshape)          (None, 1, 1, 1024)        0         \n",
            "_________________________________________________________________\n",
            "dropout (Dropout)            (None, 1, 1, 1024)        0         \n",
            "_________________________________________________________________\n",
            "conv_preds (Conv2D)          (None, 1, 1, 1000)        1025000   \n",
            "_________________________________________________________________\n",
            "act_softmax (Activation)     (None, 1, 1, 1000)        0         \n",
            "=================================================================\n",
            "Total params: 4,253,864\n",
            "Trainable params: 4,231,976\n",
            "Non-trainable params: 21,888\n",
            "_________________________________________________________________\n",
            "DOne\n"
          ],
          "name": "stdout"
        }
      ]
    },
    {
      "metadata": {
        "id": "beX-kCxKLFKf",
        "colab_type": "text"
      },
      "cell_type": "markdown",
      "source": [
        "## Freezing\n",
        "We keep the weights of rest of the layers as it is, and we train only the classification layer.\n"
      ]
    },
    {
      "metadata": {
        "id": "Rw3Zskj8Ffk7",
        "colab_type": "code",
        "colab": {
          "autoexec": {
            "startup": false,
            "wait_interval": 0
          },
          "base_uri": "https://localhost:8080/",
          "height": 34
        },
        "outputId": "3eb75706-3426-4fac-c38d-c4e62694d72d",
        "executionInfo": {
          "status": "ok",
          "timestamp": 1528892550326,
          "user_tz": -330,
          "elapsed": 1137,
          "user": {
            "displayName": "Pawan Snj",
            "photoUrl": "//lh6.googleusercontent.com/-ojjGyAo7og4/AAAAAAAAAAI/AAAAAAAADXU/VP6DtpEZJts/s50-c-k-no/photo.jpg",
            "userId": "100746673235819701094"
          }
        }
      },
      "cell_type": "code",
      "source": [
        "for layer in model3.layers: ## MAking trainable= FALSE (FREEZING)\n",
        "    layer.trainable = False\n",
        "print(\"DONE\")"
      ],
      "execution_count": 48,
      "outputs": [
        {
          "output_type": "stream",
          "text": [
            "DONE\n"
          ],
          "name": "stdout"
        }
      ]
    },
    {
      "metadata": {
        "id": "dWExc2jXLSev",
        "colab_type": "text"
      },
      "cell_type": "markdown",
      "source": [
        "## Adding the classification layer\n",
        "We add the classification layer to fit into our problem. In case of Fashion_MNIST we add classification layer with classes."
      ]
    },
    {
      "metadata": {
        "id": "YcRPvezDFfqd",
        "colab_type": "code",
        "colab": {
          "autoexec": {
            "startup": false,
            "wait_interval": 0
          },
          "base_uri": "https://localhost:8080/",
          "height": 34
        },
        "outputId": "f5899d1e-3908-4b7e-ac91-4b768ac8f0c8",
        "executionInfo": {
          "status": "ok",
          "timestamp": 1528892555683,
          "user_tz": -330,
          "elapsed": 2164,
          "user": {
            "displayName": "Pawan Snj",
            "photoUrl": "//lh6.googleusercontent.com/-ojjGyAo7og4/AAAAAAAAAAI/AAAAAAAADXU/VP6DtpEZJts/s50-c-k-no/photo.jpg",
            "userId": "100746673235819701094"
          }
        }
      },
      "cell_type": "code",
      "source": [
        "model3.add(Dense(10, activation='softmax'))\n",
        "print(\"DoNE\")"
      ],
      "execution_count": 49,
      "outputs": [
        {
          "output_type": "stream",
          "text": [
            "DoNE\n"
          ],
          "name": "stdout"
        }
      ]
    },
    {
      "metadata": {
        "id": "okdW9fqEFfun",
        "colab_type": "code",
        "colab": {
          "autoexec": {
            "startup": false,
            "wait_interval": 0
          },
          "base_uri": "https://localhost:8080/",
          "height": 3785
        },
        "outputId": "7480e181-3b10-47e7-f7a4-8ec71703022c",
        "executionInfo": {
          "status": "ok",
          "timestamp": 1528892558379,
          "user_tz": -330,
          "elapsed": 1185,
          "user": {
            "displayName": "Pawan Snj",
            "photoUrl": "//lh6.googleusercontent.com/-ojjGyAo7og4/AAAAAAAAAAI/AAAAAAAADXU/VP6DtpEZJts/s50-c-k-no/photo.jpg",
            "userId": "100746673235819701094"
          }
        }
      },
      "cell_type": "code",
      "source": [
        "model3.summary()\n",
        "print('DONE')"
      ],
      "execution_count": 50,
      "outputs": [
        {
          "output_type": "stream",
          "text": [
            "_________________________________________________________________\n",
            "Layer (type)                 Output Shape              Param #   \n",
            "=================================================================\n",
            "input_3 (InputLayer)         (None, 224, 224, 3)       0         \n",
            "_________________________________________________________________\n",
            "conv1_pad (ZeroPadding2D)    (None, 226, 226, 3)       0         \n",
            "_________________________________________________________________\n",
            "conv1 (Conv2D)               (None, 112, 112, 32)      864       \n",
            "_________________________________________________________________\n",
            "conv1_bn (BatchNormalization (None, 112, 112, 32)      128       \n",
            "_________________________________________________________________\n",
            "conv1_relu (Activation)      (None, 112, 112, 32)      0         \n",
            "_________________________________________________________________\n",
            "conv_pad_1 (ZeroPadding2D)   (None, 114, 114, 32)      0         \n",
            "_________________________________________________________________\n",
            "conv_dw_1 (DepthwiseConv2D)  (None, 112, 112, 32)      288       \n",
            "_________________________________________________________________\n",
            "conv_dw_1_bn (BatchNormaliza (None, 112, 112, 32)      128       \n",
            "_________________________________________________________________\n",
            "conv_dw_1_relu (Activation)  (None, 112, 112, 32)      0         \n",
            "_________________________________________________________________\n",
            "conv_pw_1 (Conv2D)           (None, 112, 112, 64)      2048      \n",
            "_________________________________________________________________\n",
            "conv_pw_1_bn (BatchNormaliza (None, 112, 112, 64)      256       \n",
            "_________________________________________________________________\n",
            "conv_pw_1_relu (Activation)  (None, 112, 112, 64)      0         \n",
            "_________________________________________________________________\n",
            "conv_pad_2 (ZeroPadding2D)   (None, 114, 114, 64)      0         \n",
            "_________________________________________________________________\n",
            "conv_dw_2 (DepthwiseConv2D)  (None, 56, 56, 64)        576       \n",
            "_________________________________________________________________\n",
            "conv_dw_2_bn (BatchNormaliza (None, 56, 56, 64)        256       \n",
            "_________________________________________________________________\n",
            "conv_dw_2_relu (Activation)  (None, 56, 56, 64)        0         \n",
            "_________________________________________________________________\n",
            "conv_pw_2 (Conv2D)           (None, 56, 56, 128)       8192      \n",
            "_________________________________________________________________\n",
            "conv_pw_2_bn (BatchNormaliza (None, 56, 56, 128)       512       \n",
            "_________________________________________________________________\n",
            "conv_pw_2_relu (Activation)  (None, 56, 56, 128)       0         \n",
            "_________________________________________________________________\n",
            "conv_pad_3 (ZeroPadding2D)   (None, 58, 58, 128)       0         \n",
            "_________________________________________________________________\n",
            "conv_dw_3 (DepthwiseConv2D)  (None, 56, 56, 128)       1152      \n",
            "_________________________________________________________________\n",
            "conv_dw_3_bn (BatchNormaliza (None, 56, 56, 128)       512       \n",
            "_________________________________________________________________\n",
            "conv_dw_3_relu (Activation)  (None, 56, 56, 128)       0         \n",
            "_________________________________________________________________\n",
            "conv_pw_3 (Conv2D)           (None, 56, 56, 128)       16384     \n",
            "_________________________________________________________________\n",
            "conv_pw_3_bn (BatchNormaliza (None, 56, 56, 128)       512       \n",
            "_________________________________________________________________\n",
            "conv_pw_3_relu (Activation)  (None, 56, 56, 128)       0         \n",
            "_________________________________________________________________\n",
            "conv_pad_4 (ZeroPadding2D)   (None, 58, 58, 128)       0         \n",
            "_________________________________________________________________\n",
            "conv_dw_4 (DepthwiseConv2D)  (None, 28, 28, 128)       1152      \n",
            "_________________________________________________________________\n",
            "conv_dw_4_bn (BatchNormaliza (None, 28, 28, 128)       512       \n",
            "_________________________________________________________________\n",
            "conv_dw_4_relu (Activation)  (None, 28, 28, 128)       0         \n",
            "_________________________________________________________________\n",
            "conv_pw_4 (Conv2D)           (None, 28, 28, 256)       32768     \n",
            "_________________________________________________________________\n",
            "conv_pw_4_bn (BatchNormaliza (None, 28, 28, 256)       1024      \n",
            "_________________________________________________________________\n",
            "conv_pw_4_relu (Activation)  (None, 28, 28, 256)       0         \n",
            "_________________________________________________________________\n",
            "conv_pad_5 (ZeroPadding2D)   (None, 30, 30, 256)       0         \n",
            "_________________________________________________________________\n",
            "conv_dw_5 (DepthwiseConv2D)  (None, 28, 28, 256)       2304      \n",
            "_________________________________________________________________\n",
            "conv_dw_5_bn (BatchNormaliza (None, 28, 28, 256)       1024      \n",
            "_________________________________________________________________\n",
            "conv_dw_5_relu (Activation)  (None, 28, 28, 256)       0         \n",
            "_________________________________________________________________\n",
            "conv_pw_5 (Conv2D)           (None, 28, 28, 256)       65536     \n",
            "_________________________________________________________________\n",
            "conv_pw_5_bn (BatchNormaliza (None, 28, 28, 256)       1024      \n",
            "_________________________________________________________________\n",
            "conv_pw_5_relu (Activation)  (None, 28, 28, 256)       0         \n",
            "_________________________________________________________________\n",
            "conv_pad_6 (ZeroPadding2D)   (None, 30, 30, 256)       0         \n",
            "_________________________________________________________________\n",
            "conv_dw_6 (DepthwiseConv2D)  (None, 14, 14, 256)       2304      \n",
            "_________________________________________________________________\n",
            "conv_dw_6_bn (BatchNormaliza (None, 14, 14, 256)       1024      \n",
            "_________________________________________________________________\n",
            "conv_dw_6_relu (Activation)  (None, 14, 14, 256)       0         \n",
            "_________________________________________________________________\n",
            "conv_pw_6 (Conv2D)           (None, 14, 14, 512)       131072    \n",
            "_________________________________________________________________\n",
            "conv_pw_6_bn (BatchNormaliza (None, 14, 14, 512)       2048      \n",
            "_________________________________________________________________\n",
            "conv_pw_6_relu (Activation)  (None, 14, 14, 512)       0         \n",
            "_________________________________________________________________\n",
            "conv_pad_7 (ZeroPadding2D)   (None, 16, 16, 512)       0         \n",
            "_________________________________________________________________\n",
            "conv_dw_7 (DepthwiseConv2D)  (None, 14, 14, 512)       4608      \n",
            "_________________________________________________________________\n",
            "conv_dw_7_bn (BatchNormaliza (None, 14, 14, 512)       2048      \n",
            "_________________________________________________________________\n",
            "conv_dw_7_relu (Activation)  (None, 14, 14, 512)       0         \n",
            "_________________________________________________________________\n",
            "conv_pw_7 (Conv2D)           (None, 14, 14, 512)       262144    \n",
            "_________________________________________________________________\n",
            "conv_pw_7_bn (BatchNormaliza (None, 14, 14, 512)       2048      \n",
            "_________________________________________________________________\n",
            "conv_pw_7_relu (Activation)  (None, 14, 14, 512)       0         \n",
            "_________________________________________________________________\n",
            "conv_pad_8 (ZeroPadding2D)   (None, 16, 16, 512)       0         \n",
            "_________________________________________________________________\n",
            "conv_dw_8 (DepthwiseConv2D)  (None, 14, 14, 512)       4608      \n",
            "_________________________________________________________________\n",
            "conv_dw_8_bn (BatchNormaliza (None, 14, 14, 512)       2048      \n",
            "_________________________________________________________________\n",
            "conv_dw_8_relu (Activation)  (None, 14, 14, 512)       0         \n",
            "_________________________________________________________________\n",
            "conv_pw_8 (Conv2D)           (None, 14, 14, 512)       262144    \n",
            "_________________________________________________________________\n",
            "conv_pw_8_bn (BatchNormaliza (None, 14, 14, 512)       2048      \n",
            "_________________________________________________________________\n",
            "conv_pw_8_relu (Activation)  (None, 14, 14, 512)       0         \n",
            "_________________________________________________________________\n",
            "conv_pad_9 (ZeroPadding2D)   (None, 16, 16, 512)       0         \n",
            "_________________________________________________________________\n",
            "conv_dw_9 (DepthwiseConv2D)  (None, 14, 14, 512)       4608      \n",
            "_________________________________________________________________\n",
            "conv_dw_9_bn (BatchNormaliza (None, 14, 14, 512)       2048      \n",
            "_________________________________________________________________\n",
            "conv_dw_9_relu (Activation)  (None, 14, 14, 512)       0         \n",
            "_________________________________________________________________\n",
            "conv_pw_9 (Conv2D)           (None, 14, 14, 512)       262144    \n",
            "_________________________________________________________________\n",
            "conv_pw_9_bn (BatchNormaliza (None, 14, 14, 512)       2048      \n",
            "_________________________________________________________________\n",
            "conv_pw_9_relu (Activation)  (None, 14, 14, 512)       0         \n",
            "_________________________________________________________________\n",
            "conv_pad_10 (ZeroPadding2D)  (None, 16, 16, 512)       0         \n",
            "_________________________________________________________________\n",
            "conv_dw_10 (DepthwiseConv2D) (None, 14, 14, 512)       4608      \n",
            "_________________________________________________________________\n",
            "conv_dw_10_bn (BatchNormaliz (None, 14, 14, 512)       2048      \n",
            "_________________________________________________________________\n",
            "conv_dw_10_relu (Activation) (None, 14, 14, 512)       0         \n",
            "_________________________________________________________________\n",
            "conv_pw_10 (Conv2D)          (None, 14, 14, 512)       262144    \n",
            "_________________________________________________________________\n",
            "conv_pw_10_bn (BatchNormaliz (None, 14, 14, 512)       2048      \n",
            "_________________________________________________________________\n",
            "conv_pw_10_relu (Activation) (None, 14, 14, 512)       0         \n",
            "_________________________________________________________________\n",
            "conv_pad_11 (ZeroPadding2D)  (None, 16, 16, 512)       0         \n",
            "_________________________________________________________________\n",
            "conv_dw_11 (DepthwiseConv2D) (None, 14, 14, 512)       4608      \n",
            "_________________________________________________________________\n",
            "conv_dw_11_bn (BatchNormaliz (None, 14, 14, 512)       2048      \n",
            "_________________________________________________________________\n",
            "conv_dw_11_relu (Activation) (None, 14, 14, 512)       0         \n",
            "_________________________________________________________________\n",
            "conv_pw_11 (Conv2D)          (None, 14, 14, 512)       262144    \n",
            "_________________________________________________________________\n",
            "conv_pw_11_bn (BatchNormaliz (None, 14, 14, 512)       2048      \n",
            "_________________________________________________________________\n",
            "conv_pw_11_relu (Activation) (None, 14, 14, 512)       0         \n",
            "_________________________________________________________________\n",
            "conv_pad_12 (ZeroPadding2D)  (None, 16, 16, 512)       0         \n",
            "_________________________________________________________________\n",
            "conv_dw_12 (DepthwiseConv2D) (None, 7, 7, 512)         4608      \n",
            "_________________________________________________________________\n",
            "conv_dw_12_bn (BatchNormaliz (None, 7, 7, 512)         2048      \n",
            "_________________________________________________________________\n",
            "conv_dw_12_relu (Activation) (None, 7, 7, 512)         0         \n",
            "_________________________________________________________________\n",
            "conv_pw_12 (Conv2D)          (None, 7, 7, 1024)        524288    \n",
            "_________________________________________________________________\n",
            "conv_pw_12_bn (BatchNormaliz (None, 7, 7, 1024)        4096      \n",
            "_________________________________________________________________\n",
            "conv_pw_12_relu (Activation) (None, 7, 7, 1024)        0         \n",
            "_________________________________________________________________\n",
            "conv_pad_13 (ZeroPadding2D)  (None, 9, 9, 1024)        0         \n",
            "_________________________________________________________________\n",
            "conv_dw_13 (DepthwiseConv2D) (None, 7, 7, 1024)        9216      \n",
            "_________________________________________________________________\n",
            "conv_dw_13_bn (BatchNormaliz (None, 7, 7, 1024)        4096      \n",
            "_________________________________________________________________\n",
            "conv_dw_13_relu (Activation) (None, 7, 7, 1024)        0         \n",
            "_________________________________________________________________\n",
            "conv_pw_13 (Conv2D)          (None, 7, 7, 1024)        1048576   \n",
            "_________________________________________________________________\n",
            "conv_pw_13_bn (BatchNormaliz (None, 7, 7, 1024)        4096      \n",
            "_________________________________________________________________\n",
            "conv_pw_13_relu (Activation) (None, 7, 7, 1024)        0         \n",
            "_________________________________________________________________\n",
            "global_average_pooling2d_1 ( (None, 1024)              0         \n",
            "_________________________________________________________________\n",
            "reshape_1 (Reshape)          (None, 1, 1, 1024)        0         \n",
            "_________________________________________________________________\n",
            "dropout (Dropout)            (None, 1, 1, 1024)        0         \n",
            "_________________________________________________________________\n",
            "conv_preds (Conv2D)          (None, 1, 1, 1000)        1025000   \n",
            "_________________________________________________________________\n",
            "act_softmax (Activation)     (None, 1, 1, 1000)        0         \n",
            "_________________________________________________________________\n",
            "dense_5 (Dense)              (None, 10)                10010     \n",
            "=================================================================\n",
            "Total params: 4,263,874\n",
            "Trainable params: 10,010\n",
            "Non-trainable params: 4,253,864\n",
            "_________________________________________________________________\n",
            "DONE\n"
          ],
          "name": "stdout"
        }
      ]
    },
    {
      "metadata": {
        "id": "N6k2Qd9aFfy-",
        "colab_type": "code",
        "colab": {
          "autoexec": {
            "startup": false,
            "wait_interval": 0
          },
          "base_uri": "https://localhost:8080/",
          "height": 34
        },
        "outputId": "f34d88b0-fcfd-4927-a78b-3e2a230c862e",
        "executionInfo": {
          "status": "ok",
          "timestamp": 1528892574342,
          "user_tz": -330,
          "elapsed": 1268,
          "user": {
            "displayName": "Pawan Snj",
            "photoUrl": "//lh6.googleusercontent.com/-ojjGyAo7og4/AAAAAAAAAAI/AAAAAAAADXU/VP6DtpEZJts/s50-c-k-no/photo.jpg",
            "userId": "100746673235819701094"
          }
        }
      },
      "cell_type": "code",
      "source": [
        "epochs3 = 5\n",
        "print(\"DONE\")"
      ],
      "execution_count": 51,
      "outputs": [
        {
          "output_type": "stream",
          "text": [
            "DONE\n"
          ],
          "name": "stdout"
        }
      ]
    },
    {
      "metadata": {
        "id": "r9WmS0zJLlMK",
        "colab_type": "text"
      },
      "cell_type": "markdown",
      "source": [
        "## Compile and Fit the Model"
      ]
    },
    {
      "metadata": {
        "id": "Q7PanHeiFf2v",
        "colab_type": "code",
        "colab": {
          "autoexec": {
            "startup": false,
            "wait_interval": 0
          },
          "base_uri": "https://localhost:8080/",
          "height": 232
        },
        "outputId": "c15290f1-d744-4a2a-e40c-c1b568306c5f",
        "executionInfo": {
          "status": "ok",
          "timestamp": 1528892604523,
          "user_tz": -330,
          "elapsed": 28601,
          "user": {
            "displayName": "Pawan Snj",
            "photoUrl": "//lh6.googleusercontent.com/-ojjGyAo7og4/AAAAAAAAAAI/AAAAAAAADXU/VP6DtpEZJts/s50-c-k-no/photo.jpg",
            "userId": "100746673235819701094"
          }
        }
      },
      "cell_type": "code",
      "source": [
        "model3.compile(loss='categorical_crossentropy', optimizer=keras.optimizers.Adam(), metrics=['accuracy'])\n",
        " \n",
        "hist = model.fit_generator(train_generator, steps_per_epoch=batch_size, epochs=epochs3, validation_data=(x_test, y_test))\n",
        "\n",
        "print(\"DONE\")"
      ],
      "execution_count": 52,
      "outputs": [
        {
          "output_type": "stream",
          "text": [
            "Epoch 1/5\n",
            "250/250 [==============================] - 6s 25ms/step - loss: 0.0422 - acc: 0.9852 - val_loss: 0.3503 - val_acc: 0.9134\n",
            "Epoch 2/5\n",
            "250/250 [==============================] - 5s 22ms/step - loss: 0.0335 - acc: 0.9887 - val_loss: 0.3861 - val_acc: 0.9090\n",
            "Epoch 3/5\n",
            "250/250 [==============================] - 5s 22ms/step - loss: 0.0325 - acc: 0.9890 - val_loss: 0.3761 - val_acc: 0.9145\n",
            "Epoch 4/5\n",
            "250/250 [==============================] - 5s 22ms/step - loss: 0.0299 - acc: 0.9898 - val_loss: 0.3792 - val_acc: 0.9172\n",
            "Epoch 5/5\n",
            "  7/250 [..............................] - ETA: 5s - loss: 0.0241 - acc: 0.9891"
          ],
          "name": "stdout"
        },
        {
          "output_type": "stream",
          "text": [
            "250/250 [==============================] - 5s 22ms/step - loss: 0.0286 - acc: 0.9902 - val_loss: 0.3956 - val_acc: 0.9152\n",
            "DONE\n"
          ],
          "name": "stdout"
        }
      ]
    },
    {
      "metadata": {
        "id": "4QlMWuDCLwYo",
        "colab_type": "text"
      },
      "cell_type": "markdown",
      "source": [
        "## Graph\n",
        "#### Training accuracy vs Validation accuracy\n",
        "#### Training loss vs Validation loss"
      ]
    },
    {
      "metadata": {
        "id": "iGQDYFZrFgIF",
        "colab_type": "code",
        "colab": {
          "autoexec": {
            "startup": false,
            "wait_interval": 0
          },
          "base_uri": "https://localhost:8080/",
          "height": 587
        },
        "outputId": "58a17d58-fa8a-463d-9e2d-0f50517b136a",
        "executionInfo": {
          "status": "ok",
          "timestamp": 1528892630660,
          "user_tz": -330,
          "elapsed": 2888,
          "user": {
            "displayName": "Pawan Snj",
            "photoUrl": "//lh6.googleusercontent.com/-ojjGyAo7og4/AAAAAAAAAAI/AAAAAAAADXU/VP6DtpEZJts/s50-c-k-no/photo.jpg",
            "userId": "100746673235819701094"
          }
        }
      },
      "cell_type": "code",
      "source": [
        "# Graph losses and accuracy\n",
        "train_loss=hist.history['loss']\n",
        "val_loss=hist.history['val_loss']\n",
        "train_acc=hist.history['acc']\n",
        "val_acc=hist.history['val_acc']\n",
        "xc=range(epochs3)\n",
        "\n",
        "##############################################\n",
        "plt.figure(1,figsize=(4,4))\n",
        "plt.plot(xc,train_loss)\n",
        "plt.plot(xc,val_loss)\n",
        "\n",
        "plt.xlabel('num of epochs')\n",
        "plt.ylabel('loss')\n",
        "plt.title('train_loss vs test_loss')\n",
        "\n",
        "plt.grid(True)\n",
        "plt.legend(['train','val']) \n",
        "\n",
        "##################################################\n",
        "\n",
        "plt.figure(2,figsize=(4,4))\n",
        "plt.plot(xc,train_acc)\n",
        "plt.plot(xc,val_acc)\n",
        "\n",
        "plt.xlabel('num of Epochs')\n",
        "plt.ylabel('accuracy')\n",
        "plt.title('train_acc vs test_acc')\n",
        "\n",
        "plt.grid(True)\n",
        "plt.legend(['train','val'],loc=4)"
      ],
      "execution_count": 54,
      "outputs": [
        {
          "output_type": "execute_result",
          "data": {
            "text/plain": [
              "<matplotlib.legend.Legend at 0x7f31329dcb38>"
            ]
          },
          "metadata": {
            "tags": []
          },
          "execution_count": 54
        },
        {
          "output_type": "display_data",
          "data": {
            "image/png": "[encoded data removed]",
            "text/plain": [
              "<matplotlib.figure.Figure at 0x7f3132768198>"
            ]
          },
          "metadata": {
            "tags": []
          }
        },
        {
          "output_type": "display_data",
          "data": {
            "image/png": "[encoded data removed]",
            "text/plain": [
              "<matplotlib.figure.Figure at 0x7f31328af828>"
            ]
          },
          "metadata": {
            "tags": []
          }
        }
      ]
    }
  ]
}